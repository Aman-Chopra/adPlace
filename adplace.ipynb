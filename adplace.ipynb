{
  "nbformat": 4,
  "nbformat_minor": 0,
  "metadata": {
    "colab": {
      "name": "adplace.ipynb",
      "version": "0.3.2",
      "provenance": []
    },
    "kernelspec": {
      "name": "python3",
      "display_name": "Python 3"
    }
  },
  "cells": [
    {
      "cell_type": "code",
      "metadata": {
        "id": "8goOAQ56vIT9",
        "colab_type": "code",
        "outputId": "0d11bffd-97c9-4462-e23e-c96c25da173d",
        "colab": {
          "base_uri": "https://localhost:8080/",
          "height": 124
        }
      },
      "source": [
        "### Access and mount drive files ###\n",
        "\n",
        "from google.colab import drive\n",
        "drive.mount('/content/gdrive')"
      ],
      "execution_count": 0,
      "outputs": [
        {
          "output_type": "stream",
          "text": [
            "Go to this URL in a browser: https://accounts.google.com/o/oauth2/auth?client_id=947318989803-6bn6qk8qdgf4n4g3pfee6491hc0brc4i.apps.googleusercontent.com&redirect_uri=urn%3Aietf%3Awg%3Aoauth%3A2.0%3Aoob&scope=email%20https%3A%2F%2Fwww.googleapis.com%2Fauth%2Fdocs.test%20https%3A%2F%2Fwww.googleapis.com%2Fauth%2Fdrive%20https%3A%2F%2Fwww.googleapis.com%2Fauth%2Fdrive.photos.readonly%20https%3A%2F%2Fwww.googleapis.com%2Fauth%2Fpeopleapi.readonly&response_type=code\n",
            "\n",
            "Enter your authorization code:\n",
            "··········\n",
            "Mounted at /content/gdrive\n"
          ],
          "name": "stdout"
        }
      ]
    },
    {
      "cell_type": "code",
      "metadata": {
        "id": "7OE_i19WOtCZ",
        "colab_type": "code",
        "outputId": "0ff06bf1-cad3-4e31-83db-218250c480ea",
        "colab": {
          "base_uri": "https://localhost:8080/",
          "height": 383
        }
      },
      "source": [
        "# Imports\n",
        "!pip install scenedetect\n",
        "!pip install tqdm==v4.19.9\n",
        "import pandas as pd\n",
        "from moviepy.editor import *\n",
        "import glob\n",
        "import os\n",
        "\n",
        "# Constants\n",
        "FULL_VIDEOS_FOLDER = \"/content/gdrive/My Drive/adplace/full_videos/\"\n",
        "SCENE_VIDEOS_FOLDER = \"/content/gdrive/My Drive/adplace/scene_videos/\"\n",
        "SCENE_AUDIOS_FOLDER = \"/content/gdrive/My Drive/adplace/scene_audios/\""
      ],
      "execution_count": 0,
      "outputs": [
        {
          "output_type": "stream",
          "text": [
            "Collecting scenedetect\n",
            "\u001b[?25l  Downloading https://files.pythonhosted.org/packages/30/03/987049737befe5b69a520942ef3f25ffef45c51bcb2d170bc28fe8b75f09/scenedetect-0.5-py3-none-any.whl (79kB)\n",
            "\u001b[K     |████████████████████████████████| 81kB 3.1MB/s \n",
            "\u001b[?25hRequirement already satisfied: Click in /usr/local/lib/python3.6/dist-packages (from scenedetect) (7.0)\n",
            "Requirement already satisfied: numpy in /usr/local/lib/python3.6/dist-packages (from scenedetect) (1.16.3)\n",
            "Installing collected packages: scenedetect\n",
            "Successfully installed scenedetect-0.5\n",
            "Collecting tqdm==v4.19.9\n",
            "\u001b[?25l  Downloading https://files.pythonhosted.org/packages/b3/c4/b67cf1ab472b770e08e94105a0c7ca7032cd070627c435f5998c9cf6e64f/tqdm-4.19.9-py2.py3-none-any.whl (52kB)\n",
            "\u001b[K     |████████████████████████████████| 61kB 2.4MB/s \n",
            "\u001b[?25hInstalling collected packages: tqdm\n",
            "  Found existing installation: tqdm 4.28.1\n",
            "    Uninstalling tqdm-4.28.1:\n",
            "      Successfully uninstalled tqdm-4.28.1\n",
            "Successfully installed tqdm-4.19.9\n",
            "Imageio: 'ffmpeg-linux64-v3.3.1' was not found on your computer; downloading it now.\n",
            "Try 1. Download from https://github.com/imageio/imageio-binaries/raw/master/ffmpeg/ffmpeg-linux64-v3.3.1 (43.8 MB)\n",
            "Downloading: 8192/45929032 bytes (0.0%)\b\b\b\b\b\b\b\b\b\b\b\b\b\b\b\b\b\b\b\b\b\b\b\b\b\b1949696/45929032 bytes (4.2%)\b\b\b\b\b\b\b\b\b\b\b\b\b\b\b\b\b\b\b\b\b\b\b\b\b\b\b\b\b6045696/45929032 bytes (13.2%)\b\b\b\b\b\b\b\b\b\b\b\b\b\b\b\b\b\b\b\b\b\b\b\b\b\b\b\b\b\b9723904/45929032 bytes (21.2%)\b\b\b\b\b\b\b\b\b\b\b\b\b\b\b\b\b\b\b\b\b\b\b\b\b\b\b\b\b\b13639680/45929032 bytes (29.7%)\b\b\b\b\b\b\b\b\b\b\b\b\b\b\b\b\b\b\b\b\b\b\b\b\b\b\b\b\b\b\b17670144/45929032 bytes (38.5%)\b\b\b\b\b\b\b\b\b\b\b\b\b\b\b\b\b\b\b\b\b\b\b\b\b\b\b\b\b\b\b20979712/45929032 bytes (45.7%)\b\b\b\b\b\b\b\b\b\b\b\b\b\b\b\b\b\b\b\b\b\b\b\b\b\b\b\b\b\b\b24788992/45929032 bytes (54.0%)\b\b\b\b\b\b\b\b\b\b\b\b\b\b\b\b\b\b\b\b\b\b\b\b\b\b\b\b\b\b\b28434432/45929032 bytes (61.9%)\b\b\b\b\b\b\b\b\b\b\b\b\b\b\b\b\b\b\b\b\b\b\b\b\b\b\b\b\b\b\b32120832/45929032 bytes (69.9%)\b\b\b\b\b\b\b\b\b\b\b\b\b\b\b\b\b\b\b\b\b\b\b\b\b\b\b\b\b\b\b35512320/45929032 bytes (77.3%)\b\b\b\b\b\b\b\b\b\b\b\b\b\b\b\b\b\b\b\b\b\b\b\b\b\b\b\b\b\b\b39534592/45929032 bytes (86.1%)\b\b\b\b\b\b\b\b\b\b\b\b\b\b\b\b\b\b\b\b\b\b\b\b\b\b\b\b\b\b\b43220992/45929032 bytes (94.1%)\b\b\b\b\b\b\b\b\b\b\b\b\b\b\b\b\b\b\b\b\b\b\b\b\b\b\b\b\b\b\b45929032/45929032 bytes (100.0%)\n",
            "  Done\n",
            "File saved as /root/.imageio/ffmpeg/ffmpeg-linux64-v3.3.1.\n"
          ],
          "name": "stdout"
        }
      ]
    },
    {
      "cell_type": "code",
      "metadata": {
        "id": "XSbFwFOvPBfW",
        "colab_type": "code",
        "outputId": "92f1392b-06bf-4dff-b6c2-c9fc5990596c",
        "colab": {
          "base_uri": "https://localhost:8080/",
          "height": 75260
        }
      },
      "source": [
        "!scenedetect -i /content/gdrive/'My Drive'/adplace/full_videos/adplace_001.mp4 -o /content/gdrive/'My Drive'/adplace/scene_videos/ detect-content --threshold 53 list-scenes split-video\n",
        "!scenedetect -i /content/gdrive/'My Drive'/adplace/full_videos/adplace_002.mp4 -o /content/gdrive/'My Drive'/adplace/scene_videos/ detect-content --threshold 53 list-scenes split-video\n",
        "!scenedetect -i /content/gdrive/'My Drive'/adplace/full_videos/adplace_003.mp4 -o /content/gdrive/'My Drive'/adplace/scene_videos/ detect-content --threshold 53 list-scenes split-video \n",
        "## For all videos in dataset"
      ],
      "execution_count": 0,
      "outputs": [
        {
          "output_type": "stream",
          "text": [
            "[PySceneDetect] Output directory set:\n",
            "  /content/gdrive/My Drive/adplace/scene_videos\n",
            "[PySceneDetect] Loaded 1 video, framerate: 29.97 FPS, resolution: 1280 x 720\n",
            "[PySceneDetect] Downscale factor set to 5, effective resolution: 256 x 144\n",
            "[PySceneDetect] Scene list CSV file name format:\n",
            "  $VIDEO_NAME-Scenes.csv\n",
            "[PySceneDetect] FFmpeg codec args set: -c:v libx264 -preset veryfast -crf 22 -c:a copy\n",
            "[PySceneDetect] Video output file name format: $VIDEO_NAME-Scene-$SCENE_NUMBER\n",
            "[PySceneDetect] Detecting scenes...\n",
            " 94% 2742/2909 [00:15<00:00, 169.83frames/s]\u001b[0;36m[h264 @ 0x300d600] \u001b[0m\u001b[1;31mInvalid NAL unit size (12586 > 1782).\n",
            "\u001b[0m\u001b[0;36m[h264 @ 0x300d600] \u001b[0m\u001b[1;31mError splitting the input into NAL units.\n",
            " 95% 2760/2909 [00:15<00:00, 163.64frames/s]\u001b[0;35m[mov,mp4,m4a,3gp,3g2,mj2 @ 0x2e07e00] \u001b[0m\u001b[1;31mstream 0, offset 0x936b4e: partial file\n",
            "\u001b[0m\u001b[0;35m[mov,mp4,m4a,3gp,3g2,mj2 @ 0x2e07e00] \u001b[0m\u001b[1;31mstream 0, offset 0x93d547: partial file\n",
            "\u001b[0m\u001b[0;35m[mov,mp4,m4a,3gp,3g2,mj2 @ 0x2e07e00] \u001b[0m\u001b[1;31mstream 0, offset 0x94a195: partial file\n",
            "\u001b[0m\u001b[0;35m[mov,mp4,m4a,3gp,3g2,mj2 @ 0x2e07e00] \u001b[0m\u001b[1;31mstream 1, offset 0x94b474: partial file\n",
            "\u001b[0m\u001b[0;35m[mov,mp4,m4a,3gp,3g2,mj2 @ 0x2e07e00] \u001b[0m\u001b[1;31mstream 1, offset 0x94b5f6: partial file\n",
            "\u001b[0m\u001b[0;35m[mov,mp4,m4a,3gp,3g2,mj2 @ 0x2e07e00] \u001b[0m\u001b[1;31mstream 1, offset 0x94b793: partial file\n",
            "\u001b[0m\u001b[0;35m[mov,mp4,m4a,3gp,3g2,mj2 @ 0x2e07e00] \u001b[0m\u001b[1;31mstream 1, offset 0x94b8d6: partial file\n",
            "\u001b[0m\u001b[0;35m[mov,mp4,m4a,3gp,3g2,mj2 @ 0x2e07e00] \u001b[0m\u001b[1;31mstream 1, offset 0x94ba16: partial file\n",
            "\u001b[0m\u001b[0;35m[mov,mp4,m4a,3gp,3g2,mj2 @ 0x2e07e00] \u001b[0m\u001b[1;31mstream 1, offset 0x94bb5f: partial file\n",
            "\u001b[0m\u001b[0;35m[mov,mp4,m4a,3gp,3g2,mj2 @ 0x2e07e00] \u001b[0m\u001b[1;31mstream 1, offset 0x94bcb2: partial file\n",
            "\u001b[0m\u001b[0;35m[mov,mp4,m4a,3gp,3g2,mj2 @ 0x2e07e00] \u001b[0m\u001b[1;31mstream 1, offset 0x94be04: partial file\n",
            "\u001b[0m\u001b[0;35m[mov,mp4,m4a,3gp,3g2,mj2 @ 0x2e07e00] \u001b[0m\u001b[1;31mstream 1, offset 0x94bfbe: partial file\n",
            "\u001b[0m\u001b[0;35m[mov,mp4,m4a,3gp,3g2,mj2 @ 0x2e07e00] \u001b[0m\u001b[1;31mstream 1, offset 0x94c10f: partial file\n",
            "\u001b[0m\u001b[0;35m[mov,mp4,m4a,3gp,3g2,mj2 @ 0x2e07e00] \u001b[0m\u001b[1;31mstream 1, offset 0x94c261: partial file\n",
            "\u001b[0m\u001b[0;35m[mov,mp4,m4a,3gp,3g2,mj2 @ 0x2e07e00] \u001b[0m\u001b[1;31mstream 1, offset 0x94c51c: partial file\n",
            "\u001b[0m\u001b[0;35m[mov,mp4,m4a,3gp,3g2,mj2 @ 0x2e07e00] \u001b[0m\u001b[1;31mstream 1, offset 0x94c677: partial file\n",
            "\u001b[0m\u001b[0;35m[mov,mp4,m4a,3gp,3g2,mj2 @ 0x2e07e00] \u001b[0m\u001b[1;31mstream 1, offset 0x94c7f0: partial file\n",
            "\u001b[0m\u001b[0;35m[mov,mp4,m4a,3gp,3g2,mj2 @ 0x2e07e00] \u001b[0m\u001b[1;31mstream 1, offset 0x94c94e: partial file\n",
            "\u001b[0m\u001b[0;35m[mov,mp4,m4a,3gp,3g2,mj2 @ 0x2e07e00] \u001b[0m\u001b[1;31mstream 1, offset 0x94cab0: partial file\n",
            "\u001b[0m\u001b[0;35m[mov,mp4,m4a,3gp,3g2,mj2 @ 0x2e07e00] \u001b[0m\u001b[1;31mstream 1, offset 0x94cc35: partial file\n",
            "\u001b[0m\u001b[0;35m[mov,mp4,m4a,3gp,3g2,mj2 @ 0x2e07e00] \u001b[0m\u001b[1;31mstream 1, offset 0x94cdad: partial file\n",
            "\u001b[0m\u001b[0;35m[mov,mp4,m4a,3gp,3g2,mj2 @ 0x2e07e00] \u001b[0m\u001b[1;31mstream 0, offset 0x94cf0a: partial file\n",
            "\u001b[0m\u001b[0;35m[mov,mp4,m4a,3gp,3g2,mj2 @ 0x2e07e00] \u001b[0m\u001b[1;31mstream 0, offset 0x950c63: partial file\n",
            "\u001b[0m\u001b[0;35m[mov,mp4,m4a,3gp,3g2,mj2 @ 0x2e07e00] \u001b[0m\u001b[1;31mstream 0, offset 0x95a633: partial file\n",
            "\u001b[0m\u001b[0;35m[mov,mp4,m4a,3gp,3g2,mj2 @ 0x2e07e00] \u001b[0m\u001b[1;31mstream 0, offset 0x960bfc: partial file\n",
            "\u001b[0m\u001b[0;35m[mov,mp4,m4a,3gp,3g2,mj2 @ 0x2e07e00] \u001b[0m\u001b[1;31mstream 1, offset 0x963a95: partial file\n",
            "\u001b[0m\u001b[0;35m[mov,mp4,m4a,3gp,3g2,mj2 @ 0x2e07e00] \u001b[0m\u001b[1;31mstream 1, offset 0x963bfb: partial file\n",
            "\u001b[0m\u001b[0;35m[mov,mp4,m4a,3gp,3g2,mj2 @ 0x2e07e00] \u001b[0m\u001b[1;31mstream 1, offset 0x963d5c: partial file\n",
            "\u001b[0m\u001b[0;35m[mov,mp4,m4a,3gp,3g2,mj2 @ 0x2e07e00] \u001b[0m\u001b[1;31mstream 1, offset 0x963ec8: partial file\n",
            "\u001b[0m\u001b[0;35m[mov,mp4,m4a,3gp,3g2,mj2 @ 0x2e07e00] \u001b[0m\u001b[1;31mstream 1, offset 0x96402c: partial file\n",
            "\u001b[0m\u001b[0;35m[mov,mp4,m4a,3gp,3g2,mj2 @ 0x2e07e00] \u001b[0m\u001b[1;31mstream 1, offset 0x9641a4: partial file\n",
            "\u001b[0m\u001b[0;35m[mov,mp4,m4a,3gp,3g2,mj2 @ 0x2e07e00] \u001b[0m\u001b[1;31mstream 1, offset 0x96430f: partial file\n",
            "\u001b[0m\u001b[0;35m[mov,mp4,m4a,3gp,3g2,mj2 @ 0x2e07e00] \u001b[0m\u001b[1;31mstream 1, offset 0x964479: partial file\n",
            "\u001b[0m\u001b[0;35m[mov,mp4,m4a,3gp,3g2,mj2 @ 0x2e07e00] \u001b[0m\u001b[1;31mstream 1, offset 0x9645e2: partial file\n",
            "\u001b[0m\u001b[0;35m[mov,mp4,m4a,3gp,3g2,mj2 @ 0x2e07e00] \u001b[0m\u001b[1;31mstream 1, offset 0x96474e: partial file\n",
            "\u001b[0m\u001b[0;35m[mov,mp4,m4a,3gp,3g2,mj2 @ 0x2e07e00] \u001b[0m\u001b[1;31mstream 1, offset 0x9648b7: partial file\n",
            "\u001b[0m\u001b[0;35m[mov,mp4,m4a,3gp,3g2,mj2 @ 0x2e07e00] \u001b[0m\u001b[1;31mstream 1, offset 0x964ba8: partial file\n",
            "\u001b[0m\u001b[0;35m[mov,mp4,m4a,3gp,3g2,mj2 @ 0x2e07e00] \u001b[0m\u001b[1;31mstream 1, offset 0x964d19: partial file\n",
            "\u001b[0m\u001b[0;35m[mov,mp4,m4a,3gp,3g2,mj2 @ 0x2e07e00] \u001b[0m\u001b[1;31mstream 1, offset 0x964e88: partial file\n",
            "\u001b[0m\u001b[0;35m[mov,mp4,m4a,3gp,3g2,mj2 @ 0x2e07e00] \u001b[0m\u001b[1;31mstream 1, offset 0x964ff5: partial file\n",
            "\u001b[0m\u001b[0;35m[mov,mp4,m4a,3gp,3g2,mj2 @ 0x2e07e00] \u001b[0m\u001b[1;31mstream 1, offset 0x965189: partial file\n",
            "\u001b[0m\u001b[0;35m[mov,mp4,m4a,3gp,3g2,mj2 @ 0x2e07e00] \u001b[0m\u001b[1;31mstream 1, offset 0x965339: partial file\n",
            "\u001b[0m\u001b[0;35m[mov,mp4,m4a,3gp,3g2,mj2 @ 0x2e07e00] \u001b[0m\u001b[1;31mstream 1, offset 0x96548f: partial file\n",
            "\u001b[0m\u001b[0;35m[mov,mp4,m4a,3gp,3g2,mj2 @ 0x2e07e00] \u001b[0m\u001b[1;31mstream 0, offset 0x965604: partial file\n",
            "\u001b[0m\u001b[0;35m[mov,mp4,m4a,3gp,3g2,mj2 @ 0x2e07e00] \u001b[0m\u001b[1;31mstream 0, offset 0x96d6b3: partial file\n",
            "\u001b[0m\u001b[0;35m[mov,mp4,m4a,3gp,3g2,mj2 @ 0x2e07e00] \u001b[0m\u001b[1;31mstream 0, offset 0x972e52: partial file\n",
            "\u001b[0m\u001b[0;35m[mov,mp4,m4a,3gp,3g2,mj2 @ 0x2e07e00] \u001b[0m\u001b[1;31mstream 0, offset 0x97bb45: partial file\n",
            "\u001b[0m\u001b[0;35m[mov,mp4,m4a,3gp,3g2,mj2 @ 0x2e07e00] \u001b[0m\u001b[1;31mstream 1, offset 0x97bef1: partial file\n",
            "\u001b[0m\u001b[0;35m[mov,mp4,m4a,3gp,3g2,mj2 @ 0x2e07e00] \u001b[0m\u001b[1;31mstream 1, offset 0x97c055: partial file\n",
            "\u001b[0m\u001b[0;35m[mov,mp4,m4a,3gp,3g2,mj2 @ 0x2e07e00] \u001b[0m\u001b[1;31mstream 1, offset 0x97c1b8: partial file\n",
            "\u001b[0m\u001b[0;35m[mov,mp4,m4a,3gp,3g2,mj2 @ 0x2e07e00] \u001b[0m\u001b[1;31mstream 1, offset 0x97c368: partial file\n",
            "\u001b[0m\u001b[0;35m[mov,mp4,m4a,3gp,3g2,mj2 @ 0x2e07e00] \u001b[0m\u001b[1;31mstream 1, offset 0x97c4cc: partial file\n",
            "\u001b[0m\u001b[0;35m[mov,mp4,m4a,3gp,3g2,mj2 @ 0x2e07e00] \u001b[0m\u001b[1;31mstream 1, offset 0x97c628: partial file\n",
            "\u001b[0m\u001b[0;35m[mov,mp4,m4a,3gp,3g2,mj2 @ 0x2e07e00] \u001b[0m\u001b[1;31mstream 1, offset 0x97c78e: partial file\n",
            "\u001b[0m\u001b[0;35m[mov,mp4,m4a,3gp,3g2,mj2 @ 0x2e07e00] \u001b[0m\u001b[1;31mstream 1, offset 0x97c8ff: partial file\n",
            "\u001b[0m\u001b[0;35m[mov,mp4,m4a,3gp,3g2,mj2 @ 0x2e07e00] \u001b[0m\u001b[1;31mstream 1, offset 0x97ca68: partial file\n",
            "\u001b[0m\u001b[0;35m[mov,mp4,m4a,3gp,3g2,mj2 @ 0x2e07e00] \u001b[0m\u001b[1;31mstream 1, offset 0x97cbda: partial file\n",
            "\u001b[0m\u001b[0;35m[mov,mp4,m4a,3gp,3g2,mj2 @ 0x2e07e00] \u001b[0m\u001b[1;31mstream 1, offset 0x97cd44: partial file\n",
            "\u001b[0m\u001b[0;35m[mov,mp4,m4a,3gp,3g2,mj2 @ 0x2e07e00] \u001b[0m\u001b[1;31mstream 1, offset 0x97d04e: partial file\n",
            "\u001b[0m\u001b[0;35m[mov,mp4,m4a,3gp,3g2,mj2 @ 0x2e07e00] \u001b[0m\u001b[1;31mstream 1, offset 0x97d1b1: partial file\n",
            "\u001b[0m\u001b[0;35m[mov,mp4,m4a,3gp,3g2,mj2 @ 0x2e07e00] \u001b[0m\u001b[1;31mstream 1, offset 0x97d31b: partial file\n",
            "\u001b[0m\u001b[0;35m[mov,mp4,m4a,3gp,3g2,mj2 @ 0x2e07e00] \u001b[0m\u001b[1;31mstream 1, offset 0x97d484: partial file\n",
            "\u001b[0m\u001b[0;35m[mov,mp4,m4a,3gp,3g2,mj2 @ 0x2e07e00] \u001b[0m\u001b[1;31mstream 1, offset 0x97d5ec: partial file\n",
            "\u001b[0m\u001b[0;35m[mov,mp4,m4a,3gp,3g2,mj2 @ 0x2e07e00] \u001b[0m\u001b[1;31mstream 1, offset 0x97d757: partial file\n",
            "\u001b[0m\u001b[0;35m[mov,mp4,m4a,3gp,3g2,mj2 @ 0x2e07e00] \u001b[0m\u001b[1;31mstream 1, offset 0x97d8cc: partial file\n",
            "\u001b[0m\u001b[0;35m[mov,mp4,m4a,3gp,3g2,mj2 @ 0x2e07e00] \u001b[0m\u001b[1;31mstream 0, offset 0x97da41: partial file\n",
            "\u001b[0m\u001b[0;35m[mov,mp4,m4a,3gp,3g2,mj2 @ 0x2e07e00] \u001b[0m\u001b[1;31mstream 0, offset 0x989d1c: partial file\n",
            "\u001b[0m\u001b[0;35m[mov,mp4,m4a,3gp,3g2,mj2 @ 0x2e07e00] \u001b[0m\u001b[1;31mstream 0, offset 0x98eac2: partial file\n",
            "\u001b[0m\u001b[0;35m[mov,mp4,m4a,3gp,3g2,mj2 @ 0x2e07e00] \u001b[0m\u001b[1;31mstream 0, offset 0x990e6e: partial file\n",
            "\u001b[0m\u001b[0;35m[mov,mp4,m4a,3gp,3g2,mj2 @ 0x2e07e00] \u001b[0m\u001b[1;31mstream 0, offset 0x994ca6: partial file\n",
            "\u001b[0m\u001b[0;35m[mov,mp4,m4a,3gp,3g2,mj2 @ 0x2e07e00] \u001b[0m\u001b[1;31mstream 1, offset 0x9973ce: partial file\n",
            "\u001b[0m\u001b[0;35m[mov,mp4,m4a,3gp,3g2,mj2 @ 0x2e07e00] \u001b[0m\u001b[1;31mstream 1, offset 0x99753f: partial file\n",
            "\u001b[0m\u001b[0;35m[mov,mp4,m4a,3gp,3g2,mj2 @ 0x2e07e00] \u001b[0m\u001b[1;31mstream 1, offset 0x9976c4: partial file\n",
            "\u001b[0m\u001b[0;35m[mov,mp4,m4a,3gp,3g2,mj2 @ 0x2e07e00] \u001b[0m\u001b[1;31mstream 1, offset 0x99783a: partial file\n",
            "\u001b[0m\u001b[0;35m[mov,mp4,m4a,3gp,3g2,mj2 @ 0x2e07e00] \u001b[0m\u001b[1;31mstream 1, offset 0x9979a9: partial file\n",
            "\u001b[0m\u001b[0;35m[mov,mp4,m4a,3gp,3g2,mj2 @ 0x2e07e00] \u001b[0m\u001b[1;31mstream 1, offset 0x997b63: partial file\n",
            "\u001b[0m\u001b[0;35m[mov,mp4,m4a,3gp,3g2,mj2 @ 0x2e07e00] \u001b[0m\u001b[1;31mstream 1, offset 0x997ce8: partial file\n",
            "\u001b[0m\u001b[0;35m[mov,mp4,m4a,3gp,3g2,mj2 @ 0x2e07e00] \u001b[0m\u001b[1;31mstream 1, offset 0x997e4b: partial file\n",
            "\u001b[0m\u001b[0;35m[mov,mp4,m4a,3gp,3g2,mj2 @ 0x2e07e00] \u001b[0m\u001b[1;31mstream 1, offset 0x997fa8: partial file\n",
            "\u001b[0m\u001b[0;35m[mov,mp4,m4a,3gp,3g2,mj2 @ 0x2e07e00] \u001b[0m\u001b[1;31mstream 1, offset 0x998103: partial file\n",
            "\u001b[0m\u001b[0;35m[mov,mp4,m4a,3gp,3g2,mj2 @ 0x2e07e00] \u001b[0m\u001b[1;31mstream 1, offset 0x9983df: partial file\n",
            "\u001b[0m\u001b[0;35m[mov,mp4,m4a,3gp,3g2,mj2 @ 0x2e07e00] \u001b[0m\u001b[1;31mstream 1, offset 0x99854a: partial file\n",
            "\u001b[0m\u001b[0;35m[mov,mp4,m4a,3gp,3g2,mj2 @ 0x2e07e00] \u001b[0m\u001b[1;31mstream 1, offset 0x9986ba: partial file\n",
            "\u001b[0m\u001b[0;35m[mov,mp4,m4a,3gp,3g2,mj2 @ 0x2e07e00] \u001b[0m\u001b[1;31mstream 1, offset 0x998865: partial file\n",
            "\u001b[0m\u001b[0;35m[mov,mp4,m4a,3gp,3g2,mj2 @ 0x2e07e00] \u001b[0m\u001b[1;31mstream 1, offset 0x9989c2: partial file\n",
            "\u001b[0m\u001b[0;35m[mov,mp4,m4a,3gp,3g2,mj2 @ 0x2e07e00] \u001b[0m\u001b[1;31mstream 1, offset 0x998b2d: partial file\n",
            "\u001b[0m\u001b[0;35m[mov,mp4,m4a,3gp,3g2,mj2 @ 0x2e07e00] \u001b[0m\u001b[1;31mstream 1, offset 0x998caf: partial file\n",
            "\u001b[0m\u001b[0;35m[mov,mp4,m4a,3gp,3g2,mj2 @ 0x2e07e00] \u001b[0m\u001b[1;31mstream 1, offset 0x998e0c: partial file\n",
            "\u001b[0m\u001b[0;35m[mov,mp4,m4a,3gp,3g2,mj2 @ 0x2e07e00] \u001b[0m\u001b[1;31mstream 0, offset 0x998f68: partial file\n",
            "\u001b[0m\u001b[0;35m[mov,mp4,m4a,3gp,3g2,mj2 @ 0x2e07e00] \u001b[0m\u001b[1;31mstream 0, offset 0x99bf86: partial file\n",
            "\u001b[0m\u001b[0;35m[mov,mp4,m4a,3gp,3g2,mj2 @ 0x2e07e00] \u001b[0m\u001b[1;31mstream 0, offset 0x99cc85: partial file\n",
            "\u001b[0m\u001b[0;35m[mov,mp4,m4a,3gp,3g2,mj2 @ 0x2e07e00] \u001b[0m\u001b[1;31mstream 0, offset 0x9a06c5: partial file\n",
            "\u001b[0m\u001b[0;35m[mov,mp4,m4a,3gp,3g2,mj2 @ 0x2e07e00] \u001b[0m\u001b[1;31mstream 0, offset 0x9a3453: partial file\n",
            "\u001b[0m\u001b[0;35m[mov,mp4,m4a,3gp,3g2,mj2 @ 0x2e07e00] \u001b[0m\u001b[1;31mstream 0, offset 0x9a417c: partial file\n",
            "\u001b[0m\u001b[0;35m[mov,mp4,m4a,3gp,3g2,mj2 @ 0x2e07e00] \u001b[0m\u001b[1;31mstream 0, offset 0x9a79f5: partial file\n",
            "\u001b[0m\u001b[0;35m[mov,mp4,m4a,3gp,3g2,mj2 @ 0x2e07e00] \u001b[0m\u001b[1;31mstream 0, offset 0x9a7d3e: partial file\n",
            "\u001b[0m\u001b[0;35m[mov,mp4,m4a,3gp,3g2,mj2 @ 0x2e07e00] \u001b[0m\u001b[1;31mstream 0, offset 0x9ab3eb: partial file\n",
            "\u001b[0m\u001b[0;35m[mov,mp4,m4a,3gp,3g2,mj2 @ 0x2e07e00] \u001b[0m\u001b[1;31mstream 1, offset 0x9ae3ec: partial file\n",
            "\u001b[0m\u001b[0;35m[mov,mp4,m4a,3gp,3g2,mj2 @ 0x2e07e00] \u001b[0m\u001b[1;31mstream 1, offset 0x9ae56e: partial file\n",
            "\u001b[0m\u001b[0;35m[mov,mp4,m4a,3gp,3g2,mj2 @ 0x2e07e00] \u001b[0m\u001b[1;31mstream 1, offset 0x9ae6cf: partial file\n",
            "\u001b[0m\u001b[0;35m[mov,mp4,m4a,3gp,3g2,mj2 @ 0x2e07e00] \u001b[0m\u001b[1;31mstream 1, offset 0x9ae826: partial file\n",
            "\u001b[0m\u001b[0;35m[mov,mp4,m4a,3gp,3g2,mj2 @ 0x2e07e00] \u001b[0m\u001b[1;31mstream 1, offset 0x9ae98c: partial file\n",
            "\u001b[0m\u001b[0;35m[mov,mp4,m4a,3gp,3g2,mj2 @ 0x2e07e00] \u001b[0m\u001b[1;31mstream 1, offset 0x9aeb2e: partial file\n",
            "\u001b[0m\u001b[0;35m[mov,mp4,m4a,3gp,3g2,mj2 @ 0x2e07e00] \u001b[0m\u001b[1;31mstream 1, offset 0x9aeca8: partial file\n",
            "\u001b[0m\u001b[0;35m[mov,mp4,m4a,3gp,3g2,mj2 @ 0x2e07e00] \u001b[0m\u001b[1;31mstream 1, offset 0x9aee08: partial file\n",
            "\u001b[0m\u001b[0;35m[mov,mp4,m4a,3gp,3g2,mj2 @ 0x2e07e00] \u001b[0m\u001b[1;31mstream 1, offset 0x9aef82: partial file\n",
            "\u001b[0m\u001b[0;35m[mov,mp4,m4a,3gp,3g2,mj2 @ 0x2e07e00] \u001b[0m\u001b[1;31mstream 1, offset 0x9af126: partial file\n",
            "\u001b[0m\u001b[0;35m[mov,mp4,m4a,3gp,3g2,mj2 @ 0x2e07e00] \u001b[0m\u001b[1;31mstream 1, offset 0x9af3e9: partial file\n",
            "\u001b[0m\u001b[0;35m[mov,mp4,m4a,3gp,3g2,mj2 @ 0x2e07e00] \u001b[0m\u001b[1;31mstream 1, offset 0x9af54a: partial file\n",
            "\u001b[0m\u001b[0;35m[mov,mp4,m4a,3gp,3g2,mj2 @ 0x2e07e00] \u001b[0m\u001b[1;31mstream 1, offset 0x9af6b8: partial file\n",
            "\u001b[0m\u001b[0;35m[mov,mp4,m4a,3gp,3g2,mj2 @ 0x2e07e00] \u001b[0m\u001b[1;31mstream 1, offset 0x9af865: partial file\n",
            "\u001b[0m\u001b[0;35m[mov,mp4,m4a,3gp,3g2,mj2 @ 0x2e07e00] \u001b[0m\u001b[1;31mstream 1, offset 0x9af9d9: partial file\n",
            "\u001b[0m\u001b[0;35m[mov,mp4,m4a,3gp,3g2,mj2 @ 0x2e07e00] \u001b[0m\u001b[1;31mstream 1, offset 0x9afbbb: partial file\n",
            "\u001b[0m\u001b[0;35m[mov,mp4,m4a,3gp,3g2,mj2 @ 0x2e07e00] \u001b[0m\u001b[1;31mstream 1, offset 0x9afd52: partial file\n",
            "\u001b[0m\u001b[0;35m[mov,mp4,m4a,3gp,3g2,mj2 @ 0x2e07e00] \u001b[0m\u001b[1;31mstream 1, offset 0x9afecb: partial file\n",
            "\u001b[0m\u001b[0;35m[mov,mp4,m4a,3gp,3g2,mj2 @ 0x2e07e00] \u001b[0m\u001b[1;31mstream 0, offset 0x9b008b: partial file\n",
            "\u001b[0m\u001b[0;35m[mov,mp4,m4a,3gp,3g2,mj2 @ 0x2e07e00] \u001b[0m\u001b[1;31mstream 0, offset 0x9b3ab3: partial file\n",
            "\u001b[0m\u001b[0;35m[mov,mp4,m4a,3gp,3g2,mj2 @ 0x2e07e00] \u001b[0m\u001b[1;31mstream 0, offset 0x9b8827: partial file\n",
            "\u001b[0m\u001b[0;35m[mov,mp4,m4a,3gp,3g2,mj2 @ 0x2e07e00] \u001b[0m\u001b[1;31mstream 0, offset 0x9ba6d1: partial file\n",
            "\u001b[0m\u001b[0;35m[mov,mp4,m4a,3gp,3g2,mj2 @ 0x2e07e00] \u001b[0m\u001b[1;31mstream 0, offset 0x9bd735: partial file\n",
            "\u001b[0m\u001b[0;35m[mov,mp4,m4a,3gp,3g2,mj2 @ 0x2e07e00] \u001b[0m\u001b[1;31mstream 0, offset 0x9c95f1: partial file\n",
            "\u001b[0m\u001b[0;35m[mov,mp4,m4a,3gp,3g2,mj2 @ 0x2e07e00] \u001b[0m\u001b[1;31mstream 1, offset 0x9cc531: partial file\n",
            "\u001b[0m\u001b[0;35m[mov,mp4,m4a,3gp,3g2,mj2 @ 0x2e07e00] \u001b[0m\u001b[1;31mstream 1, offset 0x9cc6db: partial file\n",
            "\u001b[0m\u001b[0;35m[mov,mp4,m4a,3gp,3g2,mj2 @ 0x2e07e00] \u001b[0m\u001b[1;31mstream 1, offset 0x9cc86e: partial file\n",
            "\u001b[0m\u001b[0;35m[mov,mp4,m4a,3gp,3g2,mj2 @ 0x2e07e00] \u001b[0m\u001b[1;31mstream 1, offset 0x9cc9a0: partial file\n",
            "\u001b[0m\u001b[0;35m[mov,mp4,m4a,3gp,3g2,mj2 @ 0x2e07e00] \u001b[0m\u001b[1;31mstream 1, offset 0x9ccae4: partial file\n",
            "\u001b[0m\u001b[0;35m[mov,mp4,m4a,3gp,3g2,mj2 @ 0x2e07e00] \u001b[0m\u001b[1;31mstream 1, offset 0x9ccc29: partial file\n",
            "\u001b[0m\u001b[0;35m[mov,mp4,m4a,3gp,3g2,mj2 @ 0x2e07e00] \u001b[0m\u001b[1;31mstream 1, offset 0x9ccd6c: partial file\n",
            "\u001b[0m\u001b[0;35m[mov,mp4,m4a,3gp,3g2,mj2 @ 0x2e07e00] \u001b[0m\u001b[1;31mstream 1, offset 0x9ccf3a: partial file\n",
            "\u001b[0m\u001b[0;35m[mov,mp4,m4a,3gp,3g2,mj2 @ 0x2e07e00] \u001b[0m\u001b[1;31mstream 1, offset 0x9cd0f1: partial file\n",
            "\u001b[0m\u001b[0;35m[mov,mp4,m4a,3gp,3g2,mj2 @ 0x2e07e00] \u001b[0m\u001b[1;31mstream 1, offset 0x9cd292: partial file\n",
            "\u001b[0m\u001b[0;35m[mov,mp4,m4a,3gp,3g2,mj2 @ 0x2e07e00] \u001b[0m\u001b[1;31mstream 1, offset 0x9cd3bc: partial file\n",
            "\u001b[0m\u001b[0;35m[mov,mp4,m4a,3gp,3g2,mj2 @ 0x2e07e00] \u001b[0m\u001b[1;31mstream 1, offset 0x9cd639: partial file\n",
            "\u001b[0m\u001b[0;35m[mov,mp4,m4a,3gp,3g2,mj2 @ 0x2e07e00] \u001b[0m\u001b[1;31mstream 1, offset 0x9cd7c3: partial file\n",
            "\u001b[0m\u001b[0;35m[mov,mp4,m4a,3gp,3g2,mj2 @ 0x2e07e00] \u001b[0m\u001b[1;31mstream 1, offset 0x9cd904: partial file\n",
            "\u001b[0m\u001b[0;35m[mov,mp4,m4a,3gp,3g2,mj2 @ 0x2e07e00] \u001b[0m\u001b[1;31mstream 1, offset 0x9cda49: partial file\n",
            "\u001b[0m\u001b[0;35m[mov,mp4,m4a,3gp,3g2,mj2 @ 0x2e07e00] \u001b[0m\u001b[1;31mstream 1, offset 0x9cdbe0: partial file\n",
            "\u001b[0m\u001b[0;35m[mov,mp4,m4a,3gp,3g2,mj2 @ 0x2e07e00] \u001b[0m\u001b[1;31mstream 1, offset 0x9cdd34: partial file\n",
            "\u001b[0m\u001b[0;35m[mov,mp4,m4a,3gp,3g2,mj2 @ 0x2e07e00] \u001b[0m\u001b[1;31mstream 1, offset 0x9cde85: partial file\n",
            "\u001b[0m\u001b[0;35m[mov,mp4,m4a,3gp,3g2,mj2 @ 0x2e07e00] \u001b[0m\u001b[1;31mstream 0, offset 0x9cdfd9: partial file\n",
            "\u001b[0m\u001b[0;35m[mov,mp4,m4a,3gp,3g2,mj2 @ 0x2e07e00] \u001b[0m\u001b[1;31mstream 0, offset 0x9d34e8: partial file\n",
            "\u001b[0m\u001b[0;35m[mov,mp4,m4a,3gp,3g2,mj2 @ 0x2e07e00] \u001b[0m\u001b[1;31mstream 0, offset 0x9d7575: partial file\n",
            "\u001b[0m\u001b[0;35m[mov,mp4,m4a,3gp,3g2,mj2 @ 0x2e07e00] \u001b[0m\u001b[1;31mstream 0, offset 0x9d973d: partial file\n",
            "\u001b[0m\u001b[0;35m[mov,mp4,m4a,3gp,3g2,mj2 @ 0x2e07e00] \u001b[0m\u001b[1;31mstream 0, offset 0x9dd34e: partial file\n",
            "\u001b[0m\u001b[0;35m[mov,mp4,m4a,3gp,3g2,mj2 @ 0x2e07e00] \u001b[0m\u001b[1;31mstream 0, offset 0x9e1061: partial file\n",
            "\u001b[0m\u001b[0;35m[mov,mp4,m4a,3gp,3g2,mj2 @ 0x2e07e00] \u001b[0m\u001b[1;31mstream 1, offset 0x9e482d: partial file\n",
            "\u001b[0m\u001b[0;35m[mov,mp4,m4a,3gp,3g2,mj2 @ 0x2e07e00] \u001b[0m\u001b[1;31mstream 1, offset 0x9e498f: partial file\n",
            "\u001b[0m\u001b[0;35m[mov,mp4,m4a,3gp,3g2,mj2 @ 0x2e07e00] \u001b[0m\u001b[1;31mstream 1, offset 0x9e4aeb: partial file\n",
            "\u001b[0m\u001b[0;35m[mov,mp4,m4a,3gp,3g2,mj2 @ 0x2e07e00] \u001b[0m\u001b[1;31mstream 1, offset 0x9e4c51: partial file\n",
            "\u001b[0m\u001b[0;35m[mov,mp4,m4a,3gp,3g2,mj2 @ 0x2e07e00] \u001b[0m\u001b[1;31mstream 1, offset 0x9e4dbf: partial file\n",
            "\u001b[0m\u001b[0;35m[mov,mp4,m4a,3gp,3g2,mj2 @ 0x2e07e00] \u001b[0m\u001b[1;31mstream 1, offset 0x9e4f2e: partial file\n",
            "\u001b[0m\u001b[0;35m[mov,mp4,m4a,3gp,3g2,mj2 @ 0x2e07e00] \u001b[0m\u001b[1;31mstream 1, offset 0x9e5090: partial file\n",
            "\u001b[0m\u001b[0;35m[mov,mp4,m4a,3gp,3g2,mj2 @ 0x2e07e00] \u001b[0m\u001b[1;31mstream 1, offset 0x9e51fd: partial file\n",
            "\u001b[0m\u001b[0;35m[mov,mp4,m4a,3gp,3g2,mj2 @ 0x2e07e00] \u001b[0m\u001b[1;31mstream 1, offset 0x9e5364: partial file\n",
            "\u001b[0m\u001b[0;35m[mov,mp4,m4a,3gp,3g2,mj2 @ 0x2e07e00] \u001b[0m\u001b[1;31mstream 1, offset 0x9e54d2: partial file\n",
            "\u001b[0m\u001b[0;35m[mov,mp4,m4a,3gp,3g2,mj2 @ 0x2e07e00] \u001b[0m\u001b[1;31mstream 1, offset 0x9e564b: partial file\n",
            "\u001b[0m\u001b[0;35m[mov,mp4,m4a,3gp,3g2,mj2 @ 0x2e07e00] \u001b[0m\u001b[1;31mstream 1, offset 0x9e5924: partial file\n",
            "\u001b[0m\u001b[0;35m[mov,mp4,m4a,3gp,3g2,mj2 @ 0x2e07e00] \u001b[0m\u001b[1;31mstream 1, offset 0x9e5aa1: partial file\n",
            "\u001b[0m\u001b[0;35m[mov,mp4,m4a,3gp,3g2,mj2 @ 0x2e07e00] \u001b[0m\u001b[1;31mstream 1, offset 0x9e5c12: partial file\n",
            "\u001b[0m\u001b[0;35m[mov,mp4,m4a,3gp,3g2,mj2 @ 0x2e07e00] \u001b[0m\u001b[1;31mstream 1, offset 0x9e5da0: partial file\n",
            "\u001b[0m\u001b[0;35m[mov,mp4,m4a,3gp,3g2,mj2 @ 0x2e07e00] \u001b[0m\u001b[1;31mstream 1, offset 0x9e5f38: partial file\n",
            "\u001b[0m\u001b[0;35m[mov,mp4,m4a,3gp,3g2,mj2 @ 0x2e07e00] \u001b[0m\u001b[1;31mstream 1, offset 0x9e60a9: partial file\n",
            "\u001b[0m\u001b[0;35m[mov,mp4,m4a,3gp,3g2,mj2 @ 0x2e07e00] \u001b[0m\u001b[1;31mstream 1, offset 0x9e62a1: partial file\n",
            "\u001b[0m\u001b[0;35m[mov,mp4,m4a,3gp,3g2,mj2 @ 0x2e07e00] \u001b[0m\u001b[1;31mstream 0, offset 0x9e6423: partial file\n",
            "\u001b[0m\u001b[0;35m[mov,mp4,m4a,3gp,3g2,mj2 @ 0x2e07e00] \u001b[0m\u001b[1;31mstream 0, offset 0x9eb143: partial file\n",
            "\u001b[0m\u001b[0;35m[mov,mp4,m4a,3gp,3g2,mj2 @ 0x2e07e00] \u001b[0m\u001b[1;31mstream 0, offset 0x9ee215: partial file\n",
            "\u001b[0m\u001b[0;35m[mov,mp4,m4a,3gp,3g2,mj2 @ 0x2e07e00] \u001b[0m\u001b[1;31mstream 0, offset 0x9ef034: partial file\n",
            "\u001b[0m\u001b[0;35m[mov,mp4,m4a,3gp,3g2,mj2 @ 0x2e07e00] \u001b[0m\u001b[1;31mstream 0, offset 0x9f2d80: partial file\n",
            "\u001b[0m\u001b[0;35m[mov,mp4,m4a,3gp,3g2,mj2 @ 0x2e07e00] \u001b[0m\u001b[1;31mstream 0, offset 0x9f6c6d: partial file\n",
            "\u001b[0m\u001b[0;35m[mov,mp4,m4a,3gp,3g2,mj2 @ 0x2e07e00] \u001b[0m\u001b[1;31mstream 0, offset 0x9faa7a: partial file\n",
            "\u001b[0m\u001b[0;35m[mov,mp4,m4a,3gp,3g2,mj2 @ 0x2e07e00] \u001b[0m\u001b[1;31mstream 1, offset 0x9fdb2a: partial file\n",
            "\u001b[0m\u001b[0;35m[mov,mp4,m4a,3gp,3g2,mj2 @ 0x2e07e00] \u001b[0m\u001b[1;31mstream 1, offset 0x9fdc9f: partial file\n",
            "\u001b[0m\u001b[0;35m[mov,mp4,m4a,3gp,3g2,mj2 @ 0x2e07e00] \u001b[0m\u001b[1;31mstream 1, offset 0x9fde01: partial file\n",
            "\u001b[0m\u001b[0;35m[mov,mp4,m4a,3gp,3g2,mj2 @ 0x2e07e00] \u001b[0m\u001b[1;31mstream 1, offset 0x9fdf6b: partial file\n",
            "\u001b[0m\u001b[0;35m[mov,mp4,m4a,3gp,3g2,mj2 @ 0x2e07e00] \u001b[0m\u001b[1;31mstream 1, offset 0x9fe0c6: partial file\n",
            "\u001b[0m\u001b[0;35m[mov,mp4,m4a,3gp,3g2,mj2 @ 0x2e07e00] \u001b[0m\u001b[1;31mstream 1, offset 0x9fe227: partial file\n",
            "\u001b[0m\u001b[0;35m[mov,mp4,m4a,3gp,3g2,mj2 @ 0x2e07e00] \u001b[0m\u001b[1;31mstream 1, offset 0x9fe419: partial file\n",
            "\u001b[0m\u001b[0;35m[mov,mp4,m4a,3gp,3g2,mj2 @ 0x2e07e00] \u001b[0m\u001b[1;31mstream 1, offset 0x9fe59c: partial file\n",
            "\u001b[0m\u001b[0;35m[mov,mp4,m4a,3gp,3g2,mj2 @ 0x2e07e00] \u001b[0m\u001b[1;31mstream 1, offset 0x9fe72c: partial file\n",
            "\u001b[0m\u001b[0;35m[mov,mp4,m4a,3gp,3g2,mj2 @ 0x2e07e00] \u001b[0m\u001b[1;31mstream 1, offset 0x9fe882: partial file\n",
            "\u001b[0m\u001b[0;35m[mov,mp4,m4a,3gp,3g2,mj2 @ 0x2e07e00] \u001b[0m\u001b[1;31mstream 1, offset 0x9feb66: partial file\n",
            "\u001b[0m\u001b[0;35m[mov,mp4,m4a,3gp,3g2,mj2 @ 0x2e07e00] \u001b[0m\u001b[1;31mstream 1, offset 0x9fecbf: partial file\n",
            "\u001b[0m\u001b[0;35m[mov,mp4,m4a,3gp,3g2,mj2 @ 0x2e07e00] \u001b[0m\u001b[1;31mstream 1, offset 0x9fee16: partial file\n",
            "\u001b[0m\u001b[0;35m[mov,mp4,m4a,3gp,3g2,mj2 @ 0x2e07e00] \u001b[0m\u001b[1;31mstream 1, offset 0x9fef71: partial file\n",
            "\u001b[0m\u001b[0;35m[mov,mp4,m4a,3gp,3g2,mj2 @ 0x2e07e00] \u001b[0m\u001b[1;31mstream 1, offset 0x9ff13b: partial file\n",
            "\u001b[0m\u001b[0;35m[mov,mp4,m4a,3gp,3g2,mj2 @ 0x2e07e00] \u001b[0m\u001b[1;31mstream 1, offset 0x9ff288: partial file\n",
            "\u001b[0m\u001b[0;35m[mov,mp4,m4a,3gp,3g2,mj2 @ 0x2e07e00] \u001b[0m\u001b[1;31mstream 1, offset 0x9ff413: partial file\n",
            "\u001b[0m\u001b[0;35m[mov,mp4,m4a,3gp,3g2,mj2 @ 0x2e07e00] \u001b[0m\u001b[1;31mstream 1, offset 0x9ff5b8: partial file\n",
            "\u001b[0m\u001b[0;35m[mov,mp4,m4a,3gp,3g2,mj2 @ 0x2e07e00] \u001b[0m\u001b[1;31mstream 0, offset 0x9ff70e: partial file\n",
            "\u001b[0m\u001b[0;35m[mov,mp4,m4a,3gp,3g2,mj2 @ 0x2e07e00] \u001b[0m\u001b[1;31mstream 0, offset 0x9ff824: partial file\n",
            "\u001b[0m\u001b[0;35m[mov,mp4,m4a,3gp,3g2,mj2 @ 0x2e07e00] \u001b[0m\u001b[1;31mstream 0, offset 0xa0407b: partial file\n",
            "\u001b[0m\u001b[0;35m[mov,mp4,m4a,3gp,3g2,mj2 @ 0x2e07e00] \u001b[0m\u001b[1;31mstream 0, offset 0xa0705a: partial file\n",
            "\u001b[0m\u001b[0;35m[mov,mp4,m4a,3gp,3g2,mj2 @ 0x2e07e00] \u001b[0m\u001b[1;31mstream 0, offset 0xa07d74: partial file\n",
            "\u001b[0m\u001b[0;35m[mov,mp4,m4a,3gp,3g2,mj2 @ 0x2e07e00] \u001b[0m\u001b[1;31mstream 0, offset 0xa0c0d2: partial file\n",
            "\u001b[0m\u001b[0;35m[mov,mp4,m4a,3gp,3g2,mj2 @ 0x2e07e00] \u001b[0m\u001b[1;31mstream 0, offset 0xa0fe67: partial file\n",
            "\u001b[0m\u001b[0;35m[mov,mp4,m4a,3gp,3g2,mj2 @ 0x2e07e00] \u001b[0m\u001b[1;31mstream 1, offset 0xa13afb: partial file\n",
            "\u001b[0m\u001b[0;35m[mov,mp4,m4a,3gp,3g2,mj2 @ 0x2e07e00] \u001b[0m\u001b[1;31mstream 1, offset 0xa13c45: partial file\n",
            "\u001b[0m\u001b[0;35m[mov,mp4,m4a,3gp,3g2,mj2 @ 0x2e07e00] \u001b[0m\u001b[1;31mstream 1, offset 0xa13d98: partial file\n",
            "\u001b[0m\u001b[0;35m[mov,mp4,m4a,3gp,3g2,mj2 @ 0x2e07e00] \u001b[0m\u001b[1;31mstream 1, offset 0xa13ee3: partial file\n",
            "\u001b[0m\u001b[0;35m[mov,mp4,m4a,3gp,3g2,mj2 @ 0x2e07e00] \u001b[0m\u001b[1;31mstream 1, offset 0xa14192: partial file\n",
            "\u001b[0m\u001b[0;35m[mov,mp4,m4a,3gp,3g2,mj2 @ 0x2e07e00] \u001b[0m\u001b[1;31mstream 1, offset 0xa142f2: partial file\n",
            "\u001b[0m\u001b[0;35m[mov,mp4,m4a,3gp,3g2,mj2 @ 0x2e07e00] \u001b[0m\u001b[1;31mstream 1, offset 0xa14466: partial file\n",
            "\u001b[0m\u001b[0;35m[mov,mp4,m4a,3gp,3g2,mj2 @ 0x2e07e00] \u001b[0m\u001b[1;31mstream 1, offset 0xa145d5: partial file\n",
            "\u001b[0m\u001b[0;35m[mov,mp4,m4a,3gp,3g2,mj2 @ 0x2e07e00] \u001b[0m\u001b[1;31mstream 1, offset 0xa14771: partial file\n",
            "\u001b[0m\u001b[0;35m[mov,mp4,m4a,3gp,3g2,mj2 @ 0x2e07e00] \u001b[0m\u001b[1;31mstream 1, offset 0xa14924: partial file\n",
            "\u001b[0m\u001b[0;35m[mov,mp4,m4a,3gp,3g2,mj2 @ 0x2e07e00] \u001b[0m\u001b[1;31mstream 1, offset 0xa14a96: partial file\n",
            "\u001b[0m\u001b[0;35m[mov,mp4,m4a,3gp,3g2,mj2 @ 0x2e07e00] \u001b[0m\u001b[1;31mstream 1, offset 0xa14bdc: partial file\n",
            "\u001b[0m\u001b[0;35m[mov,mp4,m4a,3gp,3g2,mj2 @ 0x2e07e00] \u001b[0m\u001b[1;31mstream 1, offset 0xa14d24: partial file\n",
            "\u001b[0m\u001b[0;35m[mov,mp4,m4a,3gp,3g2,mj2 @ 0x2e07e00] \u001b[0m\u001b[1;31mstream 1, offset 0xa14e71: partial file\n",
            "\u001b[0m\u001b[0;35m[mov,mp4,m4a,3gp,3g2,mj2 @ 0x2e07e00] \u001b[0m\u001b[1;31mstream 1, offset 0xa14fd1: partial file\n",
            "\u001b[0m\u001b[0;35m[mov,mp4,m4a,3gp,3g2,mj2 @ 0x2e07e00] \u001b[0m\u001b[1;31mstream 1, offset 0xa152c7: partial file\n",
            "\u001b[0m\u001b[0;35m[mov,mp4,m4a,3gp,3g2,mj2 @ 0x2e07e00] \u001b[0m\u001b[1;31mstream 1, offset 0xa1541f: partial file\n",
            "\u001b[0m\u001b[0;35m[mov,mp4,m4a,3gp,3g2,mj2 @ 0x2e07e00] \u001b[0m\u001b[1;31mstream 1, offset 0xa1557f: partial file\n",
            "\u001b[0m\u001b[0;35m[mov,mp4,m4a,3gp,3g2,mj2 @ 0x2e07e00] \u001b[0m\u001b[1;31mstream 0, offset 0xa156e7: partial file\n",
            "\u001b[0m\u001b[0;35m[mov,mp4,m4a,3gp,3g2,mj2 @ 0x2e07e00] \u001b[0m\u001b[1;31mstream 0, offset 0xa15a56: partial file\n",
            "\u001b[0m\u001b[0;35m[mov,mp4,m4a,3gp,3g2,mj2 @ 0x2e07e00] \u001b[0m\u001b[1;31mstream 0, offset 0xa19ac7: partial file\n",
            "\u001b[0m\u001b[0;35m[mov,mp4,m4a,3gp,3g2,mj2 @ 0x2e07e00] \u001b[0m\u001b[1;31mstream 0, offset 0xa1d65f: partial file\n",
            "\u001b[0m\u001b[0;35m[mov,mp4,m4a,3gp,3g2,mj2 @ 0x2e07e00] \u001b[0m\u001b[1;31mstream 0, offset 0xa1f61b: partial file\n",
            "\u001b[0m\u001b[0;35m[mov,mp4,m4a,3gp,3g2,mj2 @ 0x2e07e00] \u001b[0m\u001b[1;31mstream 0, offset 0xa22dd7: partial file\n",
            "\u001b[0m\u001b[0;35m[mov,mp4,m4a,3gp,3g2,mj2 @ 0x2e07e00] \u001b[0m\u001b[1;31mstream 0, offset 0xa25ab1: partial file\n",
            "\u001b[0m\u001b[0;35m[mov,mp4,m4a,3gp,3g2,mj2 @ 0x2e07e00] \u001b[0m\u001b[1;31mstream 0, offset 0xa266f7: partial file\n",
            "\u001b[0m\u001b[0;35m[mov,mp4,m4a,3gp,3g2,mj2 @ 0x2e07e00] \u001b[0m\u001b[1;31mstream 1, offset 0xa29f80: partial file\n",
            "\u001b[0m\u001b[0;35m[mov,mp4,m4a,3gp,3g2,mj2 @ 0x2e07e00] \u001b[0m\u001b[1;31mstream 1, offset 0xa2a0fc: partial file\n",
            "\u001b[0m\u001b[0;35m[mov,mp4,m4a,3gp,3g2,mj2 @ 0x2e07e00] \u001b[0m\u001b[1;31mstream 1, offset 0xa2a2e6: partial file\n",
            "\u001b[0m\u001b[0;35m[mov,mp4,m4a,3gp,3g2,mj2 @ 0x2e07e00] \u001b[0m\u001b[1;31mstream 1, offset 0xa2a447: partial file\n",
            "\u001b[0m\u001b[0;35m[mov,mp4,m4a,3gp,3g2,mj2 @ 0x2e07e00] \u001b[0m\u001b[1;31mstream 1, offset 0xa2a757: partial file\n",
            "\u001b[0m\u001b[0;35m[mov,mp4,m4a,3gp,3g2,mj2 @ 0x2e07e00] \u001b[0m\u001b[1;31mstream 1, offset 0xa2a8f8: partial file\n",
            "\u001b[0m\u001b[0;35m[mov,mp4,m4a,3gp,3g2,mj2 @ 0x2e07e00] \u001b[0m\u001b[1;31mstream 1, offset 0xa2aa84: partial file\n",
            "\u001b[0m\u001b[0;35m[mov,mp4,m4a,3gp,3g2,mj2 @ 0x2e07e00] \u001b[0m\u001b[1;31mstream 1, offset 0xa2abd4: partial file\n",
            "\u001b[0m\u001b[0;35m[mov,mp4,m4a,3gp,3g2,mj2 @ 0x2e07e00] \u001b[0m\u001b[1;31mstream 1, offset 0xa2ad41: partial file\n",
            "\u001b[0m\u001b[0;35m[mov,mp4,m4a,3gp,3g2,mj2 @ 0x2e07e00] \u001b[0m\u001b[1;31mstream 1, offset 0xa2aefe: partial file\n",
            "\u001b[0m\u001b[0;35m[mov,mp4,m4a,3gp,3g2,mj2 @ 0x2e07e00] \u001b[0m\u001b[1;31mstream 1, offset 0xa2b045: partial file\n",
            "\u001b[0m\u001b[0;35m[mov,mp4,m4a,3gp,3g2,mj2 @ 0x2e07e00] \u001b[0m\u001b[1;31mstream 1, offset 0xa2b1d1: partial file\n",
            "\u001b[0m\u001b[0;35m[mov,mp4,m4a,3gp,3g2,mj2 @ 0x2e07e00] \u001b[0m\u001b[1;31mstream 1, offset 0xa2b326: partial file\n",
            "\u001b[0m\u001b[0;35m[mov,mp4,m4a,3gp,3g2,mj2 @ 0x2e07e00] \u001b[0m\u001b[1;31mstream 1, offset 0xa2b477: partial file\n",
            "\u001b[0m\u001b[0;35m[mov,mp4,m4a,3gp,3g2,mj2 @ 0x2e07e00] \u001b[0m\u001b[1;31mstream 1, offset 0xa2b734: partial file\n",
            "\u001b[0m\u001b[0;35m[mov,mp4,m4a,3gp,3g2,mj2 @ 0x2e07e00] \u001b[0m\u001b[1;31mstream 1, offset 0xa2b88f: partial file\n",
            "\u001b[0m\u001b[0;35m[mov,mp4,m4a,3gp,3g2,mj2 @ 0x2e07e00] \u001b[0m\u001b[1;31mstream 1, offset 0xa2b9e6: partial file\n",
            "\u001b[0m\u001b[0;35m[mov,mp4,m4a,3gp,3g2,mj2 @ 0x2e07e00] \u001b[0m\u001b[1;31mstream 1, offset 0xa2bb45: partial file\n",
            "\u001b[0m\u001b[0;35m[mov,mp4,m4a,3gp,3g2,mj2 @ 0x2e07e00] \u001b[0m\u001b[1;31mstream 0, offset 0xa2bcac: partial file\n",
            "\u001b[0m\u001b[0;35m[mov,mp4,m4a,3gp,3g2,mj2 @ 0x2e07e00] \u001b[0m\u001b[1;31mstream 0, offset 0xa2e6c5: partial file\n",
            "\u001b[0m\u001b[0;35m[mov,mp4,m4a,3gp,3g2,mj2 @ 0x2e07e00] \u001b[0m\u001b[1;31mstream 0, offset 0xa2f3cb: partial file\n",
            "\u001b[0m\u001b[0;35m[mov,mp4,m4a,3gp,3g2,mj2 @ 0x2e07e00] \u001b[0m\u001b[1;31mstream 0, offset 0xa32d43: partial file\n",
            "\u001b[0m\u001b[0;35m[mov,mp4,m4a,3gp,3g2,mj2 @ 0x2e07e00] \u001b[0m\u001b[1;31mstream 0, offset 0xa34857: partial file\n",
            "\u001b[0m\u001b[0;35m[mov,mp4,m4a,3gp,3g2,mj2 @ 0x2e07e00] \u001b[0m\u001b[1;31mstream 1, offset 0xa3766b: partial file\n",
            "\u001b[0m\u001b[0;35m[mov,mp4,m4a,3gp,3g2,mj2 @ 0x2e07e00] \u001b[0m\u001b[1;31mstream 1, offset 0xa37807: partial file\n",
            "\u001b[0m\u001b[0;35m[mov,mp4,m4a,3gp,3g2,mj2 @ 0x2e07e00] \u001b[0m\u001b[1;31mstream 1, offset 0xa37abf: partial file\n",
            "\u001b[0m\u001b[0;35m[mov,mp4,m4a,3gp,3g2,mj2 @ 0x2e07e00] \u001b[0m\u001b[1;31mstream 1, offset 0xa37c1f: partial file\n",
            "\u001b[0m\u001b[0;35m[mov,mp4,m4a,3gp,3g2,mj2 @ 0x2e07e00] \u001b[0m\u001b[1;31mstream 1, offset 0xa37d9c: partial file\n",
            "\u001b[0m\u001b[0;35m[mov,mp4,m4a,3gp,3g2,mj2 @ 0x2e07e00] \u001b[0m\u001b[1;31mstream 1, offset 0xa37f19: partial file\n",
            "\u001b[0m\u001b[0;35m[mov,mp4,m4a,3gp,3g2,mj2 @ 0x2e07e00] \u001b[0m\u001b[1;31mstream 1, offset 0xa380ae: partial file\n",
            "\u001b[0m\u001b[0;35m[mov,mp4,m4a,3gp,3g2,mj2 @ 0x2e07e00] \u001b[0m\u001b[1;31mstream 1, offset 0xa38233: partial file\n",
            "\u001b[0m\u001b[0;35m[mov,mp4,m4a,3gp,3g2,mj2 @ 0x2e07e00] \u001b[0m\u001b[1;31mstream 1, offset 0xa383f9: partial file\n",
            "\u001b[0m\u001b[0;35m[mov,mp4,m4a,3gp,3g2,mj2 @ 0x2e07e00] \u001b[0m\u001b[1;31mstream 1, offset 0xa385cf: partial file\n",
            "\u001b[0m\u001b[0;35m[mov,mp4,m4a,3gp,3g2,mj2 @ 0x2e07e00] \u001b[0m\u001b[1;31mstream 1, offset 0xa38779: partial file\n",
            "\u001b[0m\u001b[0;35m[mov,mp4,m4a,3gp,3g2,mj2 @ 0x2e07e00] \u001b[0m\u001b[1;31mstream 1, offset 0xa388c7: partial file\n",
            "\u001b[0m\u001b[0;35m[mov,mp4,m4a,3gp,3g2,mj2 @ 0x2e07e00] \u001b[0m\u001b[1;31mstream 1, offset 0xa38b62: partial file\n",
            "\u001b[0m\u001b[0;35m[mov,mp4,m4a,3gp,3g2,mj2 @ 0x2e07e00] \u001b[0m\u001b[1;31mstream 1, offset 0xa38ccd: partial file\n",
            "\u001b[0m\u001b[0;35m[mov,mp4,m4a,3gp,3g2,mj2 @ 0x2e07e00] \u001b[0m\u001b[1;31mstream 1, offset 0xa38e9c: partial file\n",
            " 95% 2761/2909 [00:15<00:00, 178.59frames/s]\n",
            "[PySceneDetect] Processed 2761 frames in 15.5 seconds (average 178.57 FPS).\n",
            "[PySceneDetect] No scenes detected.\n",
            "[PySceneDetect] Writing scene list to CSV file:\n",
            "  /content/gdrive/My Drive/adplace/scene_videos/adplace_123-Scenes.csv\n",
            "[PySceneDetect] Scene List:\n",
            "-----------------------------------------------------------------------\n",
            " | Scene # | Start Frame |  Start Time  |  End Frame  |   End Time   |\n",
            "-----------------------------------------------------------------------\n",
            "\n",
            "-----------------------------------------------------------------------\n",
            "\n",
            "[PySceneDetect] Splitting input video using ffmpeg, output path template:\n",
            "  /content/gdrive/My Drive/adplace/scene_videos/$VIDEO_NAME-Scene-$SCENE_NUMBER.mp4\n",
            "Traceback (most recent call last):\n",
            "  File \"/usr/local/lib/python3.6/dist-packages/click/core.py\", line 727, in main\n",
            "    ctx.exit()\n",
            "  File \"/usr/local/lib/python3.6/dist-packages/click/core.py\", line 504, in exit\n",
            "    raise Exit(code)\n",
            "click.exceptions.Exit: 0\n",
            "\n",
            "During handling of the above exception, another exception occurred:\n",
            "\n",
            "Traceback (most recent call last):\n",
            "  File \"/usr/local/bin/scenedetect\", line 10, in <module>\n",
            "    sys.exit(main())\n",
            "  File \"/usr/local/lib/python3.6/dist-packages/scenedetect/__main__.py\", line 58, in main\n",
            "    cli.main(obj=cli_ctx)   # Parse CLI arguments with registered callbacks.\n",
            "  File \"/usr/local/lib/python3.6/dist-packages/click/core.py\", line 727, in main\n",
            "    ctx.exit()\n",
            "  File \"/usr/local/lib/python3.6/dist-packages/click/core.py\", line 351, in __exit__\n",
            "    self.close()\n",
            "  File \"/usr/local/lib/python3.6/dist-packages/click/core.py\", line 440, in close\n",
            "    cb()\n",
            "  File \"/usr/local/lib/python3.6/dist-packages/scenedetect/cli/context.py\", line 436, in process_input\n",
            "    suppress_output=self.quiet_mode or self.split_quiet)\n",
            "  File \"/usr/local/lib/python3.6/dist-packages/scenedetect/video_splitter.py\", line 201, in split_video_ffmpeg\n",
            "    scene_num_format += str(max(3, math.floor(math.log(len(scene_list), 10)) + 1)) + 'd'\n",
            "ValueError: math domain error\n",
            "[PySceneDetect] Output directory set:\n",
            "  /content/gdrive/My Drive/adplace/scene_videos\n",
            "[PySceneDetect] Loaded 1 video, framerate: 29.97 FPS, resolution: 1280 x 720\n",
            "[PySceneDetect] Downscale factor set to 5, effective resolution: 256 x 144\n",
            "[PySceneDetect] Scene list CSV file name format:\n",
            "  $VIDEO_NAME-Scenes.csv\n",
            "[PySceneDetect] FFmpeg codec args set: -c:v libx264 -preset veryfast -crf 22 -c:a copy\n",
            "[PySceneDetect] Video output file name format: $VIDEO_NAME-Scene-$SCENE_NUMBER\n",
            "[PySceneDetect] Detecting scenes...\n",
            "100% 8084/8084 [00:50<00:00, 159.00frames/s]\n",
            "[PySceneDetect] Processed 8084 frames in 50.8 seconds (average 159.00 FPS).\n",
            "[PySceneDetect] Detected 20 scenes, average shot length 13.5 seconds.\n",
            "[PySceneDetect] Writing scene list to CSV file:\n",
            "  /content/gdrive/My Drive/adplace/scene_videos/adplace_124-Scenes.csv\n",
            "[PySceneDetect] Scene List:\n",
            "-----------------------------------------------------------------------\n",
            " | Scene # | Start Frame |  Start Time  |  End Frame  |   End Time   |\n",
            "-----------------------------------------------------------------------\n",
            " |      1  |           0 | 00:00:00.000 |         409 | 00:00:13.647 |\n",
            " |      2  |         409 | 00:00:13.647 |         452 | 00:00:15.082 |\n",
            " |      3  |         452 | 00:00:15.082 |        3269 | 00:01:49.076 |\n",
            " |      4  |        3269 | 00:01:49.076 |        3386 | 00:01:52.980 |\n",
            " |      5  |        3386 | 00:01:52.980 |        3457 | 00:01:55.349 |\n",
            " |      6  |        3457 | 00:01:55.349 |        3517 | 00:01:57.351 |\n",
            " |      7  |        3517 | 00:01:57.351 |        3622 | 00:02:00.854 |\n",
            " |      8  |        3622 | 00:02:00.854 |        3657 | 00:02:02.022 |\n",
            " |      9  |        3657 | 00:02:02.022 |        3735 | 00:02:04.624 |\n",
            " |     10  |        3735 | 00:02:04.624 |        3818 | 00:02:07.394 |\n",
            " |     11  |        3818 | 00:02:07.394 |        5633 | 00:03:07.954 |\n",
            " |     12  |        5633 | 00:03:07.954 |        5724 | 00:03:10.991 |\n",
            " |     13  |        5724 | 00:03:10.991 |        5815 | 00:03:14.027 |\n",
            " |     14  |        5815 | 00:03:14.027 |        5874 | 00:03:15.996 |\n",
            " |     15  |        5874 | 00:03:15.996 |        5997 | 00:03:20.100 |\n",
            " |     16  |        5997 | 00:03:20.100 |        6025 | 00:03:21.034 |\n",
            " |     17  |        6025 | 00:03:21.034 |        6063 | 00:03:22.302 |\n",
            " |     18  |        6063 | 00:03:22.302 |        7549 | 00:04:11.885 |\n",
            " |     19  |        7549 | 00:04:11.885 |        8016 | 00:04:27.467 |\n",
            " |     20  |        8016 | 00:04:27.467 |        8084 | 00:04:29.736 |\n",
            "-----------------------------------------------------------------------\n",
            "\n",
            "[PySceneDetect] Comma-separated timecode list:\n",
            "  00:00:13.647,00:00:15.082,00:01:49.076,00:01:52.980,00:01:55.349,00:01:57.351,00:02:00.854,00:02:02.022,00:02:04.624,00:02:07.394,00:03:07.954,00:03:10.991,00:03:14.027,00:03:15.996,00:03:20.100,00:03:21.034,00:03:22.302,00:04:11.885,00:04:27.467\n",
            "[PySceneDetect] Splitting input video using ffmpeg, output path template:\n",
            "  /content/gdrive/My Drive/adplace/scene_videos/$VIDEO_NAME-Scene-$SCENE_NUMBER.mp4\n",
            "  0% 0/8084 [00:00<?, ?frame/s]ffmpeg version 3.4.6-0ubuntu0.18.04.1 Copyright (c) 2000-2019 the FFmpeg developers\n",
            "  built with gcc 7 (Ubuntu 7.3.0-16ubuntu3)\n",
            "  configuration: --prefix=/usr --extra-version=0ubuntu0.18.04.1 --toolchain=hardened --libdir=/usr/lib/x86_64-linux-gnu --incdir=/usr/include/x86_64-linux-gnu --enable-gpl --disable-stripping --enable-avresample --enable-avisynth --enable-gnutls --enable-ladspa --enable-libass --enable-libbluray --enable-libbs2b --enable-libcaca --enable-libcdio --enable-libflite --enable-libfontconfig --enable-libfreetype --enable-libfribidi --enable-libgme --enable-libgsm --enable-libmp3lame --enable-libmysofa --enable-libopenjpeg --enable-libopenmpt --enable-libopus --enable-libpulse --enable-librubberband --enable-librsvg --enable-libshine --enable-libsnappy --enable-libsoxr --enable-libspeex --enable-libssh --enable-libtheora --enable-libtwolame --enable-libvorbis --enable-libvpx --enable-libwavpack --enable-libwebp --enable-libx265 --enable-libxml2 --enable-libxvid --enable-libzmq --enable-libzvbi --enable-omx --enable-openal --enable-opengl --enable-sdl2 --enable-libdc1394 --enable-libdrm --enable-libiec61883 --enable-chromaprint --enable-frei0r --enable-libopencv --enable-libx264 --enable-shared\n",
            "  libavutil      55. 78.100 / 55. 78.100\n",
            "  libavcodec     57.107.100 / 57.107.100\n",
            "  libavformat    57. 83.100 / 57. 83.100\n",
            "  libavdevice    57. 10.100 / 57. 10.100\n",
            "  libavfilter     6.107.100 /  6.107.100\n",
            "  libavresample   3.  7.  0 /  3.  7.  0\n",
            "  libswscale      4.  8.100 /  4.  8.100\n",
            "  libswresample   2.  9.100 /  2.  9.100\n",
            "  libpostproc    54.  7.100 / 54.  7.100\n",
            "Input #0, mov,mp4,m4a,3gp,3g2,mj2, from '/content/gdrive/My Drive/adplace/full_videos/adplace_124.mp4':\n",
            "  Metadata:\n",
            "    major_brand     : mp42\n",
            "    minor_version   : 0\n",
            "    compatible_brands: isommp42\n",
            "    creation_time   : 2018-11-05T12:18:02.000000Z\n",
            "  Duration: 00:04:29.75, start: 0.000000, bitrate: 1413 kb/s\n",
            "    Stream #0:0(und): Video: h264 (Main) (avc1 / 0x31637661), yuv420p(tv, bt709), 1280x720 [SAR 1:1 DAR 16:9], 1284 kb/s, 29.97 fps, 29.97 tbr, 90k tbn, 59.94 tbc (default)\n",
            "    Metadata:\n",
            "      creation_time   : 2018-11-05T12:18:02.000000Z\n",
            "      handler_name    : ISO Media file produced by Google Inc. Created on: 11/05/2018.\n",
            "    Stream #0:1(und): Audio: aac (LC) (mp4a / 0x6134706D), 44100 Hz, stereo, fltp, 125 kb/s (default)\n",
            "    Metadata:\n",
            "      creation_time   : 2018-11-05T12:18:02.000000Z\n",
            "      handler_name    : ISO Media file produced by Google Inc. Created on: 11/05/2018.\n",
            "Stream mapping:\n",
            "  Stream #0:0 -> #0:0 (h264 (native) -> h264 (libx264))\n",
            "  Stream #0:1 -> #0:1 (copy)\n",
            "Press [q] to stop, [?] for help\n",
            "\u001b[1;36m[libx264 @ 0x5654d770e800] \u001b[0musing SAR=1/1\n",
            "\u001b[1;36m[libx264 @ 0x5654d770e800] \u001b[0musing cpu capabilities: MMX2 SSE2Fast SSSE3 SSE4.2 AVX FMA3 BMI2 AVX2\n",
            "\u001b[1;36m[libx264 @ 0x5654d770e800] \u001b[0mprofile High, level 3.1\n",
            "\u001b[1;36m[libx264 @ 0x5654d770e800] \u001b[0m264 - core 152 r2854 e9a5903 - H.264/MPEG-4 AVC codec - Copyleft 2003-2017 - http://www.videolan.org/x264.html - options: cabac=1 ref=1 deblock=1:0:0 analyse=0x3:0x113 me=hex subme=2 psy=1 psy_rd=1.00:0.00 mixed_ref=0 me_range=16 chroma_me=1 trellis=0 8x8dct=1 cqm=0 deadzone=21,11 fast_pskip=1 chroma_qp_offset=0 threads=3 lookahead_threads=1 sliced_threads=0 nr=0 decimate=1 interlaced=0 bluray_compat=0 constrained_intra=0 bframes=3 b_pyramid=2 b_adapt=1 b_bias=0 direct=1 weightb=1 open_gop=0 weightp=1 keyint=250 keyint_min=25 scenecut=40 intra_refresh=0 rc_lookahead=10 rc=crf mbtree=1 crf=22.0 qcomp=0.60 qpmin=0 qpmax=69 qpstep=4 ip_ratio=1.40 aq=1:1.00\n",
            "Output #0, mp4, to '/content/gdrive/My Drive/adplace/scene_videos/adplace_124-Scene-001.mp4':\n",
            "  Metadata:\n",
            "    major_brand     : mp42\n",
            "    minor_version   : 0\n",
            "    compatible_brands: isommp42\n",
            "    encoder         : Lavf57.83.100\n",
            "    Stream #0:0(und): Video: h264 (libx264) (avc1 / 0x31637661), yuv420p, 1280x720 [SAR 1:1 DAR 16:9], q=-1--1, 29.97 fps, 30k tbn, 29.97 tbc (default)\n",
            "    Metadata:\n",
            "      creation_time   : 2018-11-05T12:18:02.000000Z\n",
            "      handler_name    : ISO Media file produced by Google Inc. Created on: 11/05/2018.\n",
            "      encoder         : Lavc57.107.100 libx264\n",
            "    Side data:\n",
            "      cpb: bitrate max/min/avg: 0/0/0 buffer size: 0 vbv_delay: -1\n",
            "    Stream #0:1(und): Audio: aac (LC) (mp4a / 0x6134706D), 44100 Hz, stereo, fltp, 125 kb/s (default)\n",
            "    Metadata:\n",
            "      creation_time   : 2018-11-05T12:18:02.000000Z\n",
            "      handler_name    : ISO Media file produced by Google Inc. Created on: 11/05/2018.\n",
            "frame=  410 fps= 49 q=-1.0 Lsize=    2212kB time=00:00:13.63 bitrate=1329.5kbits/s speed=1.64x    \n",
            "video:1987kB audio:210kB subtitle:0kB other streams:0kB global headers:0kB muxing overhead: 0.701528%\n",
            "\u001b[1;36m[libx264 @ 0x5654d770e800] \u001b[0mframe I:2     Avg QP:19.22  size: 37742\n",
            "\u001b[1;36m[libx264 @ 0x5654d770e800] \u001b[0mframe P:153   Avg QP:20.56  size:  9878\n",
            "\u001b[1;36m[libx264 @ 0x5654d770e800] \u001b[0mframe B:255   Avg QP:23.66  size:  1754\n",
            "\u001b[1;36m[libx264 @ 0x5654d770e800] \u001b[0mconsecutive B-frames:  3.7% 27.8% 37.3% 31.2%\n",
            "\u001b[1;36m[libx264 @ 0x5654d770e800] \u001b[0mmb I  I16..4: 26.6% 46.9% 26.5%\n",
            "\u001b[1;36m[libx264 @ 0x5654d770e800] \u001b[0mmb P  I16..4:  9.4%  8.0%  0.6%  P16..4: 25.6% 10.5%  4.4%  0.0%  0.0%    skip:41.5%\n",
            "\u001b[1;36m[libx264 @ 0x5654d770e800] \u001b[0mmb B  I16..4:  0.9%  0.4%  0.0%  B16..8: 12.2%  2.4%  0.2%  direct: 1.7%  skip:82.2%  L0:42.1% L1:48.5% BI: 9.3%\n",
            "\u001b[1;36m[libx264 @ 0x5654d770e800] \u001b[0m8x8 transform intra:43.3% inter:35.1%\n",
            "\u001b[1;36m[libx264 @ 0x5654d770e800] \u001b[0mcoded y,uvDC,uvAC intra: 26.3% 36.8% 5.2% inter: 4.1% 5.4% 0.2%\n",
            "\u001b[1;36m[libx264 @ 0x5654d770e800] \u001b[0mi16 v,h,dc,p: 33% 46% 15%  6%\n",
            "\u001b[1;36m[libx264 @ 0x5654d770e800] \u001b[0mi8 v,h,dc,ddl,ddr,vr,hd,vl,hu: 15% 54% 22%  1%  1%  1%  2%  1%  2%\n",
            "\u001b[1;36m[libx264 @ 0x5654d770e800] \u001b[0mi4 v,h,dc,ddl,ddr,vr,hd,vl,hu: 26% 35% 13%  3%  4%  5%  5%  4%  4%\n",
            "\u001b[1;36m[libx264 @ 0x5654d770e800] \u001b[0mi8c dc,h,v,p: 48% 34% 14%  4%\n",
            "\u001b[1;36m[libx264 @ 0x5654d770e800] \u001b[0mWeighted P-Frames: Y:0.0% UV:0.0%\n",
            "\u001b[1;36m[libx264 @ 0x5654d770e800] \u001b[0mkb/s:1189.46\n",
            "[PySceneDetect] Output from ffmpeg for Scene 1 shown above, splitting remaining scenes...\n",
            "100% 8084/8084 [03:18<00:00, 30.98frame/s]\n",
            "[PySceneDetect] Average processing speed 40.80 frames/sec.\n",
            "[PySceneDetect] Video splitting completed, individual scenes written to disk.\n",
            "[PySceneDetect] Output directory set:\n",
            "  /content/gdrive/My Drive/adplace/scene_videos\n",
            "[PySceneDetect] Loaded 1 video, framerate: 25.00 FPS, resolution: 1280 x 720\n",
            "[PySceneDetect] Downscale factor set to 5, effective resolution: 256 x 144\n",
            "[PySceneDetect] Scene list CSV file name format:\n",
            "  $VIDEO_NAME-Scenes.csv\n",
            "[PySceneDetect] FFmpeg codec args set: -c:v libx264 -preset veryfast -crf 22 -c:a copy\n",
            "[PySceneDetect] Video output file name format: $VIDEO_NAME-Scene-$SCENE_NUMBER\n",
            "[PySceneDetect] Detecting scenes...\n",
            "100% 3253/3253 [00:23<00:00, 139.38frames/s]\n",
            "[PySceneDetect] Processed 3253 frames in 23.3 seconds (average 139.37 FPS).\n",
            "[PySceneDetect] Detected 27 scenes, average shot length 4.8 seconds.\n",
            "[PySceneDetect] Writing scene list to CSV file:\n",
            "  /content/gdrive/My Drive/adplace/scene_videos/adplace_125-Scenes.csv\n",
            "[PySceneDetect] Scene List:\n",
            "-----------------------------------------------------------------------\n",
            " | Scene # | Start Frame |  Start Time  |  End Frame  |   End Time   |\n",
            "-----------------------------------------------------------------------\n",
            " |      1  |           0 | 00:00:00.000 |          23 | 00:00:00.920 |\n",
            " |      2  |          23 | 00:00:00.920 |         114 | 00:00:04.560 |\n",
            " |      3  |         114 | 00:00:04.560 |         192 | 00:00:07.680 |\n",
            " |      4  |         192 | 00:00:07.680 |         395 | 00:00:15.800 |\n",
            " |      5  |         395 | 00:00:15.800 |         444 | 00:00:17.760 |\n",
            " |      6  |         444 | 00:00:17.760 |         584 | 00:00:23.360 |\n",
            " |      7  |         584 | 00:00:23.360 |         976 | 00:00:39.040 |\n",
            " |      8  |         976 | 00:00:39.040 |        1100 | 00:00:44.000 |\n",
            " |      9  |        1100 | 00:00:44.000 |        1796 | 00:01:11.840 |\n",
            " |     10  |        1796 | 00:01:11.840 |        1990 | 00:01:19.600 |\n",
            " |     11  |        1990 | 00:01:19.600 |        2184 | 00:01:27.360 |\n",
            " |     12  |        2184 | 00:01:27.360 |        2251 | 00:01:30.040 |\n",
            " |     13  |        2251 | 00:01:30.040 |        2344 | 00:01:33.760 |\n",
            " |     14  |        2344 | 00:01:33.760 |        2397 | 00:01:35.880 |\n",
            " |     15  |        2397 | 00:01:35.880 |        2488 | 00:01:39.520 |\n",
            " |     16  |        2488 | 00:01:39.520 |        2573 | 00:01:42.920 |\n",
            " |     17  |        2573 | 00:01:42.920 |        2612 | 00:01:44.480 |\n",
            " |     18  |        2612 | 00:01:44.480 |        2699 | 00:01:47.960 |\n",
            " |     19  |        2699 | 00:01:47.960 |        2738 | 00:01:49.520 |\n",
            " |     20  |        2738 | 00:01:49.520 |        2773 | 00:01:50.920 |\n",
            " |     21  |        2773 | 00:01:50.920 |        2869 | 00:01:54.760 |\n",
            " |     22  |        2869 | 00:01:54.760 |        2926 | 00:01:57.040 |\n",
            " |     23  |        2926 | 00:01:57.040 |        2998 | 00:01:59.920 |\n",
            " |     24  |        2998 | 00:01:59.920 |        3038 | 00:02:01.520 |\n",
            " |     25  |        3038 | 00:02:01.520 |        3115 | 00:02:04.600 |\n",
            " |     26  |        3115 | 00:02:04.600 |        3162 | 00:02:06.480 |\n",
            " |     27  |        3162 | 00:02:06.480 |        3253 | 00:02:10.120 |\n",
            "-----------------------------------------------------------------------\n",
            "\n",
            "[PySceneDetect] Comma-separated timecode list:\n",
            "  00:00:00.920,00:00:04.560,00:00:07.680,00:00:15.800,00:00:17.760,00:00:23.360,00:00:39.040,00:00:44.000,00:01:11.840,00:01:19.600,00:01:27.360,00:01:30.040,00:01:33.760,00:01:35.880,00:01:39.520,00:01:42.920,00:01:44.480,00:01:47.960,00:01:49.520,00:01:50.920,00:01:54.760,00:01:57.040,00:01:59.920,00:02:01.520,00:02:04.600,00:02:06.480\n",
            "[PySceneDetect] Splitting input video using ffmpeg, output path template:\n",
            "  /content/gdrive/My Drive/adplace/scene_videos/$VIDEO_NAME-Scene-$SCENE_NUMBER.mp4\n",
            "  0% 0/3253 [00:00<?, ?frame/s]ffmpeg version 3.4.6-0ubuntu0.18.04.1 Copyright (c) 2000-2019 the FFmpeg developers\n",
            "  built with gcc 7 (Ubuntu 7.3.0-16ubuntu3)\n",
            "  configuration: --prefix=/usr --extra-version=0ubuntu0.18.04.1 --toolchain=hardened --libdir=/usr/lib/x86_64-linux-gnu --incdir=/usr/include/x86_64-linux-gnu --enable-gpl --disable-stripping --enable-avresample --enable-avisynth --enable-gnutls --enable-ladspa --enable-libass --enable-libbluray --enable-libbs2b --enable-libcaca --enable-libcdio --enable-libflite --enable-libfontconfig --enable-libfreetype --enable-libfribidi --enable-libgme --enable-libgsm --enable-libmp3lame --enable-libmysofa --enable-libopenjpeg --enable-libopenmpt --enable-libopus --enable-libpulse --enable-librubberband --enable-librsvg --enable-libshine --enable-libsnappy --enable-libsoxr --enable-libspeex --enable-libssh --enable-libtheora --enable-libtwolame --enable-libvorbis --enable-libvpx --enable-libwavpack --enable-libwebp --enable-libx265 --enable-libxml2 --enable-libxvid --enable-libzmq --enable-libzvbi --enable-omx --enable-openal --enable-opengl --enable-sdl2 --enable-libdc1394 --enable-libdrm --enable-libiec61883 --enable-chromaprint --enable-frei0r --enable-libopencv --enable-libx264 --enable-shared\n",
            "  libavutil      55. 78.100 / 55. 78.100\n",
            "  libavcodec     57.107.100 / 57.107.100\n",
            "  libavformat    57. 83.100 / 57. 83.100\n",
            "  libavdevice    57. 10.100 / 57. 10.100\n",
            "  libavfilter     6.107.100 /  6.107.100\n",
            "  libavresample   3.  7.  0 /  3.  7.  0\n",
            "  libswscale      4.  8.100 /  4.  8.100\n",
            "  libswresample   2.  9.100 /  2.  9.100\n",
            "  libpostproc    54.  7.100 / 54.  7.100\n",
            "Input #0, mov,mp4,m4a,3gp,3g2,mj2, from '/content/gdrive/My Drive/adplace/full_videos/adplace_125.mp4':\n",
            "  Metadata:\n",
            "    major_brand     : mp42\n",
            "    minor_version   : 0\n",
            "    compatible_brands: isommp42\n",
            "    creation_time   : 2018-06-07T06:20:06.000000Z\n",
            "  Duration: 00:02:10.12, start: 0.000000, bitrate: 1956 kb/s\n",
            "    Stream #0:0(und): Video: h264 (Main) (avc1 / 0x31637661), yuv420p(tv, bt709), 1280x720 [SAR 1:1 DAR 16:9], 1827 kb/s, 25 fps, 25 tbr, 90k tbn, 50 tbc (default)\n",
            "    Metadata:\n",
            "      creation_time   : 2018-06-07T06:20:06.000000Z\n",
            "      handler_name    : ISO Media file produced by Google Inc. Created on: 06/06/2018.\n",
            "    Stream #0:1(eng): Audio: aac (LC) (mp4a / 0x6134706D), 44100 Hz, stereo, fltp, 125 kb/s (default)\n",
            "    Metadata:\n",
            "      creation_time   : 2018-06-07T06:20:06.000000Z\n",
            "      handler_name    : ISO Media file produced by Google Inc. Created on: 06/06/2018.\n",
            "Stream mapping:\n",
            "  Stream #0:0 -> #0:0 (h264 (native) -> h264 (libx264))\n",
            "  Stream #0:1 -> #0:1 (copy)\n",
            "Press [q] to stop, [?] for help\n",
            "\u001b[1;36m[libx264 @ 0x55a73dcc4800] \u001b[0musing SAR=1/1\n",
            "\u001b[1;36m[libx264 @ 0x55a73dcc4800] \u001b[0musing cpu capabilities: MMX2 SSE2Fast SSSE3 SSE4.2 AVX FMA3 BMI2 AVX2\n",
            "\u001b[1;36m[libx264 @ 0x55a73dcc4800] \u001b[0mprofile High, level 3.1\n",
            "\u001b[1;36m[libx264 @ 0x55a73dcc4800] \u001b[0m264 - core 152 r2854 e9a5903 - H.264/MPEG-4 AVC codec - Copyleft 2003-2017 - http://www.videolan.org/x264.html - options: cabac=1 ref=1 deblock=1:0:0 analyse=0x3:0x113 me=hex subme=2 psy=1 psy_rd=1.00:0.00 mixed_ref=0 me_range=16 chroma_me=1 trellis=0 8x8dct=1 cqm=0 deadzone=21,11 fast_pskip=1 chroma_qp_offset=0 threads=3 lookahead_threads=1 sliced_threads=0 nr=0 decimate=1 interlaced=0 bluray_compat=0 constrained_intra=0 bframes=3 b_pyramid=2 b_adapt=1 b_bias=0 direct=1 weightb=1 open_gop=0 weightp=1 keyint=250 keyint_min=25 scenecut=40 intra_refresh=0 rc_lookahead=10 rc=crf mbtree=1 crf=22.0 qcomp=0.60 qpmin=0 qpmax=69 qpstep=4 ip_ratio=1.40 aq=1:1.00\n",
            "Output #0, mp4, to '/content/gdrive/My Drive/adplace/scene_videos/adplace_125-Scene-001.mp4':\n",
            "  Metadata:\n",
            "    major_brand     : mp42\n",
            "    minor_version   : 0\n",
            "    compatible_brands: isommp42\n",
            "    encoder         : Lavf57.83.100\n",
            "    Stream #0:0(und): Video: h264 (libx264) (avc1 / 0x31637661), yuv420p, 1280x720 [SAR 1:1 DAR 16:9], q=-1--1, 25 fps, 12800 tbn, 25 tbc (default)\n",
            "    Metadata:\n",
            "      creation_time   : 2018-06-07T06:20:06.000000Z\n",
            "      handler_name    : ISO Media file produced by Google Inc. Created on: 06/06/2018.\n",
            "      encoder         : Lavc57.107.100 libx264\n",
            "    Side data:\n",
            "      cpb: bitrate max/min/avg: 0/0/0 buffer size: 0 vbv_delay: -1\n",
            "    Stream #0:1(eng): Audio: aac (LC) (mp4a / 0x6134706D), 44100 Hz, stereo, fltp, 125 kb/s (default)\n",
            "    Metadata:\n",
            "      creation_time   : 2018-06-07T06:20:06.000000Z\n",
            "      handler_name    : ISO Media file produced by Google Inc. Created on: 06/06/2018.\n",
            "frame=   23 fps=0.0 q=-1.0 Lsize=     455kB time=00:00:00.90 bitrate=4119.8kbits/s speed=1.74x    \n",
            "video:439kB audio:14kB subtitle:0kB other streams:0kB global headers:0kB muxing overhead: 0.453637%\n",
            "\u001b[1;36m[libx264 @ 0x55a73dcc4800] \u001b[0mframe I:1     Avg QP:23.19  size:220041\n",
            "\u001b[1;36m[libx264 @ 0x55a73dcc4800] \u001b[0mframe P:10    Avg QP:24.90  size: 19740\n",
            "\u001b[1;36m[libx264 @ 0x55a73dcc4800] \u001b[0mframe B:12    Avg QP:30.51  size:  2607\n",
            "\u001b[1;36m[libx264 @ 0x55a73dcc4800] \u001b[0mconsecutive B-frames: 17.4% 34.8% 13.0% 34.8%\n",
            "\u001b[1;36m[libx264 @ 0x55a73dcc4800] \u001b[0mmb I  I16..4:  4.1%  2.4% 93.4%\n",
            "\u001b[1;36m[libx264 @ 0x55a73dcc4800] \u001b[0mmb P  I16..4:  0.0%  0.0%  0.0%  P16..4: 39.0%  5.7%  6.9%  0.0%  0.0%    skip:48.3%\n",
            "\u001b[1;36m[libx264 @ 0x55a73dcc4800] \u001b[0mmb B  I16..4:  0.0%  0.0%  0.0%  B16..8:  9.1%  3.1%  0.8%  direct: 2.7%  skip:84.2%  L0:41.3% L1:28.0% BI:30.7%\n",
            "\u001b[1;36m[libx264 @ 0x55a73dcc4800] \u001b[0m8x8 transform intra:2.5% inter:13.0%\n",
            "\u001b[1;36m[libx264 @ 0x55a73dcc4800] \u001b[0mcoded y,uvDC,uvAC intra: 98.8% 82.7% 56.1% inter: 14.2% 2.3% 0.4%\n",
            "\u001b[1;36m[libx264 @ 0x55a73dcc4800] \u001b[0mi16 v,h,dc,p:  9% 37% 45%  9%\n",
            "\u001b[1;36m[libx264 @ 0x55a73dcc4800] \u001b[0mi8 v,h,dc,ddl,ddr,vr,hd,vl,hu:  5% 38% 24%  4%  4%  4%  6%  5% 10%\n",
            "\u001b[1;36m[libx264 @ 0x55a73dcc4800] \u001b[0mi4 v,h,dc,ddl,ddr,vr,hd,vl,hu: 13% 24% 14%  7%  8%  5% 12%  5% 12%\n",
            "\u001b[1;36m[libx264 @ 0x55a73dcc4800] \u001b[0mi8c dc,h,v,p: 44% 35% 16%  6%\n",
            "\u001b[1;36m[libx264 @ 0x55a73dcc4800] \u001b[0mWeighted P-Frames: Y:0.0% UV:0.0%\n",
            "\u001b[1;36m[libx264 @ 0x55a73dcc4800] \u001b[0mkb/s:3901.96\n",
            "[PySceneDetect] Output from ffmpeg for Scene 1 shown above, splitting remaining scenes...\n",
            "100% 3253/3253 [01:42<00:00, 27.14frame/s]\n",
            "[PySceneDetect] Average processing speed 31.64 frames/sec.\n",
            "[PySceneDetect] Video splitting completed, individual scenes written to disk.\n",
            "[PySceneDetect] Output directory set:\n",
            "  /content/gdrive/My Drive/adplace/scene_videos\n",
            "[PySceneDetect] Loaded 1 video, framerate: 23.98 FPS, resolution: 1280 x 720\n",
            "[PySceneDetect] Downscale factor set to 5, effective resolution: 256 x 144\n",
            "[PySceneDetect] Scene list CSV file name format:\n",
            "  $VIDEO_NAME-Scenes.csv\n",
            "[PySceneDetect] FFmpeg codec args set: -c:v libx264 -preset veryfast -crf 22 -c:a copy\n",
            "[PySceneDetect] Video output file name format: $VIDEO_NAME-Scene-$SCENE_NUMBER\n",
            "[PySceneDetect] Detecting scenes...\n",
            "100% 3335/3335 [00:20<00:00, 160.78frames/s]\n",
            "[PySceneDetect] Processed 3335 frames in 20.7 seconds (average 160.73 FPS).\n",
            "[PySceneDetect] Detected 4 scenes, average shot length 34.8 seconds.\n",
            "[PySceneDetect] Writing scene list to CSV file:\n",
            "  /content/gdrive/My Drive/adplace/scene_videos/adplace_301-Scenes.csv\n",
            "[PySceneDetect] Scene List:\n",
            "-----------------------------------------------------------------------\n",
            " | Scene # | Start Frame |  Start Time  |  End Frame  |   End Time   |\n",
            "-----------------------------------------------------------------------\n",
            " |      1  |           0 | 00:00:00.000 |         457 | 00:00:19.061 |\n",
            " |      2  |         457 | 00:00:19.061 |        1691 | 00:01:10.529 |\n",
            " |      3  |        1691 | 00:01:10.529 |        2855 | 00:01:59.077 |\n",
            " |      4  |        2855 | 00:01:59.077 |        3335 | 00:02:19.097 |\n",
            "-----------------------------------------------------------------------\n",
            "\n",
            "[PySceneDetect] Comma-separated timecode list:\n",
            "  00:00:19.061,00:01:10.529,00:01:59.077\n",
            "[PySceneDetect] Splitting input video using ffmpeg, output path template:\n",
            "  /content/gdrive/My Drive/adplace/scene_videos/$VIDEO_NAME-Scene-$SCENE_NUMBER.mp4\n",
            "  0% 0/3335 [00:00<?, ?frame/s]ffmpeg version 3.4.6-0ubuntu0.18.04.1 Copyright (c) 2000-2019 the FFmpeg developers\n",
            "  built with gcc 7 (Ubuntu 7.3.0-16ubuntu3)\n",
            "  configuration: --prefix=/usr --extra-version=0ubuntu0.18.04.1 --toolchain=hardened --libdir=/usr/lib/x86_64-linux-gnu --incdir=/usr/include/x86_64-linux-gnu --enable-gpl --disable-stripping --enable-avresample --enable-avisynth --enable-gnutls --enable-ladspa --enable-libass --enable-libbluray --enable-libbs2b --enable-libcaca --enable-libcdio --enable-libflite --enable-libfontconfig --enable-libfreetype --enable-libfribidi --enable-libgme --enable-libgsm --enable-libmp3lame --enable-libmysofa --enable-libopenjpeg --enable-libopenmpt --enable-libopus --enable-libpulse --enable-librubberband --enable-librsvg --enable-libshine --enable-libsnappy --enable-libsoxr --enable-libspeex --enable-libssh --enable-libtheora --enable-libtwolame --enable-libvorbis --enable-libvpx --enable-libwavpack --enable-libwebp --enable-libx265 --enable-libxml2 --enable-libxvid --enable-libzmq --enable-libzvbi --enable-omx --enable-openal --enable-opengl --enable-sdl2 --enable-libdc1394 --enable-libdrm --enable-libiec61883 --enable-chromaprint --enable-frei0r --enable-libopencv --enable-libx264 --enable-shared\n",
            "  libavutil      55. 78.100 / 55. 78.100\n",
            "  libavcodec     57.107.100 / 57.107.100\n",
            "  libavformat    57. 83.100 / 57. 83.100\n",
            "  libavdevice    57. 10.100 / 57. 10.100\n",
            "  libavfilter     6.107.100 /  6.107.100\n",
            "  libavresample   3.  7.  0 /  3.  7.  0\n",
            "  libswscale      4.  8.100 /  4.  8.100\n",
            "  libswresample   2.  9.100 /  2.  9.100\n",
            "  libpostproc    54.  7.100 / 54.  7.100\n",
            "Input #0, mov,mp4,m4a,3gp,3g2,mj2, from '/content/gdrive/My Drive/adplace/full_videos/adplace_301.mp4':\n",
            "  Metadata:\n",
            "    major_brand     : mp42\n",
            "    minor_version   : 0\n",
            "    compatible_brands: isommp42\n",
            "    creation_time   : 2019-03-25T18:12:09.000000Z\n",
            "  Duration: 00:02:19.11, start: 0.000000, bitrate: 953 kb/s\n",
            "    Stream #0:0(und): Video: h264 (Main) (avc1 / 0x31637661), yuv420p(tv, bt709), 1280x720 [SAR 1:1 DAR 16:9], 822 kb/s, 23.98 fps, 23.98 tbr, 24k tbn, 47.95 tbc (default)\n",
            "    Metadata:\n",
            "      creation_time   : 2019-03-25T18:12:09.000000Z\n",
            "      handler_name    : ISO Media file produced by Google Inc. Created on: 03/25/2019.\n",
            "    Stream #0:1(eng): Audio: aac (LC) (mp4a / 0x6134706D), 44100 Hz, stereo, fltp, 127 kb/s (default)\n",
            "    Metadata:\n",
            "      creation_time   : 2019-03-25T18:12:09.000000Z\n",
            "      handler_name    : ISO Media file produced by Google Inc. Created on: 03/25/2019.\n",
            "Stream mapping:\n",
            "  Stream #0:0 -> #0:0 (h264 (native) -> h264 (libx264))\n",
            "  Stream #0:1 -> #0:1 (copy)\n",
            "Press [q] to stop, [?] for help\n",
            "\u001b[1;36m[libx264 @ 0x5637e5410800] \u001b[0musing SAR=1/1\n",
            "\u001b[1;36m[libx264 @ 0x5637e5410800] \u001b[0musing cpu capabilities: MMX2 SSE2Fast SSSE3 SSE4.2 AVX FMA3 BMI2 AVX2\n",
            "\u001b[1;36m[libx264 @ 0x5637e5410800] \u001b[0mprofile High, level 3.1\n",
            "\u001b[1;36m[libx264 @ 0x5637e5410800] \u001b[0m264 - core 152 r2854 e9a5903 - H.264/MPEG-4 AVC codec - Copyleft 2003-2017 - http://www.videolan.org/x264.html - options: cabac=1 ref=1 deblock=1:0:0 analyse=0x3:0x113 me=hex subme=2 psy=1 psy_rd=1.00:0.00 mixed_ref=0 me_range=16 chroma_me=1 trellis=0 8x8dct=1 cqm=0 deadzone=21,11 fast_pskip=1 chroma_qp_offset=0 threads=3 lookahead_threads=1 sliced_threads=0 nr=0 decimate=1 interlaced=0 bluray_compat=0 constrained_intra=0 bframes=3 b_pyramid=2 b_adapt=1 b_bias=0 direct=1 weightb=1 open_gop=0 weightp=1 keyint=250 keyint_min=23 scenecut=40 intra_refresh=0 rc_lookahead=10 rc=crf mbtree=1 crf=22.0 qcomp=0.60 qpmin=0 qpmax=69 qpstep=4 ip_ratio=1.40 aq=1:1.00\n",
            "Output #0, mp4, to '/content/gdrive/My Drive/adplace/scene_videos/adplace_301-Scene-001.mp4':\n",
            "  Metadata:\n",
            "    major_brand     : mp42\n",
            "    minor_version   : 0\n",
            "    compatible_brands: isommp42\n",
            "    encoder         : Lavf57.83.100\n",
            "    Stream #0:0(und): Video: h264 (libx264) (avc1 / 0x31637661), yuv420p, 1280x720 [SAR 1:1 DAR 16:9], q=-1--1, 23.98 fps, 24k tbn, 23.98 tbc (default)\n",
            "    Metadata:\n",
            "      creation_time   : 2019-03-25T18:12:09.000000Z\n",
            "      handler_name    : ISO Media file produced by Google Inc. Created on: 03/25/2019.\n",
            "      encoder         : Lavc57.107.100 libx264\n",
            "    Side data:\n",
            "      cpb: bitrate max/min/avg: 0/0/0 buffer size: 0 vbv_delay: -1\n",
            "    Stream #0:1(eng): Audio: aac (LC) (mp4a / 0x6134706D), 44100 Hz, stereo, fltp, 127 kb/s (default)\n",
            "    Metadata:\n",
            "      creation_time   : 2019-03-25T18:12:09.000000Z\n",
            "      handler_name    : ISO Media file produced by Google Inc. Created on: 03/25/2019.\n",
            "frame=  458 fps= 45 q=-1.0 Lsize=    3318kB time=00:00:19.04 bitrate=1427.5kbits/s speed=1.86x    \n",
            "video:3004kB audio:298kB subtitle:0kB other streams:0kB global headers:0kB muxing overhead: 0.465143%\n",
            "\u001b[1;36m[libx264 @ 0x5637e5410800] \u001b[0mframe I:4     Avg QP:15.44  size: 38455\n",
            "\u001b[1;36m[libx264 @ 0x5637e5410800] \u001b[0mframe P:140   Avg QP:19.18  size: 12856\n",
            "\u001b[1;36m[libx264 @ 0x5637e5410800] \u001b[0mframe B:314   Avg QP:22.51  size:  3573\n",
            "\u001b[1;36m[libx264 @ 0x5637e5410800] \u001b[0mconsecutive B-frames:  1.5% 12.2% 26.9% 59.4%\n",
            "\u001b[1;36m[libx264 @ 0x5637e5410800] \u001b[0mmb I  I16..4: 42.5% 24.2% 33.3%\n",
            "\u001b[1;36m[libx264 @ 0x5637e5410800] \u001b[0mmb P  I16..4:  8.8%  7.1%  1.1%  P16..4: 22.2% 12.1%  5.9%  0.0%  0.0%    skip:42.6%\n",
            "\u001b[1;36m[libx264 @ 0x5637e5410800] \u001b[0mmb B  I16..4:  1.2%  0.6%  0.0%  B16..8: 16.7%  5.2%  0.6%  direct: 3.0%  skip:72.5%  L0:39.1% L1:48.2% BI:12.7%\n",
            "\u001b[1;36m[libx264 @ 0x5637e5410800] \u001b[0m8x8 transform intra:37.9% inter:29.6%\n",
            "\u001b[1;36m[libx264 @ 0x5637e5410800] \u001b[0mcoded y,uvDC,uvAC intra: 32.0% 36.6% 6.6% inter: 6.0% 5.6% 0.1%\n",
            "\u001b[1;36m[libx264 @ 0x5637e5410800] \u001b[0mi16 v,h,dc,p: 53% 30% 13%  4%\n",
            "\u001b[1;36m[libx264 @ 0x5637e5410800] \u001b[0mi8 v,h,dc,ddl,ddr,vr,hd,vl,hu: 35% 27% 24%  2%  2%  2%  2%  3%  3%\n",
            "\u001b[1;36m[libx264 @ 0x5637e5410800] \u001b[0mi4 v,h,dc,ddl,ddr,vr,hd,vl,hu: 28% 30% 15%  4%  5%  5%  5%  4%  5%\n",
            "\u001b[1;36m[libx264 @ 0x5637e5410800] \u001b[0mi8c dc,h,v,p: 52% 22% 22%  4%\n",
            "\u001b[1;36m[libx264 @ 0x5637e5410800] \u001b[0mWeighted P-Frames: Y:0.7% UV:0.7%\n",
            "\u001b[1;36m[libx264 @ 0x5637e5410800] \u001b[0mkb/s:1288.08\n",
            "[PySceneDetect] Output from ffmpeg for Scene 1 shown above, splitting remaining scenes...\n",
            "100% 3335/3335 [01:08<00:00, 53.48frame/s]\n",
            "[PySceneDetect] Average processing speed 48.58 frames/sec.\n",
            "[PySceneDetect] Video splitting completed, individual scenes written to disk.\n",
            "[PySceneDetect] Output directory set:\n",
            "  /content/gdrive/My Drive/adplace/scene_videos\n",
            "[PySceneDetect] Loaded 1 video, framerate: 23.98 FPS, resolution: 1280 x 720\n",
            "[PySceneDetect] Downscale factor set to 5, effective resolution: 256 x 144\n",
            "[PySceneDetect] Scene list CSV file name format:\n",
            "  $VIDEO_NAME-Scenes.csv\n",
            "[PySceneDetect] FFmpeg codec args set: -c:v libx264 -preset veryfast -crf 22 -c:a copy\n",
            "[PySceneDetect] Video output file name format: $VIDEO_NAME-Scene-$SCENE_NUMBER\n",
            "[PySceneDetect] Detecting scenes...\n",
            "100% 3468/3468 [00:21<00:00, 164.94frames/s]\n",
            "[PySceneDetect] Processed 3468 frames in 21.0 seconds (average 164.92 FPS).\n",
            "[PySceneDetect] Detected 35 scenes, average shot length 4.1 seconds.\n",
            "[PySceneDetect] Writing scene list to CSV file:\n",
            "  /content/gdrive/My Drive/adplace/scene_videos/adplace_302-Scenes.csv\n",
            "[PySceneDetect] Scene List:\n",
            "-----------------------------------------------------------------------\n",
            " | Scene # | Start Frame |  Start Time  |  End Frame  |   End Time   |\n",
            "-----------------------------------------------------------------------\n",
            " |      1  |           0 | 00:00:00.000 |         105 | 00:00:04.379 |\n",
            " |      2  |         105 | 00:00:04.379 |         671 | 00:00:27.986 |\n",
            " |      3  |         671 | 00:00:27.986 |         736 | 00:00:30.697 |\n",
            " |      4  |         736 | 00:00:30.697 |         758 | 00:00:31.615 |\n",
            " |      5  |         758 | 00:00:31.615 |         787 | 00:00:32.824 |\n",
            " |      6  |         787 | 00:00:32.824 |         868 | 00:00:36.203 |\n",
            " |      7  |         868 | 00:00:36.203 |         904 | 00:00:37.704 |\n",
            " |      8  |         904 | 00:00:37.704 |         969 | 00:00:40.415 |\n",
            " |      9  |         969 | 00:00:40.415 |        1003 | 00:00:41.833 |\n",
            " |     10  |        1003 | 00:00:41.833 |        1029 | 00:00:42.918 |\n",
            " |     11  |        1029 | 00:00:42.918 |        1179 | 00:00:49.174 |\n",
            " |     12  |        1179 | 00:00:49.174 |        1195 | 00:00:49.841 |\n",
            " |     13  |        1195 | 00:00:49.841 |        1235 | 00:00:51.510 |\n",
            " |     14  |        1235 | 00:00:51.510 |        1278 | 00:00:53.303 |\n",
            " |     15  |        1278 | 00:00:53.303 |        1294 | 00:00:53.971 |\n",
            " |     16  |        1294 | 00:00:53.971 |        1315 | 00:00:54.846 |\n",
            " |     17  |        1315 | 00:00:54.846 |        1337 | 00:00:55.764 |\n",
            " |     18  |        1337 | 00:00:55.764 |        1395 | 00:00:58.183 |\n",
            " |     19  |        1395 | 00:00:58.183 |        1420 | 00:00:59.226 |\n",
            " |     20  |        1420 | 00:00:59.226 |        1437 | 00:00:59.935 |\n",
            " |     21  |        1437 | 00:00:59.935 |        1466 | 00:01:01.144 |\n",
            " |     22  |        1466 | 00:01:01.144 |        1541 | 00:01:04.273 |\n",
            " |     23  |        1541 | 00:01:04.273 |        1654 | 00:01:08.986 |\n",
            " |     24  |        1654 | 00:01:08.986 |        1685 | 00:01:10.279 |\n",
            " |     25  |        1685 | 00:01:10.279 |        1894 | 00:01:18.996 |\n",
            " |     26  |        1894 | 00:01:18.996 |        2125 | 00:01:28.630 |\n",
            " |     27  |        2125 | 00:01:28.630 |        2167 | 00:01:30.382 |\n",
            " |     28  |        2167 | 00:01:30.382 |        2185 | 00:01:31.133 |\n",
            " |     29  |        2185 | 00:01:31.133 |        2283 | 00:01:35.220 |\n",
            " |     30  |        2283 | 00:01:35.220 |        2309 | 00:01:36.305 |\n",
            " |     31  |        2309 | 00:01:36.305 |        2395 | 00:01:39.891 |\n",
            " |     32  |        2395 | 00:01:39.891 |        2491 | 00:01:43.895 |\n",
            " |     33  |        2491 | 00:01:43.895 |        2572 | 00:01:47.274 |\n",
            " |     34  |        2572 | 00:01:47.274 |        2674 | 00:01:51.528 |\n",
            " |     35  |        2674 | 00:01:51.528 |        3468 | 00:02:24.644 |\n",
            "-----------------------------------------------------------------------\n",
            "\n",
            "[PySceneDetect] Comma-separated timecode list:\n",
            "  00:00:04.379,00:00:27.986,00:00:30.697,00:00:31.615,00:00:32.824,00:00:36.203,00:00:37.704,00:00:40.415,00:00:41.833,00:00:42.918,00:00:49.174,00:00:49.841,00:00:51.510,00:00:53.303,00:00:53.971,00:00:54.846,00:00:55.764,00:00:58.183,00:00:59.226,00:00:59.935,00:01:01.144,00:01:04.273,00:01:08.986,00:01:10.279,00:01:18.996,00:01:28.630,00:01:30.382,00:01:31.133,00:01:35.220,00:01:36.305,00:01:39.891,00:01:43.895,00:01:47.274,00:01:51.528\n",
            "[PySceneDetect] Splitting input video using ffmpeg, output path template:\n",
            "  /content/gdrive/My Drive/adplace/scene_videos/$VIDEO_NAME-Scene-$SCENE_NUMBER.mp4\n",
            "  0% 0/3468 [00:00<?, ?frame/s]ffmpeg version 3.4.6-0ubuntu0.18.04.1 Copyright (c) 2000-2019 the FFmpeg developers\n",
            "  built with gcc 7 (Ubuntu 7.3.0-16ubuntu3)\n",
            "  configuration: --prefix=/usr --extra-version=0ubuntu0.18.04.1 --toolchain=hardened --libdir=/usr/lib/x86_64-linux-gnu --incdir=/usr/include/x86_64-linux-gnu --enable-gpl --disable-stripping --enable-avresample --enable-avisynth --enable-gnutls --enable-ladspa --enable-libass --enable-libbluray --enable-libbs2b --enable-libcaca --enable-libcdio --enable-libflite --enable-libfontconfig --enable-libfreetype --enable-libfribidi --enable-libgme --enable-libgsm --enable-libmp3lame --enable-libmysofa --enable-libopenjpeg --enable-libopenmpt --enable-libopus --enable-libpulse --enable-librubberband --enable-librsvg --enable-libshine --enable-libsnappy --enable-libsoxr --enable-libspeex --enable-libssh --enable-libtheora --enable-libtwolame --enable-libvorbis --enable-libvpx --enable-libwavpack --enable-libwebp --enable-libx265 --enable-libxml2 --enable-libxvid --enable-libzmq --enable-libzvbi --enable-omx --enable-openal --enable-opengl --enable-sdl2 --enable-libdc1394 --enable-libdrm --enable-libiec61883 --enable-chromaprint --enable-frei0r --enable-libopencv --enable-libx264 --enable-shared\n",
            "  libavutil      55. 78.100 / 55. 78.100\n",
            "  libavcodec     57.107.100 / 57.107.100\n",
            "  libavformat    57. 83.100 / 57. 83.100\n",
            "  libavdevice    57. 10.100 / 57. 10.100\n",
            "  libavfilter     6.107.100 /  6.107.100\n",
            "  libavresample   3.  7.  0 /  3.  7.  0\n",
            "  libswscale      4.  8.100 /  4.  8.100\n",
            "  libswresample   2.  9.100 /  2.  9.100\n",
            "  libpostproc    54.  7.100 / 54.  7.100\n",
            "Input #0, mov,mp4,m4a,3gp,3g2,mj2, from '/content/gdrive/My Drive/adplace/full_videos/adplace_302.mp4':\n",
            "  Metadata:\n",
            "    major_brand     : mp42\n",
            "    minor_version   : 0\n",
            "    compatible_brands: isommp42\n",
            "    creation_time   : 2018-08-05T01:50:12.000000Z\n",
            "  Duration: 00:02:24.66, start: 0.000000, bitrate: 856 kb/s\n",
            "    Stream #0:0(und): Video: h264 (Main) (avc1 / 0x31637661), yuv420p(tv, bt709), 1280x720 [SAR 1:1 DAR 16:9], 726 kb/s, 23.98 fps, 23.98 tbr, 90k tbn, 47.95 tbc (default)\n",
            "    Metadata:\n",
            "      creation_time   : 2018-08-05T01:50:12.000000Z\n",
            "      handler_name    : ISO Media file produced by Google Inc. Created on: 08/04/2018.\n",
            "    Stream #0:1(eng): Audio: aac (LC) (mp4a / 0x6134706D), 44100 Hz, stereo, fltp, 125 kb/s (default)\n",
            "    Metadata:\n",
            "      creation_time   : 2018-08-05T01:50:12.000000Z\n",
            "      handler_name    : ISO Media file produced by Google Inc. Created on: 08/04/2018.\n",
            "Stream mapping:\n",
            "  Stream #0:0 -> #0:0 (h264 (native) -> h264 (libx264))\n",
            "  Stream #0:1 -> #0:1 (copy)\n",
            "Press [q] to stop, [?] for help\n",
            "\u001b[1;36m[libx264 @ 0x55f674568800] \u001b[0musing SAR=1/1\n",
            "\u001b[1;36m[libx264 @ 0x55f674568800] \u001b[0musing cpu capabilities: MMX2 SSE2Fast SSSE3 SSE4.2 AVX FMA3 BMI2 AVX2\n",
            "\u001b[1;36m[libx264 @ 0x55f674568800] \u001b[0mprofile High, level 3.1\n",
            "\u001b[1;36m[libx264 @ 0x55f674568800] \u001b[0m264 - core 152 r2854 e9a5903 - H.264/MPEG-4 AVC codec - Copyleft 2003-2017 - http://www.videolan.org/x264.html - options: cabac=1 ref=1 deblock=1:0:0 analyse=0x3:0x113 me=hex subme=2 psy=1 psy_rd=1.00:0.00 mixed_ref=0 me_range=16 chroma_me=1 trellis=0 8x8dct=1 cqm=0 deadzone=21,11 fast_pskip=1 chroma_qp_offset=0 threads=3 lookahead_threads=1 sliced_threads=0 nr=0 decimate=1 interlaced=0 bluray_compat=0 constrained_intra=0 bframes=3 b_pyramid=2 b_adapt=1 b_bias=0 direct=1 weightb=1 open_gop=0 weightp=1 keyint=250 keyint_min=23 scenecut=40 intra_refresh=0 rc_lookahead=10 rc=crf mbtree=1 crf=22.0 qcomp=0.60 qpmin=0 qpmax=69 qpstep=4 ip_ratio=1.40 aq=1:1.00\n",
            "Output #0, mp4, to '/content/gdrive/My Drive/adplace/scene_videos/adplace_302-Scene-001.mp4':\n",
            "  Metadata:\n",
            "    major_brand     : mp42\n",
            "    minor_version   : 0\n",
            "    compatible_brands: isommp42\n",
            "    encoder         : Lavf57.83.100\n",
            "    Stream #0:0(und): Video: h264 (libx264) (avc1 / 0x31637661), yuv420p, 1280x720 [SAR 1:1 DAR 16:9], q=-1--1, 23.98 fps, 24k tbn, 23.98 tbc (default)\n",
            "    Metadata:\n",
            "      creation_time   : 2018-08-05T01:50:12.000000Z\n",
            "      handler_name    : ISO Media file produced by Google Inc. Created on: 08/04/2018.\n",
            "      encoder         : Lavc57.107.100 libx264\n",
            "    Side data:\n",
            "      cpb: bitrate max/min/avg: 0/0/0 buffer size: 0 vbv_delay: -1\n",
            "    Stream #0:1(eng): Audio: aac (LC) (mp4a / 0x6134706D), 44100 Hz, stereo, fltp, 125 kb/s (default)\n",
            "    Metadata:\n",
            "      creation_time   : 2018-08-05T01:50:12.000000Z\n",
            "      handler_name    : ISO Media file produced by Google Inc. Created on: 08/04/2018.\n",
            "frame=  105 fps= 72 q=-1.0 Lsize=     320kB time=00:00:04.36 bitrate= 601.0kbits/s speed=2.99x    \n",
            "video:248kB audio:68kB subtitle:0kB other streams:0kB global headers:0kB muxing overhead: 1.447778%\n",
            "\u001b[1;36m[libx264 @ 0x55f674568800] \u001b[0mframe I:2     Avg QP:19.28  size: 61504\n",
            "\u001b[1;36m[libx264 @ 0x55f674568800] \u001b[0mframe P:29    Avg QP:22.04  size:  3481\n",
            "\u001b[1;36m[libx264 @ 0x55f674568800] \u001b[0mframe B:74    Avg QP:25.47  size:   390\n",
            "\u001b[1;36m[libx264 @ 0x55f674568800] \u001b[0mconsecutive B-frames:  2.9%  3.8% 17.1% 76.2%\n",
            "\u001b[1;36m[libx264 @ 0x55f674568800] \u001b[0mmb I  I16..4:  7.2% 27.4% 65.4%\n",
            "\u001b[1;36m[libx264 @ 0x55f674568800] \u001b[0mmb P  I16..4:  0.6%  0.3%  0.1%  P16..4: 21.0%  8.3%  3.8%  0.0%  0.0%    skip:65.9%\n",
            "\u001b[1;36m[libx264 @ 0x55f674568800] \u001b[0mmb B  I16..4:  0.0%  0.0%  0.0%  B16..8:  4.0%  0.7%  0.1%  direct: 0.6%  skip:94.5%  L0:47.7% L1:40.9% BI:11.3%\n",
            "\u001b[1;36m[libx264 @ 0x55f674568800] \u001b[0m8x8 transform intra:27.3% inter:45.7%\n",
            "\u001b[1;36m[libx264 @ 0x55f674568800] \u001b[0mcoded y,uvDC,uvAC intra: 81.2% 67.2% 24.1% inter: 1.2% 1.5% 0.0%\n",
            "\u001b[1;36m[libx264 @ 0x55f674568800] \u001b[0mi16 v,h,dc,p: 33% 49%  9%  9%\n",
            "\u001b[1;36m[libx264 @ 0x55f674568800] \u001b[0mi8 v,h,dc,ddl,ddr,vr,hd,vl,hu: 38% 36%  9%  2%  2%  3%  3%  3%  4%\n",
            "\u001b[1;36m[libx264 @ 0x55f674568800] \u001b[0mi4 v,h,dc,ddl,ddr,vr,hd,vl,hu: 35% 31%  6%  4%  4%  5%  6%  4%  6%\n",
            "\u001b[1;36m[libx264 @ 0x55f674568800] \u001b[0mi8c dc,h,v,p: 28% 31% 31% 10%\n",
            "\u001b[1;36m[libx264 @ 0x55f674568800] \u001b[0mWeighted P-Frames: Y:3.4% UV:0.0%\n",
            "\u001b[1;36m[libx264 @ 0x55f674568800] \u001b[0mkb/s:461.83\n",
            "[PySceneDetect] Output from ffmpeg for Scene 1 shown above, splitting remaining scenes...\n",
            "100% 3468/3468 [01:21<00:00, 47.78frame/s]\n",
            "[PySceneDetect] Average processing speed 42.32 frames/sec.\n",
            "[PySceneDetect] Video splitting completed, individual scenes written to disk.\n",
            "[PySceneDetect] Output directory set:\n",
            "  /content/gdrive/My Drive/adplace/scene_videos\n",
            "[PySceneDetect] Loaded 1 video, framerate: 23.98 FPS, resolution: 1280 x 720\n",
            "[PySceneDetect] Downscale factor set to 5, effective resolution: 256 x 144\n",
            "[PySceneDetect] Scene list CSV file name format:\n",
            "  $VIDEO_NAME-Scenes.csv\n",
            "[PySceneDetect] FFmpeg codec args set: -c:v libx264 -preset veryfast -crf 22 -c:a copy\n",
            "[PySceneDetect] Video output file name format: $VIDEO_NAME-Scene-$SCENE_NUMBER\n",
            "[PySceneDetect] Detecting scenes...\n",
            "100% 3794/3794 [00:21<00:00, 174.50frames/s]\n",
            "[PySceneDetect] Processed 3794 frames in 21.7 seconds (average 174.48 FPS).\n",
            "[PySceneDetect] Detected 20 scenes, average shot length 7.9 seconds.\n",
            "[PySceneDetect] Writing scene list to CSV file:\n",
            "  /content/gdrive/My Drive/adplace/scene_videos/adplace_303-Scenes.csv\n",
            "[PySceneDetect] Scene List:\n",
            "-----------------------------------------------------------------------\n",
            " | Scene # | Start Frame |  Start Time  |  End Frame  |   End Time   |\n",
            "-----------------------------------------------------------------------\n",
            " |      1  |           0 | 00:00:00.000 |           1 | 00:00:00.042 |\n",
            " |      2  |           1 | 00:00:00.042 |        1010 | 00:00:42.125 |\n",
            " |      3  |        1010 | 00:00:42.125 |        1502 | 00:01:02.646 |\n",
            " |      4  |        1502 | 00:01:02.646 |        1531 | 00:01:03.855 |\n",
            " |      5  |        1531 | 00:01:03.855 |        1546 | 00:01:04.481 |\n",
            " |      6  |        1546 | 00:01:04.481 |        1606 | 00:01:06.984 |\n",
            " |      7  |        1606 | 00:01:06.984 |        1637 | 00:01:08.277 |\n",
            " |      8  |        1637 | 00:01:08.277 |        1701 | 00:01:10.946 |\n",
            " |      9  |        1701 | 00:01:10.946 |        2515 | 00:01:44.896 |\n",
            " |     10  |        2515 | 00:01:44.896 |        2531 | 00:01:45.564 |\n",
            " |     11  |        2531 | 00:01:45.564 |        2547 | 00:01:46.231 |\n",
            " |     12  |        2547 | 00:01:46.231 |        2575 | 00:01:47.399 |\n",
            " |     13  |        2575 | 00:01:47.399 |        2590 | 00:01:48.025 |\n",
            " |     14  |        2590 | 00:01:48.025 |        2610 | 00:01:48.859 |\n",
            " |     15  |        2610 | 00:01:48.859 |        2630 | 00:01:49.693 |\n",
            " |     16  |        2630 | 00:01:49.693 |        2701 | 00:01:52.654 |\n",
            " |     17  |        2701 | 00:01:52.654 |        3273 | 00:02:16.511 |\n",
            " |     18  |        3273 | 00:02:16.511 |        3327 | 00:02:18.764 |\n",
            " |     19  |        3327 | 00:02:18.764 |        3434 | 00:02:23.226 |\n",
            " |     20  |        3434 | 00:02:23.226 |        3794 | 00:02:38.241 |\n",
            "-----------------------------------------------------------------------\n",
            "\n",
            "[PySceneDetect] Comma-separated timecode list:\n",
            "  00:00:00.042,00:00:42.125,00:01:02.646,00:01:03.855,00:01:04.481,00:01:06.984,00:01:08.277,00:01:10.946,00:01:44.896,00:01:45.564,00:01:46.231,00:01:47.399,00:01:48.025,00:01:48.859,00:01:49.693,00:01:52.654,00:02:16.511,00:02:18.764,00:02:23.226\n",
            "[PySceneDetect] Splitting input video using ffmpeg, output path template:\n",
            "  /content/gdrive/My Drive/adplace/scene_videos/$VIDEO_NAME-Scene-$SCENE_NUMBER.mp4\n",
            "  0% 0/3794 [00:00<?, ?frame/s]ffmpeg version 3.4.6-0ubuntu0.18.04.1 Copyright (c) 2000-2019 the FFmpeg developers\n",
            "  built with gcc 7 (Ubuntu 7.3.0-16ubuntu3)\n",
            "  configuration: --prefix=/usr --extra-version=0ubuntu0.18.04.1 --toolchain=hardened --libdir=/usr/lib/x86_64-linux-gnu --incdir=/usr/include/x86_64-linux-gnu --enable-gpl --disable-stripping --enable-avresample --enable-avisynth --enable-gnutls --enable-ladspa --enable-libass --enable-libbluray --enable-libbs2b --enable-libcaca --enable-libcdio --enable-libflite --enable-libfontconfig --enable-libfreetype --enable-libfribidi --enable-libgme --enable-libgsm --enable-libmp3lame --enable-libmysofa --enable-libopenjpeg --enable-libopenmpt --enable-libopus --enable-libpulse --enable-librubberband --enable-librsvg --enable-libshine --enable-libsnappy --enable-libsoxr --enable-libspeex --enable-libssh --enable-libtheora --enable-libtwolame --enable-libvorbis --enable-libvpx --enable-libwavpack --enable-libwebp --enable-libx265 --enable-libxml2 --enable-libxvid --enable-libzmq --enable-libzvbi --enable-omx --enable-openal --enable-opengl --enable-sdl2 --enable-libdc1394 --enable-libdrm --enable-libiec61883 --enable-chromaprint --enable-frei0r --enable-libopencv --enable-libx264 --enable-shared\n",
            "  libavutil      55. 78.100 / 55. 78.100\n",
            "  libavcodec     57.107.100 / 57.107.100\n",
            "  libavformat    57. 83.100 / 57. 83.100\n",
            "  libavdevice    57. 10.100 / 57. 10.100\n",
            "  libavfilter     6.107.100 /  6.107.100\n",
            "  libavresample   3.  7.  0 /  3.  7.  0\n",
            "  libswscale      4.  8.100 /  4.  8.100\n",
            "  libswresample   2.  9.100 /  2.  9.100\n",
            "  libpostproc    54.  7.100 / 54.  7.100\n",
            "Input #0, mov,mp4,m4a,3gp,3g2,mj2, from '/content/gdrive/My Drive/adplace/full_videos/adplace_303.mp4':\n",
            "  Metadata:\n",
            "    major_brand     : mp42\n",
            "    minor_version   : 0\n",
            "    compatible_brands: isommp42\n",
            "    creation_time   : 2018-12-14T17:07:59.000000Z\n",
            "  Duration: 00:02:38.24, start: 0.000000, bitrate: 510 kb/s\n",
            "    Stream #0:0(und): Video: h264 (Main) (avc1 / 0x31637661), yuv420p(tv, bt709), 1280x720 [SAR 1:1 DAR 16:9], 378 kb/s, 23.98 fps, 23.98 tbr, 24k tbn, 47.95 tbc (default)\n",
            "    Metadata:\n",
            "      creation_time   : 2018-12-14T17:07:59.000000Z\n",
            "      handler_name    : ISO Media file produced by Google Inc. Created on: 12/14/2018.\n",
            "    Stream #0:1(und): Audio: aac (LC) (mp4a / 0x6134706D), 44100 Hz, stereo, fltp, 128 kb/s (default)\n",
            "    Metadata:\n",
            "      creation_time   : 2018-12-14T17:07:59.000000Z\n",
            "      handler_name    : ISO Media file produced by Google Inc. Created on: 12/14/2018.\n",
            "Stream mapping:\n",
            "  Stream #0:0 -> #0:0 (h264 (native) -> h264 (libx264))\n",
            "  Stream #0:1 -> #0:1 (copy)\n",
            "Press [q] to stop, [?] for help\n",
            "\u001b[1;36m[libx264 @ 0x5596523fa800] \u001b[0musing SAR=1/1\n",
            "\u001b[1;36m[libx264 @ 0x5596523fa800] \u001b[0musing cpu capabilities: MMX2 SSE2Fast SSSE3 SSE4.2 AVX FMA3 BMI2 AVX2\n",
            "\u001b[1;36m[libx264 @ 0x5596523fa800] \u001b[0mprofile High, level 3.1\n",
            "\u001b[1;36m[libx264 @ 0x5596523fa800] \u001b[0m264 - core 152 r2854 e9a5903 - H.264/MPEG-4 AVC codec - Copyleft 2003-2017 - http://www.videolan.org/x264.html - options: cabac=1 ref=1 deblock=1:0:0 analyse=0x3:0x113 me=hex subme=2 psy=1 psy_rd=1.00:0.00 mixed_ref=0 me_range=16 chroma_me=1 trellis=0 8x8dct=1 cqm=0 deadzone=21,11 fast_pskip=1 chroma_qp_offset=0 threads=3 lookahead_threads=1 sliced_threads=0 nr=0 decimate=1 interlaced=0 bluray_compat=0 constrained_intra=0 bframes=3 b_pyramid=2 b_adapt=1 b_bias=0 direct=1 weightb=1 open_gop=0 weightp=1 keyint=250 keyint_min=23 scenecut=40 intra_refresh=0 rc_lookahead=10 rc=crf mbtree=1 crf=22.0 qcomp=0.60 qpmin=0 qpmax=69 qpstep=4 ip_ratio=1.40 aq=1:1.00\n",
            "Output #0, mp4, to '/content/gdrive/My Drive/adplace/scene_videos/adplace_303-Scene-001.mp4':\n",
            "  Metadata:\n",
            "    major_brand     : mp42\n",
            "    minor_version   : 0\n",
            "    compatible_brands: isommp42\n",
            "    encoder         : Lavf57.83.100\n",
            "    Stream #0:0(und): Video: h264 (libx264) (avc1 / 0x31637661), yuv420p, 1280x720 [SAR 1:1 DAR 16:9], q=-1--1, 23.98 fps, 24k tbn, 23.98 tbc (default)\n",
            "    Metadata:\n",
            "      creation_time   : 2018-12-14T17:07:59.000000Z\n",
            "      handler_name    : ISO Media file produced by Google Inc. Created on: 12/14/2018.\n",
            "      encoder         : Lavc57.107.100 libx264\n",
            "    Side data:\n",
            "      cpb: bitrate max/min/avg: 0/0/0 buffer size: 0 vbv_delay: -1\n",
            "    Stream #0:1(und): Audio: aac (LC) (mp4a / 0x6134706D), 44100 Hz, stereo, fltp, 128 kb/s (default)\n",
            "    Metadata:\n",
            "      creation_time   : 2018-12-14T17:07:59.000000Z\n",
            "      handler_name    : ISO Media file produced by Google Inc. Created on: 12/14/2018.\n",
            "frame=    2 fps=0.0 q=-1.0 Lsize=      16kB time=00:00:00.04 bitrate=3051.3kbits/s speed=0.494x    \n",
            "video:13kB audio:1kB subtitle:0kB other streams:0kB global headers:0kB muxing overhead: 9.684529%\n",
            "\u001b[1;36m[libx264 @ 0x5596523fa800] \u001b[0mframe I:1     Avg QP:11.00  size:   220\n",
            "\u001b[1;36m[libx264 @ 0x5596523fa800] \u001b[0mframe P:1     Avg QP:19.23  size: 12867\n",
            "\u001b[1;36m[libx264 @ 0x5596523fa800] \u001b[0mmb I  I16..4: 100.0%  0.0%  0.0%\n",
            "\u001b[1;36m[libx264 @ 0x5596523fa800] \u001b[0mmb P  I16..4: 51.4% 37.0%  6.5%  P16..4:  0.0%  0.0%  0.0%  0.0%  0.0%    skip: 5.0%\n",
            "\u001b[1;36m[libx264 @ 0x5596523fa800] \u001b[0m8x8 transform intra:19.0% inter:100.0%\n",
            "\u001b[1;36m[libx264 @ 0x5596523fa800] \u001b[0mcoded y,uvDC,uvAC intra: 12.8% 15.7% 1.6% inter: 0.3% 0.6% 0.0%\n",
            "\u001b[1;36m[libx264 @ 0x5596523fa800] \u001b[0mi16 v,h,dc,p: 79% 10%  7%  5%\n",
            "\u001b[1;36m[libx264 @ 0x5596523fa800] \u001b[0mi8 v,h,dc,ddl,ddr,vr,hd,vl,hu: 31% 31% 19%  4%  2%  2%  3%  5%  3%\n",
            "\u001b[1;36m[libx264 @ 0x5596523fa800] \u001b[0mi4 v,h,dc,ddl,ddr,vr,hd,vl,hu: 29% 26% 15%  6%  5%  8%  4%  5%  2%\n",
            "\u001b[1;36m[libx264 @ 0x5596523fa800] \u001b[0mi8c dc,h,v,p: 73% 15%  9%  3%\n",
            "\u001b[1;36m[libx264 @ 0x5596523fa800] \u001b[0mWeighted P-Frames: Y:0.0% UV:0.0%\n",
            "\u001b[1;36m[libx264 @ 0x5596523fa800] \u001b[0mkb/s:1255.10\n",
            "[PySceneDetect] Output from ffmpeg for Scene 1 shown above, splitting remaining scenes...\n",
            "100% 3794/3794 [01:19<00:00, 42.14frame/s]\n",
            "[PySceneDetect] Average processing speed 48.00 frames/sec.\n",
            "[PySceneDetect] Video splitting completed, individual scenes written to disk.\n",
            "[PySceneDetect] Output directory set:\n",
            "  /content/gdrive/My Drive/adplace/scene_videos\n",
            "[PySceneDetect] Loaded 1 video, framerate: 24.00 FPS, resolution: 1280 x 720\n",
            "[PySceneDetect] Downscale factor set to 5, effective resolution: 256 x 144\n",
            "[PySceneDetect] Scene list CSV file name format:\n",
            "  $VIDEO_NAME-Scenes.csv\n",
            "[PySceneDetect] FFmpeg codec args set: -c:v libx264 -preset veryfast -crf 22 -c:a copy\n",
            "[PySceneDetect] Video output file name format: $VIDEO_NAME-Scene-$SCENE_NUMBER\n",
            "[PySceneDetect] Detecting scenes...\n",
            "100% 5519/5519 [00:32<00:00, 167.78frames/s]\n",
            "[PySceneDetect] Processed 5519 frames in 32.9 seconds (average 167.69 FPS).\n",
            "[PySceneDetect] No scenes detected.\n",
            "[PySceneDetect] Writing scene list to CSV file:\n",
            "  /content/gdrive/My Drive/adplace/scene_videos/adplace_304-Scenes.csv\n",
            "[PySceneDetect] Scene List:\n",
            "-----------------------------------------------------------------------\n",
            " | Scene # | Start Frame |  Start Time  |  End Frame  |   End Time   |\n",
            "-----------------------------------------------------------------------\n",
            "\n",
            "-----------------------------------------------------------------------\n",
            "\n",
            "[PySceneDetect] Splitting input video using ffmpeg, output path template:\n",
            "  /content/gdrive/My Drive/adplace/scene_videos/$VIDEO_NAME-Scene-$SCENE_NUMBER.mp4\n",
            "Traceback (most recent call last):\n",
            "  File \"/usr/local/lib/python3.6/dist-packages/click/core.py\", line 727, in main\n",
            "    ctx.exit()\n",
            "  File \"/usr/local/lib/python3.6/dist-packages/click/core.py\", line 504, in exit\n",
            "    raise Exit(code)\n",
            "click.exceptions.Exit: 0\n",
            "\n",
            "During handling of the above exception, another exception occurred:\n",
            "\n",
            "Traceback (most recent call last):\n",
            "  File \"/usr/local/bin/scenedetect\", line 10, in <module>\n",
            "    sys.exit(main())\n",
            "  File \"/usr/local/lib/python3.6/dist-packages/scenedetect/__main__.py\", line 58, in main\n",
            "    cli.main(obj=cli_ctx)   # Parse CLI arguments with registered callbacks.\n",
            "  File \"/usr/local/lib/python3.6/dist-packages/click/core.py\", line 727, in main\n",
            "    ctx.exit()\n",
            "  File \"/usr/local/lib/python3.6/dist-packages/click/core.py\", line 351, in __exit__\n",
            "    self.close()\n",
            "  File \"/usr/local/lib/python3.6/dist-packages/click/core.py\", line 440, in close\n",
            "    cb()\n",
            "  File \"/usr/local/lib/python3.6/dist-packages/scenedetect/cli/context.py\", line 436, in process_input\n",
            "    suppress_output=self.quiet_mode or self.split_quiet)\n",
            "  File \"/usr/local/lib/python3.6/dist-packages/scenedetect/video_splitter.py\", line 201, in split_video_ffmpeg\n",
            "    scene_num_format += str(max(3, math.floor(math.log(len(scene_list), 10)) + 1)) + 'd'\n",
            "ValueError: math domain error\n",
            "[PySceneDetect] Output directory set:\n",
            "  /content/gdrive/My Drive/adplace/scene_videos\n",
            "[PySceneDetect] Loaded 1 video, framerate: 23.98 FPS, resolution: 1280 x 720\n",
            "[PySceneDetect] Downscale factor set to 5, effective resolution: 256 x 144\n",
            "[PySceneDetect] Scene list CSV file name format:\n",
            "  $VIDEO_NAME-Scenes.csv\n",
            "[PySceneDetect] FFmpeg codec args set: -c:v libx264 -preset veryfast -crf 22 -c:a copy\n",
            "[PySceneDetect] Video output file name format: $VIDEO_NAME-Scene-$SCENE_NUMBER\n",
            "[PySceneDetect] Detecting scenes...\n",
            "100% 4973/4973 [00:30<00:00, 162.08frames/s]\n",
            "[PySceneDetect] Processed 4973 frames in 30.7 seconds (average 162.06 FPS).\n",
            "[PySceneDetect] Detected 2 scenes, average shot length 103.7 seconds.\n",
            "[PySceneDetect] Writing scene list to CSV file:\n",
            "  /content/gdrive/My Drive/adplace/scene_videos/adplace_305-Scenes.csv\n",
            "[PySceneDetect] Scene List:\n",
            "-----------------------------------------------------------------------\n",
            " | Scene # | Start Frame |  Start Time  |  End Frame  |   End Time   |\n",
            "-----------------------------------------------------------------------\n",
            " |      1  |           0 | 00:00:00.000 |        4299 | 00:02:59.304 |\n",
            " |      2  |        4299 | 00:02:59.304 |        4973 | 00:03:27.416 |\n",
            "-----------------------------------------------------------------------\n",
            "\n",
            "[PySceneDetect] Comma-separated timecode list:\n",
            "  00:02:59.304\n",
            "[PySceneDetect] Splitting input video using ffmpeg, output path template:\n",
            "  /content/gdrive/My Drive/adplace/scene_videos/$VIDEO_NAME-Scene-$SCENE_NUMBER.mp4\n",
            "  0% 0/4973 [00:00<?, ?frame/s]ffmpeg version 3.4.6-0ubuntu0.18.04.1 Copyright (c) 2000-2019 the FFmpeg developers\n",
            "  built with gcc 7 (Ubuntu 7.3.0-16ubuntu3)\n",
            "  configuration: --prefix=/usr --extra-version=0ubuntu0.18.04.1 --toolchain=hardened --libdir=/usr/lib/x86_64-linux-gnu --incdir=/usr/include/x86_64-linux-gnu --enable-gpl --disable-stripping --enable-avresample --enable-avisynth --enable-gnutls --enable-ladspa --enable-libass --enable-libbluray --enable-libbs2b --enable-libcaca --enable-libcdio --enable-libflite --enable-libfontconfig --enable-libfreetype --enable-libfribidi --enable-libgme --enable-libgsm --enable-libmp3lame --enable-libmysofa --enable-libopenjpeg --enable-libopenmpt --enable-libopus --enable-libpulse --enable-librubberband --enable-librsvg --enable-libshine --enable-libsnappy --enable-libsoxr --enable-libspeex --enable-libssh --enable-libtheora --enable-libtwolame --enable-libvorbis --enable-libvpx --enable-libwavpack --enable-libwebp --enable-libx265 --enable-libxml2 --enable-libxvid --enable-libzmq --enable-libzvbi --enable-omx --enable-openal --enable-opengl --enable-sdl2 --enable-libdc1394 --enable-libdrm --enable-libiec61883 --enable-chromaprint --enable-frei0r --enable-libopencv --enable-libx264 --enable-shared\n",
            "  libavutil      55. 78.100 / 55. 78.100\n",
            "  libavcodec     57.107.100 / 57.107.100\n",
            "  libavformat    57. 83.100 / 57. 83.100\n",
            "  libavdevice    57. 10.100 / 57. 10.100\n",
            "  libavfilter     6.107.100 /  6.107.100\n",
            "  libavresample   3.  7.  0 /  3.  7.  0\n",
            "  libswscale      4.  8.100 /  4.  8.100\n",
            "  libswresample   2.  9.100 /  2.  9.100\n",
            "  libpostproc    54.  7.100 / 54.  7.100\n",
            "Input #0, mov,mp4,m4a,3gp,3g2,mj2, from '/content/gdrive/My Drive/adplace/full_videos/adplace_305.mp4':\n",
            "  Metadata:\n",
            "    major_brand     : mp42\n",
            "    minor_version   : 0\n",
            "    compatible_brands: isommp42\n",
            "    creation_time   : 2018-10-29T23:43:01.000000Z\n",
            "  Duration: 00:03:27.42, start: 0.000000, bitrate: 834 kb/s\n",
            "    Stream #0:0(und): Video: h264 (Main) (avc1 / 0x31637661), yuv420p(tv, bt709), 1280x720 [SAR 1:1 DAR 16:9], 704 kb/s, 23.98 fps, 23.98 tbr, 90k tbn, 47.95 tbc (default)\n",
            "    Metadata:\n",
            "      creation_time   : 2018-10-29T23:43:01.000000Z\n",
            "      handler_name    : ISO Media file produced by Google Inc. Created on: 10/29/2018.\n",
            "    Stream #0:1(eng): Audio: aac (LC) (mp4a / 0x6134706D), 44100 Hz, stereo, fltp, 125 kb/s (default)\n",
            "    Metadata:\n",
            "      creation_time   : 2018-10-29T23:43:01.000000Z\n",
            "      handler_name    : ISO Media file produced by Google Inc. Created on: 10/29/2018.\n",
            "Stream mapping:\n",
            "  Stream #0:0 -> #0:0 (h264 (native) -> h264 (libx264))\n",
            "  Stream #0:1 -> #0:1 (copy)\n",
            "Press [q] to stop, [?] for help\n",
            "\u001b[1;36m[libx264 @ 0x55adeee76800] \u001b[0musing SAR=1/1\n",
            "\u001b[1;36m[libx264 @ 0x55adeee76800] \u001b[0musing cpu capabilities: MMX2 SSE2Fast SSSE3 SSE4.2 AVX FMA3 BMI2 AVX2\n",
            "\u001b[1;36m[libx264 @ 0x55adeee76800] \u001b[0mprofile High, level 3.1\n",
            "\u001b[1;36m[libx264 @ 0x55adeee76800] \u001b[0m264 - core 152 r2854 e9a5903 - H.264/MPEG-4 AVC codec - Copyleft 2003-2017 - http://www.videolan.org/x264.html - options: cabac=1 ref=1 deblock=1:0:0 analyse=0x3:0x113 me=hex subme=2 psy=1 psy_rd=1.00:0.00 mixed_ref=0 me_range=16 chroma_me=1 trellis=0 8x8dct=1 cqm=0 deadzone=21,11 fast_pskip=1 chroma_qp_offset=0 threads=3 lookahead_threads=1 sliced_threads=0 nr=0 decimate=1 interlaced=0 bluray_compat=0 constrained_intra=0 bframes=3 b_pyramid=2 b_adapt=1 b_bias=0 direct=1 weightb=1 open_gop=0 weightp=1 keyint=250 keyint_min=23 scenecut=40 intra_refresh=0 rc_lookahead=10 rc=crf mbtree=1 crf=22.0 qcomp=0.60 qpmin=0 qpmax=69 qpstep=4 ip_ratio=1.40 aq=1:1.00\n",
            "Output #0, mp4, to '/content/gdrive/My Drive/adplace/scene_videos/adplace_305-Scene-001.mp4':\n",
            "  Metadata:\n",
            "    major_brand     : mp42\n",
            "    minor_version   : 0\n",
            "    compatible_brands: isommp42\n",
            "    encoder         : Lavf57.83.100\n",
            "    Stream #0:0(und): Video: h264 (libx264) (avc1 / 0x31637661), yuv420p, 1280x720 [SAR 1:1 DAR 16:9], q=-1--1, 23.98 fps, 24k tbn, 23.98 tbc (default)\n",
            "    Metadata:\n",
            "      creation_time   : 2018-10-29T23:43:01.000000Z\n",
            "      handler_name    : ISO Media file produced by Google Inc. Created on: 10/29/2018.\n",
            "      encoder         : Lavc57.107.100 libx264\n",
            "    Side data:\n",
            "      cpb: bitrate max/min/avg: 0/0/0 buffer size: 0 vbv_delay: -1\n",
            "    Stream #0:1(eng): Audio: aac (LC) (mp4a / 0x6134706D), 44100 Hz, stereo, fltp, 125 kb/s (default)\n",
            "    Metadata:\n",
            "      creation_time   : 2018-10-29T23:43:01.000000Z\n",
            "      handler_name    : ISO Media file produced by Google Inc. Created on: 10/29/2018.\n",
            "frame= 4299 fps= 48 q=-1.0 Lsize=   24658kB time=00:02:59.28 bitrate=1126.7kbits/s speed=1.99x    \n",
            "video:21777kB audio:2749kB subtitle:0kB other streams:0kB global headers:0kB muxing overhead: 0.537038%\n",
            "\u001b[1;36m[libx264 @ 0x55adeee76800] \u001b[0mframe I:22    Avg QP:16.22  size: 42410\n",
            "\u001b[1;36m[libx264 @ 0x55adeee76800] \u001b[0mframe P:1506  Avg QP:18.88  size: 10047\n",
            "\u001b[1;36m[libx264 @ 0x55adeee76800] \u001b[0mframe B:2771  Avg QP:21.47  size:  2250\n",
            "\u001b[1;36m[libx264 @ 0x55adeee76800] \u001b[0mconsecutive B-frames:  2.2% 23.7% 35.4% 38.7%\n",
            "\u001b[1;36m[libx264 @ 0x55adeee76800] \u001b[0mmb I  I16..4: 33.7% 30.2% 36.1%\n",
            "\u001b[1;36m[libx264 @ 0x55adeee76800] \u001b[0mmb P  I16..4:  9.4%  7.3%  0.7%  P16..4: 23.4% 11.4%  5.3%  0.0%  0.0%    skip:42.4%\n",
            "\u001b[1;36m[libx264 @ 0x55adeee76800] \u001b[0mmb B  I16..4:  1.0%  0.6%  0.0%  B16..8: 13.3%  3.3%  0.3%  direct: 2.4%  skip:79.0%  L0:36.4% L1:53.0% BI:10.6%\n",
            "\u001b[1;36m[libx264 @ 0x55adeee76800] \u001b[0m8x8 transform intra:40.7% inter:37.9%\n",
            "\u001b[1;36m[libx264 @ 0x55adeee76800] \u001b[0mcoded y,uvDC,uvAC intra: 29.7% 32.2% 5.5% inter: 4.6% 4.5% 0.0%\n",
            "\u001b[1;36m[libx264 @ 0x55adeee76800] \u001b[0mi16 v,h,dc,p: 49% 31% 14%  5%\n",
            "\u001b[1;36m[libx264 @ 0x55adeee76800] \u001b[0mi8 v,h,dc,ddl,ddr,vr,hd,vl,hu: 30% 31% 24%  2%  2%  2%  2%  2%  3%\n",
            "\u001b[1;36m[libx264 @ 0x55adeee76800] \u001b[0mi4 v,h,dc,ddl,ddr,vr,hd,vl,hu: 28% 29% 15%  4%  5%  5%  5%  4%  5%\n",
            "\u001b[1;36m[libx264 @ 0x55adeee76800] \u001b[0mi8c dc,h,v,p: 52% 28% 17%  3%\n",
            "\u001b[1;36m[libx264 @ 0x55adeee76800] \u001b[0mWeighted P-Frames: Y:0.1% UV:0.0%\n",
            "\u001b[1;36m[libx264 @ 0x55adeee76800] \u001b[0mkb/s:994.91\n",
            "[PySceneDetect] Output from ffmpeg for Scene 1 shown above, splitting remaining scenes...\n",
            "100% 4973/4973 [01:40<00:00, 52.40frame/s]\n",
            "[PySceneDetect] Average processing speed 49.71 frames/sec.\n",
            "[PySceneDetect] Video splitting completed, individual scenes written to disk.\n",
            "[PySceneDetect] Output directory set:\n",
            "  /content/gdrive/My Drive/adplace/scene_videos\n",
            "[PySceneDetect] Loaded 1 video, framerate: 23.98 FPS, resolution: 640 x 260\n",
            "[PySceneDetect] Downscale factor set to 3, effective resolution: 213 x 86\n",
            "[PySceneDetect] Scene list CSV file name format:\n",
            "  $VIDEO_NAME-Scenes.csv\n",
            "[PySceneDetect] FFmpeg codec args set: -c:v libx264 -preset veryfast -crf 22 -c:a copy\n",
            "[PySceneDetect] Video output file name format: $VIDEO_NAME-Scene-$SCENE_NUMBER\n",
            "[PySceneDetect] Detecting scenes...\n",
            "100% 3915/3915 [00:06<00:00, 631.57frames/s]\n",
            "[PySceneDetect] Processed 3915 frames in 6.2 seconds (average 631.35 FPS).\n",
            "[PySceneDetect] Detected 6 scenes, average shot length 27.2 seconds.\n",
            "[PySceneDetect] Writing scene list to CSV file:\n",
            "  /content/gdrive/My Drive/adplace/scene_videos/adplace_306-Scenes.csv\n",
            "[PySceneDetect] Scene List:\n",
            "-----------------------------------------------------------------------\n",
            " | Scene # | Start Frame |  Start Time  |  End Frame  |   End Time   |\n",
            "-----------------------------------------------------------------------\n",
            " |      1  |           0 | 00:00:00.000 |        2895 | 00:02:00.746 |\n",
            " |      2  |        2895 | 00:02:00.746 |        3214 | 00:02:14.050 |\n",
            " |      3  |        3214 | 00:02:14.050 |        3288 | 00:02:17.137 |\n",
            " |      4  |        3288 | 00:02:17.137 |        3562 | 00:02:28.565 |\n",
            " |      5  |        3562 | 00:02:28.565 |        3618 | 00:02:30.901 |\n",
            " |      6  |        3618 | 00:02:30.901 |        3915 | 00:02:43.288 |\n",
            "-----------------------------------------------------------------------\n",
            "\n",
            "[PySceneDetect] Comma-separated timecode list:\n",
            "  00:02:00.746,00:02:14.050,00:02:17.137,00:02:28.565,00:02:30.901\n",
            "[PySceneDetect] Splitting input video using ffmpeg, output path template:\n",
            "  /content/gdrive/My Drive/adplace/scene_videos/$VIDEO_NAME-Scene-$SCENE_NUMBER.mp4\n",
            "  0% 0/3915 [00:00<?, ?frame/s]ffmpeg version 3.4.6-0ubuntu0.18.04.1 Copyright (c) 2000-2019 the FFmpeg developers\n",
            "  built with gcc 7 (Ubuntu 7.3.0-16ubuntu3)\n",
            "  configuration: --prefix=/usr --extra-version=0ubuntu0.18.04.1 --toolchain=hardened --libdir=/usr/lib/x86_64-linux-gnu --incdir=/usr/include/x86_64-linux-gnu --enable-gpl --disable-stripping --enable-avresample --enable-avisynth --enable-gnutls --enable-ladspa --enable-libass --enable-libbluray --enable-libbs2b --enable-libcaca --enable-libcdio --enable-libflite --enable-libfontconfig --enable-libfreetype --enable-libfribidi --enable-libgme --enable-libgsm --enable-libmp3lame --enable-libmysofa --enable-libopenjpeg --enable-libopenmpt --enable-libopus --enable-libpulse --enable-librubberband --enable-librsvg --enable-libshine --enable-libsnappy --enable-libsoxr --enable-libspeex --enable-libssh --enable-libtheora --enable-libtwolame --enable-libvorbis --enable-libvpx --enable-libwavpack --enable-libwebp --enable-libx265 --enable-libxml2 --enable-libxvid --enable-libzmq --enable-libzvbi --enable-omx --enable-openal --enable-opengl --enable-sdl2 --enable-libdc1394 --enable-libdrm --enable-libiec61883 --enable-chromaprint --enable-frei0r --enable-libopencv --enable-libx264 --enable-shared\n",
            "  libavutil      55. 78.100 / 55. 78.100\n",
            "  libavcodec     57.107.100 / 57.107.100\n",
            "  libavformat    57. 83.100 / 57. 83.100\n",
            "  libavdevice    57. 10.100 / 57. 10.100\n",
            "  libavfilter     6.107.100 /  6.107.100\n",
            "  libavresample   3.  7.  0 /  3.  7.  0\n",
            "  libswscale      4.  8.100 /  4.  8.100\n",
            "  libswresample   2.  9.100 /  2.  9.100\n",
            "  libpostproc    54.  7.100 / 54.  7.100\n",
            "Input #0, mov,mp4,m4a,3gp,3g2,mj2, from '/content/gdrive/My Drive/adplace/full_videos/adplace_306.mp4':\n",
            "  Metadata:\n",
            "    major_brand     : mp42\n",
            "    minor_version   : 0\n",
            "    compatible_brands: isommp42\n",
            "    creation_time   : 2019-02-24T07:38:16.000000Z\n",
            "  Duration: 00:02:43.47, start: 0.000000, bitrate: 371 kb/s\n",
            "    Stream #0:0(und): Video: h264 (Constrained Baseline) (avc1 / 0x31637661), yuv420p, 640x260 [SAR 1:1 DAR 32:13], 273 kb/s, 23.98 fps, 23.98 tbr, 24k tbn, 47.95 tbc (default)\n",
            "    Metadata:\n",
            "      creation_time   : 2019-02-24T07:38:16.000000Z\n",
            "      handler_name    : ISO Media file produced by Google Inc. Created on: 02/23/2019.\n",
            "    Stream #0:1(und): Audio: aac (LC) (mp4a / 0x6134706D), 44100 Hz, stereo, fltp, 96 kb/s (default)\n",
            "    Metadata:\n",
            "      creation_time   : 2019-02-24T07:38:16.000000Z\n",
            "      handler_name    : ISO Media file produced by Google Inc. Created on: 02/23/2019.\n",
            "Stream mapping:\n",
            "  Stream #0:0 -> #0:0 (h264 (native) -> h264 (libx264))\n",
            "  Stream #0:1 -> #0:1 (copy)\n",
            "Press [q] to stop, [?] for help\n",
            "\u001b[1;36m[libx264 @ 0x559d289e2800] \u001b[0musing SAR=1/1\n",
            "\u001b[1;36m[libx264 @ 0x559d289e2800] \u001b[0musing cpu capabilities: MMX2 SSE2Fast SSSE3 SSE4.2 AVX FMA3 BMI2 AVX2\n",
            "\u001b[1;36m[libx264 @ 0x559d289e2800] \u001b[0mprofile High, level 2.1\n",
            "\u001b[1;36m[libx264 @ 0x559d289e2800] \u001b[0m264 - core 152 r2854 e9a5903 - H.264/MPEG-4 AVC codec - Copyleft 2003-2017 - http://www.videolan.org/x264.html - options: cabac=1 ref=1 deblock=1:0:0 analyse=0x3:0x113 me=hex subme=2 psy=1 psy_rd=1.00:0.00 mixed_ref=0 me_range=16 chroma_me=1 trellis=0 8x8dct=1 cqm=0 deadzone=21,11 fast_pskip=1 chroma_qp_offset=0 threads=3 lookahead_threads=1 sliced_threads=0 nr=0 decimate=1 interlaced=0 bluray_compat=0 constrained_intra=0 bframes=3 b_pyramid=2 b_adapt=1 b_bias=0 direct=1 weightb=1 open_gop=0 weightp=1 keyint=250 keyint_min=23 scenecut=40 intra_refresh=0 rc_lookahead=10 rc=crf mbtree=1 crf=22.0 qcomp=0.60 qpmin=0 qpmax=69 qpstep=4 ip_ratio=1.40 aq=1:1.00\n",
            "Output #0, mp4, to '/content/gdrive/My Drive/adplace/scene_videos/adplace_306-Scene-001.mp4':\n",
            "  Metadata:\n",
            "    major_brand     : mp42\n",
            "    minor_version   : 0\n",
            "    compatible_brands: isommp42\n",
            "    encoder         : Lavf57.83.100\n",
            "    Stream #0:0(und): Video: h264 (libx264) (avc1 / 0x31637661), yuv420p, 640x260 [SAR 1:1 DAR 32:13], q=-1--1, 23.98 fps, 24k tbn, 23.98 tbc (default)\n",
            "    Metadata:\n",
            "      creation_time   : 2019-02-24T07:38:16.000000Z\n",
            "      handler_name    : ISO Media file produced by Google Inc. Created on: 02/23/2019.\n",
            "      encoder         : Lavc57.107.100 libx264\n",
            "    Side data:\n",
            "      cpb: bitrate max/min/avg: 0/0/0 buffer size: 0 vbv_delay: -1\n",
            "    Stream #0:1(und): Audio: aac (LC) (mp4a / 0x6134706D), 44100 Hz, stereo, fltp, 96 kb/s (default)\n",
            "    Metadata:\n",
            "      creation_time   : 2019-02-24T07:38:16.000000Z\n",
            "      handler_name    : ISO Media file produced by Google Inc. Created on: 02/23/2019.\n",
            "frame= 2896 fps=246 q=-1.0 Lsize=    4809kB time=00:02:00.74 bitrate= 326.2kbits/s speed=10.3x    \n",
            "video:3306kB audio:1416kB subtitle:0kB other streams:0kB global headers:0kB muxing overhead: 1.842244%\n",
            "\u001b[1;36m[libx264 @ 0x559d289e2800] \u001b[0mframe I:58    Avg QP:15.84  size:  7208\n",
            "\u001b[1;36m[libx264 @ 0x559d289e2800] \u001b[0mframe P:1326  Avg QP:20.43  size:  1743\n",
            "\u001b[1;36m[libx264 @ 0x559d289e2800] \u001b[0mframe B:1512  Avg QP:22.04  size:   434\n",
            "\u001b[1;36m[libx264 @ 0x559d289e2800] \u001b[0mconsecutive B-frames: 26.1%  8.6% 12.5% 52.8%\n",
            "\u001b[1;36m[libx264 @ 0x559d289e2800] \u001b[0mmb I  I16..4: 22.6% 36.9% 40.4%\n",
            "\u001b[1;36m[libx264 @ 0x559d289e2800] \u001b[0mmb P  I16..4:  5.8%  5.7%  0.4%  P16..4: 32.9% 14.4%  5.5%  0.0%  0.0%    skip:35.4%\n",
            "\u001b[1;36m[libx264 @ 0x559d289e2800] \u001b[0mmb B  I16..4:  0.7%  0.4%  0.0%  B16..8: 11.9%  3.4%  0.2%  direct: 4.4%  skip:79.0%  L0:46.4% L1:41.7% BI:11.9%\n",
            "\u001b[1;36m[libx264 @ 0x559d289e2800] \u001b[0m8x8 transform intra:44.2% inter:33.4%\n",
            "\u001b[1;36m[libx264 @ 0x559d289e2800] \u001b[0mcoded y,uvDC,uvAC intra: 35.6% 49.5% 8.0% inter: 4.1% 10.4% 0.0%\n",
            "\u001b[1;36m[libx264 @ 0x559d289e2800] \u001b[0mi16 v,h,dc,p: 49% 26% 18%  6%\n",
            "\u001b[1;36m[libx264 @ 0x559d289e2800] \u001b[0mi8 v,h,dc,ddl,ddr,vr,hd,vl,hu: 43% 22% 24%  1%  1%  2%  2%  2%  2%\n",
            "\u001b[1;36m[libx264 @ 0x559d289e2800] \u001b[0mi4 v,h,dc,ddl,ddr,vr,hd,vl,hu: 36% 21% 11%  5%  6%  6%  5%  6%  4%\n",
            "\u001b[1;36m[libx264 @ 0x559d289e2800] \u001b[0mi8c dc,h,v,p: 55% 17% 24%  4%\n",
            "\u001b[1;36m[libx264 @ 0x559d289e2800] \u001b[0mWeighted P-Frames: Y:0.1% UV:0.0%\n",
            "\u001b[1;36m[libx264 @ 0x559d289e2800] \u001b[0mkb/s:224.16\n",
            "[PySceneDetect] Output from ffmpeg for Scene 1 shown above, splitting remaining scenes...\n",
            "100% 3915/3915 [00:17<00:00, 184.36frame/s]\n",
            "[PySceneDetect] Average processing speed 226.73 frames/sec.\n",
            "[PySceneDetect] Video splitting completed, individual scenes written to disk.\n",
            "[PySceneDetect] Output directory set:\n",
            "  /content/gdrive/My Drive/adplace/scene_videos\n",
            "[PySceneDetect] Loaded 1 video, framerate: 29.97 FPS, resolution: 640 x 360\n",
            "[PySceneDetect] Downscale factor set to 3, effective resolution: 213 x 120\n",
            "[PySceneDetect] Scene list CSV file name format:\n",
            "  $VIDEO_NAME-Scenes.csv\n",
            "[PySceneDetect] FFmpeg codec args set: -c:v libx264 -preset veryfast -crf 22 -c:a copy\n",
            "[PySceneDetect] Video output file name format: $VIDEO_NAME-Scene-$SCENE_NUMBER\n",
            "[PySceneDetect] Detecting scenes...\n",
            "100% 4064/4064 [00:07<00:00, 512.36frames/s]\n",
            "[PySceneDetect] Processed 4064 frames in 7.9 seconds (average 512.23 FPS).\n",
            "[PySceneDetect] No scenes detected.\n",
            "[PySceneDetect] Writing scene list to CSV file:\n",
            "  /content/gdrive/My Drive/adplace/scene_videos/adplace_307-Scenes.csv\n",
            "[PySceneDetect] Scene List:\n",
            "-----------------------------------------------------------------------\n",
            " | Scene # | Start Frame |  Start Time  |  End Frame  |   End Time   |\n",
            "-----------------------------------------------------------------------\n",
            "\n",
            "-----------------------------------------------------------------------\n",
            "\n",
            "[PySceneDetect] Splitting input video using ffmpeg, output path template:\n",
            "  /content/gdrive/My Drive/adplace/scene_videos/$VIDEO_NAME-Scene-$SCENE_NUMBER.mp4\n",
            "Traceback (most recent call last):\n",
            "  File \"/usr/local/lib/python3.6/dist-packages/click/core.py\", line 727, in main\n",
            "    ctx.exit()\n",
            "  File \"/usr/local/lib/python3.6/dist-packages/click/core.py\", line 504, in exit\n",
            "    raise Exit(code)\n",
            "click.exceptions.Exit: 0\n",
            "\n",
            "During handling of the above exception, another exception occurred:\n",
            "\n",
            "Traceback (most recent call last):\n",
            "  File \"/usr/local/bin/scenedetect\", line 10, in <module>\n",
            "    sys.exit(main())\n",
            "  File \"/usr/local/lib/python3.6/dist-packages/scenedetect/__main__.py\", line 58, in main\n",
            "    cli.main(obj=cli_ctx)   # Parse CLI arguments with registered callbacks.\n",
            "  File \"/usr/local/lib/python3.6/dist-packages/click/core.py\", line 727, in main\n",
            "    ctx.exit()\n",
            "  File \"/usr/local/lib/python3.6/dist-packages/click/core.py\", line 351, in __exit__\n",
            "    self.close()\n",
            "  File \"/usr/local/lib/python3.6/dist-packages/click/core.py\", line 440, in close\n",
            "    cb()\n",
            "  File \"/usr/local/lib/python3.6/dist-packages/scenedetect/cli/context.py\", line 436, in process_input\n",
            "    suppress_output=self.quiet_mode or self.split_quiet)\n",
            "  File \"/usr/local/lib/python3.6/dist-packages/scenedetect/video_splitter.py\", line 201, in split_video_ffmpeg\n",
            "    scene_num_format += str(max(3, math.floor(math.log(len(scene_list), 10)) + 1)) + 'd'\n",
            "ValueError: math domain error\n",
            "[PySceneDetect] Output directory set:\n",
            "  /content/gdrive/My Drive/adplace/scene_videos\n",
            "[PySceneDetect] Loaded 1 video, framerate: 23.98 FPS, resolution: 636 x 360\n",
            "[PySceneDetect] Downscale factor set to 3, effective resolution: 212 x 120\n",
            "[PySceneDetect] Scene list CSV file name format:\n",
            "  $VIDEO_NAME-Scenes.csv\n",
            "[PySceneDetect] FFmpeg codec args set: -c:v libx264 -preset veryfast -crf 22 -c:a copy\n",
            "[PySceneDetect] Video output file name format: $VIDEO_NAME-Scene-$SCENE_NUMBER\n",
            "[PySceneDetect] Detecting scenes...\n",
            "100% 2719/2719 [00:05<00:00, 466.03frames/s]\n",
            "[PySceneDetect] Processed 2719 frames in 5.8 seconds (average 465.87 FPS).\n",
            "[PySceneDetect] Detected 6 scenes, average shot length 18.9 seconds.\n",
            "[PySceneDetect] Writing scene list to CSV file:\n",
            "  /content/gdrive/My Drive/adplace/scene_videos/adplace_308-Scenes.csv\n",
            "[PySceneDetect] Scene List:\n",
            "-----------------------------------------------------------------------\n",
            " | Scene # | Start Frame |  Start Time  |  End Frame  |   End Time   |\n",
            "-----------------------------------------------------------------------\n",
            " |      1  |           0 | 00:00:00.000 |           3 | 00:00:00.125 |\n",
            " |      2  |           3 | 00:00:00.125 |         151 | 00:00:06.298 |\n",
            " |      3  |         151 | 00:00:06.298 |         668 | 00:00:27.861 |\n",
            " |      4  |         668 | 00:00:27.861 |        2482 | 00:01:43.519 |\n",
            " |      5  |        2482 | 00:01:43.519 |        2702 | 00:01:52.695 |\n",
            " |      6  |        2702 | 00:01:52.695 |        2719 | 00:01:53.404 |\n",
            "-----------------------------------------------------------------------\n",
            "\n",
            "[PySceneDetect] Comma-separated timecode list:\n",
            "  00:00:00.125,00:00:06.298,00:00:27.861,00:01:43.519,00:01:52.695\n",
            "[PySceneDetect] Splitting input video using ffmpeg, output path template:\n",
            "  /content/gdrive/My Drive/adplace/scene_videos/$VIDEO_NAME-Scene-$SCENE_NUMBER.mp4\n",
            "  0% 0/2719 [00:00<?, ?frame/s]ffmpeg version 3.4.6-0ubuntu0.18.04.1 Copyright (c) 2000-2019 the FFmpeg developers\n",
            "  built with gcc 7 (Ubuntu 7.3.0-16ubuntu3)\n",
            "  configuration: --prefix=/usr --extra-version=0ubuntu0.18.04.1 --toolchain=hardened --libdir=/usr/lib/x86_64-linux-gnu --incdir=/usr/include/x86_64-linux-gnu --enable-gpl --disable-stripping --enable-avresample --enable-avisynth --enable-gnutls --enable-ladspa --enable-libass --enable-libbluray --enable-libbs2b --enable-libcaca --enable-libcdio --enable-libflite --enable-libfontconfig --enable-libfreetype --enable-libfribidi --enable-libgme --enable-libgsm --enable-libmp3lame --enable-libmysofa --enable-libopenjpeg --enable-libopenmpt --enable-libopus --enable-libpulse --enable-librubberband --enable-librsvg --enable-libshine --enable-libsnappy --enable-libsoxr --enable-libspeex --enable-libssh --enable-libtheora --enable-libtwolame --enable-libvorbis --enable-libvpx --enable-libwavpack --enable-libwebp --enable-libx265 --enable-libxml2 --enable-libxvid --enable-libzmq --enable-libzvbi --enable-omx --enable-openal --enable-opengl --enable-sdl2 --enable-libdc1394 --enable-libdrm --enable-libiec61883 --enable-chromaprint --enable-frei0r --enable-libopencv --enable-libx264 --enable-shared\n",
            "  libavutil      55. 78.100 / 55. 78.100\n",
            "  libavcodec     57.107.100 / 57.107.100\n",
            "  libavformat    57. 83.100 / 57. 83.100\n",
            "  libavdevice    57. 10.100 / 57. 10.100\n",
            "  libavfilter     6.107.100 /  6.107.100\n",
            "  libavresample   3.  7.  0 /  3.  7.  0\n",
            "  libswscale      4.  8.100 /  4.  8.100\n",
            "  libswresample   2.  9.100 /  2.  9.100\n",
            "  libpostproc    54.  7.100 / 54.  7.100\n",
            "Input #0, mov,mp4,m4a,3gp,3g2,mj2, from '/content/gdrive/My Drive/adplace/full_videos/adplace_308.mp4':\n",
            "  Metadata:\n",
            "    major_brand     : mp42\n",
            "    minor_version   : 0\n",
            "    compatible_brands: isommp42\n",
            "    creation_time   : 2018-10-27T08:33:20.000000Z\n",
            "  Duration: 00:01:53.45, start: 0.000000, bitrate: 540 kb/s\n",
            "    Stream #0:0(und): Video: h264 (Constrained Baseline) (avc1 / 0x31637661), yuv420p(tv, bt709), 636x360 [SAR 1:1 DAR 53:30], 442 kb/s, 23.98 fps, 23.98 tbr, 24k tbn, 47.95 tbc (default)\n",
            "    Metadata:\n",
            "      creation_time   : 2018-10-27T08:33:20.000000Z\n",
            "      handler_name    : ISO Media file produced by Google Inc. Created on: 10/27/2018.\n",
            "    Stream #0:1(und): Audio: aac (LC) (mp4a / 0x6134706D), 44100 Hz, stereo, fltp, 95 kb/s (default)\n",
            "    Metadata:\n",
            "      creation_time   : 2018-10-27T08:33:20.000000Z\n",
            "      handler_name    : ISO Media file produced by Google Inc. Created on: 10/27/2018.\n",
            "Stream mapping:\n",
            "  Stream #0:0 -> #0:0 (h264 (native) -> h264 (libx264))\n",
            "  Stream #0:1 -> #0:1 (copy)\n",
            "Press [q] to stop, [?] for help\n",
            "\u001b[1;36m[libx264 @ 0x557ca1904800] \u001b[0musing SAR=1/1\n",
            "\u001b[1;36m[libx264 @ 0x557ca1904800] \u001b[0musing cpu capabilities: MMX2 SSE2Fast SSSE3 SSE4.2 AVX FMA3 BMI2 AVX2\n",
            "\u001b[1;36m[libx264 @ 0x557ca1904800] \u001b[0mprofile High, level 3.0\n",
            "\u001b[1;36m[libx264 @ 0x557ca1904800] \u001b[0m264 - core 152 r2854 e9a5903 - H.264/MPEG-4 AVC codec - Copyleft 2003-2017 - http://www.videolan.org/x264.html - options: cabac=1 ref=1 deblock=1:0:0 analyse=0x3:0x113 me=hex subme=2 psy=1 psy_rd=1.00:0.00 mixed_ref=0 me_range=16 chroma_me=1 trellis=0 8x8dct=1 cqm=0 deadzone=21,11 fast_pskip=1 chroma_qp_offset=0 threads=3 lookahead_threads=1 sliced_threads=0 nr=0 decimate=1 interlaced=0 bluray_compat=0 constrained_intra=0 bframes=3 b_pyramid=2 b_adapt=1 b_bias=0 direct=1 weightb=1 open_gop=0 weightp=1 keyint=250 keyint_min=23 scenecut=40 intra_refresh=0 rc_lookahead=10 rc=crf mbtree=1 crf=22.0 qcomp=0.60 qpmin=0 qpmax=69 qpstep=4 ip_ratio=1.40 aq=1:1.00\n",
            "Output #0, mp4, to '/content/gdrive/My Drive/adplace/scene_videos/adplace_308-Scene-001.mp4':\n",
            "  Metadata:\n",
            "    major_brand     : mp42\n",
            "    minor_version   : 0\n",
            "    compatible_brands: isommp42\n",
            "    encoder         : Lavf57.83.100\n",
            "    Stream #0:0(und): Video: h264 (libx264) (avc1 / 0x31637661), yuv420p, 636x360 [SAR 1:1 DAR 53:30], q=-1--1, 23.98 fps, 24k tbn, 23.98 tbc (default)\n",
            "    Metadata:\n",
            "      creation_time   : 2018-10-27T08:33:20.000000Z\n",
            "      handler_name    : ISO Media file produced by Google Inc. Created on: 10/27/2018.\n",
            "      encoder         : Lavc57.107.100 libx264\n",
            "    Side data:\n",
            "      cpb: bitrate max/min/avg: 0/0/0 buffer size: 0 vbv_delay: -1\n",
            "    Stream #0:1(und): Audio: aac (LC) (mp4a / 0x6134706D), 44100 Hz, stereo, fltp, 95 kb/s (default)\n",
            "    Metadata:\n",
            "      creation_time   : 2018-10-27T08:33:20.000000Z\n",
            "      handler_name    : ISO Media file produced by Google Inc. Created on: 10/27/2018.\n",
            "frame=    3 fps=0.0 q=-1.0 Lsize=       5kB time=00:00:00.11 bitrate= 386.8kbits/s speed=3.44x    \n",
            "video:2kB audio:2kB subtitle:0kB other streams:0kB global headers:0kB muxing overhead: 35.244518%\n",
            "\u001b[1;36m[libx264 @ 0x557ca1904800] \u001b[0mframe I:1     Avg QP: 9.84  size:   510\n",
            "\u001b[1;36m[libx264 @ 0x557ca1904800] \u001b[0mframe P:1     Avg QP:13.16  size:   815\n",
            "\u001b[1;36m[libx264 @ 0x557ca1904800] \u001b[0mframe B:1     Avg QP:12.26  size:   333\n",
            "\u001b[1;36m[libx264 @ 0x557ca1904800] \u001b[0mconsecutive B-frames: 33.3% 66.7%  0.0%  0.0%\n",
            "\u001b[1;36m[libx264 @ 0x557ca1904800] \u001b[0mmb I  I16..4: 91.5%  8.4%  0.1%\n",
            "\u001b[1;36m[libx264 @ 0x557ca1904800] \u001b[0mmb P  I16..4: 61.7% 10.2%  0.0%  P16..4:  3.8%  0.3%  0.0%  0.0%  0.0%    skip:23.9%\n",
            "\u001b[1;36m[libx264 @ 0x557ca1904800] \u001b[0mmb B  I16..4:  1.6%  0.5%  0.0%  B16..8: 10.3%  0.3%  0.0%  direct:17.6%  skip:69.6%  L0:89.8% L1: 5.1% BI: 5.1%\n",
            "\u001b[1;36m[libx264 @ 0x557ca1904800] \u001b[0m8x8 transform intra:11.0% inter:86.7%\n",
            "\u001b[1;36m[libx264 @ 0x557ca1904800] \u001b[0mcoded y,uvDC,uvAC intra: 3.5% 3.0% 0.0% inter: 0.8% 15.7% 0.0%\n",
            "\u001b[1;36m[libx264 @ 0x557ca1904800] \u001b[0mi16 v,h,dc,p: 87%  8%  3%  1%\n",
            "\u001b[1;36m[libx264 @ 0x557ca1904800] \u001b[0mi8 v,h,dc,ddl,ddr,vr,hd,vl,hu: 30% 16% 53%  0%  0%  0%  0%  0%  0%\n",
            "\u001b[1;36m[libx264 @ 0x557ca1904800] \u001b[0mi4 v,h,dc,ddl,ddr,vr,hd,vl,hu:  0%  0% 100%  0%  0%  0%  0%  0%  0%\n",
            "\u001b[1;36m[libx264 @ 0x557ca1904800] \u001b[0mi8c dc,h,v,p: 92%  2%  6%  0%\n",
            "\u001b[1;36m[libx264 @ 0x557ca1904800] \u001b[0mWeighted P-Frames: Y:0.0% UV:0.0%\n",
            "\u001b[1;36m[libx264 @ 0x557ca1904800] \u001b[0mkb/s:106.01\n",
            "[PySceneDetect] Output from ffmpeg for Scene 1 shown above, splitting remaining scenes...\n",
            "100% 2719/2719 [00:17<00:00, 74.95frame/s]\n",
            "[PySceneDetect] Average processing speed 151.92 frames/sec.\n",
            "[PySceneDetect] Video splitting completed, individual scenes written to disk.\n",
            "[PySceneDetect] Output directory set:\n",
            "  /content/gdrive/My Drive/adplace/scene_videos\n",
            "[PySceneDetect] Loaded 1 video, framerate: 23.98 FPS, resolution: 1280 x 720\n",
            "[PySceneDetect] Downscale factor set to 5, effective resolution: 256 x 144\n",
            "[PySceneDetect] Scene list CSV file name format:\n",
            "  $VIDEO_NAME-Scenes.csv\n",
            "[PySceneDetect] FFmpeg codec args set: -c:v libx264 -preset veryfast -crf 22 -c:a copy\n",
            "[PySceneDetect] Video output file name format: $VIDEO_NAME-Scene-$SCENE_NUMBER\n",
            "[PySceneDetect] Detecting scenes...\n",
            "100% 3228/3228 [00:19<00:00, 161.58frames/s]\n",
            "[PySceneDetect] Processed 3228 frames in 20.0 seconds (average 161.56 FPS).\n",
            "[PySceneDetect] No scenes detected.\n",
            "[PySceneDetect] Writing scene list to CSV file:\n",
            "  /content/gdrive/My Drive/adplace/scene_videos/adplace_309-Scenes.csv\n",
            "[PySceneDetect] Scene List:\n",
            "-----------------------------------------------------------------------\n",
            " | Scene # | Start Frame |  Start Time  |  End Frame  |   End Time   |\n",
            "-----------------------------------------------------------------------\n",
            "\n",
            "-----------------------------------------------------------------------\n",
            "\n",
            "[PySceneDetect] Splitting input video using ffmpeg, output path template:\n",
            "  /content/gdrive/My Drive/adplace/scene_videos/$VIDEO_NAME-Scene-$SCENE_NUMBER.mp4\n",
            "Traceback (most recent call last):\n",
            "  File \"/usr/local/lib/python3.6/dist-packages/click/core.py\", line 727, in main\n",
            "    ctx.exit()\n",
            "  File \"/usr/local/lib/python3.6/dist-packages/click/core.py\", line 504, in exit\n",
            "    raise Exit(code)\n",
            "click.exceptions.Exit: 0\n",
            "\n",
            "During handling of the above exception, another exception occurred:\n",
            "\n",
            "Traceback (most recent call last):\n",
            "  File \"/usr/local/bin/scenedetect\", line 10, in <module>\n",
            "    sys.exit(main())\n",
            "  File \"/usr/local/lib/python3.6/dist-packages/scenedetect/__main__.py\", line 58, in main\n",
            "    cli.main(obj=cli_ctx)   # Parse CLI arguments with registered callbacks.\n",
            "  File \"/usr/local/lib/python3.6/dist-packages/click/core.py\", line 727, in main\n",
            "    ctx.exit()\n",
            "  File \"/usr/local/lib/python3.6/dist-packages/click/core.py\", line 351, in __exit__\n",
            "    self.close()\n",
            "  File \"/usr/local/lib/python3.6/dist-packages/click/core.py\", line 440, in close\n",
            "    cb()\n",
            "  File \"/usr/local/lib/python3.6/dist-packages/scenedetect/cli/context.py\", line 436, in process_input\n",
            "    suppress_output=self.quiet_mode or self.split_quiet)\n",
            "  File \"/usr/local/lib/python3.6/dist-packages/scenedetect/video_splitter.py\", line 201, in split_video_ffmpeg\n",
            "    scene_num_format += str(max(3, math.floor(math.log(len(scene_list), 10)) + 1)) + 'd'\n",
            "ValueError: math domain error\n",
            "[PySceneDetect] Output directory set:\n",
            "  /content/gdrive/My Drive/adplace/scene_videos\n",
            "[PySceneDetect] Loaded 1 video, framerate: 29.97 FPS, resolution: 1280 x 720\n",
            "[PySceneDetect] Downscale factor set to 5, effective resolution: 256 x 144\n",
            "[PySceneDetect] Scene list CSV file name format:\n",
            "  $VIDEO_NAME-Scenes.csv\n",
            "[PySceneDetect] FFmpeg codec args set: -c:v libx264 -preset veryfast -crf 22 -c:a copy\n",
            "[PySceneDetect] Video output file name format: $VIDEO_NAME-Scene-$SCENE_NUMBER\n",
            "[PySceneDetect] Detecting scenes...\n",
            "100% 8160/8160 [00:47<00:00, 170.33frames/s]\n",
            "[PySceneDetect] Processed 8160 frames in 47.9 seconds (average 170.32 FPS).\n",
            "[PySceneDetect] No scenes detected.\n",
            "[PySceneDetect] Writing scene list to CSV file:\n",
            "  /content/gdrive/My Drive/adplace/scene_videos/adplace_310-Scenes.csv\n",
            "[PySceneDetect] Scene List:\n",
            "-----------------------------------------------------------------------\n",
            " | Scene # | Start Frame |  Start Time  |  End Frame  |   End Time   |\n",
            "-----------------------------------------------------------------------\n",
            "\n",
            "-----------------------------------------------------------------------\n",
            "\n",
            "[PySceneDetect] Splitting input video using ffmpeg, output path template:\n",
            "  /content/gdrive/My Drive/adplace/scene_videos/$VIDEO_NAME-Scene-$SCENE_NUMBER.mp4\n",
            "Traceback (most recent call last):\n",
            "  File \"/usr/local/lib/python3.6/dist-packages/click/core.py\", line 727, in main\n",
            "    ctx.exit()\n",
            "  File \"/usr/local/lib/python3.6/dist-packages/click/core.py\", line 504, in exit\n",
            "    raise Exit(code)\n",
            "click.exceptions.Exit: 0\n",
            "\n",
            "During handling of the above exception, another exception occurred:\n",
            "\n",
            "Traceback (most recent call last):\n",
            "  File \"/usr/local/bin/scenedetect\", line 10, in <module>\n",
            "    sys.exit(main())\n",
            "  File \"/usr/local/lib/python3.6/dist-packages/scenedetect/__main__.py\", line 58, in main\n",
            "    cli.main(obj=cli_ctx)   # Parse CLI arguments with registered callbacks.\n",
            "  File \"/usr/local/lib/python3.6/dist-packages/click/core.py\", line 727, in main\n",
            "    ctx.exit()\n",
            "  File \"/usr/local/lib/python3.6/dist-packages/click/core.py\", line 351, in __exit__\n",
            "    self.close()\n",
            "  File \"/usr/local/lib/python3.6/dist-packages/click/core.py\", line 440, in close\n",
            "    cb()\n",
            "  File \"/usr/local/lib/python3.6/dist-packages/scenedetect/cli/context.py\", line 436, in process_input\n",
            "    suppress_output=self.quiet_mode or self.split_quiet)\n",
            "  File \"/usr/local/lib/python3.6/dist-packages/scenedetect/video_splitter.py\", line 201, in split_video_ffmpeg\n",
            "    scene_num_format += str(max(3, math.floor(math.log(len(scene_list), 10)) + 1)) + 'd'\n",
            "ValueError: math domain error\n",
            "[PySceneDetect] Output directory set:\n",
            "  /content/gdrive/My Drive/adplace/scene_videos\n",
            "[PySceneDetect] Loaded 1 video, framerate: 25.00 FPS, resolution: 1280 x 720\n",
            "[PySceneDetect] Downscale factor set to 5, effective resolution: 256 x 144\n",
            "[PySceneDetect] Scene list CSV file name format:\n",
            "  $VIDEO_NAME-Scenes.csv\n",
            "[PySceneDetect] FFmpeg codec args set: -c:v libx264 -preset veryfast -crf 22 -c:a copy\n",
            "[PySceneDetect] Video output file name format: $VIDEO_NAME-Scene-$SCENE_NUMBER\n",
            "[PySceneDetect] Detecting scenes...\n",
            "100% 4500/4500 [00:29<00:00, 152.06frames/s]\n",
            "[PySceneDetect] Processed 4500 frames in 29.6 seconds (average 152.05 FPS).\n",
            "[PySceneDetect] Detected 29 scenes, average shot length 6.2 seconds.\n",
            "[PySceneDetect] Writing scene list to CSV file:\n",
            "  /content/gdrive/My Drive/adplace/scene_videos/adplace_311-Scenes.csv\n",
            "[PySceneDetect] Scene List:\n",
            "-----------------------------------------------------------------------\n",
            " | Scene # | Start Frame |  Start Time  |  End Frame  |   End Time   |\n",
            "-----------------------------------------------------------------------\n",
            " |      1  |           0 | 00:00:00.000 |          72 | 00:00:02.880 |\n",
            " |      2  |          72 | 00:00:02.880 |         121 | 00:00:04.840 |\n",
            " |      3  |         121 | 00:00:04.840 |         166 | 00:00:06.640 |\n",
            " |      4  |         166 | 00:00:06.640 |         232 | 00:00:09.280 |\n",
            " |      5  |         232 | 00:00:09.280 |         486 | 00:00:19.440 |\n",
            " |      6  |         486 | 00:00:19.440 |         879 | 00:00:35.160 |\n",
            " |      7  |         879 | 00:00:35.160 |         922 | 00:00:36.880 |\n",
            " |      8  |         922 | 00:00:36.880 |        1195 | 00:00:47.800 |\n",
            " |      9  |        1195 | 00:00:47.800 |        1261 | 00:00:50.440 |\n",
            " |     10  |        1261 | 00:00:50.440 |        1618 | 00:01:04.720 |\n",
            " |     11  |        1618 | 00:01:04.720 |        1866 | 00:01:14.640 |\n",
            " |     12  |        1866 | 00:01:14.640 |        1943 | 00:01:17.720 |\n",
            " |     13  |        1943 | 00:01:17.720 |        2029 | 00:01:21.160 |\n",
            " |     14  |        2029 | 00:01:21.160 |        2355 | 00:01:34.200 |\n",
            " |     15  |        2355 | 00:01:34.200 |        2422 | 00:01:36.880 |\n",
            " |     16  |        2422 | 00:01:36.880 |        2658 | 00:01:46.320 |\n",
            " |     17  |        2658 | 00:01:46.320 |        2770 | 00:01:50.800 |\n",
            " |     18  |        2770 | 00:01:50.800 |        3036 | 00:02:01.440 |\n",
            " |     19  |        3036 | 00:02:01.440 |        3090 | 00:02:03.600 |\n",
            " |     20  |        3090 | 00:02:03.600 |        3256 | 00:02:10.240 |\n",
            " |     21  |        3256 | 00:02:10.240 |        3471 | 00:02:18.840 |\n",
            " |     22  |        3471 | 00:02:18.840 |        3606 | 00:02:24.240 |\n",
            " |     23  |        3606 | 00:02:24.240 |        3949 | 00:02:37.960 |\n",
            " |     24  |        3949 | 00:02:37.960 |        4038 | 00:02:41.520 |\n",
            " |     25  |        4038 | 00:02:41.520 |        4221 | 00:02:48.840 |\n",
            " |     26  |        4221 | 00:02:48.840 |        4288 | 00:02:51.520 |\n",
            " |     27  |        4288 | 00:02:51.520 |        4361 | 00:02:54.440 |\n",
            " |     28  |        4361 | 00:02:54.440 |        4446 | 00:02:57.840 |\n",
            " |     29  |        4446 | 00:02:57.840 |        4500 | 00:03:00.000 |\n",
            "-----------------------------------------------------------------------\n",
            "\n",
            "[PySceneDetect] Comma-separated timecode list:\n",
            "  00:00:02.880,00:00:04.840,00:00:06.640,00:00:09.280,00:00:19.440,00:00:35.160,00:00:36.880,00:00:47.800,00:00:50.440,00:01:04.720,00:01:14.640,00:01:17.720,00:01:21.160,00:01:34.200,00:01:36.880,00:01:46.320,00:01:50.800,00:02:01.440,00:02:03.600,00:02:10.240,00:02:18.840,00:02:24.240,00:02:37.960,00:02:41.520,00:02:48.840,00:02:51.520,00:02:54.440,00:02:57.840\n",
            "[PySceneDetect] Splitting input video using ffmpeg, output path template:\n",
            "  /content/gdrive/My Drive/adplace/scene_videos/$VIDEO_NAME-Scene-$SCENE_NUMBER.mp4\n",
            "  0% 0/4500 [00:00<?, ?frame/s]ffmpeg version 3.4.6-0ubuntu0.18.04.1 Copyright (c) 2000-2019 the FFmpeg developers\n",
            "  built with gcc 7 (Ubuntu 7.3.0-16ubuntu3)\n",
            "  configuration: --prefix=/usr --extra-version=0ubuntu0.18.04.1 --toolchain=hardened --libdir=/usr/lib/x86_64-linux-gnu --incdir=/usr/include/x86_64-linux-gnu --enable-gpl --disable-stripping --enable-avresample --enable-avisynth --enable-gnutls --enable-ladspa --enable-libass --enable-libbluray --enable-libbs2b --enable-libcaca --enable-libcdio --enable-libflite --enable-libfontconfig --enable-libfreetype --enable-libfribidi --enable-libgme --enable-libgsm --enable-libmp3lame --enable-libmysofa --enable-libopenjpeg --enable-libopenmpt --enable-libopus --enable-libpulse --enable-librubberband --enable-librsvg --enable-libshine --enable-libsnappy --enable-libsoxr --enable-libspeex --enable-libssh --enable-libtheora --enable-libtwolame --enable-libvorbis --enable-libvpx --enable-libwavpack --enable-libwebp --enable-libx265 --enable-libxml2 --enable-libxvid --enable-libzmq --enable-libzvbi --enable-omx --enable-openal --enable-opengl --enable-sdl2 --enable-libdc1394 --enable-libdrm --enable-libiec61883 --enable-chromaprint --enable-frei0r --enable-libopencv --enable-libx264 --enable-shared\n",
            "  libavutil      55. 78.100 / 55. 78.100\n",
            "  libavcodec     57.107.100 / 57.107.100\n",
            "  libavformat    57. 83.100 / 57. 83.100\n",
            "  libavdevice    57. 10.100 / 57. 10.100\n",
            "  libavfilter     6.107.100 /  6.107.100\n",
            "  libavresample   3.  7.  0 /  3.  7.  0\n",
            "  libswscale      4.  8.100 /  4.  8.100\n",
            "  libswresample   2.  9.100 /  2.  9.100\n",
            "  libpostproc    54.  7.100 / 54.  7.100\n",
            "Input #0, mov,mp4,m4a,3gp,3g2,mj2, from '/content/gdrive/My Drive/adplace/full_videos/adplace_311.mp4':\n",
            "  Metadata:\n",
            "    major_brand     : mp42\n",
            "    minor_version   : 0\n",
            "    compatible_brands: isommp42\n",
            "    creation_time   : 2019-03-26T04:48:36.000000Z\n",
            "  Duration: 00:03:00.00, start: 0.000000, bitrate: 1220 kb/s\n",
            "    Stream #0:0(und): Video: h264 (Main) (avc1 / 0x31637661), yuv420p(tv, bt709), 1280x720 [SAR 1:1 DAR 16:9], 1088 kb/s, 25 fps, 25 tbr, 12800 tbn, 50 tbc (default)\n",
            "    Metadata:\n",
            "      creation_time   : 2019-03-26T04:48:36.000000Z\n",
            "      handler_name    : ISO Media file produced by Google Inc. Created on: 03/25/2019.\n",
            "    Stream #0:1(eng): Audio: aac (LC) (mp4a / 0x6134706D), 44100 Hz, stereo, fltp, 128 kb/s (default)\n",
            "    Metadata:\n",
            "      creation_time   : 2019-03-26T04:48:36.000000Z\n",
            "      handler_name    : ISO Media file produced by Google Inc. Created on: 03/25/2019.\n",
            "Stream mapping:\n",
            "  Stream #0:0 -> #0:0 (h264 (native) -> h264 (libx264))\n",
            "  Stream #0:1 -> #0:1 (copy)\n",
            "Press [q] to stop, [?] for help\n",
            "\u001b[1;36m[libx264 @ 0x56165ba34800] \u001b[0musing SAR=1/1\n",
            "\u001b[1;36m[libx264 @ 0x56165ba34800] \u001b[0musing cpu capabilities: MMX2 SSE2Fast SSSE3 SSE4.2 AVX FMA3 BMI2 AVX2\n",
            "\u001b[1;36m[libx264 @ 0x56165ba34800] \u001b[0mprofile High, level 3.1\n",
            "\u001b[1;36m[libx264 @ 0x56165ba34800] \u001b[0m264 - core 152 r2854 e9a5903 - H.264/MPEG-4 AVC codec - Copyleft 2003-2017 - http://www.videolan.org/x264.html - options: cabac=1 ref=1 deblock=1:0:0 analyse=0x3:0x113 me=hex subme=2 psy=1 psy_rd=1.00:0.00 mixed_ref=0 me_range=16 chroma_me=1 trellis=0 8x8dct=1 cqm=0 deadzone=21,11 fast_pskip=1 chroma_qp_offset=0 threads=3 lookahead_threads=1 sliced_threads=0 nr=0 decimate=1 interlaced=0 bluray_compat=0 constrained_intra=0 bframes=3 b_pyramid=2 b_adapt=1 b_bias=0 direct=1 weightb=1 open_gop=0 weightp=1 keyint=250 keyint_min=25 scenecut=40 intra_refresh=0 rc_lookahead=10 rc=crf mbtree=1 crf=22.0 qcomp=0.60 qpmin=0 qpmax=69 qpstep=4 ip_ratio=1.40 aq=1:1.00\n",
            "Output #0, mp4, to '/content/gdrive/My Drive/adplace/scene_videos/adplace_311-Scene-001.mp4':\n",
            "  Metadata:\n",
            "    major_brand     : mp42\n",
            "    minor_version   : 0\n",
            "    compatible_brands: isommp42\n",
            "    encoder         : Lavf57.83.100\n",
            "    Stream #0:0(und): Video: h264 (libx264) (avc1 / 0x31637661), yuv420p, 1280x720 [SAR 1:1 DAR 16:9], q=-1--1, 25 fps, 12800 tbn, 25 tbc (default)\n",
            "    Metadata:\n",
            "      creation_time   : 2019-03-26T04:48:36.000000Z\n",
            "      handler_name    : ISO Media file produced by Google Inc. Created on: 03/25/2019.\n",
            "      encoder         : Lavc57.107.100 libx264\n",
            "    Side data:\n",
            "      cpb: bitrate max/min/avg: 0/0/0 buffer size: 0 vbv_delay: -1\n",
            "    Stream #0:1(eng): Audio: aac (LC) (mp4a / 0x6134706D), 44100 Hz, stereo, fltp, 128 kb/s (default)\n",
            "    Metadata:\n",
            "      creation_time   : 2019-03-26T04:48:36.000000Z\n",
            "      handler_name    : ISO Media file produced by Google Inc. Created on: 03/25/2019.\n",
            "frame=   72 fps= 45 q=-1.0 Lsize=     758kB time=00:00:02.87 bitrate=2156.6kbits/s speed=1.78x    \n",
            "video:708kB audio:46kB subtitle:0kB other streams:0kB global headers:0kB muxing overhead: 0.489381%\n",
            "\u001b[1;36m[libx264 @ 0x56165ba34800] \u001b[0mframe I:1     Avg QP:20.70  size: 85032\n",
            "\u001b[1;36m[libx264 @ 0x56165ba34800] \u001b[0mframe P:18    Avg QP:22.02  size: 24497\n",
            "\u001b[1;36m[libx264 @ 0x56165ba34800] \u001b[0mframe B:53    Avg QP:26.57  size:  3750\n",
            "\u001b[1;36m[libx264 @ 0x56165ba34800] \u001b[0mconsecutive B-frames:  1.4%  0.0%  4.2% 94.4%\n",
            "\u001b[1;36m[libx264 @ 0x56165ba34800] \u001b[0mmb I  I16..4: 11.9% 34.8% 53.4%\n",
            "\u001b[1;36m[libx264 @ 0x56165ba34800] \u001b[0mmb P  I16..4:  3.9%  2.8%  0.4%  P16..4: 38.1% 15.6% 12.5%  0.0%  0.0%    skip:26.8%\n",
            "\u001b[1;36m[libx264 @ 0x56165ba34800] \u001b[0mmb B  I16..4:  0.2%  0.0%  0.0%  B16..8: 11.2%  3.4%  1.0%  direct: 4.7%  skip:79.4%  L0:27.7% L1:39.2% BI:33.1%\n",
            "\u001b[1;36m[libx264 @ 0x56165ba34800] \u001b[0m8x8 transform intra:36.2% inter:18.9%\n",
            "\u001b[1;36m[libx264 @ 0x56165ba34800] \u001b[0mcoded y,uvDC,uvAC intra: 48.7% 56.8% 22.3% inter: 9.1% 7.3% 0.6%\n",
            "\u001b[1;36m[libx264 @ 0x56165ba34800] \u001b[0mi16 v,h,dc,p: 25% 42% 28%  5%\n",
            "\u001b[1;36m[libx264 @ 0x56165ba34800] \u001b[0mi8 v,h,dc,ddl,ddr,vr,hd,vl,hu: 17% 43% 24%  3%  2%  2%  3%  2%  4%\n",
            "\u001b[1;36m[libx264 @ 0x56165ba34800] \u001b[0mi4 v,h,dc,ddl,ddr,vr,hd,vl,hu: 19% 31% 13%  6%  6%  6%  7%  5%  8%\n",
            "\u001b[1;36m[libx264 @ 0x56165ba34800] \u001b[0mi8c dc,h,v,p: 46% 35% 14%  5%\n",
            "\u001b[1;36m[libx264 @ 0x56165ba34800] \u001b[0mWeighted P-Frames: Y:0.0% UV:0.0%\n",
            "\u001b[1;36m[libx264 @ 0x56165ba34800] \u001b[0mkb/s:2013.18\n",
            "[PySceneDetect] Output from ffmpeg for Scene 1 shown above, splitting remaining scenes...\n",
            "100% 4500/4500 [02:06<00:00, 30.39frame/s]\n",
            "[PySceneDetect] Average processing speed 35.60 frames/sec.\n",
            "[PySceneDetect] Video splitting completed, individual scenes written to disk.\n",
            "[PySceneDetect] Output directory set:\n",
            "  /content/gdrive/My Drive/adplace/scene_videos\n",
            "[PySceneDetect] Loaded 1 video, framerate: 25.00 FPS, resolution: 1280 x 720\n",
            "[PySceneDetect] Downscale factor set to 5, effective resolution: 256 x 144\n",
            "[PySceneDetect] Scene list CSV file name format:\n",
            "  $VIDEO_NAME-Scenes.csv\n",
            "[PySceneDetect] FFmpeg codec args set: -c:v libx264 -preset veryfast -crf 22 -c:a copy\n",
            "[PySceneDetect] Video output file name format: $VIDEO_NAME-Scene-$SCENE_NUMBER\n",
            "[PySceneDetect] Detecting scenes...\n",
            "100% 3250/3250 [00:25<00:00, 128.85frames/s]\n",
            "[PySceneDetect] Processed 3250 frames in 25.2 seconds (average 128.84 FPS).\n",
            "[PySceneDetect] Detected 10 scenes, average shot length 13.0 seconds.\n",
            "[PySceneDetect] Writing scene list to CSV file:\n",
            "  /content/gdrive/My Drive/adplace/scene_videos/adplace_312-Scenes.csv\n",
            "[PySceneDetect] Scene List:\n",
            "-----------------------------------------------------------------------\n",
            " | Scene # | Start Frame |  Start Time  |  End Frame  |   End Time   |\n",
            "-----------------------------------------------------------------------\n",
            " |      1  |           0 | 00:00:00.000 |         153 | 00:00:06.120 |\n",
            " |      2  |         153 | 00:00:06.120 |         354 | 00:00:14.160 |\n",
            " |      3  |         354 | 00:00:14.160 |         514 | 00:00:20.560 |\n",
            " |      4  |         514 | 00:00:20.560 |         691 | 00:00:27.640 |\n",
            " |      5  |         691 | 00:00:27.640 |        1379 | 00:00:55.160 |\n",
            " |      6  |        1379 | 00:00:55.160 |        1817 | 00:01:12.680 |\n",
            " |      7  |        1817 | 00:01:12.680 |        2411 | 00:01:36.440 |\n",
            " |      8  |        2411 | 00:01:36.440 |        2535 | 00:01:41.400 |\n",
            " |      9  |        2535 | 00:01:41.400 |        3000 | 00:02:00.000 |\n",
            " |     10  |        3000 | 00:02:00.000 |        3250 | 00:02:10.000 |\n",
            "-----------------------------------------------------------------------\n",
            "\n",
            "[PySceneDetect] Comma-separated timecode list:\n",
            "  00:00:06.120,00:00:14.160,00:00:20.560,00:00:27.640,00:00:55.160,00:01:12.680,00:01:36.440,00:01:41.400,00:02:00.000\n",
            "[PySceneDetect] Splitting input video using ffmpeg, output path template:\n",
            "  /content/gdrive/My Drive/adplace/scene_videos/$VIDEO_NAME-Scene-$SCENE_NUMBER.mp4\n",
            "  0% 0/3250 [00:00<?, ?frame/s]ffmpeg version 3.4.6-0ubuntu0.18.04.1 Copyright (c) 2000-2019 the FFmpeg developers\n",
            "  built with gcc 7 (Ubuntu 7.3.0-16ubuntu3)\n",
            "  configuration: --prefix=/usr --extra-version=0ubuntu0.18.04.1 --toolchain=hardened --libdir=/usr/lib/x86_64-linux-gnu --incdir=/usr/include/x86_64-linux-gnu --enable-gpl --disable-stripping --enable-avresample --enable-avisynth --enable-gnutls --enable-ladspa --enable-libass --enable-libbluray --enable-libbs2b --enable-libcaca --enable-libcdio --enable-libflite --enable-libfontconfig --enable-libfreetype --enable-libfribidi --enable-libgme --enable-libgsm --enable-libmp3lame --enable-libmysofa --enable-libopenjpeg --enable-libopenmpt --enable-libopus --enable-libpulse --enable-librubberband --enable-librsvg --enable-libshine --enable-libsnappy --enable-libsoxr --enable-libspeex --enable-libssh --enable-libtheora --enable-libtwolame --enable-libvorbis --enable-libvpx --enable-libwavpack --enable-libwebp --enable-libx265 --enable-libxml2 --enable-libxvid --enable-libzmq --enable-libzvbi --enable-omx --enable-openal --enable-opengl --enable-sdl2 --enable-libdc1394 --enable-libdrm --enable-libiec61883 --enable-chromaprint --enable-frei0r --enable-libopencv --enable-libx264 --enable-shared\n",
            "  libavutil      55. 78.100 / 55. 78.100\n",
            "  libavcodec     57.107.100 / 57.107.100\n",
            "  libavformat    57. 83.100 / 57. 83.100\n",
            "  libavdevice    57. 10.100 / 57. 10.100\n",
            "  libavfilter     6.107.100 /  6.107.100\n",
            "  libavresample   3.  7.  0 /  3.  7.  0\n",
            "  libswscale      4.  8.100 /  4.  8.100\n",
            "  libswresample   2.  9.100 /  2.  9.100\n",
            "  libpostproc    54.  7.100 / 54.  7.100\n",
            "Input #0, mov,mp4,m4a,3gp,3g2,mj2, from '/content/gdrive/My Drive/adplace/full_videos/adplace_312.mp4':\n",
            "  Metadata:\n",
            "    major_brand     : mp42\n",
            "    minor_version   : 0\n",
            "    compatible_brands: isommp42\n",
            "    creation_time   : 2018-10-28T06:10:47.000000Z\n",
            "  Duration: 00:02:10.01, start: 0.000000, bitrate: 2242 kb/s\n",
            "    Stream #0:0(und): Video: h264 (Main) (avc1 / 0x31637661), yuv420p(tv, bt709), 1280x720 [SAR 1:1 DAR 16:9], 2112 kb/s, 25 fps, 25 tbr, 90k tbn, 50 tbc (default)\n",
            "    Metadata:\n",
            "      creation_time   : 2018-10-28T06:10:47.000000Z\n",
            "      handler_name    : ISO Media file produced by Google Inc. Created on: 10/27/2018.\n",
            "    Stream #0:1(eng): Audio: aac (LC) (mp4a / 0x6134706D), 44100 Hz, stereo, fltp, 125 kb/s (default)\n",
            "    Metadata:\n",
            "      creation_time   : 2018-10-28T06:10:47.000000Z\n",
            "      handler_name    : ISO Media file produced by Google Inc. Created on: 10/27/2018.\n",
            "Stream mapping:\n",
            "  Stream #0:0 -> #0:0 (h264 (native) -> h264 (libx264))\n",
            "  Stream #0:1 -> #0:1 (copy)\n",
            "Press [q] to stop, [?] for help\n",
            "\u001b[1;36m[libx264 @ 0x56524be52800] \u001b[0musing SAR=1/1\n",
            "\u001b[1;36m[libx264 @ 0x56524be52800] \u001b[0musing cpu capabilities: MMX2 SSE2Fast SSSE3 SSE4.2 AVX FMA3 BMI2 AVX2\n",
            "\u001b[1;36m[libx264 @ 0x56524be52800] \u001b[0mprofile High, level 3.1\n",
            "\u001b[1;36m[libx264 @ 0x56524be52800] \u001b[0m264 - core 152 r2854 e9a5903 - H.264/MPEG-4 AVC codec - Copyleft 2003-2017 - http://www.videolan.org/x264.html - options: cabac=1 ref=1 deblock=1:0:0 analyse=0x3:0x113 me=hex subme=2 psy=1 psy_rd=1.00:0.00 mixed_ref=0 me_range=16 chroma_me=1 trellis=0 8x8dct=1 cqm=0 deadzone=21,11 fast_pskip=1 chroma_qp_offset=0 threads=3 lookahead_threads=1 sliced_threads=0 nr=0 decimate=1 interlaced=0 bluray_compat=0 constrained_intra=0 bframes=3 b_pyramid=2 b_adapt=1 b_bias=0 direct=1 weightb=1 open_gop=0 weightp=1 keyint=250 keyint_min=25 scenecut=40 intra_refresh=0 rc_lookahead=10 rc=crf mbtree=1 crf=22.0 qcomp=0.60 qpmin=0 qpmax=69 qpstep=4 ip_ratio=1.40 aq=1:1.00\n",
            "Output #0, mp4, to '/content/gdrive/My Drive/adplace/scene_videos/adplace_312-Scene-001.mp4':\n",
            "  Metadata:\n",
            "    major_brand     : mp42\n",
            "    minor_version   : 0\n",
            "    compatible_brands: isommp42\n",
            "    encoder         : Lavf57.83.100\n",
            "    Stream #0:0(und): Video: h264 (libx264) (avc1 / 0x31637661), yuv420p, 1280x720 [SAR 1:1 DAR 16:9], q=-1--1, 25 fps, 12800 tbn, 25 tbc (default)\n",
            "    Metadata:\n",
            "      creation_time   : 2018-10-28T06:10:47.000000Z\n",
            "      handler_name    : ISO Media file produced by Google Inc. Created on: 10/27/2018.\n",
            "      encoder         : Lavc57.107.100 libx264\n",
            "    Side data:\n",
            "      cpb: bitrate max/min/avg: 0/0/0 buffer size: 0 vbv_delay: -1\n",
            "    Stream #0:1(eng): Audio: aac (LC) (mp4a / 0x6134706D), 44100 Hz, stereo, fltp, 125 kb/s (default)\n",
            "    Metadata:\n",
            "      creation_time   : 2018-10-28T06:10:47.000000Z\n",
            "      handler_name    : ISO Media file produced by Google Inc. Created on: 10/27/2018.\n",
            "frame=  153 fps= 37 q=-1.0 Lsize=    1765kB time=00:00:06.10 bitrate=2367.7kbits/s speed=1.49x    \n",
            "video:1664kB audio:94kB subtitle:0kB other streams:0kB global headers:0kB muxing overhead: 0.359479%\n",
            "\u001b[1;36m[libx264 @ 0x56524be52800] \u001b[0mframe I:1     Avg QP:21.40  size: 70357\n",
            "\u001b[1;36m[libx264 @ 0x56524be52800] \u001b[0mframe P:40    Avg QP:22.17  size: 26362\n",
            "\u001b[1;36m[libx264 @ 0x56524be52800] \u001b[0mframe B:112   Avg QP:26.14  size:  5167\n",
            "\u001b[1;36m[libx264 @ 0x56524be52800] \u001b[0mconsecutive B-frames:  0.7%  3.9%  3.9% 91.5%\n",
            "\u001b[1;36m[libx264 @ 0x56524be52800] \u001b[0mmb I  I16..4: 13.5% 37.1% 49.4%\n",
            "\u001b[1;36m[libx264 @ 0x56524be52800] \u001b[0mmb P  I16..4:  5.4%  4.4%  1.0%  P16..4: 40.4% 18.3% 11.8%  0.0%  0.0%    skip:18.8%\n",
            "\u001b[1;36m[libx264 @ 0x56524be52800] \u001b[0mmb B  I16..4:  0.9%  0.2%  0.0%  B16..8: 18.0%  6.2%  1.2%  direct: 5.2%  skip:68.3%  L0:37.4% L1:45.4% BI:17.3%\n",
            "\u001b[1;36m[libx264 @ 0x56524be52800] \u001b[0m8x8 transform intra:36.3% inter:22.8%\n",
            "\u001b[1;36m[libx264 @ 0x56524be52800] \u001b[0mcoded y,uvDC,uvAC intra: 41.9% 50.3% 17.8% inter: 11.2% 9.4% 1.5%\n",
            "\u001b[1;36m[libx264 @ 0x56524be52800] \u001b[0mi16 v,h,dc,p: 16% 60% 20%  4%\n",
            "\u001b[1;36m[libx264 @ 0x56524be52800] \u001b[0mi8 v,h,dc,ddl,ddr,vr,hd,vl,hu:  8% 51% 27%  2%  1%  1%  4%  1%  6%\n",
            "\u001b[1;36m[libx264 @ 0x56524be52800] \u001b[0mi4 v,h,dc,ddl,ddr,vr,hd,vl,hu: 16% 37% 16%  4%  4%  4%  6%  4%  8%\n",
            "\u001b[1;36m[libx264 @ 0x56524be52800] \u001b[0mi8c dc,h,v,p: 40% 46% 10%  3%\n",
            "\u001b[1;36m[libx264 @ 0x56524be52800] \u001b[0mWeighted P-Frames: Y:0.0% UV:0.0%\n",
            "\u001b[1;36m[libx264 @ 0x56524be52800] \u001b[0mkb/s:2226.91\n",
            "[PySceneDetect] Output from ffmpeg for Scene 1 shown above, splitting remaining scenes...\n",
            "100% 3250/3250 [01:39<00:00, 37.47frame/s]\n",
            "[PySceneDetect] Average processing speed 32.74 frames/sec.\n",
            "[PySceneDetect] Video splitting completed, individual scenes written to disk.\n",
            "[PySceneDetect] Output directory set:\n",
            "  /content/gdrive/My Drive/adplace/scene_videos\n",
            "[PySceneDetect] Loaded 1 video, framerate: 25.00 FPS, resolution: 1280 x 720\n",
            "[PySceneDetect] Downscale factor set to 5, effective resolution: 256 x 144\n",
            "[PySceneDetect] Scene list CSV file name format:\n",
            "  $VIDEO_NAME-Scenes.csv\n",
            "[PySceneDetect] FFmpeg codec args set: -c:v libx264 -preset veryfast -crf 22 -c:a copy\n",
            "[PySceneDetect] Video output file name format: $VIDEO_NAME-Scene-$SCENE_NUMBER\n",
            "[PySceneDetect] Detecting scenes...\n",
            "100% 3250/3250 [00:25<00:00, 129.48frames/s]\n",
            "[PySceneDetect] Processed 3250 frames in 25.1 seconds (average 129.47 FPS).\n",
            "[PySceneDetect] Detected 14 scenes, average shot length 9.3 seconds.\n",
            "[PySceneDetect] Writing scene list to CSV file:\n",
            "  /content/gdrive/My Drive/adplace/scene_videos/adplace_313-Scenes.csv\n",
            "[PySceneDetect] Scene List:\n",
            "-----------------------------------------------------------------------\n",
            " | Scene # | Start Frame |  Start Time  |  End Frame  |   End Time   |\n",
            "-----------------------------------------------------------------------\n",
            " |      1  |           0 | 00:00:00.000 |          60 | 00:00:02.400 |\n",
            " |      2  |          60 | 00:00:02.400 |         125 | 00:00:05.000 |\n",
            " |      3  |         125 | 00:00:05.000 |         360 | 00:00:14.400 |\n",
            " |      4  |         360 | 00:00:14.400 |         405 | 00:00:16.200 |\n",
            " |      5  |         405 | 00:00:16.200 |         946 | 00:00:37.840 |\n",
            " |      6  |         946 | 00:00:37.840 |        1089 | 00:00:43.560 |\n",
            " |      7  |        1089 | 00:00:43.560 |        1365 | 00:00:54.600 |\n",
            " |      8  |        1365 | 00:00:54.600 |        2466 | 00:01:38.640 |\n",
            " |      9  |        2466 | 00:01:38.640 |        2512 | 00:01:40.480 |\n",
            " |     10  |        2512 | 00:01:40.480 |        2698 | 00:01:47.920 |\n",
            " |     11  |        2698 | 00:01:47.920 |        2845 | 00:01:53.800 |\n",
            " |     12  |        2845 | 00:01:53.800 |        2900 | 00:01:56.000 |\n",
            " |     13  |        2900 | 00:01:56.000 |        3000 | 00:02:00.000 |\n",
            " |     14  |        3000 | 00:02:00.000 |        3250 | 00:02:10.000 |\n",
            "-----------------------------------------------------------------------\n",
            "\n",
            "[PySceneDetect] Comma-separated timecode list:\n",
            "  00:00:02.400,00:00:05.000,00:00:14.400,00:00:16.200,00:00:37.840,00:00:43.560,00:00:54.600,00:01:38.640,00:01:40.480,00:01:47.920,00:01:53.800,00:01:56.000,00:02:00.000\n",
            "[PySceneDetect] Splitting input video using ffmpeg, output path template:\n",
            "  /content/gdrive/My Drive/adplace/scene_videos/$VIDEO_NAME-Scene-$SCENE_NUMBER.mp4\n",
            "  0% 0/3250 [00:00<?, ?frame/s]ffmpeg version 3.4.6-0ubuntu0.18.04.1 Copyright (c) 2000-2019 the FFmpeg developers\n",
            "  built with gcc 7 (Ubuntu 7.3.0-16ubuntu3)\n",
            "  configuration: --prefix=/usr --extra-version=0ubuntu0.18.04.1 --toolchain=hardened --libdir=/usr/lib/x86_64-linux-gnu --incdir=/usr/include/x86_64-linux-gnu --enable-gpl --disable-stripping --enable-avresample --enable-avisynth --enable-gnutls --enable-ladspa --enable-libass --enable-libbluray --enable-libbs2b --enable-libcaca --enable-libcdio --enable-libflite --enable-libfontconfig --enable-libfreetype --enable-libfribidi --enable-libgme --enable-libgsm --enable-libmp3lame --enable-libmysofa --enable-libopenjpeg --enable-libopenmpt --enable-libopus --enable-libpulse --enable-librubberband --enable-librsvg --enable-libshine --enable-libsnappy --enable-libsoxr --enable-libspeex --enable-libssh --enable-libtheora --enable-libtwolame --enable-libvorbis --enable-libvpx --enable-libwavpack --enable-libwebp --enable-libx265 --enable-libxml2 --enable-libxvid --enable-libzmq --enable-libzvbi --enable-omx --enable-openal --enable-opengl --enable-sdl2 --enable-libdc1394 --enable-libdrm --enable-libiec61883 --enable-chromaprint --enable-frei0r --enable-libopencv --enable-libx264 --enable-shared\n",
            "  libavutil      55. 78.100 / 55. 78.100\n",
            "  libavcodec     57.107.100 / 57.107.100\n",
            "  libavformat    57. 83.100 / 57. 83.100\n",
            "  libavdevice    57. 10.100 / 57. 10.100\n",
            "  libavfilter     6.107.100 /  6.107.100\n",
            "  libavresample   3.  7.  0 /  3.  7.  0\n",
            "  libswscale      4.  8.100 /  4.  8.100\n",
            "  libswresample   2.  9.100 /  2.  9.100\n",
            "  libpostproc    54.  7.100 / 54.  7.100\n",
            "Input #0, mov,mp4,m4a,3gp,3g2,mj2, from '/content/gdrive/My Drive/adplace/full_videos/adplace_313.mp4':\n",
            "  Metadata:\n",
            "    major_brand     : mp42\n",
            "    minor_version   : 0\n",
            "    compatible_brands: isommp42\n",
            "    creation_time   : 2018-09-17T10:51:36.000000Z\n",
            "  Duration: 00:02:10.01, start: 0.000000, bitrate: 2158 kb/s\n",
            "    Stream #0:0(und): Video: h264 (Main) (avc1 / 0x31637661), yuv420p(tv, bt709), 1280x720 [SAR 1:1 DAR 16:9], 2029 kb/s, 25 fps, 25 tbr, 90k tbn, 50 tbc (default)\n",
            "    Metadata:\n",
            "      creation_time   : 2018-09-17T10:51:36.000000Z\n",
            "      handler_name    : ISO Media file produced by Google Inc. Created on: 09/17/2018.\n",
            "    Stream #0:1(eng): Audio: aac (LC) (mp4a / 0x6134706D), 44100 Hz, stereo, fltp, 125 kb/s (default)\n",
            "    Metadata:\n",
            "      creation_time   : 2018-09-17T10:51:36.000000Z\n",
            "      handler_name    : ISO Media file produced by Google Inc. Created on: 09/17/2018.\n",
            "Stream mapping:\n",
            "  Stream #0:0 -> #0:0 (h264 (native) -> h264 (libx264))\n",
            "  Stream #0:1 -> #0:1 (copy)\n",
            "Press [q] to stop, [?] for help\n",
            "\u001b[1;36m[libx264 @ 0x5642e26b8800] \u001b[0musing SAR=1/1\n",
            "\u001b[1;36m[libx264 @ 0x5642e26b8800] \u001b[0musing cpu capabilities: MMX2 SSE2Fast SSSE3 SSE4.2 AVX FMA3 BMI2 AVX2\n",
            "\u001b[1;36m[libx264 @ 0x5642e26b8800] \u001b[0mprofile High, level 3.1\n",
            "\u001b[1;36m[libx264 @ 0x5642e26b8800] \u001b[0m264 - core 152 r2854 e9a5903 - H.264/MPEG-4 AVC codec - Copyleft 2003-2017 - http://www.videolan.org/x264.html - options: cabac=1 ref=1 deblock=1:0:0 analyse=0x3:0x113 me=hex subme=2 psy=1 psy_rd=1.00:0.00 mixed_ref=0 me_range=16 chroma_me=1 trellis=0 8x8dct=1 cqm=0 deadzone=21,11 fast_pskip=1 chroma_qp_offset=0 threads=3 lookahead_threads=1 sliced_threads=0 nr=0 decimate=1 interlaced=0 bluray_compat=0 constrained_intra=0 bframes=3 b_pyramid=2 b_adapt=1 b_bias=0 direct=1 weightb=1 open_gop=0 weightp=1 keyint=250 keyint_min=25 scenecut=40 intra_refresh=0 rc_lookahead=10 rc=crf mbtree=1 crf=22.0 qcomp=0.60 qpmin=0 qpmax=69 qpstep=4 ip_ratio=1.40 aq=1:1.00\n",
            "Output #0, mp4, to '/content/gdrive/My Drive/adplace/scene_videos/adplace_313-Scene-001.mp4':\n",
            "  Metadata:\n",
            "    major_brand     : mp42\n",
            "    minor_version   : 0\n",
            "    compatible_brands: isommp42\n",
            "    encoder         : Lavf57.83.100\n",
            "    Stream #0:0(und): Video: h264 (libx264) (avc1 / 0x31637661), yuv420p, 1280x720 [SAR 1:1 DAR 16:9], q=-1--1, 25 fps, 12800 tbn, 25 tbc (default)\n",
            "    Metadata:\n",
            "      creation_time   : 2018-09-17T10:51:36.000000Z\n",
            "      handler_name    : ISO Media file produced by Google Inc. Created on: 09/17/2018.\n",
            "      encoder         : Lavc57.107.100 libx264\n",
            "    Side data:\n",
            "      cpb: bitrate max/min/avg: 0/0/0 buffer size: 0 vbv_delay: -1\n",
            "    Stream #0:1(eng): Audio: aac (LC) (mp4a / 0x6134706D), 44100 Hz, stereo, fltp, 125 kb/s (default)\n",
            "    Metadata:\n",
            "      creation_time   : 2018-09-17T10:51:36.000000Z\n",
            "      handler_name    : ISO Media file produced by Google Inc. Created on: 09/17/2018.\n",
            "frame=   60 fps= 34 q=-1.0 Lsize=     667kB time=00:00:02.39 bitrate=2283.6kbits/s speed=1.36x    \n",
            "video:626kB audio:37kB subtitle:0kB other streams:0kB global headers:0kB muxing overhead: 0.491929%\n",
            "\u001b[1;36m[libx264 @ 0x5642e26b8800] \u001b[0mframe I:1     Avg QP:21.98  size: 65636\n",
            "\u001b[1;36m[libx264 @ 0x5642e26b8800] \u001b[0mframe P:18    Avg QP:22.46  size: 20872\n",
            "\u001b[1;36m[libx264 @ 0x5642e26b8800] \u001b[0mframe B:41    Avg QP:25.59  size:  4856\n",
            "\u001b[1;36m[libx264 @ 0x5642e26b8800] \u001b[0mconsecutive B-frames:  1.7% 16.7% 15.0% 66.7%\n",
            "\u001b[1;36m[libx264 @ 0x5642e26b8800] \u001b[0mmb I  I16..4: 13.7% 38.4% 47.9%\n",
            "\u001b[1;36m[libx264 @ 0x5642e26b8800] \u001b[0mmb P  I16..4:  7.6%  7.4%  0.9%  P16..4: 34.3% 20.9% 10.3%  0.0%  0.0%    skip:18.6%\n",
            "\u001b[1;36m[libx264 @ 0x5642e26b8800] \u001b[0mmb B  I16..4:  1.6%  0.8%  0.0%  B16..8: 24.8%  7.9%  0.6%  direct: 4.2%  skip:60.1%  L0:38.5% L1:45.6% BI:15.9%\n",
            "\u001b[1;36m[libx264 @ 0x5642e26b8800] \u001b[0m8x8 transform intra:41.8% inter:31.3%\n",
            "\u001b[1;36m[libx264 @ 0x5642e26b8800] \u001b[0mcoded y,uvDC,uvAC intra: 37.2% 51.1% 17.7% inter: 9.3% 11.7% 1.2%\n",
            "\u001b[1;36m[libx264 @ 0x5642e26b8800] \u001b[0mi16 v,h,dc,p: 23% 49% 18% 10%\n",
            "\u001b[1;36m[libx264 @ 0x5642e26b8800] \u001b[0mi8 v,h,dc,ddl,ddr,vr,hd,vl,hu: 16% 47% 23%  2%  2%  2%  3%  2%  4%\n",
            "\u001b[1;36m[libx264 @ 0x5642e26b8800] \u001b[0mi4 v,h,dc,ddl,ddr,vr,hd,vl,hu: 17% 30% 13%  6%  7%  5%  9%  5%  9%\n",
            "\u001b[1;36m[libx264 @ 0x5642e26b8800] \u001b[0mi8c dc,h,v,p: 40% 42% 13%  6%\n",
            "\u001b[1;36m[libx264 @ 0x5642e26b8800] \u001b[0mWeighted P-Frames: Y:0.0% UV:0.0%\n",
            "\u001b[1;36m[libx264 @ 0x5642e26b8800] \u001b[0mkb/s:2134.79\n",
            "[PySceneDetect] Output from ffmpeg for Scene 1 shown above, splitting remaining scenes...\n",
            "100% 3250/3250 [01:39<00:00, 32.78frame/s]\n",
            "[PySceneDetect] Average processing speed 32.60 frames/sec.\n",
            "[PySceneDetect] Video splitting completed, individual scenes written to disk.\n",
            "[PySceneDetect] Output directory set:\n",
            "  /content/gdrive/My Drive/adplace/scene_videos\n",
            "[PySceneDetect] Loaded 1 video, framerate: 25.00 FPS, resolution: 1280 x 720\n",
            "[PySceneDetect] Downscale factor set to 5, effective resolution: 256 x 144\n",
            "[PySceneDetect] Scene list CSV file name format:\n",
            "  $VIDEO_NAME-Scenes.csv\n",
            "[PySceneDetect] FFmpeg codec args set: -c:v libx264 -preset veryfast -crf 22 -c:a copy\n",
            "[PySceneDetect] Video output file name format: $VIDEO_NAME-Scene-$SCENE_NUMBER\n",
            "[PySceneDetect] Detecting scenes...\n",
            "100% 3250/3250 [00:25<00:00, 127.40frames/s]\n",
            "[PySceneDetect] Processed 3250 frames in 25.5 seconds (average 127.39 FPS).\n",
            "[PySceneDetect] Detected 11 scenes, average shot length 11.8 seconds.\n",
            "[PySceneDetect] Writing scene list to CSV file:\n",
            "  /content/gdrive/My Drive/adplace/scene_videos/adplace_314-Scenes.csv\n",
            "[PySceneDetect] Scene List:\n",
            "-----------------------------------------------------------------------\n",
            " | Scene # | Start Frame |  Start Time  |  End Frame  |   End Time   |\n",
            "-----------------------------------------------------------------------\n",
            " |      1  |           0 | 00:00:00.000 |         113 | 00:00:04.520 |\n",
            " |      2  |         113 | 00:00:04.520 |         199 | 00:00:07.960 |\n",
            " |      3  |         199 | 00:00:07.960 |         247 | 00:00:09.880 |\n",
            " |      4  |         247 | 00:00:09.880 |         524 | 00:00:20.960 |\n",
            " |      5  |         524 | 00:00:20.960 |        1386 | 00:00:55.440 |\n",
            " |      6  |        1386 | 00:00:55.440 |        1425 | 00:00:57.000 |\n",
            " |      7  |        1425 | 00:00:57.000 |        2071 | 00:01:22.840 |\n",
            " |      8  |        2071 | 00:01:22.840 |        2758 | 00:01:50.320 |\n",
            " |      9  |        2758 | 00:01:50.320 |        2816 | 00:01:52.640 |\n",
            " |     10  |        2816 | 00:01:52.640 |        3000 | 00:02:00.000 |\n",
            " |     11  |        3000 | 00:02:00.000 |        3250 | 00:02:10.000 |\n",
            "-----------------------------------------------------------------------\n",
            "\n",
            "[PySceneDetect] Comma-separated timecode list:\n",
            "  00:00:04.520,00:00:07.960,00:00:09.880,00:00:20.960,00:00:55.440,00:00:57.000,00:01:22.840,00:01:50.320,00:01:52.640,00:02:00.000\n",
            "[PySceneDetect] Splitting input video using ffmpeg, output path template:\n",
            "  /content/gdrive/My Drive/adplace/scene_videos/$VIDEO_NAME-Scene-$SCENE_NUMBER.mp4\n",
            "  0% 0/3250 [00:00<?, ?frame/s]ffmpeg version 3.4.6-0ubuntu0.18.04.1 Copyright (c) 2000-2019 the FFmpeg developers\n",
            "  built with gcc 7 (Ubuntu 7.3.0-16ubuntu3)\n",
            "  configuration: --prefix=/usr --extra-version=0ubuntu0.18.04.1 --toolchain=hardened --libdir=/usr/lib/x86_64-linux-gnu --incdir=/usr/include/x86_64-linux-gnu --enable-gpl --disable-stripping --enable-avresample --enable-avisynth --enable-gnutls --enable-ladspa --enable-libass --enable-libbluray --enable-libbs2b --enable-libcaca --enable-libcdio --enable-libflite --enable-libfontconfig --enable-libfreetype --enable-libfribidi --enable-libgme --enable-libgsm --enable-libmp3lame --enable-libmysofa --enable-libopenjpeg --enable-libopenmpt --enable-libopus --enable-libpulse --enable-librubberband --enable-librsvg --enable-libshine --enable-libsnappy --enable-libsoxr --enable-libspeex --enable-libssh --enable-libtheora --enable-libtwolame --enable-libvorbis --enable-libvpx --enable-libwavpack --enable-libwebp --enable-libx265 --enable-libxml2 --enable-libxvid --enable-libzmq --enable-libzvbi --enable-omx --enable-openal --enable-opengl --enable-sdl2 --enable-libdc1394 --enable-libdrm --enable-libiec61883 --enable-chromaprint --enable-frei0r --enable-libopencv --enable-libx264 --enable-shared\n",
            "  libavutil      55. 78.100 / 55. 78.100\n",
            "  libavcodec     57.107.100 / 57.107.100\n",
            "  libavformat    57. 83.100 / 57. 83.100\n",
            "  libavdevice    57. 10.100 / 57. 10.100\n",
            "  libavfilter     6.107.100 /  6.107.100\n",
            "  libavresample   3.  7.  0 /  3.  7.  0\n",
            "  libswscale      4.  8.100 /  4.  8.100\n",
            "  libswresample   2.  9.100 /  2.  9.100\n",
            "  libpostproc    54.  7.100 / 54.  7.100\n",
            "Input #0, mov,mp4,m4a,3gp,3g2,mj2, from '/content/gdrive/My Drive/adplace/full_videos/adplace_314.mp4':\n",
            "  Metadata:\n",
            "    major_brand     : mp42\n",
            "    minor_version   : 0\n",
            "    compatible_brands: isommp42\n",
            "    creation_time   : 2018-10-21T11:53:41.000000Z\n",
            "  Duration: 00:02:10.01, start: 0.000000, bitrate: 2316 kb/s\n",
            "    Stream #0:0(und): Video: h264 (Main) (avc1 / 0x31637661), yuv420p(tv, bt709), 1280x720 [SAR 1:1 DAR 16:9], 2187 kb/s, 25 fps, 25 tbr, 90k tbn, 50 tbc (default)\n",
            "    Metadata:\n",
            "      creation_time   : 2018-10-21T11:53:41.000000Z\n",
            "      handler_name    : ISO Media file produced by Google Inc. Created on: 10/21/2018.\n",
            "    Stream #0:1(eng): Audio: aac (LC) (mp4a / 0x6134706D), 44100 Hz, stereo, fltp, 125 kb/s (default)\n",
            "    Metadata:\n",
            "      creation_time   : 2018-10-21T11:53:41.000000Z\n",
            "      handler_name    : ISO Media file produced by Google Inc. Created on: 10/21/2018.\n",
            "Stream mapping:\n",
            "  Stream #0:0 -> #0:0 (h264 (native) -> h264 (libx264))\n",
            "  Stream #0:1 -> #0:1 (copy)\n",
            "Press [q] to stop, [?] for help\n",
            "\u001b[1;36m[libx264 @ 0x558566c30800] \u001b[0musing SAR=1/1\n",
            "\u001b[1;36m[libx264 @ 0x558566c30800] \u001b[0musing cpu capabilities: MMX2 SSE2Fast SSSE3 SSE4.2 AVX FMA3 BMI2 AVX2\n",
            "\u001b[1;36m[libx264 @ 0x558566c30800] \u001b[0mprofile High, level 3.1\n",
            "\u001b[1;36m[libx264 @ 0x558566c30800] \u001b[0m264 - core 152 r2854 e9a5903 - H.264/MPEG-4 AVC codec - Copyleft 2003-2017 - http://www.videolan.org/x264.html - options: cabac=1 ref=1 deblock=1:0:0 analyse=0x3:0x113 me=hex subme=2 psy=1 psy_rd=1.00:0.00 mixed_ref=0 me_range=16 chroma_me=1 trellis=0 8x8dct=1 cqm=0 deadzone=21,11 fast_pskip=1 chroma_qp_offset=0 threads=3 lookahead_threads=1 sliced_threads=0 nr=0 decimate=1 interlaced=0 bluray_compat=0 constrained_intra=0 bframes=3 b_pyramid=2 b_adapt=1 b_bias=0 direct=1 weightb=1 open_gop=0 weightp=1 keyint=250 keyint_min=25 scenecut=40 intra_refresh=0 rc_lookahead=10 rc=crf mbtree=1 crf=22.0 qcomp=0.60 qpmin=0 qpmax=69 qpstep=4 ip_ratio=1.40 aq=1:1.00\n",
            "Output #0, mp4, to '/content/gdrive/My Drive/adplace/scene_videos/adplace_314-Scene-001.mp4':\n",
            "  Metadata:\n",
            "    major_brand     : mp42\n",
            "    minor_version   : 0\n",
            "    compatible_brands: isommp42\n",
            "    encoder         : Lavf57.83.100\n",
            "    Stream #0:0(und): Video: h264 (libx264) (avc1 / 0x31637661), yuv420p, 1280x720 [SAR 1:1 DAR 16:9], q=-1--1, 25 fps, 12800 tbn, 25 tbc (default)\n",
            "    Metadata:\n",
            "      creation_time   : 2018-10-21T11:53:41.000000Z\n",
            "      handler_name    : ISO Media file produced by Google Inc. Created on: 10/21/2018.\n",
            "      encoder         : Lavc57.107.100 libx264\n",
            "    Side data:\n",
            "      cpb: bitrate max/min/avg: 0/0/0 buffer size: 0 vbv_delay: -1\n",
            "    Stream #0:1(eng): Audio: aac (LC) (mp4a / 0x6134706D), 44100 Hz, stereo, fltp, 125 kb/s (default)\n",
            "    Metadata:\n",
            "      creation_time   : 2018-10-21T11:53:41.000000Z\n",
            "      handler_name    : ISO Media file produced by Google Inc. Created on: 10/21/2018.\n",
            "frame=  113 fps= 26 q=-1.0 Lsize=    2936kB time=00:00:04.50 bitrate=5339.0kbits/s speed=1.03x    \n",
            "video:2861kB audio:70kB subtitle:0kB other streams:0kB global headers:0kB muxing overhead: 0.171068%\n",
            "\u001b[1;36m[libx264 @ 0x558566c30800] \u001b[0mframe I:1     Avg QP:24.61  size: 61717\n",
            "\u001b[1;36m[libx264 @ 0x558566c30800] \u001b[0mframe P:46    Avg QP:25.50  size: 39341\n",
            "\u001b[1;36m[libx264 @ 0x558566c30800] \u001b[0mframe B:66    Avg QP:28.06  size: 16026\n",
            "\u001b[1;36m[libx264 @ 0x558566c30800] \u001b[0mconsecutive B-frames:  0.9% 61.9%  5.3% 31.9%\n",
            "\u001b[1;36m[libx264 @ 0x558566c30800] \u001b[0mmb I  I16..4:  6.8% 38.4% 54.9%\n",
            "\u001b[1;36m[libx264 @ 0x558566c30800] \u001b[0mmb P  I16..4:  4.9% 13.9%  5.6%  P16..4: 29.0% 23.8% 15.8%  0.0%  0.0%    skip: 7.0%\n",
            "\u001b[1;36m[libx264 @ 0x558566c30800] \u001b[0mmb B  I16..4:  1.8%  3.2%  0.5%  B16..8: 34.2% 19.4%  4.2%  direct: 4.9%  skip:31.7%  L0:40.0% L1:47.0% BI:13.0%\n",
            "\u001b[1;36m[libx264 @ 0x558566c30800] \u001b[0m8x8 transform intra:56.0% inter:29.1%\n",
            "\u001b[1;36m[libx264 @ 0x558566c30800] \u001b[0mcoded y,uvDC,uvAC intra: 58.7% 71.2% 30.0% inter: 22.7% 30.6% 7.6%\n",
            "\u001b[1;36m[libx264 @ 0x558566c30800] \u001b[0mi16 v,h,dc,p: 33% 29% 25% 12%\n",
            "\u001b[1;36m[libx264 @ 0x558566c30800] \u001b[0mi8 v,h,dc,ddl,ddr,vr,hd,vl,hu: 35% 24% 19%  3%  2%  4%  3%  5%  5%\n",
            "\u001b[1;36m[libx264 @ 0x558566c30800] \u001b[0mi4 v,h,dc,ddl,ddr,vr,hd,vl,hu: 31% 22% 18%  5%  4%  5%  5%  5%  5%\n",
            "\u001b[1;36m[libx264 @ 0x558566c30800] \u001b[0mi8c dc,h,v,p: 38% 26% 28%  9%\n",
            "\u001b[1;36m[libx264 @ 0x558566c30800] \u001b[0mWeighted P-Frames: Y:0.0% UV:0.0%\n",
            "\u001b[1;36m[libx264 @ 0x558566c30800] \u001b[0mkb/s:5184.28\n",
            "[PySceneDetect] Output from ffmpeg for Scene 1 shown above, splitting remaining scenes...\n",
            "100% 3250/3250 [01:44<00:00, 30.43frame/s]\n",
            "[PySceneDetect] Average processing speed 31.01 frames/sec.\n",
            "[PySceneDetect] Video splitting completed, individual scenes written to disk.\n",
            "[PySceneDetect] Output directory set:\n",
            "  /content/gdrive/My Drive/adplace/scene_videos\n",
            "[PySceneDetect] Loaded 1 video, framerate: 29.97 FPS, resolution: 1280 x 544\n",
            "[PySceneDetect] Downscale factor set to 5, effective resolution: 256 x 108\n",
            "[PySceneDetect] Scene list CSV file name format:\n",
            "  $VIDEO_NAME-Scenes.csv\n",
            "[PySceneDetect] FFmpeg codec args set: -c:v libx264 -preset veryfast -crf 22 -c:a copy\n",
            "[PySceneDetect] Video output file name format: $VIDEO_NAME-Scene-$SCENE_NUMBER\n",
            "[PySceneDetect] Detecting scenes...\n",
            "100% 4496/4496 [00:22<00:00, 203.38frames/s]\n",
            "[PySceneDetect] Processed 4496 frames in 22.1 seconds (average 203.36 FPS).\n",
            "[PySceneDetect] Detected 78 scenes, average shot length 1.9 seconds.\n",
            "[PySceneDetect] Writing scene list to CSV file:\n",
            "  /content/gdrive/My Drive/adplace/scene_videos/adplace_315-Scenes.csv\n",
            "[PySceneDetect] Scene List:\n",
            "-----------------------------------------------------------------------\n",
            " | Scene # | Start Frame |  Start Time  |  End Frame  |   End Time   |\n",
            "-----------------------------------------------------------------------\n",
            " |      1  |           0 | 00:00:00.000 |         148 | 00:00:04.938 |\n",
            " |      2  |         148 | 00:00:04.938 |         188 | 00:00:06.273 |\n",
            " |      3  |         188 | 00:00:06.273 |         295 | 00:00:09.843 |\n",
            " |      4  |         295 | 00:00:09.843 |         579 | 00:00:19.319 |\n",
            " |      5  |         579 | 00:00:19.319 |         604 | 00:00:20.153 |\n",
            " |      6  |         604 | 00:00:20.153 |         641 | 00:00:21.388 |\n",
            " |      7  |         641 | 00:00:21.388 |         685 | 00:00:22.856 |\n",
            " |      8  |         685 | 00:00:22.856 |         710 | 00:00:23.690 |\n",
            " |      9  |         710 | 00:00:23.690 |         754 | 00:00:25.158 |\n",
            " |     10  |         754 | 00:00:25.158 |         822 | 00:00:27.427 |\n",
            " |     11  |         822 | 00:00:27.427 |         862 | 00:00:28.762 |\n",
            " |     12  |         862 | 00:00:28.762 |         882 | 00:00:29.429 |\n",
            " |     13  |         882 | 00:00:29.429 |         900 | 00:00:30.030 |\n",
            " |     14  |         900 | 00:00:30.030 |         966 | 00:00:32.232 |\n",
            " |     15  |         966 | 00:00:32.232 |        1028 | 00:00:34.301 |\n",
            " |     16  |        1028 | 00:00:34.301 |        1090 | 00:00:36.370 |\n",
            " |     17  |        1090 | 00:00:36.370 |        1123 | 00:00:37.471 |\n",
            " |     18  |        1123 | 00:00:37.471 |        1271 | 00:00:42.409 |\n",
            " |     19  |        1271 | 00:00:42.409 |        1322 | 00:00:44.111 |\n",
            " |     20  |        1322 | 00:00:44.111 |        1494 | 00:00:49.850 |\n",
            " |     21  |        1494 | 00:00:49.850 |        1620 | 00:00:54.054 |\n",
            " |     22  |        1620 | 00:00:54.054 |        1673 | 00:00:55.822 |\n",
            " |     23  |        1673 | 00:00:55.822 |        1749 | 00:00:58.358 |\n",
            " |     24  |        1749 | 00:00:58.358 |        1790 | 00:00:59.726 |\n",
            " |     25  |        1790 | 00:00:59.726 |        1851 | 00:01:01.762 |\n",
            " |     26  |        1851 | 00:01:01.762 |        1981 | 00:01:06.099 |\n",
            " |     27  |        1981 | 00:01:06.099 |        2010 | 00:01:07.067 |\n",
            " |     28  |        2010 | 00:01:07.067 |        2139 | 00:01:11.371 |\n",
            " |     29  |        2139 | 00:01:11.371 |        2174 | 00:01:12.539 |\n",
            " |     30  |        2174 | 00:01:12.539 |        2212 | 00:01:13.807 |\n",
            " |     31  |        2212 | 00:01:13.807 |        2255 | 00:01:15.242 |\n",
            " |     32  |        2255 | 00:01:15.242 |        2303 | 00:01:16.843 |\n",
            " |     33  |        2303 | 00:01:16.843 |        2332 | 00:01:17.811 |\n",
            " |     34  |        2332 | 00:01:17.811 |        2381 | 00:01:19.446 |\n",
            " |     35  |        2381 | 00:01:19.446 |        2468 | 00:01:22.349 |\n",
            " |     36  |        2468 | 00:01:22.349 |        2597 | 00:01:26.653 |\n",
            " |     37  |        2597 | 00:01:26.653 |        2704 | 00:01:30.223 |\n",
            " |     38  |        2704 | 00:01:30.223 |        2743 | 00:01:31.525 |\n",
            " |     39  |        2743 | 00:01:31.525 |        2769 | 00:01:32.392 |\n",
            " |     40  |        2769 | 00:01:32.392 |        2792 | 00:01:33.160 |\n",
            " |     41  |        2792 | 00:01:33.160 |        2810 | 00:01:33.760 |\n",
            " |     42  |        2810 | 00:01:33.760 |        2978 | 00:01:39.366 |\n",
            " |     43  |        2978 | 00:01:39.366 |        3013 | 00:01:40.534 |\n",
            " |     44  |        3013 | 00:01:40.534 |        3048 | 00:01:41.702 |\n",
            " |     45  |        3048 | 00:01:41.702 |        3079 | 00:01:42.736 |\n",
            " |     46  |        3079 | 00:01:42.736 |        3106 | 00:01:43.637 |\n",
            " |     47  |        3106 | 00:01:43.637 |        3151 | 00:01:45.138 |\n",
            " |     48  |        3151 | 00:01:45.138 |        3183 | 00:01:46.206 |\n",
            " |     49  |        3183 | 00:01:46.206 |        3228 | 00:01:47.708 |\n",
            " |     50  |        3228 | 00:01:47.708 |        3264 | 00:01:48.909 |\n",
            " |     51  |        3264 | 00:01:48.909 |        3309 | 00:01:50.410 |\n",
            " |     52  |        3309 | 00:01:50.410 |        3337 | 00:01:51.345 |\n",
            " |     53  |        3337 | 00:01:51.345 |        3364 | 00:01:52.245 |\n",
            " |     54  |        3364 | 00:01:52.245 |        3396 | 00:01:53.313 |\n",
            " |     55  |        3396 | 00:01:53.313 |        3420 | 00:01:54.114 |\n",
            " |     56  |        3420 | 00:01:54.114 |        3459 | 00:01:55.415 |\n",
            " |     57  |        3459 | 00:01:55.415 |        3480 | 00:01:56.116 |\n",
            " |     58  |        3480 | 00:01:56.116 |        3503 | 00:01:56.883 |\n",
            " |     59  |        3503 | 00:01:56.883 |        3518 | 00:01:57.384 |\n",
            " |     60  |        3518 | 00:01:57.384 |        3538 | 00:01:58.051 |\n",
            " |     61  |        3538 | 00:01:58.051 |        3553 | 00:01:58.552 |\n",
            " |     62  |        3553 | 00:01:58.552 |        3576 | 00:01:59.319 |\n",
            " |     63  |        3576 | 00:01:59.319 |        3602 | 00:02:00.187 |\n",
            " |     64  |        3602 | 00:02:00.187 |        3621 | 00:02:00.821 |\n",
            " |     65  |        3621 | 00:02:00.821 |        3667 | 00:02:02.356 |\n",
            " |     66  |        3667 | 00:02:02.356 |        3683 | 00:02:02.889 |\n",
            " |     67  |        3683 | 00:02:02.889 |        3698 | 00:02:03.390 |\n",
            " |     68  |        3698 | 00:02:03.390 |        3726 | 00:02:04.324 |\n",
            " |     69  |        3726 | 00:02:04.324 |        3826 | 00:02:07.661 |\n",
            " |     70  |        3826 | 00:02:07.661 |        3936 | 00:02:11.331 |\n",
            " |     71  |        3936 | 00:02:11.331 |        4150 | 00:02:18.472 |\n",
            " |     72  |        4150 | 00:02:18.472 |        4188 | 00:02:19.740 |\n",
            " |     73  |        4188 | 00:02:19.740 |        4265 | 00:02:22.309 |\n",
            " |     74  |        4265 | 00:02:22.309 |        4303 | 00:02:23.577 |\n",
            " |     75  |        4303 | 00:02:23.577 |        4338 | 00:02:24.745 |\n",
            " |     76  |        4338 | 00:02:24.745 |        4355 | 00:02:25.312 |\n",
            " |     77  |        4355 | 00:02:25.312 |        4401 | 00:02:26.847 |\n",
            " |     78  |        4401 | 00:02:26.847 |        4496 | 00:02:30.017 |\n",
            "-----------------------------------------------------------------------\n",
            "\n",
            "[PySceneDetect] Comma-separated timecode list:\n",
            "  00:00:04.938,00:00:06.273,00:00:09.843,00:00:19.319,00:00:20.153,00:00:21.388,00:00:22.856,00:00:23.690,00:00:25.158,00:00:27.427,00:00:28.762,00:00:29.429,00:00:30.030,00:00:32.232,00:00:34.301,00:00:36.370,00:00:37.471,00:00:42.409,00:00:44.111,00:00:49.850,00:00:54.054,00:00:55.822,00:00:58.358,00:00:59.726,00:01:01.762,00:01:06.099,00:01:07.067,00:01:11.371,00:01:12.539,00:01:13.807,00:01:15.242,00:01:16.843,00:01:17.811,00:01:19.446,00:01:22.349,00:01:26.653,00:01:30.223,00:01:31.525,00:01:32.392,00:01:33.160,00:01:33.760,00:01:39.366,00:01:40.534,00:01:41.702,00:01:42.736,00:01:43.637,00:01:45.138,00:01:46.206,00:01:47.708,00:01:48.909,00:01:50.410,00:01:51.345,00:01:52.245,00:01:53.313,00:01:54.114,00:01:55.415,00:01:56.116,00:01:56.883,00:01:57.384,00:01:58.051,00:01:58.552,00:01:59.319,00:02:00.187,00:02:00.821,00:02:02.356,00:02:02.889,00:02:03.390,00:02:04.324,00:02:07.661,00:02:11.331,00:02:18.472,00:02:19.740,00:02:22.309,00:02:23.577,00:02:24.745,00:02:25.312,00:02:26.847\n",
            "[PySceneDetect] Splitting input video using ffmpeg, output path template:\n",
            "  /content/gdrive/My Drive/adplace/scene_videos/$VIDEO_NAME-Scene-$SCENE_NUMBER.mp4\n",
            "  0% 0/4496 [00:00<?, ?frame/s]ffmpeg version 3.4.6-0ubuntu0.18.04.1 Copyright (c) 2000-2019 the FFmpeg developers\n",
            "  built with gcc 7 (Ubuntu 7.3.0-16ubuntu3)\n",
            "  configuration: --prefix=/usr --extra-version=0ubuntu0.18.04.1 --toolchain=hardened --libdir=/usr/lib/x86_64-linux-gnu --incdir=/usr/include/x86_64-linux-gnu --enable-gpl --disable-stripping --enable-avresample --enable-avisynth --enable-gnutls --enable-ladspa --enable-libass --enable-libbluray --enable-libbs2b --enable-libcaca --enable-libcdio --enable-libflite --enable-libfontconfig --enable-libfreetype --enable-libfribidi --enable-libgme --enable-libgsm --enable-libmp3lame --enable-libmysofa --enable-libopenjpeg --enable-libopenmpt --enable-libopus --enable-libpulse --enable-librubberband --enable-librsvg --enable-libshine --enable-libsnappy --enable-libsoxr --enable-libspeex --enable-libssh --enable-libtheora --enable-libtwolame --enable-libvorbis --enable-libvpx --enable-libwavpack --enable-libwebp --enable-libx265 --enable-libxml2 --enable-libxvid --enable-libzmq --enable-libzvbi --enable-omx --enable-openal --enable-opengl --enable-sdl2 --enable-libdc1394 --enable-libdrm --enable-libiec61883 --enable-chromaprint --enable-frei0r --enable-libopencv --enable-libx264 --enable-shared\n",
            "  libavutil      55. 78.100 / 55. 78.100\n",
            "  libavcodec     57.107.100 / 57.107.100\n",
            "  libavformat    57. 83.100 / 57. 83.100\n",
            "  libavdevice    57. 10.100 / 57. 10.100\n",
            "  libavfilter     6.107.100 /  6.107.100\n",
            "  libavresample   3.  7.  0 /  3.  7.  0\n",
            "  libswscale      4.  8.100 /  4.  8.100\n",
            "  libswresample   2.  9.100 /  2.  9.100\n",
            "  libpostproc    54.  7.100 / 54.  7.100\n",
            "Input #0, mov,mp4,m4a,3gp,3g2,mj2, from '/content/gdrive/My Drive/adplace/full_videos/adplace_315.mp4':\n",
            "  Metadata:\n",
            "    major_brand     : mp42\n",
            "    minor_version   : 0\n",
            "    compatible_brands: isommp42\n",
            "    creation_time   : 2018-09-26T19:39:06.000000Z\n",
            "  Duration: 00:02:30.02, start: 0.000000, bitrate: 1051 kb/s\n",
            "    Stream #0:0(und): Video: h264 (Main) (avc1 / 0x31637661), yuv420p(tv, bt709), 1280x544 [SAR 1:1 DAR 40:17], 922 kb/s, 29.97 fps, 29.97 tbr, 90k tbn, 59.94 tbc (default)\n",
            "    Metadata:\n",
            "      creation_time   : 2018-09-26T19:39:06.000000Z\n",
            "      handler_name    : ISO Media file produced by Google Inc. Created on: 09/26/2018.\n",
            "    Stream #0:1(und): Audio: aac (LC) (mp4a / 0x6134706D), 44100 Hz, stereo, fltp, 125 kb/s (default)\n",
            "    Metadata:\n",
            "      creation_time   : 2018-09-26T19:39:06.000000Z\n",
            "      handler_name    : ISO Media file produced by Google Inc. Created on: 09/26/2018.\n",
            "Stream mapping:\n",
            "  Stream #0:0 -> #0:0 (h264 (native) -> h264 (libx264))\n",
            "  Stream #0:1 -> #0:1 (copy)\n",
            "Press [q] to stop, [?] for help\n",
            "\u001b[1;36m[libx264 @ 0x5614af1ea800] \u001b[0musing SAR=1/1\n",
            "\u001b[1;36m[libx264 @ 0x5614af1ea800] \u001b[0musing cpu capabilities: MMX2 SSE2Fast SSSE3 SSE4.2 AVX FMA3 BMI2 AVX2\n",
            "\u001b[1;36m[libx264 @ 0x5614af1ea800] \u001b[0mprofile High, level 3.1\n",
            "\u001b[1;36m[libx264 @ 0x5614af1ea800] \u001b[0m264 - core 152 r2854 e9a5903 - H.264/MPEG-4 AVC codec - Copyleft 2003-2017 - http://www.videolan.org/x264.html - options: cabac=1 ref=1 deblock=1:0:0 analyse=0x3:0x113 me=hex subme=2 psy=1 psy_rd=1.00:0.00 mixed_ref=0 me_range=16 chroma_me=1 trellis=0 8x8dct=1 cqm=0 deadzone=21,11 fast_pskip=1 chroma_qp_offset=0 threads=3 lookahead_threads=1 sliced_threads=0 nr=0 decimate=1 interlaced=0 bluray_compat=0 constrained_intra=0 bframes=3 b_pyramid=2 b_adapt=1 b_bias=0 direct=1 weightb=1 open_gop=0 weightp=1 keyint=250 keyint_min=25 scenecut=40 intra_refresh=0 rc_lookahead=10 rc=crf mbtree=1 crf=22.0 qcomp=0.60 qpmin=0 qpmax=69 qpstep=4 ip_ratio=1.40 aq=1:1.00\n",
            "Output #0, mp4, to '/content/gdrive/My Drive/adplace/scene_videos/adplace_315-Scene-001.mp4':\n",
            "  Metadata:\n",
            "    major_brand     : mp42\n",
            "    minor_version   : 0\n",
            "    compatible_brands: isommp42\n",
            "    encoder         : Lavf57.83.100\n",
            "    Stream #0:0(und): Video: h264 (libx264) (avc1 / 0x31637661), yuv420p, 1280x544 [SAR 1:1 DAR 40:17], q=-1--1, 29.97 fps, 30k tbn, 29.97 tbc (default)\n",
            "    Metadata:\n",
            "      creation_time   : 2018-09-26T19:39:06.000000Z\n",
            "      handler_name    : ISO Media file produced by Google Inc. Created on: 09/26/2018.\n",
            "      encoder         : Lavc57.107.100 libx264\n",
            "    Side data:\n",
            "      cpb: bitrate max/min/avg: 0/0/0 buffer size: 0 vbv_delay: -1\n",
            "    Stream #0:1(und): Audio: aac (LC) (mp4a / 0x6134706D), 44100 Hz, stereo, fltp, 125 kb/s (default)\n",
            "    Metadata:\n",
            "      creation_time   : 2018-09-26T19:39:06.000000Z\n",
            "      handler_name    : ISO Media file produced by Google Inc. Created on: 09/26/2018.\n",
            "frame=  148 fps=113 q=-1.0 Lsize=     181kB time=00:00:04.92 bitrate= 300.4kbits/s speed=3.75x    \n",
            "video:98kB audio:76kB subtitle:0kB other streams:0kB global headers:0kB muxing overhead: 3.762677%\n",
            "\u001b[1;36m[libx264 @ 0x5614af1ea800] \u001b[0mframe I:1     Avg QP:13.06  size: 17067\n",
            "\u001b[1;36m[libx264 @ 0x5614af1ea800] \u001b[0mframe P:38    Avg QP:14.11  size:  1098\n",
            "\u001b[1;36m[libx264 @ 0x5614af1ea800] \u001b[0mframe B:109   Avg QP:16.96  size:   372\n",
            "\u001b[1;36m[libx264 @ 0x5614af1ea800] \u001b[0mconsecutive B-frames:  0.7%  2.7%  2.0% 94.6%\n",
            "\u001b[1;36m[libx264 @ 0x5614af1ea800] \u001b[0mmb I  I16..4: 87.6%  1.1% 11.3%\n",
            "\u001b[1;36m[libx264 @ 0x5614af1ea800] \u001b[0mmb P  I16..4: 38.4%  0.5%  0.0%  P16..4:  7.4%  0.3%  0.0%  0.0%  0.0%    skip:53.3%\n",
            "\u001b[1;36m[libx264 @ 0x5614af1ea800] \u001b[0mmb B  I16..4:  0.2%  0.0%  0.0%  B16..8:  1.4%  0.1%  0.0%  direct:11.9%  skip:86.4%  L0:48.6% L1:51.3% BI: 0.1%\n",
            "\u001b[1;36m[libx264 @ 0x5614af1ea800] \u001b[0m8x8 transform intra:1.3% inter:14.6%\n",
            "\u001b[1;36m[libx264 @ 0x5614af1ea800] \u001b[0mcoded y,uvDC,uvAC intra: 1.1% 12.1% 5.5% inter: 0.1% 12.2% 0.0%\n",
            "\u001b[1;36m[libx264 @ 0x5614af1ea800] \u001b[0mi16 v,h,dc,p: 86% 14%  0%  0%\n",
            "\u001b[1;36m[libx264 @ 0x5614af1ea800] \u001b[0mi8 v,h,dc,ddl,ddr,vr,hd,vl,hu:  7% 45% 47%  0%  0%  0%  1%  0%  0%\n",
            "\u001b[1;36m[libx264 @ 0x5614af1ea800] \u001b[0mi4 v,h,dc,ddl,ddr,vr,hd,vl,hu: 29% 29% 15%  2%  4%  6%  5%  5%  5%\n",
            "\u001b[1;36m[libx264 @ 0x5614af1ea800] \u001b[0mi8c dc,h,v,p: 52% 43%  4%  1%\n",
            "\u001b[1;36m[libx264 @ 0x5614af1ea800] \u001b[0mWeighted P-Frames: Y:0.0% UV:0.0%\n",
            "\u001b[1;36m[libx264 @ 0x5614af1ea800] \u001b[0mkb/s:160.97\n",
            "[PySceneDetect] Output from ffmpeg for Scene 1 shown above, splitting remaining scenes...\n",
            "100% 4496/4496 [01:41<00:00, 45.69frame/s]\n",
            "[PySceneDetect] Average processing speed 44.30 frames/sec.\n",
            "[PySceneDetect] Video splitting completed, individual scenes written to disk.\n",
            "[PySceneDetect] Output directory set:\n",
            "  /content/gdrive/My Drive/adplace/scene_videos\n",
            "[PySceneDetect] Loaded 1 video, framerate: 29.97 FPS, resolution: 1280 x 720\n",
            "[PySceneDetect] Downscale factor set to 5, effective resolution: 256 x 144\n",
            "[PySceneDetect] Scene list CSV file name format:\n",
            "  $VIDEO_NAME-Scenes.csv\n",
            "[PySceneDetect] FFmpeg codec args set: -c:v libx264 -preset veryfast -crf 22 -c:a copy\n",
            "[PySceneDetect] Video output file name format: $VIDEO_NAME-Scene-$SCENE_NUMBER\n",
            "[PySceneDetect] Detecting scenes...\n",
            "100% 3221/3221 [00:17<00:00, 185.08frames/s]\n",
            "[PySceneDetect] Processed 3221 frames in 17.4 seconds (average 185.06 FPS).\n",
            "[PySceneDetect] Detected 12 scenes, average shot length 9.0 seconds.\n",
            "[PySceneDetect] Writing scene list to CSV file:\n",
            "  /content/gdrive/My Drive/adplace/scene_videos/adplace_316-Scenes.csv\n",
            "[PySceneDetect] Scene List:\n",
            "-----------------------------------------------------------------------\n",
            " | Scene # | Start Frame |  Start Time  |  End Frame  |   End Time   |\n",
            "-----------------------------------------------------------------------\n",
            " |      1  |           0 | 00:00:00.000 |         388 | 00:00:12.946 |\n",
            " |      2  |         388 | 00:00:12.946 |         523 | 00:00:17.451 |\n",
            " |      3  |         523 | 00:00:17.451 |         847 | 00:00:28.262 |\n",
            " |      4  |         847 | 00:00:28.262 |         944 | 00:00:31.498 |\n",
            " |      5  |         944 | 00:00:31.498 |         976 | 00:00:32.566 |\n",
            " |      6  |         976 | 00:00:32.566 |        1591 | 00:00:53.087 |\n",
            " |      7  |        1591 | 00:00:53.087 |        1959 | 00:01:05.366 |\n",
            " |      8  |        1959 | 00:01:05.366 |        2025 | 00:01:07.568 |\n",
            " |      9  |        2025 | 00:01:07.568 |        2230 | 00:01:14.408 |\n",
            " |     10  |        2230 | 00:01:14.408 |        2349 | 00:01:18.379 |\n",
            " |     11  |        2349 | 00:01:18.379 |        2861 | 00:01:35.462 |\n",
            " |     12  |        2861 | 00:01:35.462 |        3221 | 00:01:47.474 |\n",
            "-----------------------------------------------------------------------\n",
            "\n",
            "[PySceneDetect] Comma-separated timecode list:\n",
            "  00:00:12.946,00:00:17.451,00:00:28.262,00:00:31.498,00:00:32.566,00:00:53.087,00:01:05.366,00:01:07.568,00:01:14.408,00:01:18.379,00:01:35.462\n",
            "[PySceneDetect] Splitting input video using ffmpeg, output path template:\n",
            "  /content/gdrive/My Drive/adplace/scene_videos/$VIDEO_NAME-Scene-$SCENE_NUMBER.mp4\n",
            "  0% 0/3221 [00:00<?, ?frame/s]ffmpeg version 3.4.6-0ubuntu0.18.04.1 Copyright (c) 2000-2019 the FFmpeg developers\n",
            "  built with gcc 7 (Ubuntu 7.3.0-16ubuntu3)\n",
            "  configuration: --prefix=/usr --extra-version=0ubuntu0.18.04.1 --toolchain=hardened --libdir=/usr/lib/x86_64-linux-gnu --incdir=/usr/include/x86_64-linux-gnu --enable-gpl --disable-stripping --enable-avresample --enable-avisynth --enable-gnutls --enable-ladspa --enable-libass --enable-libbluray --enable-libbs2b --enable-libcaca --enable-libcdio --enable-libflite --enable-libfontconfig --enable-libfreetype --enable-libfribidi --enable-libgme --enable-libgsm --enable-libmp3lame --enable-libmysofa --enable-libopenjpeg --enable-libopenmpt --enable-libopus --enable-libpulse --enable-librubberband --enable-librsvg --enable-libshine --enable-libsnappy --enable-libsoxr --enable-libspeex --enable-libssh --enable-libtheora --enable-libtwolame --enable-libvorbis --enable-libvpx --enable-libwavpack --enable-libwebp --enable-libx265 --enable-libxml2 --enable-libxvid --enable-libzmq --enable-libzvbi --enable-omx --enable-openal --enable-opengl --enable-sdl2 --enable-libdc1394 --enable-libdrm --enable-libiec61883 --enable-chromaprint --enable-frei0r --enable-libopencv --enable-libx264 --enable-shared\n",
            "  libavutil      55. 78.100 / 55. 78.100\n",
            "  libavcodec     57.107.100 / 57.107.100\n",
            "  libavformat    57. 83.100 / 57. 83.100\n",
            "  libavdevice    57. 10.100 / 57. 10.100\n",
            "  libavfilter     6.107.100 /  6.107.100\n",
            "  libavresample   3.  7.  0 /  3.  7.  0\n",
            "  libswscale      4.  8.100 /  4.  8.100\n",
            "  libswresample   2.  9.100 /  2.  9.100\n",
            "  libpostproc    54.  7.100 / 54.  7.100\n",
            "Input #0, mov,mp4,m4a,3gp,3g2,mj2, from '/content/gdrive/My Drive/adplace/full_videos/adplace_316.mp4':\n",
            "  Metadata:\n",
            "    major_brand     : mp42\n",
            "    minor_version   : 0\n",
            "    compatible_brands: isommp42\n",
            "    creation_time   : 2018-11-20T15:44:57.000000Z\n",
            "    encoder         : Google\n",
            "  Duration: 00:01:47.49, start: 0.000000, bitrate: 1133 kb/s\n",
            "    Stream #0:0(und): Video: h264 (High) (avc1 / 0x31637661), yuv420p(tv, bt709), 1280x720 [SAR 1:1 DAR 16:9], 1003 kb/s, 29.97 fps, 29.97 tbr, 30k tbn, 59.94 tbc (default)\n",
            "    Metadata:\n",
            "      creation_time   : 2018-11-20T15:44:57.000000Z\n",
            "      handler_name    : ISO Media file produced by Google Inc. Created on: 11/20/2018.\n",
            "    Stream #0:1(eng): Audio: aac (LC) (mp4a / 0x6134706D), 44100 Hz, stereo, fltp, 127 kb/s (default)\n",
            "    Metadata:\n",
            "      creation_time   : 2018-11-20T15:44:57.000000Z\n",
            "      handler_name    : ISO Media file produced by Google Inc. Created on: 11/20/2018.\n",
            "Stream mapping:\n",
            "  Stream #0:0 -> #0:0 (h264 (native) -> h264 (libx264))\n",
            "  Stream #0:1 -> #0:1 (copy)\n",
            "Press [q] to stop, [?] for help\n",
            "\u001b[1;36m[libx264 @ 0x5641ccb16800] \u001b[0musing SAR=1/1\n",
            "\u001b[1;36m[libx264 @ 0x5641ccb16800] \u001b[0musing cpu capabilities: MMX2 SSE2Fast SSSE3 SSE4.2 AVX FMA3 BMI2 AVX2\n",
            "\u001b[1;36m[libx264 @ 0x5641ccb16800] \u001b[0mprofile High, level 3.1\n",
            "\u001b[1;36m[libx264 @ 0x5641ccb16800] \u001b[0m264 - core 152 r2854 e9a5903 - H.264/MPEG-4 AVC codec - Copyleft 2003-2017 - http://www.videolan.org/x264.html - options: cabac=1 ref=1 deblock=1:0:0 analyse=0x3:0x113 me=hex subme=2 psy=1 psy_rd=1.00:0.00 mixed_ref=0 me_range=16 chroma_me=1 trellis=0 8x8dct=1 cqm=0 deadzone=21,11 fast_pskip=1 chroma_qp_offset=0 threads=3 lookahead_threads=1 sliced_threads=0 nr=0 decimate=1 interlaced=0 bluray_compat=0 constrained_intra=0 bframes=3 b_pyramid=2 b_adapt=1 b_bias=0 direct=1 weightb=1 open_gop=0 weightp=1 keyint=250 keyint_min=25 scenecut=40 intra_refresh=0 rc_lookahead=10 rc=crf mbtree=1 crf=22.0 qcomp=0.60 qpmin=0 qpmax=69 qpstep=4 ip_ratio=1.40 aq=1:1.00\n",
            "Output #0, mp4, to '/content/gdrive/My Drive/adplace/scene_videos/adplace_316-Scene-001.mp4':\n",
            "  Metadata:\n",
            "    major_brand     : mp42\n",
            "    minor_version   : 0\n",
            "    compatible_brands: isommp42\n",
            "    encoder         : Lavf57.83.100\n",
            "    Stream #0:0(und): Video: h264 (libx264) (avc1 / 0x31637661), yuv420p, 1280x720 [SAR 1:1 DAR 16:9], q=-1--1, 29.97 fps, 30k tbn, 29.97 tbc (default)\n",
            "    Metadata:\n",
            "      creation_time   : 2018-11-20T15:44:57.000000Z\n",
            "      handler_name    : ISO Media file produced by Google Inc. Created on: 11/20/2018.\n",
            "      encoder         : Lavc57.107.100 libx264\n",
            "    Side data:\n",
            "      cpb: bitrate max/min/avg: 0/0/0 buffer size: 0 vbv_delay: -1\n",
            "    Stream #0:1(eng): Audio: aac (LC) (mp4a / 0x6134706D), 44100 Hz, stereo, fltp, 127 kb/s (default)\n",
            "    Metadata:\n",
            "      creation_time   : 2018-11-20T15:44:57.000000Z\n",
            "      handler_name    : ISO Media file produced by Google Inc. Created on: 11/20/2018.\n",
            "frame=  388 fps= 55 q=-1.0 Lsize=    1530kB time=00:00:12.93 bitrate= 969.0kbits/s speed=1.84x    \n",
            "video:1312kB audio:203kB subtitle:0kB other streams:0kB global headers:0kB muxing overhead: 0.981764%\n",
            "\u001b[1;36m[libx264 @ 0x5641ccb16800] \u001b[0mframe I:13    Avg QP:12.53  size: 13269\n",
            "\u001b[1;36m[libx264 @ 0x5641ccb16800] \u001b[0mframe P:119   Avg QP:15.77  size:  5588\n",
            "\u001b[1;36m[libx264 @ 0x5641ccb16800] \u001b[0mframe B:256   Avg QP:17.51  size:  1974\n",
            "\u001b[1;36m[libx264 @ 0x5641ccb16800] \u001b[0mconsecutive B-frames:  8.0%  6.7% 16.2% 69.1%\n",
            "\u001b[1;36m[libx264 @ 0x5641ccb16800] \u001b[0mmb I  I16..4: 68.4% 26.0%  5.6%\n",
            "\u001b[1;36m[libx264 @ 0x5641ccb16800] \u001b[0mmb P  I16..4: 31.7%  6.7%  0.0%  P16..4: 16.0%  4.8%  1.4%  0.0%  0.0%    skip:39.3%\n",
            "\u001b[1;36m[libx264 @ 0x5641ccb16800] \u001b[0mmb B  I16..4:  1.2%  0.9%  0.0%  B16..8:  8.8%  1.5%  0.1%  direct:12.6%  skip:74.9%  L0:46.6% L1:50.8% BI: 2.6%\n",
            "\u001b[1;36m[libx264 @ 0x5641ccb16800] \u001b[0m8x8 transform intra:21.3% inter:37.9%\n",
            "\u001b[1;36m[libx264 @ 0x5641ccb16800] \u001b[0mcoded y,uvDC,uvAC intra: 11.2% 41.5% 7.8% inter: 1.4% 14.2% 0.0%\n",
            "\u001b[1;36m[libx264 @ 0x5641ccb16800] \u001b[0mi16 v,h,dc,p: 87%  7%  5%  1%\n",
            "\u001b[1;36m[libx264 @ 0x5641ccb16800] \u001b[0mi8 v,h,dc,ddl,ddr,vr,hd,vl,hu: 35% 18% 30%  2%  3%  3%  2%  3%  2%\n",
            "\u001b[1;36m[libx264 @ 0x5641ccb16800] \u001b[0mi4 v,h,dc,ddl,ddr,vr,hd,vl,hu: 31% 18% 11%  6%  8%  8%  7%  6%  5%\n",
            "\u001b[1;36m[libx264 @ 0x5641ccb16800] \u001b[0mi8c dc,h,v,p: 59% 18% 22%  2%\n",
            "\u001b[1;36m[libx264 @ 0x5641ccb16800] \u001b[0mWeighted P-Frames: Y:1.7% UV:0.8%\n",
            "\u001b[1;36m[libx264 @ 0x5641ccb16800] \u001b[0mkb/s:829.84\n",
            "[PySceneDetect] Output from ffmpeg for Scene 1 shown above, splitting remaining scenes...\n",
            "100% 3221/3221 [01:03<00:00, 53.20frame/s]\n",
            "[PySceneDetect] Average processing speed 50.84 frames/sec.\n",
            "[PySceneDetect] Video splitting completed, individual scenes written to disk.\n",
            "[PySceneDetect] Output directory set:\n",
            "  /content/gdrive/My Drive/adplace/scene_videos\n",
            "[PySceneDetect] Loaded 1 video, framerate: 23.98 FPS, resolution: 1280 x 720\n",
            "[PySceneDetect] Downscale factor set to 5, effective resolution: 256 x 144\n",
            "[PySceneDetect] Scene list CSV file name format:\n",
            "  $VIDEO_NAME-Scenes.csv\n",
            "[PySceneDetect] FFmpeg codec args set: -c:v libx264 -preset veryfast -crf 22 -c:a copy\n",
            "[PySceneDetect] Video output file name format: $VIDEO_NAME-Scene-$SCENE_NUMBER\n",
            "[PySceneDetect] Detecting scenes...\n",
            "100% 3746/3746 [00:23<00:00, 157.13frames/s]\n",
            "[PySceneDetect] Processed 3746 frames in 23.8 seconds (average 157.11 FPS).\n",
            "[PySceneDetect] Detected 21 scenes, average shot length 7.4 seconds.\n",
            "[PySceneDetect] Writing scene list to CSV file:\n",
            "  /content/gdrive/My Drive/adplace/scene_videos/adplace_317-Scenes.csv\n",
            "[PySceneDetect] Scene List:\n",
            "-----------------------------------------------------------------------\n",
            " | Scene # | Start Frame |  Start Time  |  End Frame  |   End Time   |\n",
            "-----------------------------------------------------------------------\n",
            " |      1  |           0 | 00:00:00.000 |         240 | 00:00:10.010 |\n",
            " |      2  |         240 | 00:00:10.010 |         771 | 00:00:32.157 |\n",
            " |      3  |         771 | 00:00:32.157 |         927 | 00:00:38.664 |\n",
            " |      4  |         927 | 00:00:38.664 |        1205 | 00:00:50.259 |\n",
            " |      5  |        1205 | 00:00:50.259 |        1285 | 00:00:53.595 |\n",
            " |      6  |        1285 | 00:00:53.595 |        1349 | 00:00:56.265 |\n",
            " |      7  |        1349 | 00:00:56.265 |        1483 | 00:01:01.853 |\n",
            " |      8  |        1483 | 00:01:01.853 |        1554 | 00:01:04.815 |\n",
            " |      9  |        1554 | 00:01:04.815 |        1817 | 00:01:15.784 |\n",
            " |     10  |        1817 | 00:01:15.784 |        2043 | 00:01:25.210 |\n",
            " |     11  |        2043 | 00:01:25.210 |        2076 | 00:01:26.586 |\n",
            " |     12  |        2076 | 00:01:26.586 |        2145 | 00:01:29.464 |\n",
            " |     13  |        2145 | 00:01:29.464 |        2234 | 00:01:33.176 |\n",
            " |     14  |        2234 | 00:01:33.176 |        2332 | 00:01:37.264 |\n",
            " |     15  |        2332 | 00:01:37.264 |        2350 | 00:01:38.015 |\n",
            " |     16  |        2350 | 00:01:38.015 |        2459 | 00:01:42.561 |\n",
            " |     17  |        2459 | 00:01:42.561 |        2828 | 00:01:57.951 |\n",
            " |     18  |        2828 | 00:01:57.951 |        2900 | 00:02:00.954 |\n",
            " |     19  |        2900 | 00:02:00.954 |        3049 | 00:02:07.169 |\n",
            " |     20  |        3049 | 00:02:07.169 |        3506 | 00:02:26.229 |\n",
            " |     21  |        3506 | 00:02:26.229 |        3746 | 00:02:36.239 |\n",
            "-----------------------------------------------------------------------\n",
            "\n",
            "[PySceneDetect] Comma-separated timecode list:\n",
            "  00:00:10.010,00:00:32.157,00:00:38.664,00:00:50.259,00:00:53.595,00:00:56.265,00:01:01.853,00:01:04.815,00:01:15.784,00:01:25.210,00:01:26.586,00:01:29.464,00:01:33.176,00:01:37.264,00:01:38.015,00:01:42.561,00:01:57.951,00:02:00.954,00:02:07.169,00:02:26.229\n",
            "[PySceneDetect] Splitting input video using ffmpeg, output path template:\n",
            "  /content/gdrive/My Drive/adplace/scene_videos/$VIDEO_NAME-Scene-$SCENE_NUMBER.mp4\n",
            "  0% 0/3746 [00:00<?, ?frame/s]ffmpeg version 3.4.6-0ubuntu0.18.04.1 Copyright (c) 2000-2019 the FFmpeg developers\n",
            "  built with gcc 7 (Ubuntu 7.3.0-16ubuntu3)\n",
            "  configuration: --prefix=/usr --extra-version=0ubuntu0.18.04.1 --toolchain=hardened --libdir=/usr/lib/x86_64-linux-gnu --incdir=/usr/include/x86_64-linux-gnu --enable-gpl --disable-stripping --enable-avresample --enable-avisynth --enable-gnutls --enable-ladspa --enable-libass --enable-libbluray --enable-libbs2b --enable-libcaca --enable-libcdio --enable-libflite --enable-libfontconfig --enable-libfreetype --enable-libfribidi --enable-libgme --enable-libgsm --enable-libmp3lame --enable-libmysofa --enable-libopenjpeg --enable-libopenmpt --enable-libopus --enable-libpulse --enable-librubberband --enable-librsvg --enable-libshine --enable-libsnappy --enable-libsoxr --enable-libspeex --enable-libssh --enable-libtheora --enable-libtwolame --enable-libvorbis --enable-libvpx --enable-libwavpack --enable-libwebp --enable-libx265 --enable-libxml2 --enable-libxvid --enable-libzmq --enable-libzvbi --enable-omx --enable-openal --enable-opengl --enable-sdl2 --enable-libdc1394 --enable-libdrm --enable-libiec61883 --enable-chromaprint --enable-frei0r --enable-libopencv --enable-libx264 --enable-shared\n",
            "  libavutil      55. 78.100 / 55. 78.100\n",
            "  libavcodec     57.107.100 / 57.107.100\n",
            "  libavformat    57. 83.100 / 57. 83.100\n",
            "  libavdevice    57. 10.100 / 57. 10.100\n",
            "  libavfilter     6.107.100 /  6.107.100\n",
            "  libavresample   3.  7.  0 /  3.  7.  0\n",
            "  libswscale      4.  8.100 /  4.  8.100\n",
            "  libswresample   2.  9.100 /  2.  9.100\n",
            "  libpostproc    54.  7.100 / 54.  7.100\n",
            "Input #0, mov,mp4,m4a,3gp,3g2,mj2, from '/content/gdrive/My Drive/adplace/full_videos/adplace_317.mp4':\n",
            "  Metadata:\n",
            "    major_brand     : mp42\n",
            "    minor_version   : 0\n",
            "    compatible_brands: isommp42\n",
            "    creation_time   : 2018-10-27T21:01:43.000000Z\n",
            "  Duration: 00:02:36.25, start: 0.000000, bitrate: 732 kb/s\n",
            "    Stream #0:0(und): Video: h264 (Main) (avc1 / 0x31637661), yuv420p(tv, bt709), 1280x720 [SAR 1:1 DAR 16:9], 602 kb/s, 23.98 fps, 23.98 tbr, 90k tbn, 47.95 tbc (default)\n",
            "    Metadata:\n",
            "      creation_time   : 2018-10-27T21:01:43.000000Z\n",
            "      handler_name    : ISO Media file produced by Google Inc. Created on: 10/27/2018.\n",
            "    Stream #0:1(eng): Audio: aac (LC) (mp4a / 0x6134706D), 44100 Hz, stereo, fltp, 125 kb/s (default)\n",
            "    Metadata:\n",
            "      creation_time   : 2018-10-27T21:01:43.000000Z\n",
            "      handler_name    : ISO Media file produced by Google Inc. Created on: 10/27/2018.\n",
            "Stream mapping:\n",
            "  Stream #0:0 -> #0:0 (h264 (native) -> h264 (libx264))\n",
            "  Stream #0:1 -> #0:1 (copy)\n",
            "Press [q] to stop, [?] for help\n",
            "\u001b[1;36m[libx264 @ 0x55e88f88e800] \u001b[0musing SAR=1/1\n",
            "\u001b[1;36m[libx264 @ 0x55e88f88e800] \u001b[0musing cpu capabilities: MMX2 SSE2Fast SSSE3 SSE4.2 AVX FMA3 BMI2 AVX2\n",
            "\u001b[1;36m[libx264 @ 0x55e88f88e800] \u001b[0mprofile High, level 3.1\n",
            "\u001b[1;36m[libx264 @ 0x55e88f88e800] \u001b[0m264 - core 152 r2854 e9a5903 - H.264/MPEG-4 AVC codec - Copyleft 2003-2017 - http://www.videolan.org/x264.html - options: cabac=1 ref=1 deblock=1:0:0 analyse=0x3:0x113 me=hex subme=2 psy=1 psy_rd=1.00:0.00 mixed_ref=0 me_range=16 chroma_me=1 trellis=0 8x8dct=1 cqm=0 deadzone=21,11 fast_pskip=1 chroma_qp_offset=0 threads=3 lookahead_threads=1 sliced_threads=0 nr=0 decimate=1 interlaced=0 bluray_compat=0 constrained_intra=0 bframes=3 b_pyramid=2 b_adapt=1 b_bias=0 direct=1 weightb=1 open_gop=0 weightp=1 keyint=250 keyint_min=23 scenecut=40 intra_refresh=0 rc_lookahead=10 rc=crf mbtree=1 crf=22.0 qcomp=0.60 qpmin=0 qpmax=69 qpstep=4 ip_ratio=1.40 aq=1:1.00\n",
            "Output #0, mp4, to '/content/gdrive/My Drive/adplace/scene_videos/adplace_317-Scene-001.mp4':\n",
            "  Metadata:\n",
            "    major_brand     : mp42\n",
            "    minor_version   : 0\n",
            "    compatible_brands: isommp42\n",
            "    encoder         : Lavf57.83.100\n",
            "    Stream #0:0(und): Video: h264 (libx264) (avc1 / 0x31637661), yuv420p, 1280x720 [SAR 1:1 DAR 16:9], q=-1--1, 23.98 fps, 24k tbn, 23.98 tbc (default)\n",
            "    Metadata:\n",
            "      creation_time   : 2018-10-27T21:01:43.000000Z\n",
            "      handler_name    : ISO Media file produced by Google Inc. Created on: 10/27/2018.\n",
            "      encoder         : Lavc57.107.100 libx264\n",
            "    Side data:\n",
            "      cpb: bitrate max/min/avg: 0/0/0 buffer size: 0 vbv_delay: -1\n",
            "    Stream #0:1(eng): Audio: aac (LC) (mp4a / 0x6134706D), 44100 Hz, stereo, fltp, 125 kb/s (default)\n",
            "    Metadata:\n",
            "      creation_time   : 2018-10-27T21:01:43.000000Z\n",
            "      handler_name    : ISO Media file produced by Google Inc. Created on: 10/27/2018.\n",
            "frame=  240 fps= 46 q=-1.0 Lsize=    1263kB time=00:00:10.00 bitrate=1033.8kbits/s speed=1.92x    \n",
            "video:1100kB audio:154kB subtitle:0kB other streams:0kB global headers:0kB muxing overhead: 0.682917%\n",
            "\u001b[1;36m[libx264 @ 0x55e88f88e800] \u001b[0mframe I:1     Avg QP:13.76  size:  7220\n",
            "\u001b[1;36m[libx264 @ 0x55e88f88e800] \u001b[0mframe P:96    Avg QP:18.40  size:  8624\n",
            "\u001b[1;36m[libx264 @ 0x55e88f88e800] \u001b[0mframe B:143   Avg QP:19.90  size:  2032\n",
            "\u001b[1;36m[libx264 @ 0x55e88f88e800] \u001b[0mconsecutive B-frames:  1.2% 42.5% 46.2% 10.0%\n",
            "\u001b[1;36m[libx264 @ 0x55e88f88e800] \u001b[0mmb I  I16..4: 63.1% 36.6%  0.3%\n",
            "\u001b[1;36m[libx264 @ 0x55e88f88e800] \u001b[0mmb P  I16..4: 12.2%  7.6%  0.5%  P16..4: 21.3% 10.3%  3.8%  0.0%  0.0%    skip:44.2%\n",
            "\u001b[1;36m[libx264 @ 0x55e88f88e800] \u001b[0mmb B  I16..4:  1.3%  0.4%  0.0%  B16..8: 14.8%  2.8%  0.2%  direct: 3.4%  skip:77.1%  L0:35.3% L1:58.5% BI: 6.1%\n",
            "\u001b[1;36m[libx264 @ 0x55e88f88e800] \u001b[0m8x8 transform intra:35.8% inter:45.8%\n",
            "\u001b[1;36m[libx264 @ 0x55e88f88e800] \u001b[0mcoded y,uvDC,uvAC intra: 20.0% 38.1% 6.1% inter: 3.5% 8.5% 0.1%\n",
            "\u001b[1;36m[libx264 @ 0x55e88f88e800] \u001b[0mi16 v,h,dc,p: 62% 28%  7%  3%\n",
            "\u001b[1;36m[libx264 @ 0x55e88f88e800] \u001b[0mi8 v,h,dc,ddl,ddr,vr,hd,vl,hu: 54% 24% 16%  1%  1%  1%  1%  1%  1%\n",
            "\u001b[1;36m[libx264 @ 0x55e88f88e800] \u001b[0mi4 v,h,dc,ddl,ddr,vr,hd,vl,hu: 39% 22% 22%  2%  3%  4%  3%  3%  2%\n",
            "\u001b[1;36m[libx264 @ 0x55e88f88e800] \u001b[0mi8c dc,h,v,p: 39% 25% 31%  5%\n",
            "\u001b[1;36m[libx264 @ 0x55e88f88e800] \u001b[0mWeighted P-Frames: Y:0.0% UV:0.0%\n",
            "\u001b[1;36m[libx264 @ 0x55e88f88e800] \u001b[0mkb/s:899.65\n",
            "[PySceneDetect] Output from ffmpeg for Scene 1 shown above, splitting remaining scenes...\n",
            "100% 3746/3746 [01:20<00:00, 42.62frame/s]\n",
            "[PySceneDetect] Average processing speed 46.80 frames/sec.\n",
            "[PySceneDetect] Video splitting completed, individual scenes written to disk.\n",
            "[PySceneDetect] Output directory set:\n",
            "  /content/gdrive/My Drive/adplace/scene_videos\n",
            "[PySceneDetect] Loaded 1 video, framerate: 23.98 FPS, resolution: 1280 x 532\n",
            "[PySceneDetect] Downscale factor set to 5, effective resolution: 256 x 106\n",
            "[PySceneDetect] Scene list CSV file name format:\n",
            "  $VIDEO_NAME-Scenes.csv\n",
            "[PySceneDetect] FFmpeg codec args set: -c:v libx264 -preset veryfast -crf 22 -c:a copy\n",
            "[PySceneDetect] Video output file name format: $VIDEO_NAME-Scene-$SCENE_NUMBER\n",
            "[PySceneDetect] Detecting scenes...\n",
            "100% 3456/3456 [00:17<00:00, 197.81frames/s]\n",
            "[PySceneDetect] Processed 3456 frames in 17.5 seconds (average 197.79 FPS).\n",
            "[PySceneDetect] Detected 42 scenes, average shot length 3.4 seconds.\n",
            "[PySceneDetect] Writing scene list to CSV file:\n",
            "  /content/gdrive/My Drive/adplace/scene_videos/adplace_318-Scenes.csv\n",
            "[PySceneDetect] Scene List:\n",
            "-----------------------------------------------------------------------\n",
            " | Scene # | Start Frame |  Start Time  |  End Frame  |   End Time   |\n",
            "-----------------------------------------------------------------------\n",
            " |      1  |           0 | 00:00:00.000 |         256 | 00:00:10.677 |\n",
            " |      2  |         256 | 00:00:10.677 |         302 | 00:00:12.596 |\n",
            " |      3  |         302 | 00:00:12.596 |         412 | 00:00:17.184 |\n",
            " |      4  |         412 | 00:00:17.184 |         453 | 00:00:18.894 |\n",
            " |      5  |         453 | 00:00:18.894 |         607 | 00:00:25.317 |\n",
            " |      6  |         607 | 00:00:25.317 |         684 | 00:00:28.528 |\n",
            " |      7  |         684 | 00:00:28.528 |         718 | 00:00:29.947 |\n",
            " |      8  |         718 | 00:00:29.947 |         776 | 00:00:32.366 |\n",
            " |      9  |         776 | 00:00:32.366 |         793 | 00:00:33.075 |\n",
            " |     10  |         793 | 00:00:33.075 |        1065 | 00:00:44.419 |\n",
            " |     11  |        1065 | 00:00:44.419 |        1103 | 00:00:46.004 |\n",
            " |     12  |        1103 | 00:00:46.004 |        1142 | 00:00:47.631 |\n",
            " |     13  |        1142 | 00:00:47.631 |        1246 | 00:00:51.969 |\n",
            " |     14  |        1246 | 00:00:51.969 |        1391 | 00:00:58.016 |\n",
            " |     15  |        1391 | 00:00:58.016 |        1526 | 00:01:03.647 |\n",
            " |     16  |        1526 | 00:01:03.647 |        1583 | 00:01:06.024 |\n",
            " |     17  |        1583 | 00:01:06.024 |        1638 | 00:01:08.318 |\n",
            " |     18  |        1638 | 00:01:08.318 |        1813 | 00:01:15.617 |\n",
            " |     19  |        1813 | 00:01:15.617 |        1909 | 00:01:19.621 |\n",
            " |     20  |        1909 | 00:01:19.621 |        1932 | 00:01:20.581 |\n",
            " |     21  |        1932 | 00:01:20.581 |        1953 | 00:01:21.456 |\n",
            " |     22  |        1953 | 00:01:21.456 |        2043 | 00:01:25.210 |\n",
            " |     23  |        2043 | 00:01:25.210 |        2129 | 00:01:28.797 |\n",
            " |     24  |        2129 | 00:01:28.797 |        2179 | 00:01:30.882 |\n",
            " |     25  |        2179 | 00:01:30.882 |        2210 | 00:01:32.175 |\n",
            " |     26  |        2210 | 00:01:32.175 |        2248 | 00:01:33.760 |\n",
            " |     27  |        2248 | 00:01:33.760 |        2281 | 00:01:35.137 |\n",
            " |     28  |        2281 | 00:01:35.137 |        2304 | 00:01:36.096 |\n",
            " |     29  |        2304 | 00:01:36.096 |        2327 | 00:01:37.055 |\n",
            " |     30  |        2327 | 00:01:37.055 |        2421 | 00:01:40.976 |\n",
            " |     31  |        2421 | 00:01:40.976 |        2474 | 00:01:43.186 |\n",
            " |     32  |        2474 | 00:01:43.186 |        2497 | 00:01:44.146 |\n",
            " |     33  |        2497 | 00:01:44.146 |        2571 | 00:01:47.232 |\n",
            " |     34  |        2571 | 00:01:47.232 |        2673 | 00:01:51.486 |\n",
            " |     35  |        2673 | 00:01:51.486 |        2705 | 00:01:52.821 |\n",
            " |     36  |        2705 | 00:01:52.821 |        2730 | 00:01:53.864 |\n",
            " |     37  |        2730 | 00:01:53.864 |        2754 | 00:01:54.865 |\n",
            " |     38  |        2754 | 00:01:54.865 |        2776 | 00:01:55.782 |\n",
            " |     39  |        2776 | 00:01:55.782 |        2928 | 00:02:02.122 |\n",
            " |     40  |        2928 | 00:02:02.122 |        3302 | 00:02:17.721 |\n",
            " |     41  |        3302 | 00:02:17.721 |        3355 | 00:02:19.931 |\n",
            " |     42  |        3355 | 00:02:19.931 |        3456 | 00:02:24.144 |\n",
            "-----------------------------------------------------------------------\n",
            "\n",
            "[PySceneDetect] Comma-separated timecode list:\n",
            "  00:00:10.677,00:00:12.596,00:00:17.184,00:00:18.894,00:00:25.317,00:00:28.528,00:00:29.947,00:00:32.366,00:00:33.075,00:00:44.419,00:00:46.004,00:00:47.631,00:00:51.969,00:00:58.016,00:01:03.647,00:01:06.024,00:01:08.318,00:01:15.617,00:01:19.621,00:01:20.581,00:01:21.456,00:01:25.210,00:01:28.797,00:01:30.882,00:01:32.175,00:01:33.760,00:01:35.137,00:01:36.096,00:01:37.055,00:01:40.976,00:01:43.186,00:01:44.146,00:01:47.232,00:01:51.486,00:01:52.821,00:01:53.864,00:01:54.865,00:01:55.782,00:02:02.122,00:02:17.721,00:02:19.931\n",
            "[PySceneDetect] Splitting input video using ffmpeg, output path template:\n",
            "  /content/gdrive/My Drive/adplace/scene_videos/$VIDEO_NAME-Scene-$SCENE_NUMBER.mp4\n",
            "  0% 0/3456 [00:00<?, ?frame/s]ffmpeg version 3.4.6-0ubuntu0.18.04.1 Copyright (c) 2000-2019 the FFmpeg developers\n",
            "  built with gcc 7 (Ubuntu 7.3.0-16ubuntu3)\n",
            "  configuration: --prefix=/usr --extra-version=0ubuntu0.18.04.1 --toolchain=hardened --libdir=/usr/lib/x86_64-linux-gnu --incdir=/usr/include/x86_64-linux-gnu --enable-gpl --disable-stripping --enable-avresample --enable-avisynth --enable-gnutls --enable-ladspa --enable-libass --enable-libbluray --enable-libbs2b --enable-libcaca --enable-libcdio --enable-libflite --enable-libfontconfig --enable-libfreetype --enable-libfribidi --enable-libgme --enable-libgsm --enable-libmp3lame --enable-libmysofa --enable-libopenjpeg --enable-libopenmpt --enable-libopus --enable-libpulse --enable-librubberband --enable-librsvg --enable-libshine --enable-libsnappy --enable-libsoxr --enable-libspeex --enable-libssh --enable-libtheora --enable-libtwolame --enable-libvorbis --enable-libvpx --enable-libwavpack --enable-libwebp --enable-libx265 --enable-libxml2 --enable-libxvid --enable-libzmq --enable-libzvbi --enable-omx --enable-openal --enable-opengl --enable-sdl2 --enable-libdc1394 --enable-libdrm --enable-libiec61883 --enable-chromaprint --enable-frei0r --enable-libopencv --enable-libx264 --enable-shared\n",
            "  libavutil      55. 78.100 / 55. 78.100\n",
            "  libavcodec     57.107.100 / 57.107.100\n",
            "  libavformat    57. 83.100 / 57. 83.100\n",
            "  libavdevice    57. 10.100 / 57. 10.100\n",
            "  libavfilter     6.107.100 /  6.107.100\n",
            "  libavresample   3.  7.  0 /  3.  7.  0\n",
            "  libswscale      4.  8.100 /  4.  8.100\n",
            "  libswresample   2.  9.100 /  2.  9.100\n",
            "  libpostproc    54.  7.100 / 54.  7.100\n",
            "Input #0, mov,mp4,m4a,3gp,3g2,mj2, from '/content/gdrive/My Drive/adplace/full_videos/adplace_318.mp4':\n",
            "  Metadata:\n",
            "    major_brand     : mp42\n",
            "    minor_version   : 0\n",
            "    compatible_brands: isommp42\n",
            "    creation_time   : 2018-09-18T10:09:21.000000Z\n",
            "  Duration: 00:02:24.15, start: 0.000000, bitrate: 943 kb/s\n",
            "    Stream #0:0(und): Video: h264 (Main) (avc1 / 0x31637661), yuv420p(tv, bt709), 1280x532 [SAR 1:1 DAR 320:133], 813 kb/s, 23.98 fps, 23.98 tbr, 90k tbn, 47.95 tbc (default)\n",
            "    Metadata:\n",
            "      creation_time   : 2018-09-18T10:09:21.000000Z\n",
            "      handler_name    : ISO Media file produced by Google Inc. Created on: 09/18/2018.\n",
            "    Stream #0:1(eng): Audio: aac (LC) (mp4a / 0x6134706D), 44100 Hz, stereo, fltp, 125 kb/s (default)\n",
            "    Metadata:\n",
            "      creation_time   : 2018-09-18T10:09:21.000000Z\n",
            "      handler_name    : ISO Media file produced by Google Inc. Created on: 09/18/2018.\n",
            "Stream mapping:\n",
            "  Stream #0:0 -> #0:0 (h264 (native) -> h264 (libx264))\n",
            "  Stream #0:1 -> #0:1 (copy)\n",
            "Press [q] to stop, [?] for help\n",
            "\u001b[1;36m[libx264 @ 0x555e1afde800] \u001b[0musing SAR=1/1\n",
            "\u001b[1;36m[libx264 @ 0x555e1afde800] \u001b[0musing cpu capabilities: MMX2 SSE2Fast SSSE3 SSE4.2 AVX FMA3 BMI2 AVX2\n",
            "\u001b[1;36m[libx264 @ 0x555e1afde800] \u001b[0mprofile High, level 3.1\n",
            "\u001b[1;36m[libx264 @ 0x555e1afde800] \u001b[0m264 - core 152 r2854 e9a5903 - H.264/MPEG-4 AVC codec - Copyleft 2003-2017 - http://www.videolan.org/x264.html - options: cabac=1 ref=1 deblock=1:0:0 analyse=0x3:0x113 me=hex subme=2 psy=1 psy_rd=1.00:0.00 mixed_ref=0 me_range=16 chroma_me=1 trellis=0 8x8dct=1 cqm=0 deadzone=21,11 fast_pskip=1 chroma_qp_offset=0 threads=3 lookahead_threads=1 sliced_threads=0 nr=0 decimate=1 interlaced=0 bluray_compat=0 constrained_intra=0 bframes=3 b_pyramid=2 b_adapt=1 b_bias=0 direct=1 weightb=1 open_gop=0 weightp=1 keyint=250 keyint_min=23 scenecut=40 intra_refresh=0 rc_lookahead=10 rc=crf mbtree=1 crf=22.0 qcomp=0.60 qpmin=0 qpmax=69 qpstep=4 ip_ratio=1.40 aq=1:1.00\n",
            "Output #0, mp4, to '/content/gdrive/My Drive/adplace/scene_videos/adplace_318-Scene-001.mp4':\n",
            "  Metadata:\n",
            "    major_brand     : mp42\n",
            "    minor_version   : 0\n",
            "    compatible_brands: isommp42\n",
            "    encoder         : Lavf57.83.100\n",
            "    Stream #0:0(und): Video: h264 (libx264) (avc1 / 0x31637661), yuv420p, 1280x532 [SAR 1:1 DAR 320:133], q=-1--1, 23.98 fps, 24k tbn, 23.98 tbc (default)\n",
            "    Metadata:\n",
            "      creation_time   : 2018-09-18T10:09:21.000000Z\n",
            "      handler_name    : ISO Media file produced by Google Inc. Created on: 09/18/2018.\n",
            "      encoder         : Lavc57.107.100 libx264\n",
            "    Side data:\n",
            "      cpb: bitrate max/min/avg: 0/0/0 buffer size: 0 vbv_delay: -1\n",
            "    Stream #0:1(eng): Audio: aac (LC) (mp4a / 0x6134706D), 44100 Hz, stereo, fltp, 125 kb/s (default)\n",
            "    Metadata:\n",
            "      creation_time   : 2018-09-18T10:09:21.000000Z\n",
            "      handler_name    : ISO Media file produced by Google Inc. Created on: 09/18/2018.\n",
            "frame=  256 fps= 60 q=-1.0 Lsize=    1005kB time=00:00:10.65 bitrate= 772.9kbits/s speed=2.48x    \n",
            "video:832kB audio:164kB subtitle:0kB other streams:0kB global headers:0kB muxing overhead: 0.906824%\n",
            "\u001b[1;36m[libx264 @ 0x555e1afde800] \u001b[0mframe I:3     Avg QP:10.79  size:  5941\n",
            "\u001b[1;36m[libx264 @ 0x555e1afde800] \u001b[0mframe P:90    Avg QP:17.80  size:  6928\n",
            "\u001b[1;36m[libx264 @ 0x555e1afde800] \u001b[0mframe B:163   Avg QP:18.98  size:  1290\n",
            "\u001b[1;36m[libx264 @ 0x555e1afde800] \u001b[0mconsecutive B-frames:  5.5% 14.8% 42.2% 37.5%\n",
            "\u001b[1;36m[libx264 @ 0x555e1afde800] \u001b[0mmb I  I16..4: 65.5% 32.2%  2.4%\n",
            "\u001b[1;36m[libx264 @ 0x555e1afde800] \u001b[0mmb P  I16..4: 12.5%  8.4%  0.2%  P16..4: 29.9% 10.9%  3.9%  0.0%  0.0%    skip:34.1%\n",
            "\u001b[1;36m[libx264 @ 0x555e1afde800] \u001b[0mmb B  I16..4:  1.7%  0.4%  0.0%  B16..8: 10.0%  1.4%  0.1%  direct: 5.6%  skip:80.7%  L0:42.2% L1:45.8% BI:12.0%\n",
            "\u001b[1;36m[libx264 @ 0x555e1afde800] \u001b[0m8x8 transform intra:36.0% inter:42.9%\n",
            "\u001b[1;36m[libx264 @ 0x555e1afde800] \u001b[0mcoded y,uvDC,uvAC intra: 18.5% 32.0% 1.6% inter: 3.5% 11.9% 0.0%\n",
            "\u001b[1;36m[libx264 @ 0x555e1afde800] \u001b[0mi16 v,h,dc,p: 56% 21% 18%  6%\n",
            "\u001b[1;36m[libx264 @ 0x555e1afde800] \u001b[0mi8 v,h,dc,ddl,ddr,vr,hd,vl,hu: 30% 25% 34%  3%  1%  1%  1%  2%  3%\n",
            "\u001b[1;36m[libx264 @ 0x555e1afde800] \u001b[0mi4 v,h,dc,ddl,ddr,vr,hd,vl,hu: 34% 21% 26%  5%  3%  3%  2%  3%  4%\n",
            "\u001b[1;36m[libx264 @ 0x555e1afde800] \u001b[0mi8c dc,h,v,p: 66% 16% 15%  3%\n",
            "\u001b[1;36m[libx264 @ 0x555e1afde800] \u001b[0mWeighted P-Frames: Y:41.1% UV:31.1%\n",
            "\u001b[1;36m[libx264 @ 0x555e1afde800] \u001b[0mkb/s:638.13\n",
            "[PySceneDetect] Output from ffmpeg for Scene 1 shown above, splitting remaining scenes...\n",
            "100% 3456/3456 [01:19<00:00, 47.46frame/s]\n",
            "[PySceneDetect] Average processing speed 43.63 frames/sec.\n",
            "[PySceneDetect] Video splitting completed, individual scenes written to disk.\n",
            "[PySceneDetect] Output directory set:\n",
            "  /content/gdrive/My Drive/adplace/scene_videos\n",
            "[PySceneDetect] Loaded 1 video, framerate: 25.00 FPS, resolution: 1280 x 720\n",
            "[PySceneDetect] Downscale factor set to 5, effective resolution: 256 x 144\n",
            "[PySceneDetect] Scene list CSV file name format:\n",
            "  $VIDEO_NAME-Scenes.csv\n",
            "[PySceneDetect] FFmpeg codec args set: -c:v libx264 -preset veryfast -crf 22 -c:a copy\n",
            "[PySceneDetect] Video output file name format: $VIDEO_NAME-Scene-$SCENE_NUMBER\n",
            "[PySceneDetect] Detecting scenes...\n",
            "100% 6849/6849 [00:39<00:00, 173.35frames/s]\n",
            "[PySceneDetect] Processed 6849 frames in 39.5 seconds (average 173.34 FPS).\n",
            "[PySceneDetect] Detected 2 scenes, average shot length 137.0 seconds.\n",
            "[PySceneDetect] Writing scene list to CSV file:\n",
            "  /content/gdrive/My Drive/adplace/scene_videos/adplace_319-Scenes.csv\n",
            "[PySceneDetect] Scene List:\n",
            "-----------------------------------------------------------------------\n",
            " | Scene # | Start Frame |  Start Time  |  End Frame  |   End Time   |\n",
            "-----------------------------------------------------------------------\n",
            " |      1  |           0 | 00:00:00.000 |        6307 | 00:04:12.280 |\n",
            " |      2  |        6307 | 00:04:12.280 |        6849 | 00:04:33.960 |\n",
            "-----------------------------------------------------------------------\n",
            "\n",
            "[PySceneDetect] Comma-separated timecode list:\n",
            "  00:04:12.280\n",
            "[PySceneDetect] Splitting input video using ffmpeg, output path template:\n",
            "  /content/gdrive/My Drive/adplace/scene_videos/$VIDEO_NAME-Scene-$SCENE_NUMBER.mp4\n",
            "  0% 0/6849 [00:00<?, ?frame/s]ffmpeg version 3.4.6-0ubuntu0.18.04.1 Copyright (c) 2000-2019 the FFmpeg developers\n",
            "  built with gcc 7 (Ubuntu 7.3.0-16ubuntu3)\n",
            "  configuration: --prefix=/usr --extra-version=0ubuntu0.18.04.1 --toolchain=hardened --libdir=/usr/lib/x86_64-linux-gnu --incdir=/usr/include/x86_64-linux-gnu --enable-gpl --disable-stripping --enable-avresample --enable-avisynth --enable-gnutls --enable-ladspa --enable-libass --enable-libbluray --enable-libbs2b --enable-libcaca --enable-libcdio --enable-libflite --enable-libfontconfig --enable-libfreetype --enable-libfribidi --enable-libgme --enable-libgsm --enable-libmp3lame --enable-libmysofa --enable-libopenjpeg --enable-libopenmpt --enable-libopus --enable-libpulse --enable-librubberband --enable-librsvg --enable-libshine --enable-libsnappy --enable-libsoxr --enable-libspeex --enable-libssh --enable-libtheora --enable-libtwolame --enable-libvorbis --enable-libvpx --enable-libwavpack --enable-libwebp --enable-libx265 --enable-libxml2 --enable-libxvid --enable-libzmq --enable-libzvbi --enable-omx --enable-openal --enable-opengl --enable-sdl2 --enable-libdc1394 --enable-libdrm --enable-libiec61883 --enable-chromaprint --enable-frei0r --enable-libopencv --enable-libx264 --enable-shared\n",
            "  libavutil      55. 78.100 / 55. 78.100\n",
            "  libavcodec     57.107.100 / 57.107.100\n",
            "  libavformat    57. 83.100 / 57. 83.100\n",
            "  libavdevice    57. 10.100 / 57. 10.100\n",
            "  libavfilter     6.107.100 /  6.107.100\n",
            "  libavresample   3.  7.  0 /  3.  7.  0\n",
            "  libswscale      4.  8.100 /  4.  8.100\n",
            "  libswresample   2.  9.100 /  2.  9.100\n",
            "  libpostproc    54.  7.100 / 54.  7.100\n",
            "Input #0, mov,mp4,m4a,3gp,3g2,mj2, from '/content/gdrive/My Drive/adplace/full_videos/adplace_319.mp4':\n",
            "  Metadata:\n",
            "    major_brand     : mp42\n",
            "    minor_version   : 0\n",
            "    compatible_brands: isommp42\n",
            "    creation_time   : 2018-09-30T01:40:40.000000Z\n",
            "  Duration: 00:04:33.97, start: 0.000000, bitrate: 532 kb/s\n",
            "    Stream #0:0(und): Video: h264 (Main) (avc1 / 0x31637661), yuv420p(tv, bt709), 1280x720 [SAR 1:1 DAR 16:9], 403 kb/s, 25 fps, 25 tbr, 90k tbn, 50 tbc (default)\n",
            "    Metadata:\n",
            "      creation_time   : 2018-09-30T01:40:40.000000Z\n",
            "      handler_name    : ISO Media file produced by Google Inc. Created on: 09/29/2018.\n",
            "    Stream #0:1(und): Audio: aac (LC) (mp4a / 0x6134706D), 44100 Hz, stereo, fltp, 125 kb/s (default)\n",
            "    Metadata:\n",
            "      creation_time   : 2018-09-30T01:40:40.000000Z\n",
            "      handler_name    : ISO Media file produced by Google Inc. Created on: 09/29/2018.\n",
            "Stream mapping:\n",
            "  Stream #0:0 -> #0:0 (h264 (native) -> h264 (libx264))\n",
            "  Stream #0:1 -> #0:1 (copy)\n",
            "Press [q] to stop, [?] for help\n",
            "\u001b[1;36m[libx264 @ 0x55899da06800] \u001b[0musing SAR=1/1\n",
            "\u001b[1;36m[libx264 @ 0x55899da06800] \u001b[0musing cpu capabilities: MMX2 SSE2Fast SSSE3 SSE4.2 AVX FMA3 BMI2 AVX2\n",
            "\u001b[1;36m[libx264 @ 0x55899da06800] \u001b[0mprofile High, level 3.1\n",
            "\u001b[1;36m[libx264 @ 0x55899da06800] \u001b[0m264 - core 152 r2854 e9a5903 - H.264/MPEG-4 AVC codec - Copyleft 2003-2017 - http://www.videolan.org/x264.html - options: cabac=1 ref=1 deblock=1:0:0 analyse=0x3:0x113 me=hex subme=2 psy=1 psy_rd=1.00:0.00 mixed_ref=0 me_range=16 chroma_me=1 trellis=0 8x8dct=1 cqm=0 deadzone=21,11 fast_pskip=1 chroma_qp_offset=0 threads=3 lookahead_threads=1 sliced_threads=0 nr=0 decimate=1 interlaced=0 bluray_compat=0 constrained_intra=0 bframes=3 b_pyramid=2 b_adapt=1 b_bias=0 direct=1 weightb=1 open_gop=0 weightp=1 keyint=250 keyint_min=25 scenecut=40 intra_refresh=0 rc_lookahead=10 rc=crf mbtree=1 crf=22.0 qcomp=0.60 qpmin=0 qpmax=69 qpstep=4 ip_ratio=1.40 aq=1:1.00\n",
            "Output #0, mp4, to '/content/gdrive/My Drive/adplace/scene_videos/adplace_319-Scene-001.mp4':\n",
            "  Metadata:\n",
            "    major_brand     : mp42\n",
            "    minor_version   : 0\n",
            "    compatible_brands: isommp42\n",
            "    encoder         : Lavf57.83.100\n",
            "    Stream #0:0(und): Video: h264 (libx264) (avc1 / 0x31637661), yuv420p, 1280x720 [SAR 1:1 DAR 16:9], q=-1--1, 25 fps, 12800 tbn, 25 tbc (default)\n",
            "    Metadata:\n",
            "      creation_time   : 2018-09-30T01:40:40.000000Z\n",
            "      handler_name    : ISO Media file produced by Google Inc. Created on: 09/29/2018.\n",
            "      encoder         : Lavc57.107.100 libx264\n",
            "    Side data:\n",
            "      cpb: bitrate max/min/avg: 0/0/0 buffer size: 0 vbv_delay: -1\n",
            "    Stream #0:1(und): Audio: aac (LC) (mp4a / 0x6134706D), 44100 Hz, stereo, fltp, 125 kb/s (default)\n",
            "    Metadata:\n",
            "      creation_time   : 2018-09-30T01:40:40.000000Z\n",
            "      handler_name    : ISO Media file produced by Google Inc. Created on: 09/29/2018.\n",
            "frame= 6307 fps= 65 q=-1.0 Lsize=   21493kB time=00:04:12.26 bitrate= 698.0kbits/s speed= 2.6x    \n",
            "video:17424kB audio:3868kB subtitle:0kB other streams:0kB global headers:0kB muxing overhead: 0.946038%\n",
            "\u001b[1;36m[libx264 @ 0x55899da06800] \u001b[0mframe I:73    Avg QP:12.63  size: 25173\n",
            "\u001b[1;36m[libx264 @ 0x55899da06800] \u001b[0mframe P:2102  Avg QP:17.76  size:  5351\n",
            "\u001b[1;36m[libx264 @ 0x55899da06800] \u001b[0mframe B:4132  Avg QP:20.42  size:  1151\n",
            "\u001b[1;36m[libx264 @ 0x55899da06800] \u001b[0mconsecutive B-frames:  2.2% 18.2% 39.4% 40.2%\n",
            "\u001b[1;36m[libx264 @ 0x55899da06800] \u001b[0mmb I  I16..4: 48.2% 27.0% 24.8%\n",
            "\u001b[1;36m[libx264 @ 0x55899da06800] \u001b[0mmb P  I16..4:  4.8%  2.4%  0.2%  P16..4: 16.8%  7.4%  3.2%  0.0%  0.0%    skip:65.2%\n",
            "\u001b[1;36m[libx264 @ 0x55899da06800] \u001b[0mmb B  I16..4:  0.3%  0.1%  0.0%  B16..8:  6.2%  1.5%  0.2%  direct: 1.4%  skip:90.3%  L0:36.8% L1:53.4% BI: 9.8%\n",
            "\u001b[1;36m[libx264 @ 0x55899da06800] \u001b[0m8x8 transform intra:30.9% inter:34.0%\n",
            "\u001b[1;36m[libx264 @ 0x55899da06800] \u001b[0mcoded y,uvDC,uvAC intra: 28.0% 36.1% 4.6% inter: 2.1% 3.2% 0.0%\n",
            "\u001b[1;36m[libx264 @ 0x55899da06800] \u001b[0mi16 v,h,dc,p: 65% 21% 11%  3%\n",
            "\u001b[1;36m[libx264 @ 0x55899da06800] \u001b[0mi8 v,h,dc,ddl,ddr,vr,hd,vl,hu: 36% 25% 24%  2%  2%  3%  3%  2%  3%\n",
            "\u001b[1;36m[libx264 @ 0x55899da06800] \u001b[0mi4 v,h,dc,ddl,ddr,vr,hd,vl,hu: 29% 26% 15%  5%  6%  5%  6%  5%  4%\n",
            "\u001b[1;36m[libx264 @ 0x55899da06800] \u001b[0mi8c dc,h,v,p: 58% 21% 18%  3%\n",
            "\u001b[1;36m[libx264 @ 0x55899da06800] \u001b[0mWeighted P-Frames: Y:8.9% UV:2.5%\n",
            "\u001b[1;36m[libx264 @ 0x55899da06800] \u001b[0mkb/s:565.75\n",
            "[PySceneDetect] Output from ffmpeg for Scene 1 shown above, splitting remaining scenes...\n",
            "100% 6849/6849 [01:46<00:00, 61.35frame/s]\n",
            "[PySceneDetect] Average processing speed 64.04 frames/sec.\n",
            "[PySceneDetect] Video splitting completed, individual scenes written to disk.\n",
            "[PySceneDetect] Output directory set:\n",
            "  /content/gdrive/My Drive/adplace/scene_videos\n",
            "[PySceneDetect] Loaded 1 video, framerate: 23.98 FPS, resolution: 1280 x 532\n",
            "[PySceneDetect] Downscale factor set to 5, effective resolution: 256 x 106\n",
            "[PySceneDetect] Scene list CSV file name format:\n",
            "  $VIDEO_NAME-Scenes.csv\n",
            "[PySceneDetect] FFmpeg codec args set: -c:v libx264 -preset veryfast -crf 22 -c:a copy\n",
            "[PySceneDetect] Video output file name format: $VIDEO_NAME-Scene-$SCENE_NUMBER\n",
            "[PySceneDetect] Detecting scenes...\n",
            "100% 3393/3393 [00:17<00:00, 197.15frames/s]\n",
            "[PySceneDetect] Processed 3393 frames in 17.2 seconds (average 197.12 FPS).\n",
            "[PySceneDetect] Detected 42 scenes, average shot length 3.4 seconds.\n",
            "[PySceneDetect] Writing scene list to CSV file:\n",
            "  /content/gdrive/My Drive/adplace/scene_videos/adplace_320-Scenes.csv\n",
            "[PySceneDetect] Scene List:\n",
            "-----------------------------------------------------------------------\n",
            " | Scene # | Start Frame |  Start Time  |  End Frame  |   End Time   |\n",
            "-----------------------------------------------------------------------\n",
            " |      1  |           0 | 00:00:00.000 |          55 | 00:00:02.294 |\n",
            " |      2  |          55 | 00:00:02.294 |         125 | 00:00:05.214 |\n",
            " |      3  |         125 | 00:00:05.214 |         204 | 00:00:08.508 |\n",
            " |      4  |         204 | 00:00:08.508 |         276 | 00:00:11.511 |\n",
            " |      5  |         276 | 00:00:11.511 |         345 | 00:00:14.389 |\n",
            " |      6  |         345 | 00:00:14.389 |         370 | 00:00:15.432 |\n",
            " |      7  |         370 | 00:00:15.432 |         415 | 00:00:17.309 |\n",
            " |      8  |         415 | 00:00:17.309 |         662 | 00:00:27.611 |\n",
            " |      9  |         662 | 00:00:27.611 |         698 | 00:00:29.112 |\n",
            " |     10  |         698 | 00:00:29.112 |         775 | 00:00:32.324 |\n",
            " |     11  |         775 | 00:00:32.324 |         829 | 00:00:34.576 |\n",
            " |     12  |         829 | 00:00:34.576 |        1061 | 00:00:44.253 |\n",
            " |     13  |        1061 | 00:00:44.253 |        1202 | 00:00:50.133 |\n",
            " |     14  |        1202 | 00:00:50.133 |        1264 | 00:00:52.719 |\n",
            " |     15  |        1264 | 00:00:52.719 |        1323 | 00:00:55.180 |\n",
            " |     16  |        1323 | 00:00:55.180 |        1344 | 00:00:56.056 |\n",
            " |     17  |        1344 | 00:00:56.056 |        1681 | 00:01:10.112 |\n",
            " |     18  |        1681 | 00:01:10.112 |        1723 | 00:01:11.863 |\n",
            " |     19  |        1723 | 00:01:11.863 |        1744 | 00:01:12.739 |\n",
            " |     20  |        1744 | 00:01:12.739 |        1785 | 00:01:14.449 |\n",
            " |     21  |        1785 | 00:01:14.449 |        1855 | 00:01:17.369 |\n",
            " |     22  |        1855 | 00:01:17.369 |        1906 | 00:01:19.496 |\n",
            " |     23  |        1906 | 00:01:19.496 |        1947 | 00:01:21.206 |\n",
            " |     24  |        1947 | 00:01:21.206 |        1992 | 00:01:23.083 |\n",
            " |     25  |        1992 | 00:01:23.083 |        2016 | 00:01:24.084 |\n",
            " |     26  |        2016 | 00:01:24.084 |        2041 | 00:01:25.127 |\n",
            " |     27  |        2041 | 00:01:25.127 |        2085 | 00:01:26.962 |\n",
            " |     28  |        2085 | 00:01:26.962 |        2130 | 00:01:28.839 |\n",
            " |     29  |        2130 | 00:01:28.839 |        2148 | 00:01:29.589 |\n",
            " |     30  |        2148 | 00:01:29.589 |        2202 | 00:01:31.842 |\n",
            " |     31  |        2202 | 00:01:31.842 |        2236 | 00:01:33.260 |\n",
            " |     32  |        2236 | 00:01:33.260 |        2312 | 00:01:36.430 |\n",
            " |     33  |        2312 | 00:01:36.430 |        2345 | 00:01:37.806 |\n",
            " |     34  |        2345 | 00:01:37.806 |        2360 | 00:01:38.432 |\n",
            " |     35  |        2360 | 00:01:38.432 |        2387 | 00:01:39.558 |\n",
            " |     36  |        2387 | 00:01:39.558 |        2534 | 00:01:45.689 |\n",
            " |     37  |        2534 | 00:01:45.689 |        2627 | 00:01:49.568 |\n",
            " |     38  |        2627 | 00:01:49.568 |        2782 | 00:01:56.033 |\n",
            " |     39  |        2782 | 00:01:56.033 |        3114 | 00:02:09.880 |\n",
            " |     40  |        3114 | 00:02:09.880 |        3211 | 00:02:13.925 |\n",
            " |     41  |        3211 | 00:02:13.925 |        3309 | 00:02:18.013 |\n",
            " |     42  |        3309 | 00:02:18.013 |        3393 | 00:02:21.516 |\n",
            "-----------------------------------------------------------------------\n",
            "\n",
            "[PySceneDetect] Comma-separated timecode list:\n",
            "  00:00:02.294,00:00:05.214,00:00:08.508,00:00:11.511,00:00:14.389,00:00:15.432,00:00:17.309,00:00:27.611,00:00:29.112,00:00:32.324,00:00:34.576,00:00:44.253,00:00:50.133,00:00:52.719,00:00:55.180,00:00:56.056,00:01:10.112,00:01:11.863,00:01:12.739,00:01:14.449,00:01:17.369,00:01:19.496,00:01:21.206,00:01:23.083,00:01:24.084,00:01:25.127,00:01:26.962,00:01:28.839,00:01:29.589,00:01:31.842,00:01:33.260,00:01:36.430,00:01:37.806,00:01:38.432,00:01:39.558,00:01:45.689,00:01:49.568,00:01:56.033,00:02:09.880,00:02:13.925,00:02:18.013\n",
            "[PySceneDetect] Splitting input video using ffmpeg, output path template:\n",
            "  /content/gdrive/My Drive/adplace/scene_videos/$VIDEO_NAME-Scene-$SCENE_NUMBER.mp4\n",
            "  0% 0/3393 [00:00<?, ?frame/s]ffmpeg version 3.4.6-0ubuntu0.18.04.1 Copyright (c) 2000-2019 the FFmpeg developers\n",
            "  built with gcc 7 (Ubuntu 7.3.0-16ubuntu3)\n",
            "  configuration: --prefix=/usr --extra-version=0ubuntu0.18.04.1 --toolchain=hardened --libdir=/usr/lib/x86_64-linux-gnu --incdir=/usr/include/x86_64-linux-gnu --enable-gpl --disable-stripping --enable-avresample --enable-avisynth --enable-gnutls --enable-ladspa --enable-libass --enable-libbluray --enable-libbs2b --enable-libcaca --enable-libcdio --enable-libflite --enable-libfontconfig --enable-libfreetype --enable-libfribidi --enable-libgme --enable-libgsm --enable-libmp3lame --enable-libmysofa --enable-libopenjpeg --enable-libopenmpt --enable-libopus --enable-libpulse --enable-librubberband --enable-librsvg --enable-libshine --enable-libsnappy --enable-libsoxr --enable-libspeex --enable-libssh --enable-libtheora --enable-libtwolame --enable-libvorbis --enable-libvpx --enable-libwavpack --enable-libwebp --enable-libx265 --enable-libxml2 --enable-libxvid --enable-libzmq --enable-libzvbi --enable-omx --enable-openal --enable-opengl --enable-sdl2 --enable-libdc1394 --enable-libdrm --enable-libiec61883 --enable-chromaprint --enable-frei0r --enable-libopencv --enable-libx264 --enable-shared\n",
            "  libavutil      55. 78.100 / 55. 78.100\n",
            "  libavcodec     57.107.100 / 57.107.100\n",
            "  libavformat    57. 83.100 / 57. 83.100\n",
            "  libavdevice    57. 10.100 / 57. 10.100\n",
            "  libavfilter     6.107.100 /  6.107.100\n",
            "  libavresample   3.  7.  0 /  3.  7.  0\n",
            "  libswscale      4.  8.100 /  4.  8.100\n",
            "  libswresample   2.  9.100 /  2.  9.100\n",
            "  libpostproc    54.  7.100 / 54.  7.100\n",
            "Input #0, mov,mp4,m4a,3gp,3g2,mj2, from '/content/gdrive/My Drive/adplace/full_videos/adplace_320.mp4':\n",
            "  Metadata:\n",
            "    major_brand     : mp42\n",
            "    minor_version   : 0\n",
            "    compatible_brands: isommp42\n",
            "    creation_time   : 2018-07-28T00:23:04.000000Z\n",
            "  Duration: 00:02:21.53, start: 0.000000, bitrate: 973 kb/s\n",
            "    Stream #0:0(und): Video: h264 (Main) (avc1 / 0x31637661), yuv420p(tv, bt709), 1280x532 [SAR 1:1 DAR 320:133], 844 kb/s, 23.98 fps, 23.98 tbr, 90k tbn, 47.95 tbc (default)\n",
            "    Metadata:\n",
            "      creation_time   : 2018-07-28T00:23:04.000000Z\n",
            "      handler_name    : ISO Media file produced by Google Inc. Created on: 07/27/2018.\n",
            "    Stream #0:1(eng): Audio: aac (LC) (mp4a / 0x6134706D), 44100 Hz, stereo, fltp, 125 kb/s (default)\n",
            "    Metadata:\n",
            "      creation_time   : 2018-07-28T00:23:04.000000Z\n",
            "      handler_name    : ISO Media file produced by Google Inc. Created on: 07/27/2018.\n",
            "Stream mapping:\n",
            "  Stream #0:0 -> #0:0 (h264 (native) -> h264 (libx264))\n",
            "  Stream #0:1 -> #0:1 (copy)\n",
            "Press [q] to stop, [?] for help\n",
            "\u001b[1;36m[libx264 @ 0x557402948800] \u001b[0musing SAR=1/1\n",
            "\u001b[1;36m[libx264 @ 0x557402948800] \u001b[0musing cpu capabilities: MMX2 SSE2Fast SSSE3 SSE4.2 AVX FMA3 BMI2 AVX2\n",
            "\u001b[1;36m[libx264 @ 0x557402948800] \u001b[0mprofile High, level 3.1\n",
            "\u001b[1;36m[libx264 @ 0x557402948800] \u001b[0m264 - core 152 r2854 e9a5903 - H.264/MPEG-4 AVC codec - Copyleft 2003-2017 - http://www.videolan.org/x264.html - options: cabac=1 ref=1 deblock=1:0:0 analyse=0x3:0x113 me=hex subme=2 psy=1 psy_rd=1.00:0.00 mixed_ref=0 me_range=16 chroma_me=1 trellis=0 8x8dct=1 cqm=0 deadzone=21,11 fast_pskip=1 chroma_qp_offset=0 threads=3 lookahead_threads=1 sliced_threads=0 nr=0 decimate=1 interlaced=0 bluray_compat=0 constrained_intra=0 bframes=3 b_pyramid=2 b_adapt=1 b_bias=0 direct=1 weightb=1 open_gop=0 weightp=1 keyint=250 keyint_min=23 scenecut=40 intra_refresh=0 rc_lookahead=10 rc=crf mbtree=1 crf=22.0 qcomp=0.60 qpmin=0 qpmax=69 qpstep=4 ip_ratio=1.40 aq=1:1.00\n",
            "Output #0, mp4, to '/content/gdrive/My Drive/adplace/scene_videos/adplace_320-Scene-001.mp4':\n",
            "  Metadata:\n",
            "    major_brand     : mp42\n",
            "    minor_version   : 0\n",
            "    compatible_brands: isommp42\n",
            "    encoder         : Lavf57.83.100\n",
            "    Stream #0:0(und): Video: h264 (libx264) (avc1 / 0x31637661), yuv420p, 1280x532 [SAR 1:1 DAR 320:133], q=-1--1, 23.98 fps, 24k tbn, 23.98 tbc (default)\n",
            "    Metadata:\n",
            "      creation_time   : 2018-07-28T00:23:04.000000Z\n",
            "      handler_name    : ISO Media file produced by Google Inc. Created on: 07/27/2018.\n",
            "      encoder         : Lavc57.107.100 libx264\n",
            "    Side data:\n",
            "      cpb: bitrate max/min/avg: 0/0/0 buffer size: 0 vbv_delay: -1\n",
            "    Stream #0:1(eng): Audio: aac (LC) (mp4a / 0x6134706D), 44100 Hz, stereo, fltp, 125 kb/s (default)\n",
            "    Metadata:\n",
            "      creation_time   : 2018-07-28T00:23:04.000000Z\n",
            "      handler_name    : ISO Media file produced by Google Inc. Created on: 07/27/2018.\n",
            "frame=   56 fps=0.0 q=-1.0 Lsize=     283kB time=00:00:02.27 bitrate=1018.1kbits/s speed=2.37x    \n",
            "video:244kB audio:36kB subtitle:0kB other streams:0kB global headers:0kB muxing overhead: 1.097961%\n",
            "\u001b[1;36m[libx264 @ 0x557402948800] \u001b[0mframe I:1     Avg QP:18.83  size: 44516\n",
            "\u001b[1;36m[libx264 @ 0x557402948800] \u001b[0mframe P:15    Avg QP:20.63  size:  9113\n",
            "\u001b[1;36m[libx264 @ 0x557402948800] \u001b[0mframe B:40    Avg QP:23.74  size:  1702\n",
            "\u001b[1;36m[libx264 @ 0x557402948800] \u001b[0mconsecutive B-frames:  3.6%  3.6%  0.0% 92.9%\n",
            "\u001b[1;36m[libx264 @ 0x557402948800] \u001b[0mmb I  I16..4: 23.2% 27.6% 49.2%\n",
            "\u001b[1;36m[libx264 @ 0x557402948800] \u001b[0mmb P  I16..4:  5.6%  5.6%  1.0%  P16..4: 34.3% 14.3%  6.5%  0.0%  0.0%    skip:32.8%\n",
            "\u001b[1;36m[libx264 @ 0x557402948800] \u001b[0mmb B  I16..4:  0.3%  0.1%  0.0%  B16..8: 13.7%  3.4%  0.3%  direct: 2.4%  skip:79.8%  L0:39.4% L1:40.8% BI:19.8%\n",
            "\u001b[1;36m[libx264 @ 0x557402948800] \u001b[0m8x8 transform intra:38.4% inter:15.0%\n",
            "\u001b[1;36m[libx264 @ 0x557402948800] \u001b[0mcoded y,uvDC,uvAC intra: 43.2% 34.7% 10.2% inter: 4.1% 2.7% 0.2%\n",
            "\u001b[1;36m[libx264 @ 0x557402948800] \u001b[0mi16 v,h,dc,p: 37% 35% 19%  9%\n",
            "\u001b[1;36m[libx264 @ 0x557402948800] \u001b[0mi8 v,h,dc,ddl,ddr,vr,hd,vl,hu: 31% 28% 21%  2%  4%  4%  4%  2%  4%\n",
            "\u001b[1;36m[libx264 @ 0x557402948800] \u001b[0mi4 v,h,dc,ddl,ddr,vr,hd,vl,hu: 27% 34% 10%  4%  5%  4%  7%  3%  7%\n",
            "\u001b[1;36m[libx264 @ 0x557402948800] \u001b[0mi8c dc,h,v,p: 55% 25% 17%  3%\n",
            "\u001b[1;36m[libx264 @ 0x557402948800] \u001b[0mWeighted P-Frames: Y:0.0% UV:0.0%\n",
            "\u001b[1;36m[libx264 @ 0x557402948800] \u001b[0mkb/s:853.91\n",
            "[PySceneDetect] Output from ffmpeg for Scene 1 shown above, splitting remaining scenes...\n",
            "100% 3393/3393 [01:16<00:00, 53.43frame/s]\n",
            "[PySceneDetect] Average processing speed 44.30 frames/sec.\n",
            "[PySceneDetect] Video splitting completed, individual scenes written to disk.\n",
            "[PySceneDetect] Output directory set:\n",
            "  /content/gdrive/My Drive/adplace/scene_videos\n",
            "[PySceneDetect] Loaded 1 video, framerate: 29.97 FPS, resolution: 640 x 360\n",
            "[PySceneDetect] Downscale factor set to 3, effective resolution: 213 x 120\n",
            "[PySceneDetect] Scene list CSV file name format:\n",
            "  $VIDEO_NAME-Scenes.csv\n",
            "[PySceneDetect] FFmpeg codec args set: -c:v libx264 -preset veryfast -crf 22 -c:a copy\n",
            "[PySceneDetect] Video output file name format: $VIDEO_NAME-Scene-$SCENE_NUMBER\n",
            "[PySceneDetect] Detecting scenes...\n",
            "100% 3898/3898 [00:07<00:00, 505.48frames/s]\n",
            "[PySceneDetect] Processed 3898 frames in 7.7 seconds (average 505.34 FPS).\n",
            "[PySceneDetect] Detected 46 scenes, average shot length 2.8 seconds.\n",
            "[PySceneDetect] Writing scene list to CSV file:\n",
            "  /content/gdrive/My Drive/adplace/scene_videos/adplace_321-Scenes.csv\n",
            "[PySceneDetect] Scene List:\n",
            "-----------------------------------------------------------------------\n",
            " | Scene # | Start Frame |  Start Time  |  End Frame  |   End Time   |\n",
            "-----------------------------------------------------------------------\n",
            " |      1  |           0 | 00:00:00.000 |          44 | 00:00:01.468 |\n",
            " |      2  |          44 | 00:00:01.468 |         158 | 00:00:05.272 |\n",
            " |      3  |         158 | 00:00:05.272 |         223 | 00:00:07.441 |\n",
            " |      4  |         223 | 00:00:07.441 |         274 | 00:00:09.142 |\n",
            " |      5  |         274 | 00:00:09.142 |         353 | 00:00:11.778 |\n",
            " |      6  |         353 | 00:00:11.778 |         404 | 00:00:13.480 |\n",
            " |      7  |         404 | 00:00:13.480 |         483 | 00:00:16.116 |\n",
            " |      8  |         483 | 00:00:16.116 |         526 | 00:00:17.551 |\n",
            " |      9  |         526 | 00:00:17.551 |         576 | 00:00:19.219 |\n",
            " |     10  |         576 | 00:00:19.219 |         865 | 00:00:28.862 |\n",
            " |     11  |         865 | 00:00:28.862 |        1143 | 00:00:38.138 |\n",
            " |     12  |        1143 | 00:00:38.138 |        1173 | 00:00:39.139 |\n",
            " |     13  |        1173 | 00:00:39.139 |        1230 | 00:00:41.041 |\n",
            " |     14  |        1230 | 00:00:41.041 |        1253 | 00:00:41.808 |\n",
            " |     15  |        1253 | 00:00:41.808 |        1282 | 00:00:42.776 |\n",
            " |     16  |        1282 | 00:00:42.776 |        1319 | 00:00:44.011 |\n",
            " |     17  |        1319 | 00:00:44.011 |        1372 | 00:00:45.779 |\n",
            " |     18  |        1372 | 00:00:45.779 |        1430 | 00:00:47.714 |\n",
            " |     19  |        1430 | 00:00:47.714 |        1537 | 00:00:51.284 |\n",
            " |     20  |        1537 | 00:00:51.284 |        1723 | 00:00:57.491 |\n",
            " |     21  |        1723 | 00:00:57.491 |        1848 | 00:01:01.661 |\n",
            " |     22  |        1848 | 00:01:01.661 |        2043 | 00:01:08.168 |\n",
            " |     23  |        2043 | 00:01:08.168 |        2145 | 00:01:11.571 |\n",
            " |     24  |        2145 | 00:01:11.571 |        2198 | 00:01:13.340 |\n",
            " |     25  |        2198 | 00:01:13.340 |        2236 | 00:01:14.608 |\n",
            " |     26  |        2236 | 00:01:14.608 |        2298 | 00:01:16.676 |\n",
            " |     27  |        2298 | 00:01:16.676 |        2338 | 00:01:18.011 |\n",
            " |     28  |        2338 | 00:01:18.011 |        2448 | 00:01:21.681 |\n",
            " |     29  |        2448 | 00:01:21.681 |        2508 | 00:01:23.683 |\n",
            " |     30  |        2508 | 00:01:23.683 |        2523 | 00:01:24.184 |\n",
            " |     31  |        2523 | 00:01:24.184 |        2539 | 00:01:24.718 |\n",
            " |     32  |        2539 | 00:01:24.718 |        2608 | 00:01:27.020 |\n",
            " |     33  |        2608 | 00:01:27.020 |        2662 | 00:01:28.822 |\n",
            " |     34  |        2662 | 00:01:28.822 |        2690 | 00:01:29.756 |\n",
            " |     35  |        2690 | 00:01:29.756 |        2779 | 00:01:32.726 |\n",
            " |     36  |        2779 | 00:01:32.726 |        2852 | 00:01:35.162 |\n",
            " |     37  |        2852 | 00:01:35.162 |        2918 | 00:01:37.364 |\n",
            " |     38  |        2918 | 00:01:37.364 |        3046 | 00:01:41.635 |\n",
            " |     39  |        3046 | 00:01:41.635 |        3334 | 00:01:51.244 |\n",
            " |     40  |        3334 | 00:01:51.244 |        3356 | 00:01:51.978 |\n",
            " |     41  |        3356 | 00:01:51.978 |        3398 | 00:01:53.380 |\n",
            " |     42  |        3398 | 00:01:53.380 |        3419 | 00:01:54.080 |\n",
            " |     43  |        3419 | 00:01:54.080 |        3434 | 00:01:54.581 |\n",
            " |     44  |        3434 | 00:01:54.581 |        3451 | 00:01:55.148 |\n",
            " |     45  |        3451 | 00:01:55.148 |        3476 | 00:01:55.982 |\n",
            " |     46  |        3476 | 00:01:55.982 |        3898 | 00:02:10.063 |\n",
            "-----------------------------------------------------------------------\n",
            "\n",
            "[PySceneDetect] Comma-separated timecode list:\n",
            "  00:00:01.468,00:00:05.272,00:00:07.441,00:00:09.142,00:00:11.778,00:00:13.480,00:00:16.116,00:00:17.551,00:00:19.219,00:00:28.862,00:00:38.138,00:00:39.139,00:00:41.041,00:00:41.808,00:00:42.776,00:00:44.011,00:00:45.779,00:00:47.714,00:00:51.284,00:00:57.491,00:01:01.661,00:01:08.168,00:01:11.571,00:01:13.340,00:01:14.608,00:01:16.676,00:01:18.011,00:01:21.681,00:01:23.683,00:01:24.184,00:01:24.718,00:01:27.020,00:01:28.822,00:01:29.756,00:01:32.726,00:01:35.162,00:01:37.364,00:01:41.635,00:01:51.244,00:01:51.978,00:01:53.380,00:01:54.080,00:01:54.581,00:01:55.148,00:01:55.982\n",
            "[PySceneDetect] Splitting input video using ffmpeg, output path template:\n",
            "  /content/gdrive/My Drive/adplace/scene_videos/$VIDEO_NAME-Scene-$SCENE_NUMBER.mp4\n",
            "  0% 0/3898 [00:00<?, ?frame/s]ffmpeg version 3.4.6-0ubuntu0.18.04.1 Copyright (c) 2000-2019 the FFmpeg developers\n",
            "  built with gcc 7 (Ubuntu 7.3.0-16ubuntu3)\n",
            "  configuration: --prefix=/usr --extra-version=0ubuntu0.18.04.1 --toolchain=hardened --libdir=/usr/lib/x86_64-linux-gnu --incdir=/usr/include/x86_64-linux-gnu --enable-gpl --disable-stripping --enable-avresample --enable-avisynth --enable-gnutls --enable-ladspa --enable-libass --enable-libbluray --enable-libbs2b --enable-libcaca --enable-libcdio --enable-libflite --enable-libfontconfig --enable-libfreetype --enable-libfribidi --enable-libgme --enable-libgsm --enable-libmp3lame --enable-libmysofa --enable-libopenjpeg --enable-libopenmpt --enable-libopus --enable-libpulse --enable-librubberband --enable-librsvg --enable-libshine --enable-libsnappy --enable-libsoxr --enable-libspeex --enable-libssh --enable-libtheora --enable-libtwolame --enable-libvorbis --enable-libvpx --enable-libwavpack --enable-libwebp --enable-libx265 --enable-libxml2 --enable-libxvid --enable-libzmq --enable-libzvbi --enable-omx --enable-openal --enable-opengl --enable-sdl2 --enable-libdc1394 --enable-libdrm --enable-libiec61883 --enable-chromaprint --enable-frei0r --enable-libopencv --enable-libx264 --enable-shared\n",
            "  libavutil      55. 78.100 / 55. 78.100\n",
            "  libavcodec     57.107.100 / 57.107.100\n",
            "  libavformat    57. 83.100 / 57. 83.100\n",
            "  libavdevice    57. 10.100 / 57. 10.100\n",
            "  libavfilter     6.107.100 /  6.107.100\n",
            "  libavresample   3.  7.  0 /  3.  7.  0\n",
            "  libswscale      4.  8.100 /  4.  8.100\n",
            "  libswresample   2.  9.100 /  2.  9.100\n",
            "  libpostproc    54.  7.100 / 54.  7.100\n",
            "Input #0, mov,mp4,m4a,3gp,3g2,mj2, from '/content/gdrive/My Drive/adplace/full_videos/adplace_321.mp4':\n",
            "  Metadata:\n",
            "    major_brand     : mp42\n",
            "    minor_version   : 0\n",
            "    compatible_brands: isommp42\n",
            "    creation_time   : 2018-11-08T20:46:05.000000Z\n",
            "  Duration: 00:02:10.45, start: 0.000000, bitrate: 583 kb/s\n",
            "    Stream #0:0(und): Video: h264 (Constrained Baseline) (avc1 / 0x31637661), yuv420p, 640x360 [SAR 1:1 DAR 16:9], 485 kb/s, 29.97 fps, 29.97 tbr, 30k tbn, 59.94 tbc (default)\n",
            "    Metadata:\n",
            "      creation_time   : 2018-11-08T20:46:05.000000Z\n",
            "      handler_name    : ISO Media file produced by Google Inc. Created on: 11/08/2018.\n",
            "    Stream #0:1(und): Audio: aac (LC) (mp4a / 0x6134706D), 44100 Hz, stereo, fltp, 96 kb/s (default)\n",
            "    Metadata:\n",
            "      creation_time   : 2018-11-08T20:46:05.000000Z\n",
            "      handler_name    : ISO Media file produced by Google Inc. Created on: 11/08/2018.\n",
            "Stream mapping:\n",
            "  Stream #0:0 -> #0:0 (h264 (native) -> h264 (libx264))\n",
            "  Stream #0:1 -> #0:1 (copy)\n",
            "Press [q] to stop, [?] for help\n",
            "\u001b[1;36m[libx264 @ 0x5562626f6800] \u001b[0musing SAR=1/1\n",
            "\u001b[1;36m[libx264 @ 0x5562626f6800] \u001b[0musing cpu capabilities: MMX2 SSE2Fast SSSE3 SSE4.2 AVX FMA3 BMI2 AVX2\n",
            "\u001b[1;36m[libx264 @ 0x5562626f6800] \u001b[0mprofile High, level 3.0\n",
            "\u001b[1;36m[libx264 @ 0x5562626f6800] \u001b[0m264 - core 152 r2854 e9a5903 - H.264/MPEG-4 AVC codec - Copyleft 2003-2017 - http://www.videolan.org/x264.html - options: cabac=1 ref=1 deblock=1:0:0 analyse=0x3:0x113 me=hex subme=2 psy=1 psy_rd=1.00:0.00 mixed_ref=0 me_range=16 chroma_me=1 trellis=0 8x8dct=1 cqm=0 deadzone=21,11 fast_pskip=1 chroma_qp_offset=0 threads=3 lookahead_threads=1 sliced_threads=0 nr=0 decimate=1 interlaced=0 bluray_compat=0 constrained_intra=0 bframes=3 b_pyramid=2 b_adapt=1 b_bias=0 direct=1 weightb=1 open_gop=0 weightp=1 keyint=250 keyint_min=25 scenecut=40 intra_refresh=0 rc_lookahead=10 rc=crf mbtree=1 crf=22.0 qcomp=0.60 qpmin=0 qpmax=69 qpstep=4 ip_ratio=1.40 aq=1:1.00\n",
            "Output #0, mp4, to '/content/gdrive/My Drive/adplace/scene_videos/adplace_321-Scene-001.mp4':\n",
            "  Metadata:\n",
            "    major_brand     : mp42\n",
            "    minor_version   : 0\n",
            "    compatible_brands: isommp42\n",
            "    encoder         : Lavf57.83.100\n",
            "    Stream #0:0(und): Video: h264 (libx264) (avc1 / 0x31637661), yuv420p, 640x360 [SAR 1:1 DAR 16:9], q=-1--1, 29.97 fps, 30k tbn, 29.97 tbc (default)\n",
            "    Metadata:\n",
            "      creation_time   : 2018-11-08T20:46:05.000000Z\n",
            "      handler_name    : ISO Media file produced by Google Inc. Created on: 11/08/2018.\n",
            "      encoder         : Lavc57.107.100 libx264\n",
            "    Side data:\n",
            "      cpb: bitrate max/min/avg: 0/0/0 buffer size: 0 vbv_delay: -1\n",
            "    Stream #0:1(und): Audio: aac (LC) (mp4a / 0x6134706D), 44100 Hz, stereo, fltp, 96 kb/s (default)\n",
            "    Metadata:\n",
            "      creation_time   : 2018-11-08T20:46:05.000000Z\n",
            "      handler_name    : ISO Media file produced by Google Inc. Created on: 11/08/2018.\n",
            "frame=   44 fps=0.0 q=-1.0 Lsize=      25kB time=00:00:01.46 bitrate= 138.1kbits/s speed=11.7x    \n",
            "video:4kB audio:18kB subtitle:0kB other streams:0kB global headers:0kB muxing overhead: 13.276202%\n",
            "\u001b[1;36m[libx264 @ 0x5562626f6800] \u001b[0mframe I:1     Avg QP: 9.00  size:    99\n",
            "\u001b[1;36m[libx264 @ 0x5562626f6800] \u001b[0mframe P:12    Avg QP:11.12  size:   210\n",
            "\u001b[1;36m[libx264 @ 0x5562626f6800] \u001b[0mframe B:31    Avg QP:12.68  size:    24\n",
            "\u001b[1;36m[libx264 @ 0x5562626f6800] \u001b[0mconsecutive B-frames:  4.5%  4.5%  0.0% 90.9%\n",
            "\u001b[1;36m[libx264 @ 0x5562626f6800] \u001b[0mmb I  I16..4: 99.9%  0.0%  0.1%\n",
            "\u001b[1;36m[libx264 @ 0x5562626f6800] \u001b[0mmb P  I16..4:  6.4%  2.2%  0.0%  P16..4:  1.5%  0.0%  0.0%  0.0%  0.0%    skip:89.7%\n",
            "\u001b[1;36m[libx264 @ 0x5562626f6800] \u001b[0mmb B  I16..4:  0.0%  0.0%  0.0%  B16..8:  0.1%  0.0%  0.0%  direct: 0.9%  skip:99.1%  L0:100.0% L1: 0.0% BI: 0.0%\n",
            "\u001b[1;36m[libx264 @ 0x5562626f6800] \u001b[0m8x8 transform intra:13.2% inter:55.6%\n",
            "\u001b[1;36m[libx264 @ 0x5562626f6800] \u001b[0mcoded y,uvDC,uvAC intra: 4.8% 15.5% 1.3% inter: 0.0% 1.0% 0.0%\n",
            "\u001b[1;36m[libx264 @ 0x5562626f6800] \u001b[0mi16 v,h,dc,p: 90%  5%  4%  1%\n",
            "\u001b[1;36m[libx264 @ 0x5562626f6800] \u001b[0mi8 v,h,dc,ddl,ddr,vr,hd,vl,hu: 18% 25% 41%  3%  3%  2%  5%  2%  2%\n",
            "\u001b[1;36m[libx264 @ 0x5562626f6800] \u001b[0mi4 v,h,dc,ddl,ddr,vr,hd,vl,hu:  0%  0% 100%  0%  0%  0%  0%  0%  0%\n",
            "\u001b[1;36m[libx264 @ 0x5562626f6800] \u001b[0mi8c dc,h,v,p: 80% 14%  6%  0%\n",
            "\u001b[1;36m[libx264 @ 0x5562626f6800] \u001b[0mWeighted P-Frames: Y:0.0% UV:0.0%\n",
            "\u001b[1;36m[libx264 @ 0x5562626f6800] \u001b[0mkb/s:18.33\n",
            "[PySceneDetect] Output from ffmpeg for Scene 1 shown above, splitting remaining scenes...\n",
            "100% 3898/3898 [00:26<00:00, 88.53frame/s]\n",
            "[PySceneDetect] Average processing speed 144.78 frames/sec.\n",
            "[PySceneDetect] Video splitting completed, individual scenes written to disk.\n",
            "[PySceneDetect] Output directory set:\n",
            "  /content/gdrive/My Drive/adplace/scene_videos\n",
            "[PySceneDetect] Loaded 1 video, framerate: 23.98 FPS, resolution: 636 x 360\n",
            "[PySceneDetect] Downscale factor set to 3, effective resolution: 212 x 120\n",
            "[PySceneDetect] Scene list CSV file name format:\n",
            "  $VIDEO_NAME-Scenes.csv\n",
            "[PySceneDetect] FFmpeg codec args set: -c:v libx264 -preset veryfast -crf 22 -c:a copy\n",
            "[PySceneDetect] Video output file name format: $VIDEO_NAME-Scene-$SCENE_NUMBER\n",
            "[PySceneDetect] Detecting scenes...\n",
            "100% 3229/3229 [00:06<00:00, 480.49frames/s]\n",
            "[PySceneDetect] Processed 3229 frames in 6.7 seconds (average 480.34 FPS).\n",
            "[PySceneDetect] Detected 43 scenes, average shot length 3.1 seconds.\n",
            "[PySceneDetect] Writing scene list to CSV file:\n",
            "  /content/gdrive/My Drive/adplace/scene_videos/adplace_322-Scenes.csv\n",
            "[PySceneDetect] Scene List:\n",
            "-----------------------------------------------------------------------\n",
            " | Scene # | Start Frame |  Start Time  |  End Frame  |   End Time   |\n",
            "-----------------------------------------------------------------------\n",
            " |      1  |           0 | 00:00:00.000 |          19 | 00:00:00.792 |\n",
            " |      2  |          19 | 00:00:00.792 |          56 | 00:00:02.336 |\n",
            " |      3  |          56 | 00:00:02.336 |          92 | 00:00:03.837 |\n",
            " |      4  |          92 | 00:00:03.837 |         133 | 00:00:05.547 |\n",
            " |      5  |         133 | 00:00:05.547 |         162 | 00:00:06.757 |\n",
            " |      6  |         162 | 00:00:06.757 |         181 | 00:00:07.549 |\n",
            " |      7  |         181 | 00:00:07.549 |         532 | 00:00:22.189 |\n",
            " |      8  |         532 | 00:00:22.189 |         682 | 00:00:28.445 |\n",
            " |      9  |         682 | 00:00:28.445 |         716 | 00:00:29.863 |\n",
            " |     10  |         716 | 00:00:29.863 |         732 | 00:00:30.530 |\n",
            " |     11  |         732 | 00:00:30.530 |         779 | 00:00:32.491 |\n",
            " |     12  |         779 | 00:00:32.491 |         805 | 00:00:33.575 |\n",
            " |     13  |         805 | 00:00:33.575 |         840 | 00:00:35.035 |\n",
            " |     14  |         840 | 00:00:35.035 |         874 | 00:00:36.453 |\n",
            " |     15  |         874 | 00:00:36.453 |         894 | 00:00:37.287 |\n",
            " |     16  |         894 | 00:00:37.287 |         917 | 00:00:38.246 |\n",
            " |     17  |         917 | 00:00:38.246 |         954 | 00:00:39.790 |\n",
            " |     18  |         954 | 00:00:39.790 |         976 | 00:00:40.707 |\n",
            " |     19  |         976 | 00:00:40.707 |        1039 | 00:00:43.335 |\n",
            " |     20  |        1039 | 00:00:43.335 |        1057 | 00:00:44.086 |\n",
            " |     21  |        1057 | 00:00:44.086 |        1080 | 00:00:45.045 |\n",
            " |     22  |        1080 | 00:00:45.045 |        1104 | 00:00:46.046 |\n",
            " |     23  |        1104 | 00:00:46.046 |        1120 | 00:00:46.713 |\n",
            " |     24  |        1120 | 00:00:46.713 |        1186 | 00:00:49.466 |\n",
            " |     25  |        1186 | 00:00:49.466 |        1227 | 00:00:51.176 |\n",
            " |     26  |        1227 | 00:00:51.176 |        1543 | 00:01:04.356 |\n",
            " |     27  |        1543 | 00:01:04.356 |        1745 | 00:01:12.781 |\n",
            " |     28  |        1745 | 00:01:12.781 |        1828 | 00:01:16.243 |\n",
            " |     29  |        1828 | 00:01:16.243 |        1893 | 00:01:18.954 |\n",
            " |     30  |        1893 | 00:01:18.954 |        2010 | 00:01:23.833 |\n",
            " |     31  |        2010 | 00:01:23.833 |        2175 | 00:01:30.715 |\n",
            " |     32  |        2175 | 00:01:30.715 |        2292 | 00:01:35.595 |\n",
            " |     33  |        2292 | 00:01:35.595 |        2342 | 00:01:37.681 |\n",
            " |     34  |        2342 | 00:01:37.681 |        2409 | 00:01:40.475 |\n",
            " |     35  |        2409 | 00:01:40.475 |        2474 | 00:01:43.186 |\n",
            " |     36  |        2474 | 00:01:43.186 |        2579 | 00:01:47.565 |\n",
            " |     37  |        2579 | 00:01:47.565 |        2632 | 00:01:49.776 |\n",
            " |     38  |        2632 | 00:01:49.776 |        2712 | 00:01:53.113 |\n",
            " |     39  |        2712 | 00:01:53.113 |        2781 | 00:01:55.990 |\n",
            " |     40  |        2781 | 00:01:55.990 |        2831 | 00:01:58.076 |\n",
            " |     41  |        2831 | 00:01:58.076 |        2877 | 00:01:59.994 |\n",
            " |     42  |        2877 | 00:01:59.994 |        2908 | 00:02:01.287 |\n",
            " |     43  |        2908 | 00:02:01.287 |        3229 | 00:02:14.676 |\n",
            "-----------------------------------------------------------------------\n",
            "\n",
            "[PySceneDetect] Comma-separated timecode list:\n",
            "  00:00:00.792,00:00:02.336,00:00:03.837,00:00:05.547,00:00:06.757,00:00:07.549,00:00:22.189,00:00:28.445,00:00:29.863,00:00:30.530,00:00:32.491,00:00:33.575,00:00:35.035,00:00:36.453,00:00:37.287,00:00:38.246,00:00:39.790,00:00:40.707,00:00:43.335,00:00:44.086,00:00:45.045,00:00:46.046,00:00:46.713,00:00:49.466,00:00:51.176,00:01:04.356,00:01:12.781,00:01:16.243,00:01:18.954,00:01:23.833,00:01:30.715,00:01:35.595,00:01:37.681,00:01:40.475,00:01:43.186,00:01:47.565,00:01:49.776,00:01:53.113,00:01:55.990,00:01:58.076,00:01:59.994,00:02:01.287\n",
            "[PySceneDetect] Splitting input video using ffmpeg, output path template:\n",
            "  /content/gdrive/My Drive/adplace/scene_videos/$VIDEO_NAME-Scene-$SCENE_NUMBER.mp4\n",
            "  0% 0/3229 [00:00<?, ?frame/s]ffmpeg version 3.4.6-0ubuntu0.18.04.1 Copyright (c) 2000-2019 the FFmpeg developers\n",
            "  built with gcc 7 (Ubuntu 7.3.0-16ubuntu3)\n",
            "  configuration: --prefix=/usr --extra-version=0ubuntu0.18.04.1 --toolchain=hardened --libdir=/usr/lib/x86_64-linux-gnu --incdir=/usr/include/x86_64-linux-gnu --enable-gpl --disable-stripping --enable-avresample --enable-avisynth --enable-gnutls --enable-ladspa --enable-libass --enable-libbluray --enable-libbs2b --enable-libcaca --enable-libcdio --enable-libflite --enable-libfontconfig --enable-libfreetype --enable-libfribidi --enable-libgme --enable-libgsm --enable-libmp3lame --enable-libmysofa --enable-libopenjpeg --enable-libopenmpt --enable-libopus --enable-libpulse --enable-librubberband --enable-librsvg --enable-libshine --enable-libsnappy --enable-libsoxr --enable-libspeex --enable-libssh --enable-libtheora --enable-libtwolame --enable-libvorbis --enable-libvpx --enable-libwavpack --enable-libwebp --enable-libx265 --enable-libxml2 --enable-libxvid --enable-libzmq --enable-libzvbi --enable-omx --enable-openal --enable-opengl --enable-sdl2 --enable-libdc1394 --enable-libdrm --enable-libiec61883 --enable-chromaprint --enable-frei0r --enable-libopencv --enable-libx264 --enable-shared\n",
            "  libavutil      55. 78.100 / 55. 78.100\n",
            "  libavcodec     57.107.100 / 57.107.100\n",
            "  libavformat    57. 83.100 / 57. 83.100\n",
            "  libavdevice    57. 10.100 / 57. 10.100\n",
            "  libavfilter     6.107.100 /  6.107.100\n",
            "  libavresample   3.  7.  0 /  3.  7.  0\n",
            "  libswscale      4.  8.100 /  4.  8.100\n",
            "  libswresample   2.  9.100 /  2.  9.100\n",
            "  libpostproc    54.  7.100 / 54.  7.100\n",
            "Input #0, mov,mp4,m4a,3gp,3g2,mj2, from '/content/gdrive/My Drive/adplace/full_videos/adplace_322.mp4':\n",
            "  Metadata:\n",
            "    major_brand     : mp42\n",
            "    minor_version   : 0\n",
            "    compatible_brands: isommp42\n",
            "    creation_time   : 2018-10-25T19:05:34.000000Z\n",
            "  Duration: 00:02:14.75, start: 0.000000, bitrate: 509 kb/s\n",
            "    Stream #0:0(und): Video: h264 (Constrained Baseline) (avc1 / 0x31637661), yuv420p(tv, bt709), 636x360 [SAR 1:1 DAR 53:30], 411 kb/s, 23.98 fps, 23.98 tbr, 24k tbn, 47.95 tbc (default)\n",
            "    Metadata:\n",
            "      creation_time   : 2018-10-25T19:05:34.000000Z\n",
            "      handler_name    : ISO Media file produced by Google Inc. Created on: 10/25/2018.\n",
            "    Stream #0:1(und): Audio: aac (LC) (mp4a / 0x6134706D), 44100 Hz, stereo, fltp, 95 kb/s (default)\n",
            "    Metadata:\n",
            "      creation_time   : 2018-10-25T19:05:34.000000Z\n",
            "      handler_name    : ISO Media file produced by Google Inc. Created on: 10/25/2018.\n",
            "Stream mapping:\n",
            "  Stream #0:0 -> #0:0 (h264 (native) -> h264 (libx264))\n",
            "  Stream #0:1 -> #0:1 (copy)\n",
            "Press [q] to stop, [?] for help\n",
            "\u001b[1;36m[libx264 @ 0x556d80fa4800] \u001b[0musing SAR=1/1\n",
            "\u001b[1;36m[libx264 @ 0x556d80fa4800] \u001b[0musing cpu capabilities: MMX2 SSE2Fast SSSE3 SSE4.2 AVX FMA3 BMI2 AVX2\n",
            "\u001b[1;36m[libx264 @ 0x556d80fa4800] \u001b[0mprofile High, level 3.0\n",
            "\u001b[1;36m[libx264 @ 0x556d80fa4800] \u001b[0m264 - core 152 r2854 e9a5903 - H.264/MPEG-4 AVC codec - Copyleft 2003-2017 - http://www.videolan.org/x264.html - options: cabac=1 ref=1 deblock=1:0:0 analyse=0x3:0x113 me=hex subme=2 psy=1 psy_rd=1.00:0.00 mixed_ref=0 me_range=16 chroma_me=1 trellis=0 8x8dct=1 cqm=0 deadzone=21,11 fast_pskip=1 chroma_qp_offset=0 threads=3 lookahead_threads=1 sliced_threads=0 nr=0 decimate=1 interlaced=0 bluray_compat=0 constrained_intra=0 bframes=3 b_pyramid=2 b_adapt=1 b_bias=0 direct=1 weightb=1 open_gop=0 weightp=1 keyint=250 keyint_min=23 scenecut=40 intra_refresh=0 rc_lookahead=10 rc=crf mbtree=1 crf=22.0 qcomp=0.60 qpmin=0 qpmax=69 qpstep=4 ip_ratio=1.40 aq=1:1.00\n",
            "Output #0, mp4, to '/content/gdrive/My Drive/adplace/scene_videos/adplace_322-Scene-001.mp4':\n",
            "  Metadata:\n",
            "    major_brand     : mp42\n",
            "    minor_version   : 0\n",
            "    compatible_brands: isommp42\n",
            "    encoder         : Lavf57.83.100\n",
            "    Stream #0:0(und): Video: h264 (libx264) (avc1 / 0x31637661), yuv420p, 636x360 [SAR 1:1 DAR 53:30], q=-1--1, 23.98 fps, 24k tbn, 23.98 tbc (default)\n",
            "    Metadata:\n",
            "      creation_time   : 2018-10-25T19:05:34.000000Z\n",
            "      handler_name    : ISO Media file produced by Google Inc. Created on: 10/25/2018.\n",
            "      encoder         : Lavc57.107.100 libx264\n",
            "    Side data:\n",
            "      cpb: bitrate max/min/avg: 0/0/0 buffer size: 0 vbv_delay: -1\n",
            "    Stream #0:1(und): Audio: aac (LC) (mp4a / 0x6134706D), 44100 Hz, stereo, fltp, 95 kb/s (default)\n",
            "    Metadata:\n",
            "      creation_time   : 2018-10-25T19:05:34.000000Z\n",
            "      handler_name    : ISO Media file produced by Google Inc. Created on: 10/25/2018.\n",
            "frame=   19 fps=0.0 q=-1.0 Lsize=      43kB time=00:00:00.78 bitrate= 445.1kbits/s speed=5.05x    \n",
            "video:31kB audio:10kB subtitle:0kB other streams:0kB global headers:0kB muxing overhead: 4.717633%\n",
            "\u001b[1;36m[libx264 @ 0x556d80fa4800] \u001b[0mframe I:1     Avg QP:10.17  size:   629\n",
            "\u001b[1;36m[libx264 @ 0x556d80fa4800] \u001b[0mframe P:5     Avg QP:19.15  size:  3402\n",
            "\u001b[1;36m[libx264 @ 0x556d80fa4800] \u001b[0mframe B:13    Avg QP:19.49  size:  1034\n",
            "\u001b[1;36m[libx264 @ 0x556d80fa4800] \u001b[0mconsecutive B-frames:  5.3%  0.0% 31.6% 63.2%\n",
            "\u001b[1;36m[libx264 @ 0x556d80fa4800] \u001b[0mmb I  I16..4: 90.5%  9.3%  0.1%\n",
            "\u001b[1;36m[libx264 @ 0x556d80fa4800] \u001b[0mmb P  I16..4: 22.3% 20.1%  0.6%  P16..4: 27.7% 13.6%  4.6%  0.0%  0.0%    skip:11.1%\n",
            "\u001b[1;36m[libx264 @ 0x556d80fa4800] \u001b[0mmb B  I16..4:  4.2%  1.6%  0.0%  B16..8: 16.1%  3.3%  0.4%  direct:16.0%  skip:58.4%  L0:66.5% L1:21.5% BI:12.0%\n",
            "\u001b[1;36m[libx264 @ 0x556d80fa4800] \u001b[0m8x8 transform intra:33.4% inter:38.6%\n",
            "\u001b[1;36m[libx264 @ 0x556d80fa4800] \u001b[0mcoded y,uvDC,uvAC intra: 15.3% 21.0% 0.3% inter: 6.2% 22.8% 0.0%\n",
            "\u001b[1;36m[libx264 @ 0x556d80fa4800] \u001b[0mi16 v,h,dc,p: 69% 15% 12%  4%\n",
            "\u001b[1;36m[libx264 @ 0x556d80fa4800] \u001b[0mi8 v,h,dc,ddl,ddr,vr,hd,vl,hu: 46% 18% 29%  1%  1%  1%  1%  1%  1%\n",
            "\u001b[1;36m[libx264 @ 0x556d80fa4800] \u001b[0mi4 v,h,dc,ddl,ddr,vr,hd,vl,hu: 35% 18% 23%  3%  7%  4%  3%  5%  2%\n",
            "\u001b[1;36m[libx264 @ 0x556d80fa4800] \u001b[0mi8c dc,h,v,p: 72% 11% 17%  1%\n",
            "\u001b[1;36m[libx264 @ 0x556d80fa4800] \u001b[0mWeighted P-Frames: Y:80.0% UV:80.0%\n",
            "\u001b[1;36m[libx264 @ 0x556d80fa4800] \u001b[0mkb/s:313.80\n",
            "[PySceneDetect] Output from ffmpeg for Scene 1 shown above, splitting remaining scenes...\n",
            "100% 3229/3229 [00:24<00:00, 144.19frame/s]\n",
            "[PySceneDetect] Average processing speed 133.20 frames/sec.\n",
            "[PySceneDetect] Video splitting completed, individual scenes written to disk.\n",
            "[PySceneDetect] Output directory set:\n",
            "  /content/gdrive/My Drive/adplace/scene_videos\n",
            "[PySceneDetect] Loaded 1 video, framerate: 30.00 FPS, resolution: 1280 x 720\n",
            "[PySceneDetect] Downscale factor set to 5, effective resolution: 256 x 144\n",
            "[PySceneDetect] Scene list CSV file name format:\n",
            "  $VIDEO_NAME-Scenes.csv\n",
            "[PySceneDetect] FFmpeg codec args set: -c:v libx264 -preset veryfast -crf 22 -c:a copy\n",
            "[PySceneDetect] Video output file name format: $VIDEO_NAME-Scene-$SCENE_NUMBER\n",
            "[PySceneDetect] Detecting scenes...\n",
            "100% 5903/5903 [00:35<00:00, 167.32frames/s]\n",
            "[PySceneDetect] Processed 5903 frames in 35.3 seconds (average 167.31 FPS).\n",
            "[PySceneDetect] Detected 12 scenes, average shot length 16.4 seconds.\n",
            "[PySceneDetect] Writing scene list to CSV file:\n",
            "  /content/gdrive/My Drive/adplace/scene_videos/adplace_323-Scenes.csv\n",
            "[PySceneDetect] Scene List:\n",
            "-----------------------------------------------------------------------\n",
            " | Scene # | Start Frame |  Start Time  |  End Frame  |   End Time   |\n",
            "-----------------------------------------------------------------------\n",
            " |      1  |           0 | 00:00:00.000 |          51 | 00:00:01.700 |\n",
            " |      2  |          51 | 00:00:01.700 |         812 | 00:00:27.067 |\n",
            " |      3  |         812 | 00:00:27.067 |        1523 | 00:00:50.767 |\n",
            " |      4  |        1523 | 00:00:50.767 |        1883 | 00:01:02.767 |\n",
            " |      5  |        1883 | 00:01:02.767 |        2455 | 00:01:21.833 |\n",
            " |      6  |        2455 | 00:01:21.833 |        2494 | 00:01:23.133 |\n",
            " |      7  |        2494 | 00:01:23.133 |        2574 | 00:01:25.800 |\n",
            " |      8  |        2574 | 00:01:25.800 |        3217 | 00:01:47.233 |\n",
            " |      9  |        3217 | 00:01:47.233 |        3251 | 00:01:48.367 |\n",
            " |     10  |        3251 | 00:01:48.367 |        4603 | 00:02:33.433 |\n",
            " |     11  |        4603 | 00:02:33.433 |        4716 | 00:02:37.200 |\n",
            " |     12  |        4716 | 00:02:37.200 |        5903 | 00:03:16.767 |\n",
            "-----------------------------------------------------------------------\n",
            "\n",
            "[PySceneDetect] Comma-separated timecode list:\n",
            "  00:00:01.700,00:00:27.067,00:00:50.767,00:01:02.767,00:01:21.833,00:01:23.133,00:01:25.800,00:01:47.233,00:01:48.367,00:02:33.433,00:02:37.200\n",
            "[PySceneDetect] Splitting input video using ffmpeg, output path template:\n",
            "  /content/gdrive/My Drive/adplace/scene_videos/$VIDEO_NAME-Scene-$SCENE_NUMBER.mp4\n",
            "  0% 0/5903 [00:00<?, ?frame/s]ffmpeg version 3.4.6-0ubuntu0.18.04.1 Copyright (c) 2000-2019 the FFmpeg developers\n",
            "  built with gcc 7 (Ubuntu 7.3.0-16ubuntu3)\n",
            "  configuration: --prefix=/usr --extra-version=0ubuntu0.18.04.1 --toolchain=hardened --libdir=/usr/lib/x86_64-linux-gnu --incdir=/usr/include/x86_64-linux-gnu --enable-gpl --disable-stripping --enable-avresample --enable-avisynth --enable-gnutls --enable-ladspa --enable-libass --enable-libbluray --enable-libbs2b --enable-libcaca --enable-libcdio --enable-libflite --enable-libfontconfig --enable-libfreetype --enable-libfribidi --enable-libgme --enable-libgsm --enable-libmp3lame --enable-libmysofa --enable-libopenjpeg --enable-libopenmpt --enable-libopus --enable-libpulse --enable-librubberband --enable-librsvg --enable-libshine --enable-libsnappy --enable-libsoxr --enable-libspeex --enable-libssh --enable-libtheora --enable-libtwolame --enable-libvorbis --enable-libvpx --enable-libwavpack --enable-libwebp --enable-libx265 --enable-libxml2 --enable-libxvid --enable-libzmq --enable-libzvbi --enable-omx --enable-openal --enable-opengl --enable-sdl2 --enable-libdc1394 --enable-libdrm --enable-libiec61883 --enable-chromaprint --enable-frei0r --enable-libopencv --enable-libx264 --enable-shared\n",
            "  libavutil      55. 78.100 / 55. 78.100\n",
            "  libavcodec     57.107.100 / 57.107.100\n",
            "  libavformat    57. 83.100 / 57. 83.100\n",
            "  libavdevice    57. 10.100 / 57. 10.100\n",
            "  libavfilter     6.107.100 /  6.107.100\n",
            "  libavresample   3.  7.  0 /  3.  7.  0\n",
            "  libswscale      4.  8.100 /  4.  8.100\n",
            "  libswresample   2.  9.100 /  2.  9.100\n",
            "  libpostproc    54.  7.100 / 54.  7.100\n",
            "Input #0, mov,mp4,m4a,3gp,3g2,mj2, from '/content/gdrive/My Drive/adplace/full_videos/adplace_323.mp4':\n",
            "  Metadata:\n",
            "    major_brand     : mp42\n",
            "    minor_version   : 0\n",
            "    compatible_brands: isommp42\n",
            "    creation_time   : 2018-10-14T23:35:00.000000Z\n",
            "  Duration: 00:03:16.79, start: 0.000000, bitrate: 792 kb/s\n",
            "    Stream #0:0(und): Video: h264 (Main) (avc1 / 0x31637661), yuv420p(tv, bt709), 1280x720 [SAR 1:1 DAR 16:9], 662 kb/s, 30 fps, 30 tbr, 90k tbn, 60 tbc (default)\n",
            "    Metadata:\n",
            "      creation_time   : 2018-10-14T23:35:00.000000Z\n",
            "      handler_name    : ISO Media file produced by Google Inc. Created on: 10/14/2018.\n",
            "    Stream #0:1(eng): Audio: aac (LC) (mp4a / 0x6134706D), 44100 Hz, stereo, fltp, 125 kb/s (default)\n",
            "    Metadata:\n",
            "      creation_time   : 2018-10-14T23:35:00.000000Z\n",
            "      handler_name    : ISO Media file produced by Google Inc. Created on: 10/14/2018.\n",
            "Stream mapping:\n",
            "  Stream #0:0 -> #0:0 (h264 (native) -> h264 (libx264))\n",
            "  Stream #0:1 -> #0:1 (copy)\n",
            "Press [q] to stop, [?] for help\n",
            "\u001b[1;36m[libx264 @ 0x5636b082e800] \u001b[0musing SAR=1/1\n",
            "\u001b[1;36m[libx264 @ 0x5636b082e800] \u001b[0musing cpu capabilities: MMX2 SSE2Fast SSSE3 SSE4.2 AVX FMA3 BMI2 AVX2\n",
            "\u001b[1;36m[libx264 @ 0x5636b082e800] \u001b[0mprofile High, level 3.1\n",
            "\u001b[1;36m[libx264 @ 0x5636b082e800] \u001b[0m264 - core 152 r2854 e9a5903 - H.264/MPEG-4 AVC codec - Copyleft 2003-2017 - http://www.videolan.org/x264.html - options: cabac=1 ref=1 deblock=1:0:0 analyse=0x3:0x113 me=hex subme=2 psy=1 psy_rd=1.00:0.00 mixed_ref=0 me_range=16 chroma_me=1 trellis=0 8x8dct=1 cqm=0 deadzone=21,11 fast_pskip=1 chroma_qp_offset=0 threads=3 lookahead_threads=1 sliced_threads=0 nr=0 decimate=1 interlaced=0 bluray_compat=0 constrained_intra=0 bframes=3 b_pyramid=2 b_adapt=1 b_bias=0 direct=1 weightb=1 open_gop=0 weightp=1 keyint=250 keyint_min=25 scenecut=40 intra_refresh=0 rc_lookahead=10 rc=crf mbtree=1 crf=22.0 qcomp=0.60 qpmin=0 qpmax=69 qpstep=4 ip_ratio=1.40 aq=1:1.00\n",
            "Output #0, mp4, to '/content/gdrive/My Drive/adplace/scene_videos/adplace_323-Scene-001.mp4':\n",
            "  Metadata:\n",
            "    major_brand     : mp42\n",
            "    minor_version   : 0\n",
            "    compatible_brands: isommp42\n",
            "    encoder         : Lavf57.83.100\n",
            "    Stream #0:0(und): Video: h264 (libx264) (avc1 / 0x31637661), yuv420p, 1280x720 [SAR 1:1 DAR 16:9], q=-1--1, 30 fps, 15360 tbn, 30 tbc (default)\n",
            "    Metadata:\n",
            "      creation_time   : 2018-10-14T23:35:00.000000Z\n",
            "      handler_name    : ISO Media file produced by Google Inc. Created on: 10/14/2018.\n",
            "      encoder         : Lavc57.107.100 libx264\n",
            "    Side data:\n",
            "      cpb: bitrate max/min/avg: 0/0/0 buffer size: 0 vbv_delay: -1\n",
            "    Stream #0:1(eng): Audio: aac (LC) (mp4a / 0x6134706D), 44100 Hz, stereo, fltp, 125 kb/s (default)\n",
            "    Metadata:\n",
            "      creation_time   : 2018-10-14T23:35:00.000000Z\n",
            "      handler_name    : ISO Media file produced by Google Inc. Created on: 10/14/2018.\n",
            "frame=   51 fps=0.0 q=-1.0 Lsize=     122kB time=00:00:01.69 bitrate= 591.2kbits/s speed=2.21x    \n",
            "video:92kB audio:27kB subtitle:0kB other streams:0kB global headers:0kB muxing overhead: 2.620002%\n",
            "\u001b[1;36m[libx264 @ 0x5636b082e800] \u001b[0mframe I:1     Avg QP:17.52  size: 30862\n",
            "\u001b[1;36m[libx264 @ 0x5636b082e800] \u001b[0mframe P:13    Avg QP:21.31  size:  3492\n",
            "\u001b[1;36m[libx264 @ 0x5636b082e800] \u001b[0mframe B:37    Avg QP:21.85  size:   476\n",
            "\u001b[1;36m[libx264 @ 0x5636b082e800] \u001b[0mconsecutive B-frames:  2.0%  3.9%  0.0% 94.1%\n",
            "\u001b[1;36m[libx264 @ 0x5636b082e800] \u001b[0mmb I  I16..4: 37.8% 34.4% 27.8%\n",
            "\u001b[1;36m[libx264 @ 0x5636b082e800] \u001b[0mmb P  I16..4:  1.7%  0.5%  0.0%  P16..4: 18.2%  6.9%  3.1%  0.0%  0.0%    skip:69.6%\n",
            "\u001b[1;36m[libx264 @ 0x5636b082e800] \u001b[0mmb B  I16..4:  0.0%  0.0%  0.0%  B16..8:  4.7%  0.7%  0.0%  direct: 0.7%  skip:93.8%  L0:45.3% L1:41.1% BI:13.6%\n",
            "\u001b[1;36m[libx264 @ 0x5636b082e800] \u001b[0m8x8 transform intra:31.3% inter:24.3%\n",
            "\u001b[1;36m[libx264 @ 0x5636b082e800] \u001b[0mcoded y,uvDC,uvAC intra: 37.2% 49.5% 12.4% inter: 0.8% 1.7% 0.0%\n",
            "\u001b[1;36m[libx264 @ 0x5636b082e800] \u001b[0mi16 v,h,dc,p: 60% 23%  9%  7%\n",
            "\u001b[1;36m[libx264 @ 0x5636b082e800] \u001b[0mi8 v,h,dc,ddl,ddr,vr,hd,vl,hu: 34% 30% 19%  4%  3%  2%  2%  3%  3%\n",
            "\u001b[1;36m[libx264 @ 0x5636b082e800] \u001b[0mi4 v,h,dc,ddl,ddr,vr,hd,vl,hu: 27% 23% 10%  7%  8%  7%  7%  6%  5%\n",
            "\u001b[1;36m[libx264 @ 0x5636b082e800] \u001b[0mi8c dc,h,v,p: 40% 25% 24% 10%\n",
            "\u001b[1;36m[libx264 @ 0x5636b082e800] \u001b[0mWeighted P-Frames: Y:0.0% UV:0.0%\n",
            "\u001b[1;36m[libx264 @ 0x5636b082e800] \u001b[0mkb/s:441.64\n",
            "[PySceneDetect] Output from ffmpeg for Scene 1 shown above, splitting remaining scenes...\n",
            "100% 5903/5903 [01:43<00:00, 48.06frame/s]\n",
            "[PySceneDetect] Average processing speed 56.92 frames/sec.\n",
            "[PySceneDetect] Video splitting completed, individual scenes written to disk.\n",
            "[PySceneDetect] Output directory set:\n",
            "  /content/gdrive/My Drive/adplace/scene_videos\n",
            "[PySceneDetect] Loaded 1 video, framerate: 24.00 FPS, resolution: 1280 x 720\n",
            "[PySceneDetect] Downscale factor set to 5, effective resolution: 256 x 144\n",
            "[PySceneDetect] Scene list CSV file name format:\n",
            "  $VIDEO_NAME-Scenes.csv\n",
            "[PySceneDetect] FFmpeg codec args set: -c:v libx264 -preset veryfast -crf 22 -c:a copy\n",
            "[PySceneDetect] Video output file name format: $VIDEO_NAME-Scene-$SCENE_NUMBER\n",
            "[PySceneDetect] Detecting scenes...\n",
            "100% 1765/1765 [00:09<00:00, 183.30frames/s]\n",
            "[PySceneDetect] Processed 1765 frames in 9.6 seconds (average 183.27 FPS).\n",
            "[PySceneDetect] Detected 2 scenes, average shot length 36.8 seconds.\n",
            "[PySceneDetect] Writing scene list to CSV file:\n",
            "  /content/gdrive/My Drive/adplace/scene_videos/adplace_324-Scenes.csv\n",
            "[PySceneDetect] Scene List:\n",
            "-----------------------------------------------------------------------\n",
            " | Scene # | Start Frame |  Start Time  |  End Frame  |   End Time   |\n",
            "-----------------------------------------------------------------------\n",
            " |      1  |           0 | 00:00:00.000 |        1717 | 00:01:11.542 |\n",
            " |      2  |        1717 | 00:01:11.542 |        1765 | 00:01:13.542 |\n",
            "-----------------------------------------------------------------------\n",
            "\n",
            "[PySceneDetect] Comma-separated timecode list:\n",
            "  00:01:11.542\n",
            "[PySceneDetect] Splitting input video using ffmpeg, output path template:\n",
            "  /content/gdrive/My Drive/adplace/scene_videos/$VIDEO_NAME-Scene-$SCENE_NUMBER.mp4\n",
            "  0% 0/1765 [00:00<?, ?frame/s]ffmpeg version 3.4.6-0ubuntu0.18.04.1 Copyright (c) 2000-2019 the FFmpeg developers\n",
            "  built with gcc 7 (Ubuntu 7.3.0-16ubuntu3)\n",
            "  configuration: --prefix=/usr --extra-version=0ubuntu0.18.04.1 --toolchain=hardened --libdir=/usr/lib/x86_64-linux-gnu --incdir=/usr/include/x86_64-linux-gnu --enable-gpl --disable-stripping --enable-avresample --enable-avisynth --enable-gnutls --enable-ladspa --enable-libass --enable-libbluray --enable-libbs2b --enable-libcaca --enable-libcdio --enable-libflite --enable-libfontconfig --enable-libfreetype --enable-libfribidi --enable-libgme --enable-libgsm --enable-libmp3lame --enable-libmysofa --enable-libopenjpeg --enable-libopenmpt --enable-libopus --enable-libpulse --enable-librubberband --enable-librsvg --enable-libshine --enable-libsnappy --enable-libsoxr --enable-libspeex --enable-libssh --enable-libtheora --enable-libtwolame --enable-libvorbis --enable-libvpx --enable-libwavpack --enable-libwebp --enable-libx265 --enable-libxml2 --enable-libxvid --enable-libzmq --enable-libzvbi --enable-omx --enable-openal --enable-opengl --enable-sdl2 --enable-libdc1394 --enable-libdrm --enable-libiec61883 --enable-chromaprint --enable-frei0r --enable-libopencv --enable-libx264 --enable-shared\n",
            "  libavutil      55. 78.100 / 55. 78.100\n",
            "  libavcodec     57.107.100 / 57.107.100\n",
            "  libavformat    57. 83.100 / 57. 83.100\n",
            "  libavdevice    57. 10.100 / 57. 10.100\n",
            "  libavfilter     6.107.100 /  6.107.100\n",
            "  libavresample   3.  7.  0 /  3.  7.  0\n",
            "  libswscale      4.  8.100 /  4.  8.100\n",
            "  libswresample   2.  9.100 /  2.  9.100\n",
            "  libpostproc    54.  7.100 / 54.  7.100\n",
            "Input #0, mov,mp4,m4a,3gp,3g2,mj2, from '/content/gdrive/My Drive/adplace/full_videos/adplace_324.mp4':\n",
            "  Metadata:\n",
            "    major_brand     : mp42\n",
            "    minor_version   : 0\n",
            "    compatible_brands: isommp42\n",
            "    creation_time   : 2019-04-09T04:06:49.000000Z\n",
            "  Duration: 00:01:13.56, start: 0.000000, bitrate: 306 kb/s\n",
            "    Stream #0:0(und): Video: h264 (Main) (avc1 / 0x31637661), yuv420p(tv, bt709), 1280x720 [SAR 1:1 DAR 16:9], 174 kb/s, 24 fps, 24 tbr, 12288 tbn, 48 tbc (default)\n",
            "    Metadata:\n",
            "      creation_time   : 2019-04-09T04:06:49.000000Z\n",
            "      handler_name    : ISO Media file produced by Google Inc. Created on: 04/08/2019.\n",
            "    Stream #0:1(eng): Audio: aac (LC) (mp4a / 0x6134706D), 44100 Hz, stereo, fltp, 127 kb/s (default)\n",
            "    Metadata:\n",
            "      creation_time   : 2019-04-09T04:06:49.000000Z\n",
            "      handler_name    : ISO Media file produced by Google Inc. Created on: 04/08/2019.\n",
            "Stream mapping:\n",
            "  Stream #0:0 -> #0:0 (h264 (native) -> h264 (libx264))\n",
            "  Stream #0:1 -> #0:1 (copy)\n",
            "Press [q] to stop, [?] for help\n",
            "\u001b[1;36m[libx264 @ 0x5626fb9c4800] \u001b[0musing SAR=1/1\n",
            "\u001b[1;36m[libx264 @ 0x5626fb9c4800] \u001b[0musing cpu capabilities: MMX2 SSE2Fast SSSE3 SSE4.2 AVX FMA3 BMI2 AVX2\n",
            "\u001b[1;36m[libx264 @ 0x5626fb9c4800] \u001b[0mprofile High, level 3.1\n",
            "\u001b[1;36m[libx264 @ 0x5626fb9c4800] \u001b[0m264 - core 152 r2854 e9a5903 - H.264/MPEG-4 AVC codec - Copyleft 2003-2017 - http://www.videolan.org/x264.html - options: cabac=1 ref=1 deblock=1:0:0 analyse=0x3:0x113 me=hex subme=2 psy=1 psy_rd=1.00:0.00 mixed_ref=0 me_range=16 chroma_me=1 trellis=0 8x8dct=1 cqm=0 deadzone=21,11 fast_pskip=1 chroma_qp_offset=0 threads=3 lookahead_threads=1 sliced_threads=0 nr=0 decimate=1 interlaced=0 bluray_compat=0 constrained_intra=0 bframes=3 b_pyramid=2 b_adapt=1 b_bias=0 direct=1 weightb=1 open_gop=0 weightp=1 keyint=250 keyint_min=24 scenecut=40 intra_refresh=0 rc_lookahead=10 rc=crf mbtree=1 crf=22.0 qcomp=0.60 qpmin=0 qpmax=69 qpstep=4 ip_ratio=1.40 aq=1:1.00\n",
            "Output #0, mp4, to '/content/gdrive/My Drive/adplace/scene_videos/adplace_324-Scene-001.mp4':\n",
            "  Metadata:\n",
            "    major_brand     : mp42\n",
            "    minor_version   : 0\n",
            "    compatible_brands: isommp42\n",
            "    encoder         : Lavf57.83.100\n",
            "    Stream #0:0(und): Video: h264 (libx264) (avc1 / 0x31637661), yuv420p, 1280x720 [SAR 1:1 DAR 16:9], q=-1--1, 24 fps, 12288 tbn, 24 tbc (default)\n",
            "    Metadata:\n",
            "      creation_time   : 2019-04-09T04:06:49.000000Z\n",
            "      handler_name    : ISO Media file produced by Google Inc. Created on: 04/08/2019.\n",
            "      encoder         : Lavc57.107.100 libx264\n",
            "    Side data:\n",
            "      cpb: bitrate max/min/avg: 0/0/0 buffer size: 0 vbv_delay: -1\n",
            "    Stream #0:1(eng): Audio: aac (LC) (mp4a / 0x6134706D), 44100 Hz, stereo, fltp, 127 kb/s (default)\n",
            "    Metadata:\n",
            "      creation_time   : 2019-04-09T04:06:49.000000Z\n",
            "      handler_name    : ISO Media file produced by Google Inc. Created on: 04/08/2019.\n",
            "frame= 1718 fps= 69 q=-1.0 Lsize=    4330kB time=00:01:11.54 bitrate= 495.8kbits/s speed=2.86x    \n",
            "video:3159kB audio:1119kB subtitle:0kB other streams:0kB global headers:0kB muxing overhead: 1.217108%\n",
            "\u001b[1;36m[libx264 @ 0x5626fb9c4800] \u001b[0mframe I:30    Avg QP:12.84  size: 21583\n",
            "\u001b[1;36m[libx264 @ 0x5626fb9c4800] \u001b[0mframe P:580   Avg QP:17.40  size:  3535\n",
            "\u001b[1;36m[libx264 @ 0x5626fb9c4800] \u001b[0mframe B:1108  Avg QP:18.50  size:   484\n",
            "\u001b[1;36m[libx264 @ 0x5626fb9c4800] \u001b[0mconsecutive B-frames:  3.6%  8.8% 67.6% 20.0%\n",
            "\u001b[1;36m[libx264 @ 0x5626fb9c4800] \u001b[0mmb I  I16..4: 47.6% 32.5% 19.9%\n",
            "\u001b[1;36m[libx264 @ 0x5626fb9c4800] \u001b[0mmb P  I16..4:  3.5%  2.7%  0.1%  P16..4: 15.1%  5.6%  2.1%  0.0%  0.0%    skip:70.8%\n",
            "\u001b[1;36m[libx264 @ 0x5626fb9c4800] \u001b[0mmb B  I16..4:  0.2%  0.1%  0.0%  B16..8:  4.3%  0.6%  0.0%  direct: 0.6%  skip:94.2%  L0:34.8% L1:60.4% BI: 4.8%\n",
            "\u001b[1;36m[libx264 @ 0x5626fb9c4800] \u001b[0m8x8 transform intra:37.9% inter:44.9%\n",
            "\u001b[1;36m[libx264 @ 0x5626fb9c4800] \u001b[0mcoded y,uvDC,uvAC intra: 33.0% 28.0% 3.8% inter: 0.9% 1.7% 0.0%\n",
            "\u001b[1;36m[libx264 @ 0x5626fb9c4800] \u001b[0mi16 v,h,dc,p: 61% 24% 11%  5%\n",
            "\u001b[1;36m[libx264 @ 0x5626fb9c4800] \u001b[0mi8 v,h,dc,ddl,ddr,vr,hd,vl,hu: 40% 30% 16%  2%  2%  2%  2%  3%  3%\n",
            "\u001b[1;36m[libx264 @ 0x5626fb9c4800] \u001b[0mi4 v,h,dc,ddl,ddr,vr,hd,vl,hu: 34% 28% 11%  4%  5%  5%  5%  5%  3%\n",
            "\u001b[1;36m[libx264 @ 0x5626fb9c4800] \u001b[0mi8c dc,h,v,p: 58% 21% 18%  4%\n",
            "\u001b[1;36m[libx264 @ 0x5626fb9c4800] \u001b[0mWeighted P-Frames: Y:0.5% UV:0.2%\n",
            "\u001b[1;36m[libx264 @ 0x5626fb9c4800] \u001b[0mkb/s:361.45\n",
            "[PySceneDetect] Output from ffmpeg for Scene 1 shown above, splitting remaining scenes...\n",
            "100% 1765/1765 [00:25<00:00, 70.50frame/s]\n",
            "[PySceneDetect] Average processing speed 68.63 frames/sec.\n",
            "[PySceneDetect] Video splitting completed, individual scenes written to disk.\n",
            "[PySceneDetect] Output directory set:\n",
            "  /content/gdrive/My Drive/adplace/scene_videos\n",
            "[PySceneDetect] Loaded 1 video, framerate: 25.00 FPS, resolution: 640 x 360\n",
            "[PySceneDetect] Downscale factor set to 3, effective resolution: 213 x 120\n",
            "[PySceneDetect] Scene list CSV file name format:\n",
            "  $VIDEO_NAME-Scenes.csv\n",
            "[PySceneDetect] FFmpeg codec args set: -c:v libx264 -preset veryfast -crf 22 -c:a copy\n",
            "[PySceneDetect] Video output file name format: $VIDEO_NAME-Scene-$SCENE_NUMBER\n",
            "[PySceneDetect] Detecting scenes...\n",
            "100% 3700/3700 [00:07<00:00, 525.19frames/s]\n",
            "[PySceneDetect] Processed 3700 frames in 7.0 seconds (average 525.03 FPS).\n",
            "[PySceneDetect] Detected 7 scenes, average shot length 21.1 seconds.\n",
            "[PySceneDetect] Writing scene list to CSV file:\n",
            "  /content/gdrive/My Drive/adplace/scene_videos/adplace_325-Scenes.csv\n",
            "[PySceneDetect] Scene List:\n",
            "-----------------------------------------------------------------------\n",
            " | Scene # | Start Frame |  Start Time  |  End Frame  |   End Time   |\n",
            "-----------------------------------------------------------------------\n",
            " |      1  |           0 | 00:00:00.000 |           1 | 00:00:00.040 |\n",
            " |      2  |           1 | 00:00:00.040 |         137 | 00:00:05.480 |\n",
            " |      3  |         137 | 00:00:05.480 |         280 | 00:00:11.200 |\n",
            " |      4  |         280 | 00:00:11.200 |         897 | 00:00:35.880 |\n",
            " |      5  |         897 | 00:00:35.880 |        2456 | 00:01:38.240 |\n",
            " |      6  |        2456 | 00:01:38.240 |        3411 | 00:02:16.440 |\n",
            " |      7  |        3411 | 00:02:16.440 |        3700 | 00:02:28.000 |\n",
            "-----------------------------------------------------------------------\n",
            "\n",
            "[PySceneDetect] Comma-separated timecode list:\n",
            "  00:00:00.040,00:00:05.480,00:00:11.200,00:00:35.880,00:01:38.240,00:02:16.440\n",
            "[PySceneDetect] Splitting input video using ffmpeg, output path template:\n",
            "  /content/gdrive/My Drive/adplace/scene_videos/$VIDEO_NAME-Scene-$SCENE_NUMBER.mp4\n",
            "  0% 0/3700 [00:00<?, ?frame/s]ffmpeg version 3.4.6-0ubuntu0.18.04.1 Copyright (c) 2000-2019 the FFmpeg developers\n",
            "  built with gcc 7 (Ubuntu 7.3.0-16ubuntu3)\n",
            "  configuration: --prefix=/usr --extra-version=0ubuntu0.18.04.1 --toolchain=hardened --libdir=/usr/lib/x86_64-linux-gnu --incdir=/usr/include/x86_64-linux-gnu --enable-gpl --disable-stripping --enable-avresample --enable-avisynth --enable-gnutls --enable-ladspa --enable-libass --enable-libbluray --enable-libbs2b --enable-libcaca --enable-libcdio --enable-libflite --enable-libfontconfig --enable-libfreetype --enable-libfribidi --enable-libgme --enable-libgsm --enable-libmp3lame --enable-libmysofa --enable-libopenjpeg --enable-libopenmpt --enable-libopus --enable-libpulse --enable-librubberband --enable-librsvg --enable-libshine --enable-libsnappy --enable-libsoxr --enable-libspeex --enable-libssh --enable-libtheora --enable-libtwolame --enable-libvorbis --enable-libvpx --enable-libwavpack --enable-libwebp --enable-libx265 --enable-libxml2 --enable-libxvid --enable-libzmq --enable-libzvbi --enable-omx --enable-openal --enable-opengl --enable-sdl2 --enable-libdc1394 --enable-libdrm --enable-libiec61883 --enable-chromaprint --enable-frei0r --enable-libopencv --enable-libx264 --enable-shared\n",
            "  libavutil      55. 78.100 / 55. 78.100\n",
            "  libavcodec     57.107.100 / 57.107.100\n",
            "  libavformat    57. 83.100 / 57. 83.100\n",
            "  libavdevice    57. 10.100 / 57. 10.100\n",
            "  libavfilter     6.107.100 /  6.107.100\n",
            "  libavresample   3.  7.  0 /  3.  7.  0\n",
            "  libswscale      4.  8.100 /  4.  8.100\n",
            "  libswresample   2.  9.100 /  2.  9.100\n",
            "  libpostproc    54.  7.100 / 54.  7.100\n",
            "Input #0, mov,mp4,m4a,3gp,3g2,mj2, from '/content/gdrive/My Drive/adplace/full_videos/adplace_325.mp4':\n",
            "  Metadata:\n",
            "    major_brand     : mp42\n",
            "    minor_version   : 0\n",
            "    compatible_brands: isommp42\n",
            "    creation_time   : 2018-10-28T06:01:24.000000Z\n",
            "  Duration: 00:02:28.05, start: 0.000000, bitrate: 369 kb/s\n",
            "    Stream #0:0(und): Video: h264 (Constrained Baseline) (avc1 / 0x31637661), yuv420p(tv, smpte170m/smpte170m/bt709), 640x360 [SAR 1:1 DAR 16:9], 271 kb/s, 25 fps, 25 tbr, 12800 tbn, 50 tbc (default)\n",
            "    Metadata:\n",
            "      creation_time   : 2018-10-28T06:01:24.000000Z\n",
            "      handler_name    : ISO Media file produced by Google Inc. Created on: 10/27/2018.\n",
            "    Stream #0:1(und): Audio: aac (LC) (mp4a / 0x6134706D), 44100 Hz, stereo, fltp, 95 kb/s (default)\n",
            "    Metadata:\n",
            "      creation_time   : 2018-10-28T06:01:24.000000Z\n",
            "      handler_name    : ISO Media file produced by Google Inc. Created on: 10/27/2018.\n",
            "Stream mapping:\n",
            "  Stream #0:0 -> #0:0 (h264 (native) -> h264 (libx264))\n",
            "  Stream #0:1 -> #0:1 (copy)\n",
            "Press [q] to stop, [?] for help\n",
            "\u001b[1;36m[libx264 @ 0x563b1e004800] \u001b[0musing SAR=1/1\n",
            "\u001b[1;36m[libx264 @ 0x563b1e004800] \u001b[0musing cpu capabilities: MMX2 SSE2Fast SSSE3 SSE4.2 AVX FMA3 BMI2 AVX2\n",
            "\u001b[1;36m[libx264 @ 0x563b1e004800] \u001b[0mprofile High, level 3.0\n",
            "\u001b[1;36m[libx264 @ 0x563b1e004800] \u001b[0m264 - core 152 r2854 e9a5903 - H.264/MPEG-4 AVC codec - Copyleft 2003-2017 - http://www.videolan.org/x264.html - options: cabac=1 ref=1 deblock=1:0:0 analyse=0x3:0x113 me=hex subme=2 psy=1 psy_rd=1.00:0.00 mixed_ref=0 me_range=16 chroma_me=1 trellis=0 8x8dct=1 cqm=0 deadzone=21,11 fast_pskip=1 chroma_qp_offset=0 threads=3 lookahead_threads=1 sliced_threads=0 nr=0 decimate=1 interlaced=0 bluray_compat=0 constrained_intra=0 bframes=3 b_pyramid=2 b_adapt=1 b_bias=0 direct=1 weightb=1 open_gop=0 weightp=1 keyint=250 keyint_min=25 scenecut=40 intra_refresh=0 rc_lookahead=10 rc=crf mbtree=1 crf=22.0 qcomp=0.60 qpmin=0 qpmax=69 qpstep=4 ip_ratio=1.40 aq=1:1.00\n",
            "Output #0, mp4, to '/content/gdrive/My Drive/adplace/scene_videos/adplace_325-Scene-001.mp4':\n",
            "  Metadata:\n",
            "    major_brand     : mp42\n",
            "    minor_version   : 0\n",
            "    compatible_brands: isommp42\n",
            "    encoder         : Lavf57.83.100\n",
            "    Stream #0:0(und): Video: h264 (libx264) (avc1 / 0x31637661), yuv420p, 640x360 [SAR 1:1 DAR 16:9], q=-1--1, 25 fps, 12800 tbn, 25 tbc (default)\n",
            "    Metadata:\n",
            "      creation_time   : 2018-10-28T06:01:24.000000Z\n",
            "      handler_name    : ISO Media file produced by Google Inc. Created on: 10/27/2018.\n",
            "      encoder         : Lavc57.107.100 libx264\n",
            "    Side data:\n",
            "      cpb: bitrate max/min/avg: 0/0/0 buffer size: 0 vbv_delay: -1\n",
            "    Stream #0:1(und): Audio: aac (LC) (mp4a / 0x6134706D), 44100 Hz, stereo, fltp, 95 kb/s (default)\n",
            "    Metadata:\n",
            "      creation_time   : 2018-10-28T06:01:24.000000Z\n",
            "      handler_name    : ISO Media file produced by Google Inc. Created on: 10/27/2018.\n",
            "frame=    1 fps=0.0 q=27.0 Lsize=       3kB time=00:00:00.02 bitrate=1029.1kbits/s speed=1.15x    \n",
            "video:1kB audio:1kB subtitle:0kB other streams:0kB global headers:0kB muxing overhead: 85.412788%\n",
            "\u001b[1;36m[libx264 @ 0x563b1e004800] \u001b[0mframe I:1     Avg QP:12.18  size:   366\n",
            "\u001b[1;36m[libx264 @ 0x563b1e004800] \u001b[0mmb I  I16..4: 99.7%  0.2%  0.1%\n",
            "\u001b[1;36m[libx264 @ 0x563b1e004800] \u001b[0m8x8 transform intra:0.2%\n",
            "\u001b[1;36m[libx264 @ 0x563b1e004800] \u001b[0mcoded y,uvDC,uvAC intra: 0.1% 8.0% 0.0%\n",
            "\u001b[1;36m[libx264 @ 0x563b1e004800] \u001b[0mi16 v,h,dc,p: 96%  0%  4%  0%\n",
            "\u001b[1;36m[libx264 @ 0x563b1e004800] \u001b[0mi8 v,h,dc,ddl,ddr,vr,hd,vl,hu:  0%  0% 100%  0%  0%  0%  0%  0%  0%\n",
            "\u001b[1;36m[libx264 @ 0x563b1e004800] \u001b[0mi4 v,h,dc,ddl,ddr,vr,hd,vl,hu:  0%  0% 100%  0%  0%  0%  0%  0%  0%\n",
            "\u001b[1;36m[libx264 @ 0x563b1e004800] \u001b[0mi8c dc,h,v,p: 77%  7% 15%  1%\n",
            "\u001b[1;36m[libx264 @ 0x563b1e004800] \u001b[0mkb/s:73.20\n",
            "[PySceneDetect] Output from ffmpeg for Scene 1 shown above, splitting remaining scenes...\n",
            "100% 3700/3700 [00:17<00:00, 61.03frame/s]\n",
            "[PySceneDetect] Average processing speed 215.97 frames/sec.\n",
            "[PySceneDetect] Video splitting completed, individual scenes written to disk.\n",
            "[PySceneDetect] Output directory set:\n",
            "  /content/gdrive/My Drive/adplace/scene_videos\n",
            "[PySceneDetect] Loaded 1 video, framerate: 23.98 FPS, resolution: 1280 x 720\n",
            "[PySceneDetect] Downscale factor set to 5, effective resolution: 256 x 144\n",
            "[PySceneDetect] Scene list CSV file name format:\n",
            "  $VIDEO_NAME-Scenes.csv\n",
            "[PySceneDetect] FFmpeg codec args set: -c:v libx264 -preset veryfast -crf 22 -c:a copy\n",
            "[PySceneDetect] Video output file name format: $VIDEO_NAME-Scene-$SCENE_NUMBER\n",
            "[PySceneDetect] Detecting scenes...\n",
            "100% 1831/1831 [00:11<00:00, 164.10frames/s]\n",
            "[PySceneDetect] Processed 1831 frames in 11.2 seconds (average 164.07 FPS).\n",
            "[PySceneDetect] Detected 16 scenes, average shot length 4.8 seconds.\n",
            "[PySceneDetect] Writing scene list to CSV file:\n",
            "  /content/gdrive/My Drive/adplace/scene_videos/adplace_326-Scenes.csv\n",
            "[PySceneDetect] Scene List:\n",
            "-----------------------------------------------------------------------\n",
            " | Scene # | Start Frame |  Start Time  |  End Frame  |   End Time   |\n",
            "-----------------------------------------------------------------------\n",
            " |      1  |           0 | 00:00:00.000 |          48 | 00:00:02.002 |\n",
            " |      2  |          48 | 00:00:02.002 |          74 | 00:00:03.086 |\n",
            " |      3  |          74 | 00:00:03.086 |         121 | 00:00:05.047 |\n",
            " |      4  |         121 | 00:00:05.047 |         151 | 00:00:06.298 |\n",
            " |      5  |         151 | 00:00:06.298 |         195 | 00:00:08.133 |\n",
            " |      6  |         195 | 00:00:08.133 |         219 | 00:00:09.134 |\n",
            " |      7  |         219 | 00:00:09.134 |         243 | 00:00:10.135 |\n",
            " |      8  |         243 | 00:00:10.135 |         353 | 00:00:14.723 |\n",
            " |      9  |         353 | 00:00:14.723 |         375 | 00:00:15.641 |\n",
            " |     10  |         375 | 00:00:15.641 |         460 | 00:00:19.186 |\n",
            " |     11  |         460 | 00:00:19.186 |         479 | 00:00:19.978 |\n",
            " |     12  |         479 | 00:00:19.978 |         561 | 00:00:23.398 |\n",
            " |     13  |         561 | 00:00:23.398 |         629 | 00:00:26.235 |\n",
            " |     14  |         629 | 00:00:26.235 |         694 | 00:00:28.946 |\n",
            " |     15  |         694 | 00:00:28.946 |        1380 | 00:00:57.557 |\n",
            " |     16  |        1380 | 00:00:57.557 |        1831 | 00:01:16.368 |\n",
            "-----------------------------------------------------------------------\n",
            "\n",
            "[PySceneDetect] Comma-separated timecode list:\n",
            "  00:00:02.002,00:00:03.086,00:00:05.047,00:00:06.298,00:00:08.133,00:00:09.134,00:00:10.135,00:00:14.723,00:00:15.641,00:00:19.186,00:00:19.978,00:00:23.398,00:00:26.235,00:00:28.946,00:00:57.557\n",
            "[PySceneDetect] Splitting input video using ffmpeg, output path template:\n",
            "  /content/gdrive/My Drive/adplace/scene_videos/$VIDEO_NAME-Scene-$SCENE_NUMBER.mp4\n",
            "  0% 0/1831 [00:00<?, ?frame/s]ffmpeg version 3.4.6-0ubuntu0.18.04.1 Copyright (c) 2000-2019 the FFmpeg developers\n",
            "  built with gcc 7 (Ubuntu 7.3.0-16ubuntu3)\n",
            "  configuration: --prefix=/usr --extra-version=0ubuntu0.18.04.1 --toolchain=hardened --libdir=/usr/lib/x86_64-linux-gnu --incdir=/usr/include/x86_64-linux-gnu --enable-gpl --disable-stripping --enable-avresample --enable-avisynth --enable-gnutls --enable-ladspa --enable-libass --enable-libbluray --enable-libbs2b --enable-libcaca --enable-libcdio --enable-libflite --enable-libfontconfig --enable-libfreetype --enable-libfribidi --enable-libgme --enable-libgsm --enable-libmp3lame --enable-libmysofa --enable-libopenjpeg --enable-libopenmpt --enable-libopus --enable-libpulse --enable-librubberband --enable-librsvg --enable-libshine --enable-libsnappy --enable-libsoxr --enable-libspeex --enable-libssh --enable-libtheora --enable-libtwolame --enable-libvorbis --enable-libvpx --enable-libwavpack --enable-libwebp --enable-libx265 --enable-libxml2 --enable-libxvid --enable-libzmq --enable-libzvbi --enable-omx --enable-openal --enable-opengl --enable-sdl2 --enable-libdc1394 --enable-libdrm --enable-libiec61883 --enable-chromaprint --enable-frei0r --enable-libopencv --enable-libx264 --enable-shared\n",
            "  libavutil      55. 78.100 / 55. 78.100\n",
            "  libavcodec     57.107.100 / 57.107.100\n",
            "  libavformat    57. 83.100 / 57. 83.100\n",
            "  libavdevice    57. 10.100 / 57. 10.100\n",
            "  libavfilter     6.107.100 /  6.107.100\n",
            "  libavresample   3.  7.  0 /  3.  7.  0\n",
            "  libswscale      4.  8.100 /  4.  8.100\n",
            "  libswresample   2.  9.100 /  2.  9.100\n",
            "  libpostproc    54.  7.100 / 54.  7.100\n",
            "Input #0, mov,mp4,m4a,3gp,3g2,mj2, from '/content/gdrive/My Drive/adplace/full_videos/adplace_326.mp4':\n",
            "  Metadata:\n",
            "    major_brand     : mp42\n",
            "    minor_version   : 0\n",
            "    compatible_brands: isommp42\n",
            "    creation_time   : 2019-03-18T12:56:45.000000Z\n",
            "  Duration: 00:01:16.37, start: 0.000000, bitrate: 830 kb/s\n",
            "    Stream #0:0(und): Video: h264 (Main) (avc1 / 0x31637661), yuv420p(tv, bt709), 1280x720 [SAR 1:1 DAR 16:9], 698 kb/s, 23.98 fps, 23.98 tbr, 24k tbn, 47.95 tbc (default)\n",
            "    Metadata:\n",
            "      creation_time   : 2019-03-18T12:56:45.000000Z\n",
            "      handler_name    : ISO Media file produced by Google Inc. Created on: 03/18/2019.\n",
            "    Stream #0:1(eng): Audio: aac (LC) (mp4a / 0x6134706D), 44100 Hz, stereo, fltp, 127 kb/s (default)\n",
            "    Metadata:\n",
            "      creation_time   : 2019-03-18T12:56:45.000000Z\n",
            "      handler_name    : ISO Media file produced by Google Inc. Created on: 03/18/2019.\n",
            "Stream mapping:\n",
            "  Stream #0:0 -> #0:0 (h264 (native) -> h264 (libx264))\n",
            "  Stream #0:1 -> #0:1 (copy)\n",
            "Press [q] to stop, [?] for help\n",
            "\u001b[1;36m[libx264 @ 0x55d6e305e800] \u001b[0musing SAR=1/1\n",
            "\u001b[1;36m[libx264 @ 0x55d6e305e800] \u001b[0musing cpu capabilities: MMX2 SSE2Fast SSSE3 SSE4.2 AVX FMA3 BMI2 AVX2\n",
            "\u001b[1;36m[libx264 @ 0x55d6e305e800] \u001b[0mprofile High, level 3.1\n",
            "\u001b[1;36m[libx264 @ 0x55d6e305e800] \u001b[0m264 - core 152 r2854 e9a5903 - H.264/MPEG-4 AVC codec - Copyleft 2003-2017 - http://www.videolan.org/x264.html - options: cabac=1 ref=1 deblock=1:0:0 analyse=0x3:0x113 me=hex subme=2 psy=1 psy_rd=1.00:0.00 mixed_ref=0 me_range=16 chroma_me=1 trellis=0 8x8dct=1 cqm=0 deadzone=21,11 fast_pskip=1 chroma_qp_offset=0 threads=3 lookahead_threads=1 sliced_threads=0 nr=0 decimate=1 interlaced=0 bluray_compat=0 constrained_intra=0 bframes=3 b_pyramid=2 b_adapt=1 b_bias=0 direct=1 weightb=1 open_gop=0 weightp=1 keyint=250 keyint_min=23 scenecut=40 intra_refresh=0 rc_lookahead=10 rc=crf mbtree=1 crf=22.0 qcomp=0.60 qpmin=0 qpmax=69 qpstep=4 ip_ratio=1.40 aq=1:1.00\n",
            "Output #0, mp4, to '/content/gdrive/My Drive/adplace/scene_videos/adplace_326-Scene-001.mp4':\n",
            "  Metadata:\n",
            "    major_brand     : mp42\n",
            "    minor_version   : 0\n",
            "    compatible_brands: isommp42\n",
            "    encoder         : Lavf57.83.100\n",
            "    Stream #0:0(und): Video: h264 (libx264) (avc1 / 0x31637661), yuv420p, 1280x720 [SAR 1:1 DAR 16:9], q=-1--1, 23.98 fps, 24k tbn, 23.98 tbc (default)\n",
            "    Metadata:\n",
            "      creation_time   : 2019-03-18T12:56:45.000000Z\n",
            "      handler_name    : ISO Media file produced by Google Inc. Created on: 03/18/2019.\n",
            "      encoder         : Lavc57.107.100 libx264\n",
            "    Side data:\n",
            "      cpb: bitrate max/min/avg: 0/0/0 buffer size: 0 vbv_delay: -1\n",
            "    Stream #0:1(eng): Audio: aac (LC) (mp4a / 0x6134706D), 44100 Hz, stereo, fltp, 127 kb/s (default)\n",
            "    Metadata:\n",
            "      creation_time   : 2019-03-18T12:56:45.000000Z\n",
            "      handler_name    : ISO Media file produced by Google Inc. Created on: 03/18/2019.\n",
            "frame=   48 fps= 44 q=-1.0 Lsize=     362kB time=00:00:01.99 bitrate=1484.5kbits/s speed=1.84x    \n",
            "video:327kB audio:32kB subtitle:0kB other streams:0kB global headers:0kB muxing overhead: 0.786044%\n",
            "\u001b[1;36m[libx264 @ 0x55d6e305e800] \u001b[0mframe I:1     Avg QP:17.55  size: 29826\n",
            "\u001b[1;36m[libx264 @ 0x55d6e305e800] \u001b[0mframe P:22    Avg QP:19.23  size: 10263\n",
            "\u001b[1;36m[libx264 @ 0x55d6e305e800] \u001b[0mframe B:25    Avg QP:21.67  size:  3143\n",
            "\u001b[1;36m[libx264 @ 0x55d6e305e800] \u001b[0mconsecutive B-frames: 10.4% 58.3%  6.2% 25.0%\n",
            "\u001b[1;36m[libx264 @ 0x55d6e305e800] \u001b[0mmb I  I16..4: 28.1% 46.9% 24.9%\n",
            "\u001b[1;36m[libx264 @ 0x55d6e305e800] \u001b[0mmb P  I16..4:  8.7%  8.0%  0.8%  P16..4: 22.3% 10.4%  4.7%  0.0%  0.0%    skip:45.2%\n",
            "\u001b[1;36m[libx264 @ 0x55d6e305e800] \u001b[0mmb B  I16..4:  1.5%  1.0%  0.1%  B16..8: 15.1%  4.4%  0.5%  direct: 1.6%  skip:75.8%  L0:35.9% L1:54.1% BI:10.0%\n",
            "\u001b[1;36m[libx264 @ 0x55d6e305e800] \u001b[0m8x8 transform intra:44.9% inter:37.0%\n",
            "\u001b[1;36m[libx264 @ 0x55d6e305e800] \u001b[0mcoded y,uvDC,uvAC intra: 34.4% 26.5% 2.0% inter: 5.4% 4.6% 0.1%\n",
            "\u001b[1;36m[libx264 @ 0x55d6e305e800] \u001b[0mi16 v,h,dc,p: 45% 27% 20%  8%\n",
            "\u001b[1;36m[libx264 @ 0x55d6e305e800] \u001b[0mi8 v,h,dc,ddl,ddr,vr,hd,vl,hu: 28% 29% 24%  3%  2%  2%  3%  3%  4%\n",
            "\u001b[1;36m[libx264 @ 0x55d6e305e800] \u001b[0mi4 v,h,dc,ddl,ddr,vr,hd,vl,hu: 24% 23% 18%  7%  6%  5%  4%  5%  9%\n",
            "\u001b[1;36m[libx264 @ 0x55d6e305e800] \u001b[0mi8c dc,h,v,p: 64% 19% 15%  3%\n",
            "\u001b[1;36m[libx264 @ 0x55d6e305e800] \u001b[0mWeighted P-Frames: Y:0.0% UV:0.0%\n",
            "\u001b[1;36m[libx264 @ 0x55d6e305e800] \u001b[0mkb/s:1335.37\n",
            "[PySceneDetect] Output from ffmpeg for Scene 1 shown above, splitting remaining scenes...\n",
            "100% 1831/1831 [00:46<00:00, 36.31frame/s]\n",
            "[PySceneDetect] Average processing speed 39.55 frames/sec.\n",
            "[PySceneDetect] Video splitting completed, individual scenes written to disk.\n",
            "[PySceneDetect] Output directory set:\n",
            "  /content/gdrive/My Drive/adplace/scene_videos\n",
            "[PySceneDetect] Loaded 1 video, framerate: 23.98 FPS, resolution: 1280 x 720\n",
            "[PySceneDetect] Downscale factor set to 5, effective resolution: 256 x 144\n",
            "[PySceneDetect] Scene list CSV file name format:\n",
            "  $VIDEO_NAME-Scenes.csv\n",
            "[PySceneDetect] FFmpeg codec args set: -c:v libx264 -preset veryfast -crf 22 -c:a copy\n",
            "[PySceneDetect] Video output file name format: $VIDEO_NAME-Scene-$SCENE_NUMBER\n",
            "[PySceneDetect] Detecting scenes...\n",
            "100% 1711/1711 [00:10<00:00, 168.65frames/s]\n",
            "[PySceneDetect] Processed 1711 frames in 10.1 seconds (average 168.60 FPS).\n",
            "[PySceneDetect] Detected 2 scenes, average shot length 35.7 seconds.\n",
            "[PySceneDetect] Writing scene list to CSV file:\n",
            "  /content/gdrive/My Drive/adplace/scene_videos/adplace_327-Scenes.csv\n",
            "[PySceneDetect] Scene List:\n",
            "-----------------------------------------------------------------------\n",
            " | Scene # | Start Frame |  Start Time  |  End Frame  |   End Time   |\n",
            "-----------------------------------------------------------------------\n",
            " |      1  |           0 | 00:00:00.000 |        1217 | 00:00:50.759 |\n",
            " |      2  |        1217 | 00:00:50.759 |        1711 | 00:01:11.363 |\n",
            "-----------------------------------------------------------------------\n",
            "\n",
            "[PySceneDetect] Comma-separated timecode list:\n",
            "  00:00:50.759\n",
            "[PySceneDetect] Splitting input video using ffmpeg, output path template:\n",
            "  /content/gdrive/My Drive/adplace/scene_videos/$VIDEO_NAME-Scene-$SCENE_NUMBER.mp4\n",
            "  0% 0/1711 [00:00<?, ?frame/s]ffmpeg version 3.4.6-0ubuntu0.18.04.1 Copyright (c) 2000-2019 the FFmpeg developers\n",
            "  built with gcc 7 (Ubuntu 7.3.0-16ubuntu3)\n",
            "  configuration: --prefix=/usr --extra-version=0ubuntu0.18.04.1 --toolchain=hardened --libdir=/usr/lib/x86_64-linux-gnu --incdir=/usr/include/x86_64-linux-gnu --enable-gpl --disable-stripping --enable-avresample --enable-avisynth --enable-gnutls --enable-ladspa --enable-libass --enable-libbluray --enable-libbs2b --enable-libcaca --enable-libcdio --enable-libflite --enable-libfontconfig --enable-libfreetype --enable-libfribidi --enable-libgme --enable-libgsm --enable-libmp3lame --enable-libmysofa --enable-libopenjpeg --enable-libopenmpt --enable-libopus --enable-libpulse --enable-librubberband --enable-librsvg --enable-libshine --enable-libsnappy --enable-libsoxr --enable-libspeex --enable-libssh --enable-libtheora --enable-libtwolame --enable-libvorbis --enable-libvpx --enable-libwavpack --enable-libwebp --enable-libx265 --enable-libxml2 --enable-libxvid --enable-libzmq --enable-libzvbi --enable-omx --enable-openal --enable-opengl --enable-sdl2 --enable-libdc1394 --enable-libdrm --enable-libiec61883 --enable-chromaprint --enable-frei0r --enable-libopencv --enable-libx264 --enable-shared\n",
            "  libavutil      55. 78.100 / 55. 78.100\n",
            "  libavcodec     57.107.100 / 57.107.100\n",
            "  libavformat    57. 83.100 / 57. 83.100\n",
            "  libavdevice    57. 10.100 / 57. 10.100\n",
            "  libavfilter     6.107.100 /  6.107.100\n",
            "  libavresample   3.  7.  0 /  3.  7.  0\n",
            "  libswscale      4.  8.100 /  4.  8.100\n",
            "  libswresample   2.  9.100 /  2.  9.100\n",
            "  libpostproc    54.  7.100 / 54.  7.100\n",
            "Input #0, mov,mp4,m4a,3gp,3g2,mj2, from '/content/gdrive/My Drive/adplace/full_videos/adplace_327.mp4':\n",
            "  Metadata:\n",
            "    major_brand     : mp42\n",
            "    minor_version   : 0\n",
            "    compatible_brands: isommp42\n",
            "    creation_time   : 2018-12-02T18:31:18.000000Z\n",
            "  Duration: 00:01:11.38, start: 0.000000, bitrate: 857 kb/s\n",
            "    Stream #0:0(und): Video: h264 (Main) (avc1 / 0x31637661), yuv420p(tv, bt709), 1280x720 [SAR 1:1 DAR 16:9], 725 kb/s, 23.98 fps, 23.98 tbr, 24k tbn, 47.95 tbc (default)\n",
            "    Metadata:\n",
            "      creation_time   : 2018-12-02T18:31:18.000000Z\n",
            "      handler_name    : ISO Media file produced by Google Inc. Created on: 12/02/2018.\n",
            "    Stream #0:1(eng): Audio: aac (LC) (mp4a / 0x6134706D), 44100 Hz, stereo, fltp, 127 kb/s (default)\n",
            "    Metadata:\n",
            "      creation_time   : 2018-12-02T18:31:18.000000Z\n",
            "      handler_name    : ISO Media file produced by Google Inc. Created on: 12/02/2018.\n",
            "Stream mapping:\n",
            "  Stream #0:0 -> #0:0 (h264 (native) -> h264 (libx264))\n",
            "  Stream #0:1 -> #0:1 (copy)\n",
            "Press [q] to stop, [?] for help\n",
            "\u001b[1;36m[libx264 @ 0x558f9654c800] \u001b[0musing SAR=1/1\n",
            "\u001b[1;36m[libx264 @ 0x558f9654c800] \u001b[0musing cpu capabilities: MMX2 SSE2Fast SSSE3 SSE4.2 AVX FMA3 BMI2 AVX2\n",
            "\u001b[1;36m[libx264 @ 0x558f9654c800] \u001b[0mprofile High, level 3.1\n",
            "\u001b[1;36m[libx264 @ 0x558f9654c800] \u001b[0m264 - core 152 r2854 e9a5903 - H.264/MPEG-4 AVC codec - Copyleft 2003-2017 - http://www.videolan.org/x264.html - options: cabac=1 ref=1 deblock=1:0:0 analyse=0x3:0x113 me=hex subme=2 psy=1 psy_rd=1.00:0.00 mixed_ref=0 me_range=16 chroma_me=1 trellis=0 8x8dct=1 cqm=0 deadzone=21,11 fast_pskip=1 chroma_qp_offset=0 threads=3 lookahead_threads=1 sliced_threads=0 nr=0 decimate=1 interlaced=0 bluray_compat=0 constrained_intra=0 bframes=3 b_pyramid=2 b_adapt=1 b_bias=0 direct=1 weightb=1 open_gop=0 weightp=1 keyint=250 keyint_min=23 scenecut=40 intra_refresh=0 rc_lookahead=10 rc=crf mbtree=1 crf=22.0 qcomp=0.60 qpmin=0 qpmax=69 qpstep=4 ip_ratio=1.40 aq=1:1.00\n",
            "Output #0, mp4, to '/content/gdrive/My Drive/adplace/scene_videos/adplace_327-Scene-001.mp4':\n",
            "  Metadata:\n",
            "    major_brand     : mp42\n",
            "    minor_version   : 0\n",
            "    compatible_brands: isommp42\n",
            "    encoder         : Lavf57.83.100\n",
            "    Stream #0:0(und): Video: h264 (libx264) (avc1 / 0x31637661), yuv420p, 1280x720 [SAR 1:1 DAR 16:9], q=-1--1, 23.98 fps, 24k tbn, 23.98 tbc (default)\n",
            "    Metadata:\n",
            "      creation_time   : 2018-12-02T18:31:18.000000Z\n",
            "      handler_name    : ISO Media file produced by Google Inc. Created on: 12/02/2018.\n",
            "      encoder         : Lavc57.107.100 libx264\n",
            "    Side data:\n",
            "      cpb: bitrate max/min/avg: 0/0/0 buffer size: 0 vbv_delay: -1\n",
            "    Stream #0:1(eng): Audio: aac (LC) (mp4a / 0x6134706D), 44100 Hz, stereo, fltp, 127 kb/s (default)\n",
            "    Metadata:\n",
            "      creation_time   : 2018-12-02T18:31:18.000000Z\n",
            "      handler_name    : ISO Media file produced by Google Inc. Created on: 12/02/2018.\n",
            "frame= 1217 fps= 47 q=-1.0 Lsize=    7938kB time=00:00:50.75 bitrate=1281.2kbits/s speed=1.96x    \n",
            "video:7107kB audio:794kB subtitle:0kB other streams:0kB global headers:0kB muxing overhead: 0.469291%\n",
            "\u001b[1;36m[libx264 @ 0x558f9654c800] \u001b[0mframe I:27    Avg QP:14.71  size: 27028\n",
            "\u001b[1;36m[libx264 @ 0x558f9654c800] \u001b[0mframe P:531   Avg QP:18.90  size:  9182\n",
            "\u001b[1;36m[libx264 @ 0x558f9654c800] \u001b[0mframe B:659   Avg QP:20.13  size:  2537\n",
            "\u001b[1;36m[libx264 @ 0x558f9654c800] \u001b[0mconsecutive B-frames: 15.0% 23.0% 45.9% 16.1%\n",
            "\u001b[1;36m[libx264 @ 0x558f9654c800] \u001b[0mmb I  I16..4: 40.8% 35.9% 23.3%\n",
            "\u001b[1;36m[libx264 @ 0x558f9654c800] \u001b[0mmb P  I16..4:  8.0% 12.2%  0.7%  P16..4: 19.1%  9.7%  3.5%  0.0%  0.0%    skip:46.8%\n",
            "\u001b[1;36m[libx264 @ 0x558f9654c800] \u001b[0mmb B  I16..4:  1.3%  1.3%  0.0%  B16..8: 12.3%  3.2%  0.3%  direct: 2.1%  skip:79.4%  L0:39.9% L1:53.8% BI: 6.3%\n",
            "\u001b[1;36m[libx264 @ 0x558f9654c800] \u001b[0m8x8 transform intra:53.6% inter:46.0%\n",
            "\u001b[1;36m[libx264 @ 0x558f9654c800] \u001b[0mcoded y,uvDC,uvAC intra: 37.7% 27.5% 1.2% inter: 5.1% 5.3% 0.0%\n",
            "\u001b[1;36m[libx264 @ 0x558f9654c800] \u001b[0mi16 v,h,dc,p: 42% 32% 17%  9%\n",
            "\u001b[1;36m[libx264 @ 0x558f9654c800] \u001b[0mi8 v,h,dc,ddl,ddr,vr,hd,vl,hu: 31% 26% 23%  3%  3%  3%  3%  4%  4%\n",
            "\u001b[1;36m[libx264 @ 0x558f9654c800] \u001b[0mi4 v,h,dc,ddl,ddr,vr,hd,vl,hu: 30% 23% 15%  5%  5%  6%  5%  6%  5%\n",
            "\u001b[1;36m[libx264 @ 0x558f9654c800] \u001b[0mi8c dc,h,v,p: 57% 23% 17%  3%\n",
            "\u001b[1;36m[libx264 @ 0x558f9654c800] \u001b[0mWeighted P-Frames: Y:1.3% UV:1.1%\n",
            "\u001b[1;36m[libx264 @ 0x558f9654c800] \u001b[0mkb/s:1146.97\n",
            "[PySceneDetect] Output from ffmpeg for Scene 1 shown above, splitting remaining scenes...\n",
            "100% 1711/1711 [00:30<00:00, 56.07frame/s]\n",
            "[PySceneDetect] Average processing speed 55.66 frames/sec.\n",
            "[PySceneDetect] Video splitting completed, individual scenes written to disk.\n",
            "[PySceneDetect] Output directory set:\n",
            "  /content/gdrive/My Drive/adplace/scene_videos\n",
            "[PySceneDetect] Loaded 1 video, framerate: 23.98 FPS, resolution: 1280 x 532\n",
            "[PySceneDetect] Downscale factor set to 5, effective resolution: 256 x 106\n",
            "[PySceneDetect] Scene list CSV file name format:\n",
            "  $VIDEO_NAME-Scenes.csv\n",
            "[PySceneDetect] FFmpeg codec args set: -c:v libx264 -preset veryfast -crf 22 -c:a copy\n",
            "[PySceneDetect] Video output file name format: $VIDEO_NAME-Scene-$SCENE_NUMBER\n",
            "[PySceneDetect] Detecting scenes...\n",
            "100% 5620/5620 [00:27<00:00, 204.96frames/s]\n",
            "[PySceneDetect] Processed 5620 frames in 27.4 seconds (average 204.94 FPS).\n",
            "[PySceneDetect] Detected 87 scenes, average shot length 2.7 seconds.\n",
            "[PySceneDetect] Writing scene list to CSV file:\n",
            "  /content/gdrive/My Drive/adplace/scene_videos/adplace_328-Scenes.csv\n",
            "[PySceneDetect] Scene List:\n",
            "-----------------------------------------------------------------------\n",
            " | Scene # | Start Frame |  Start Time  |  End Frame  |   End Time   |\n",
            "-----------------------------------------------------------------------\n",
            " |      1  |           0 | 00:00:00.000 |         330 | 00:00:13.764 |\n",
            " |      2  |         330 | 00:00:13.764 |         443 | 00:00:18.477 |\n",
            " |      3  |         443 | 00:00:18.477 |         491 | 00:00:20.479 |\n",
            " |      4  |         491 | 00:00:20.479 |         527 | 00:00:21.980 |\n",
            " |      5  |         527 | 00:00:21.980 |         563 | 00:00:23.482 |\n",
            " |      6  |         563 | 00:00:23.482 |         603 | 00:00:25.150 |\n",
            " |      7  |         603 | 00:00:25.150 |         621 | 00:00:25.901 |\n",
            " |      8  |         621 | 00:00:25.901 |         732 | 00:00:30.530 |\n",
            " |      9  |         732 | 00:00:30.530 |         804 | 00:00:33.533 |\n",
            " |     10  |         804 | 00:00:33.533 |         828 | 00:00:34.534 |\n",
            " |     11  |         828 | 00:00:34.534 |         862 | 00:00:35.953 |\n",
            " |     12  |         862 | 00:00:35.953 |         880 | 00:00:36.703 |\n",
            " |     13  |         880 | 00:00:36.703 |        1058 | 00:00:44.127 |\n",
            " |     14  |        1058 | 00:00:44.127 |        1365 | 00:00:56.932 |\n",
            " |     15  |        1365 | 00:00:56.932 |        1397 | 00:00:58.267 |\n",
            " |     16  |        1397 | 00:00:58.267 |        1418 | 00:00:59.142 |\n",
            " |     17  |        1418 | 00:00:59.142 |        1434 | 00:00:59.810 |\n",
            " |     18  |        1434 | 00:00:59.810 |        1450 | 00:01:00.477 |\n",
            " |     19  |        1450 | 00:01:00.477 |        1471 | 00:01:01.353 |\n",
            " |     20  |        1471 | 00:01:01.353 |        1486 | 00:01:01.979 |\n",
            " |     21  |        1486 | 00:01:01.979 |        1502 | 00:01:02.646 |\n",
            " |     22  |        1502 | 00:01:02.646 |        1519 | 00:01:03.355 |\n",
            " |     23  |        1519 | 00:01:03.355 |        1534 | 00:01:03.981 |\n",
            " |     24  |        1534 | 00:01:03.981 |        1615 | 00:01:07.359 |\n",
            " |     25  |        1615 | 00:01:07.359 |        1642 | 00:01:08.485 |\n",
            " |     26  |        1642 | 00:01:08.485 |        1753 | 00:01:13.115 |\n",
            " |     27  |        1753 | 00:01:13.115 |        1768 | 00:01:13.740 |\n",
            " |     28  |        1768 | 00:01:13.740 |        1793 | 00:01:14.783 |\n",
            " |     29  |        1793 | 00:01:14.783 |        1812 | 00:01:15.575 |\n",
            " |     30  |        1812 | 00:01:15.575 |        1897 | 00:01:19.121 |\n",
            " |     31  |        1897 | 00:01:19.121 |        1978 | 00:01:22.499 |\n",
            " |     32  |        1978 | 00:01:22.499 |        2136 | 00:01:29.089 |\n",
            " |     33  |        2136 | 00:01:29.089 |        2190 | 00:01:31.341 |\n",
            " |     34  |        2190 | 00:01:31.341 |        2453 | 00:01:42.311 |\n",
            " |     35  |        2453 | 00:01:42.311 |        2582 | 00:01:47.691 |\n",
            " |     36  |        2582 | 00:01:47.691 |        2638 | 00:01:50.027 |\n",
            " |     37  |        2638 | 00:01:50.027 |        2675 | 00:01:51.570 |\n",
            " |     38  |        2675 | 00:01:51.570 |        2732 | 00:01:53.947 |\n",
            " |     39  |        2732 | 00:01:53.947 |        2893 | 00:02:00.662 |\n",
            " |     40  |        2893 | 00:02:00.662 |        2908 | 00:02:01.288 |\n",
            " |     41  |        2908 | 00:02:01.288 |        2998 | 00:02:05.042 |\n",
            " |     42  |        2998 | 00:02:05.042 |        3059 | 00:02:07.586 |\n",
            " |     43  |        3059 | 00:02:07.586 |        3149 | 00:02:11.340 |\n",
            " |     44  |        3149 | 00:02:11.340 |        3229 | 00:02:14.676 |\n",
            " |     45  |        3229 | 00:02:14.676 |        3250 | 00:02:15.552 |\n",
            " |     46  |        3250 | 00:02:15.552 |        3266 | 00:02:16.219 |\n",
            " |     47  |        3266 | 00:02:16.219 |        3328 | 00:02:18.805 |\n",
            " |     48  |        3328 | 00:02:18.805 |        3391 | 00:02:21.433 |\n",
            " |     49  |        3391 | 00:02:21.433 |        3411 | 00:02:22.267 |\n",
            " |     50  |        3411 | 00:02:22.267 |        3426 | 00:02:22.893 |\n",
            " |     51  |        3426 | 00:02:22.893 |        3473 | 00:02:24.853 |\n",
            " |     52  |        3473 | 00:02:24.853 |        3489 | 00:02:25.520 |\n",
            " |     53  |        3489 | 00:02:25.520 |        3524 | 00:02:26.980 |\n",
            " |     54  |        3524 | 00:02:26.980 |        3576 | 00:02:29.149 |\n",
            " |     55  |        3576 | 00:02:29.149 |        3602 | 00:02:30.233 |\n",
            " |     56  |        3602 | 00:02:30.233 |        3667 | 00:02:32.944 |\n",
            " |     57  |        3667 | 00:02:32.944 |        3787 | 00:02:37.949 |\n",
            " |     58  |        3787 | 00:02:37.949 |        3808 | 00:02:38.825 |\n",
            " |     59  |        3808 | 00:02:38.825 |        3835 | 00:02:39.951 |\n",
            " |     60  |        3835 | 00:02:39.951 |        3907 | 00:02:42.954 |\n",
            " |     61  |        3907 | 00:02:42.954 |        3977 | 00:02:45.874 |\n",
            " |     62  |        3977 | 00:02:45.874 |        4039 | 00:02:48.460 |\n",
            " |     63  |        4039 | 00:02:48.460 |        4058 | 00:02:49.252 |\n",
            " |     64  |        4058 | 00:02:49.252 |        4095 | 00:02:50.796 |\n",
            " |     65  |        4095 | 00:02:50.796 |        4115 | 00:02:51.630 |\n",
            " |     66  |        4115 | 00:02:51.630 |        4149 | 00:02:53.048 |\n",
            " |     67  |        4149 | 00:02:53.048 |        4173 | 00:02:54.049 |\n",
            " |     68  |        4173 | 00:02:54.049 |        4189 | 00:02:54.716 |\n",
            " |     69  |        4189 | 00:02:54.716 |        4247 | 00:02:57.135 |\n",
            " |     70  |        4247 | 00:02:57.135 |        4382 | 00:03:02.766 |\n",
            " |     71  |        4382 | 00:03:02.766 |        4477 | 00:03:06.728 |\n",
            " |     72  |        4477 | 00:03:06.728 |        4513 | 00:03:08.230 |\n",
            " |     73  |        4513 | 00:03:08.230 |        4577 | 00:03:10.899 |\n",
            " |     74  |        4577 | 00:03:10.899 |        4603 | 00:03:11.983 |\n",
            " |     75  |        4603 | 00:03:11.983 |        4637 | 00:03:13.402 |\n",
            " |     76  |        4637 | 00:03:13.402 |        4652 | 00:03:14.027 |\n",
            " |     77  |        4652 | 00:03:14.027 |        4669 | 00:03:14.736 |\n",
            " |     78  |        4669 | 00:03:14.736 |        4716 | 00:03:16.696 |\n",
            " |     79  |        4716 | 00:03:16.696 |        4794 | 00:03:19.950 |\n",
            " |     80  |        4794 | 00:03:19.950 |        4824 | 00:03:21.201 |\n",
            " |     81  |        4824 | 00:03:21.201 |        4870 | 00:03:23.120 |\n",
            " |     82  |        4870 | 00:03:23.120 |        4925 | 00:03:25.414 |\n",
            " |     83  |        4925 | 00:03:25.414 |        4941 | 00:03:26.081 |\n",
            " |     84  |        4941 | 00:03:26.081 |        4970 | 00:03:27.290 |\n",
            " |     85  |        4970 | 00:03:27.290 |        4987 | 00:03:27.999 |\n",
            " |     86  |        4987 | 00:03:27.999 |        5060 | 00:03:31.044 |\n",
            " |     87  |        5060 | 00:03:31.044 |        5620 | 00:03:54.401 |\n",
            "-----------------------------------------------------------------------\n",
            "\n",
            "[PySceneDetect] Comma-separated timecode list:\n",
            "  00:00:13.764,00:00:18.477,00:00:20.479,00:00:21.980,00:00:23.482,00:00:25.150,00:00:25.901,00:00:30.530,00:00:33.533,00:00:34.534,00:00:35.953,00:00:36.703,00:00:44.127,00:00:56.932,00:00:58.267,00:00:59.142,00:00:59.810,00:01:00.477,00:01:01.353,00:01:01.979,00:01:02.646,00:01:03.355,00:01:03.981,00:01:07.359,00:01:08.485,00:01:13.115,00:01:13.740,00:01:14.783,00:01:15.575,00:01:19.121,00:01:22.499,00:01:29.089,00:01:31.341,00:01:42.311,00:01:47.691,00:01:50.027,00:01:51.570,00:01:53.947,00:02:00.662,00:02:01.288,00:02:05.042,00:02:07.586,00:02:11.340,00:02:14.676,00:02:15.552,00:02:16.219,00:02:18.805,00:02:21.433,00:02:22.267,00:02:22.893,00:02:24.853,00:02:25.520,00:02:26.980,00:02:29.149,00:02:30.233,00:02:32.944,00:02:37.949,00:02:38.825,00:02:39.951,00:02:42.954,00:02:45.874,00:02:48.460,00:02:49.252,00:02:50.796,00:02:51.630,00:02:53.048,00:02:54.049,00:02:54.716,00:02:57.135,00:03:02.766,00:03:06.728,00:03:08.230,00:03:10.899,00:03:11.983,00:03:13.402,00:03:14.027,00:03:14.736,00:03:16.696,00:03:19.950,00:03:21.201,00:03:23.120,00:03:25.414,00:03:26.081,00:03:27.290,00:03:27.999,00:03:31.044\n",
            "[PySceneDetect] Splitting input video using ffmpeg, output path template:\n",
            "  /content/gdrive/My Drive/adplace/scene_videos/$VIDEO_NAME-Scene-$SCENE_NUMBER.mp4\n",
            "  0% 0/5620 [00:00<?, ?frame/s]ffmpeg version 3.4.6-0ubuntu0.18.04.1 Copyright (c) 2000-2019 the FFmpeg developers\n",
            "  built with gcc 7 (Ubuntu 7.3.0-16ubuntu3)\n",
            "  configuration: --prefix=/usr --extra-version=0ubuntu0.18.04.1 --toolchain=hardened --libdir=/usr/lib/x86_64-linux-gnu --incdir=/usr/include/x86_64-linux-gnu --enable-gpl --disable-stripping --enable-avresample --enable-avisynth --enable-gnutls --enable-ladspa --enable-libass --enable-libbluray --enable-libbs2b --enable-libcaca --enable-libcdio --enable-libflite --enable-libfontconfig --enable-libfreetype --enable-libfribidi --enable-libgme --enable-libgsm --enable-libmp3lame --enable-libmysofa --enable-libopenjpeg --enable-libopenmpt --enable-libopus --enable-libpulse --enable-librubberband --enable-librsvg --enable-libshine --enable-libsnappy --enable-libsoxr --enable-libspeex --enable-libssh --enable-libtheora --enable-libtwolame --enable-libvorbis --enable-libvpx --enable-libwavpack --enable-libwebp --enable-libx265 --enable-libxml2 --enable-libxvid --enable-libzmq --enable-libzvbi --enable-omx --enable-openal --enable-opengl --enable-sdl2 --enable-libdc1394 --enable-libdrm --enable-libiec61883 --enable-chromaprint --enable-frei0r --enable-libopencv --enable-libx264 --enable-shared\n",
            "  libavutil      55. 78.100 / 55. 78.100\n",
            "  libavcodec     57.107.100 / 57.107.100\n",
            "  libavformat    57. 83.100 / 57. 83.100\n",
            "  libavdevice    57. 10.100 / 57. 10.100\n",
            "  libavfilter     6.107.100 /  6.107.100\n",
            "  libavresample   3.  7.  0 /  3.  7.  0\n",
            "  libswscale      4.  8.100 /  4.  8.100\n",
            "  libswresample   2.  9.100 /  2.  9.100\n",
            "  libpostproc    54.  7.100 / 54.  7.100\n",
            "Input #0, mov,mp4,m4a,3gp,3g2,mj2, from '/content/gdrive/My Drive/adplace/full_videos/adplace_328.mp4':\n",
            "  Metadata:\n",
            "    major_brand     : mp42\n",
            "    minor_version   : 0\n",
            "    compatible_brands: isommp42\n",
            "    creation_time   : 2019-03-11T21:10:06.000000Z\n",
            "  Duration: 00:03:54.41, start: 0.000000, bitrate: 878 kb/s\n",
            "    Stream #0:0(und): Video: h264 (Main) (avc1 / 0x31637661), yuv420p(tv, bt709), 1280x532 [SAR 1:1 DAR 320:133], 747 kb/s, 23.98 fps, 23.98 tbr, 24k tbn, 47.95 tbc (default)\n",
            "    Metadata:\n",
            "      creation_time   : 2019-03-11T21:10:06.000000Z\n",
            "      handler_name    : ISO Media file produced by Google Inc. Created on: 03/11/2019.\n",
            "    Stream #0:1(eng): Audio: aac (LC) (mp4a / 0x6134706D), 44100 Hz, stereo, fltp, 128 kb/s (default)\n",
            "    Metadata:\n",
            "      creation_time   : 2019-03-11T21:10:06.000000Z\n",
            "      handler_name    : ISO Media file produced by Google Inc. Created on: 03/11/2019.\n",
            "Stream mapping:\n",
            "  Stream #0:0 -> #0:0 (h264 (native) -> h264 (libx264))\n",
            "  Stream #0:1 -> #0:1 (copy)\n",
            "Press [q] to stop, [?] for help\n",
            "\u001b[1;36m[libx264 @ 0x563c8bc44800] \u001b[0musing SAR=1/1\n",
            "\u001b[1;36m[libx264 @ 0x563c8bc44800] \u001b[0musing cpu capabilities: MMX2 SSE2Fast SSSE3 SSE4.2 AVX FMA3 BMI2 AVX2\n",
            "\u001b[1;36m[libx264 @ 0x563c8bc44800] \u001b[0mprofile High, level 3.1\n",
            "\u001b[1;36m[libx264 @ 0x563c8bc44800] \u001b[0m264 - core 152 r2854 e9a5903 - H.264/MPEG-4 AVC codec - Copyleft 2003-2017 - http://www.videolan.org/x264.html - options: cabac=1 ref=1 deblock=1:0:0 analyse=0x3:0x113 me=hex subme=2 psy=1 psy_rd=1.00:0.00 mixed_ref=0 me_range=16 chroma_me=1 trellis=0 8x8dct=1 cqm=0 deadzone=21,11 fast_pskip=1 chroma_qp_offset=0 threads=3 lookahead_threads=1 sliced_threads=0 nr=0 decimate=1 interlaced=0 bluray_compat=0 constrained_intra=0 bframes=3 b_pyramid=2 b_adapt=1 b_bias=0 direct=1 weightb=1 open_gop=0 weightp=1 keyint=250 keyint_min=23 scenecut=40 intra_refresh=0 rc_lookahead=10 rc=crf mbtree=1 crf=22.0 qcomp=0.60 qpmin=0 qpmax=69 qpstep=4 ip_ratio=1.40 aq=1:1.00\n",
            "Output #0, mp4, to '/content/gdrive/My Drive/adplace/scene_videos/adplace_328-Scene-001.mp4':\n",
            "  Metadata:\n",
            "    major_brand     : mp42\n",
            "    minor_version   : 0\n",
            "    compatible_brands: isommp42\n",
            "    encoder         : Lavf57.83.100\n",
            "    Stream #0:0(und): Video: h264 (libx264) (avc1 / 0x31637661), yuv420p, 1280x532 [SAR 1:1 DAR 320:133], q=-1--1, 23.98 fps, 24k tbn, 23.98 tbc (default)\n",
            "    Metadata:\n",
            "      creation_time   : 2019-03-11T21:10:06.000000Z\n",
            "      handler_name    : ISO Media file produced by Google Inc. Created on: 03/11/2019.\n",
            "      encoder         : Lavc57.107.100 libx264\n",
            "    Side data:\n",
            "      cpb: bitrate max/min/avg: 0/0/0 buffer size: 0 vbv_delay: -1\n",
            "    Stream #0:1(eng): Audio: aac (LC) (mp4a / 0x6134706D), 44100 Hz, stereo, fltp, 128 kb/s (default)\n",
            "    Metadata:\n",
            "      creation_time   : 2019-03-11T21:10:06.000000Z\n",
            "      handler_name    : ISO Media file produced by Google Inc. Created on: 03/11/2019.\n",
            "frame=  331 fps= 52 q=-1.0 Lsize=    2417kB time=00:00:13.74 bitrate=1440.4kbits/s speed=2.14x    \n",
            "video:2190kB audio:215kB subtitle:0kB other streams:0kB global headers:0kB muxing overhead: 0.465480%\n",
            "\u001b[1;36m[libx264 @ 0x563c8bc44800] \u001b[0mframe I:10    Avg QP:15.55  size: 23669\n",
            "\u001b[1;36m[libx264 @ 0x563c8bc44800] \u001b[0mframe P:130   Avg QP:18.51  size:  8975\n",
            "\u001b[1;36m[libx264 @ 0x563c8bc44800] \u001b[0mframe B:191   Avg QP:20.37  size:  4392\n",
            "\u001b[1;36m[libx264 @ 0x563c8bc44800] \u001b[0mconsecutive B-frames: 13.9% 15.7% 35.3% 35.0%\n",
            "\u001b[1;36m[libx264 @ 0x563c8bc44800] \u001b[0mmb I  I16..4: 37.3% 46.6% 16.1%\n",
            "\u001b[1;36m[libx264 @ 0x563c8bc44800] \u001b[0mmb P  I16..4: 21.0% 20.8%  1.1%  P16..4: 19.0%  7.1%  2.8%  0.0%  0.0%    skip:28.3%\n",
            "\u001b[1;36m[libx264 @ 0x563c8bc44800] \u001b[0mmb B  I16..4:  5.6%  5.8%  0.7%  B16..8: 14.6%  3.6%  0.4%  direct: 5.6%  skip:63.7%  L0:42.9% L1:51.0% BI: 6.2%\n",
            "\u001b[1;36m[libx264 @ 0x563c8bc44800] \u001b[0m8x8 transform intra:48.3% inter:55.0%\n",
            "\u001b[1;36m[libx264 @ 0x563c8bc44800] \u001b[0mcoded y,uvDC,uvAC intra: 32.2% 30.1% 1.3% inter: 7.5% 12.1% 0.0%\n",
            "\u001b[1;36m[libx264 @ 0x563c8bc44800] \u001b[0mi16 v,h,dc,p: 53% 23% 18%  6%\n",
            "\u001b[1;36m[libx264 @ 0x563c8bc44800] \u001b[0mi8 v,h,dc,ddl,ddr,vr,hd,vl,hu: 47% 18% 23%  2%  2%  2%  1%  2%  2%\n",
            "\u001b[1;36m[libx264 @ 0x563c8bc44800] \u001b[0mi4 v,h,dc,ddl,ddr,vr,hd,vl,hu: 28% 17% 20%  6%  6%  6%  6%  5%  6%\n",
            "\u001b[1;36m[libx264 @ 0x563c8bc44800] \u001b[0mi8c dc,h,v,p: 65% 15% 18%  2%\n",
            "\u001b[1;36m[libx264 @ 0x563c8bc44800] \u001b[0mWeighted P-Frames: Y:14.6% UV:10.8%\n",
            "\u001b[1;36m[libx264 @ 0x563c8bc44800] \u001b[0mkb/s:1299.36\n",
            "[PySceneDetect] Output from ffmpeg for Scene 1 shown above, splitting remaining scenes...\n",
            "100% 5620/5620 [02:30<00:00, 32.06frame/s]\n",
            "[PySceneDetect] Average processing speed 37.42 frames/sec.\n",
            "[PySceneDetect] Video splitting completed, individual scenes written to disk.\n",
            "[PySceneDetect] Output directory set:\n",
            "  /content/gdrive/My Drive/adplace/scene_videos\n",
            "[PySceneDetect] Loaded 1 video, framerate: 29.97 FPS, resolution: 1280 x 720\n",
            "[PySceneDetect] Downscale factor set to 5, effective resolution: 256 x 144\n",
            "[PySceneDetect] Scene list CSV file name format:\n",
            "  $VIDEO_NAME-Scenes.csv\n",
            "[PySceneDetect] FFmpeg codec args set: -c:v libx264 -preset veryfast -crf 22 -c:a copy\n",
            "[PySceneDetect] Video output file name format: $VIDEO_NAME-Scene-$SCENE_NUMBER\n",
            "[PySceneDetect] Detecting scenes...\n",
            "100% 6324/6324 [00:41<00:00, 152.91frames/s]\n",
            "[PySceneDetect] Processed 6324 frames in 41.4 seconds (average 152.90 FPS).\n",
            "[PySceneDetect] Detected 44 scenes, average shot length 4.8 seconds.\n",
            "[PySceneDetect] Writing scene list to CSV file:\n",
            "  /content/gdrive/My Drive/adplace/scene_videos/adplace_329-Scenes.csv\n",
            "[PySceneDetect] Scene List:\n",
            "-----------------------------------------------------------------------\n",
            " | Scene # | Start Frame |  Start Time  |  End Frame  |   End Time   |\n",
            "-----------------------------------------------------------------------\n",
            " |      1  |           0 | 00:00:00.000 |          31 | 00:00:01.034 |\n",
            " |      2  |          31 | 00:00:01.034 |         215 | 00:00:07.174 |\n",
            " |      3  |         215 | 00:00:07.174 |         366 | 00:00:12.212 |\n",
            " |      4  |         366 | 00:00:12.212 |         522 | 00:00:17.417 |\n",
            " |      5  |         522 | 00:00:17.417 |        1048 | 00:00:34.968 |\n",
            " |      6  |        1048 | 00:00:34.968 |        1093 | 00:00:36.470 |\n",
            " |      7  |        1093 | 00:00:36.470 |        1490 | 00:00:49.716 |\n",
            " |      8  |        1490 | 00:00:49.716 |        1613 | 00:00:53.820 |\n",
            " |      9  |        1613 | 00:00:53.820 |        1925 | 00:01:04.231 |\n",
            " |     10  |        1925 | 00:01:04.231 |        2256 | 00:01:15.275 |\n",
            " |     11  |        2256 | 00:01:15.275 |        2345 | 00:01:18.245 |\n",
            " |     12  |        2345 | 00:01:18.245 |        2462 | 00:01:22.149 |\n",
            " |     13  |        2462 | 00:01:22.149 |        2570 | 00:01:25.752 |\n",
            " |     14  |        2570 | 00:01:25.752 |        2611 | 00:01:27.120 |\n",
            " |     15  |        2611 | 00:01:27.120 |        2649 | 00:01:28.388 |\n",
            " |     16  |        2649 | 00:01:28.388 |        2811 | 00:01:33.794 |\n",
            " |     17  |        2811 | 00:01:33.794 |        2873 | 00:01:35.862 |\n",
            " |     18  |        2873 | 00:01:35.862 |        3104 | 00:01:43.570 |\n",
            " |     19  |        3104 | 00:01:43.570 |        3122 | 00:01:44.171 |\n",
            " |     20  |        3122 | 00:01:44.171 |        3306 | 00:01:50.310 |\n",
            " |     21  |        3306 | 00:01:50.310 |        3481 | 00:01:56.149 |\n",
            " |     22  |        3481 | 00:01:56.149 |        4073 | 00:02:15.902 |\n",
            " |     23  |        4073 | 00:02:15.902 |        4431 | 00:02:27.848 |\n",
            " |     24  |        4431 | 00:02:27.848 |        4494 | 00:02:29.950 |\n",
            " |     25  |        4494 | 00:02:29.950 |        4649 | 00:02:35.122 |\n",
            " |     26  |        4649 | 00:02:35.122 |        4719 | 00:02:37.457 |\n",
            " |     27  |        4719 | 00:02:37.457 |        4760 | 00:02:38.825 |\n",
            " |     28  |        4760 | 00:02:38.825 |        4802 | 00:02:40.227 |\n",
            " |     29  |        4802 | 00:02:40.227 |        4870 | 00:02:42.496 |\n",
            " |     30  |        4870 | 00:02:42.496 |        5063 | 00:02:48.935 |\n",
            " |     31  |        5063 | 00:02:48.935 |        5302 | 00:02:56.910 |\n",
            " |     32  |        5302 | 00:02:56.910 |        5431 | 00:03:01.214 |\n",
            " |     33  |        5431 | 00:03:01.214 |        5530 | 00:03:04.518 |\n",
            " |     34  |        5530 | 00:03:04.518 |        5553 | 00:03:05.285 |\n",
            " |     35  |        5553 | 00:03:05.285 |        5596 | 00:03:06.720 |\n",
            " |     36  |        5596 | 00:03:06.720 |        5716 | 00:03:10.724 |\n",
            " |     37  |        5716 | 00:03:10.724 |        5744 | 00:03:11.658 |\n",
            " |     38  |        5744 | 00:03:11.658 |        5816 | 00:03:14.061 |\n",
            " |     39  |        5816 | 00:03:14.061 |        6008 | 00:03:20.467 |\n",
            " |     40  |        6008 | 00:03:20.467 |        6137 | 00:03:24.771 |\n",
            " |     41  |        6137 | 00:03:24.771 |        6152 | 00:03:25.272 |\n",
            " |     42  |        6152 | 00:03:25.272 |        6191 | 00:03:26.573 |\n",
            " |     43  |        6191 | 00:03:26.573 |        6248 | 00:03:28.475 |\n",
            " |     44  |        6248 | 00:03:28.475 |        6324 | 00:03:31.011 |\n",
            "-----------------------------------------------------------------------\n",
            "\n",
            "[PySceneDetect] Comma-separated timecode list:\n",
            "  00:00:01.034,00:00:07.174,00:00:12.212,00:00:17.417,00:00:34.968,00:00:36.470,00:00:49.716,00:00:53.820,00:01:04.231,00:01:15.275,00:01:18.245,00:01:22.149,00:01:25.752,00:01:27.120,00:01:28.388,00:01:33.794,00:01:35.862,00:01:43.570,00:01:44.171,00:01:50.310,00:01:56.149,00:02:15.902,00:02:27.848,00:02:29.950,00:02:35.122,00:02:37.457,00:02:38.825,00:02:40.227,00:02:42.496,00:02:48.935,00:02:56.910,00:03:01.214,00:03:04.518,00:03:05.285,00:03:06.720,00:03:10.724,00:03:11.658,00:03:14.061,00:03:20.467,00:03:24.771,00:03:25.272,00:03:26.573,00:03:28.475\n",
            "[PySceneDetect] Splitting input video using ffmpeg, output path template:\n",
            "  /content/gdrive/My Drive/adplace/scene_videos/$VIDEO_NAME-Scene-$SCENE_NUMBER.mp4\n",
            "  0% 0/6324 [00:00<?, ?frame/s]ffmpeg version 3.4.6-0ubuntu0.18.04.1 Copyright (c) 2000-2019 the FFmpeg developers\n",
            "  built with gcc 7 (Ubuntu 7.3.0-16ubuntu3)\n",
            "  configuration: --prefix=/usr --extra-version=0ubuntu0.18.04.1 --toolchain=hardened --libdir=/usr/lib/x86_64-linux-gnu --incdir=/usr/include/x86_64-linux-gnu --enable-gpl --disable-stripping --enable-avresample --enable-avisynth --enable-gnutls --enable-ladspa --enable-libass --enable-libbluray --enable-libbs2b --enable-libcaca --enable-libcdio --enable-libflite --enable-libfontconfig --enable-libfreetype --enable-libfribidi --enable-libgme --enable-libgsm --enable-libmp3lame --enable-libmysofa --enable-libopenjpeg --enable-libopenmpt --enable-libopus --enable-libpulse --enable-librubberband --enable-librsvg --enable-libshine --enable-libsnappy --enable-libsoxr --enable-libspeex --enable-libssh --enable-libtheora --enable-libtwolame --enable-libvorbis --enable-libvpx --enable-libwavpack --enable-libwebp --enable-libx265 --enable-libxml2 --enable-libxvid --enable-libzmq --enable-libzvbi --enable-omx --enable-openal --enable-opengl --enable-sdl2 --enable-libdc1394 --enable-libdrm --enable-libiec61883 --enable-chromaprint --enable-frei0r --enable-libopencv --enable-libx264 --enable-shared\n",
            "  libavutil      55. 78.100 / 55. 78.100\n",
            "  libavcodec     57.107.100 / 57.107.100\n",
            "  libavformat    57. 83.100 / 57. 83.100\n",
            "  libavdevice    57. 10.100 / 57. 10.100\n",
            "  libavfilter     6.107.100 /  6.107.100\n",
            "  libavresample   3.  7.  0 /  3.  7.  0\n",
            "  libswscale      4.  8.100 /  4.  8.100\n",
            "  libswresample   2.  9.100 /  2.  9.100\n",
            "  libpostproc    54.  7.100 / 54.  7.100\n",
            "Input #0, mov,mp4,m4a,3gp,3g2,mj2, from '/content/gdrive/My Drive/adplace/full_videos/adplace_329.mp4':\n",
            "  Metadata:\n",
            "    major_brand     : mp42\n",
            "    minor_version   : 0\n",
            "    compatible_brands: isommp42\n",
            "    creation_time   : 2018-10-21T18:46:42.000000Z\n",
            "  Duration: 00:03:31.02, start: 0.000000, bitrate: 1706 kb/s\n",
            "    Stream #0:0(und): Video: h264 (Main) (avc1 / 0x31637661), yuv420p(tv, bt709), 1280x720 [SAR 1:1 DAR 16:9], 1576 kb/s, 29.97 fps, 29.97 tbr, 90k tbn, 59.94 tbc (default)\n",
            "    Metadata:\n",
            "      creation_time   : 2018-10-21T18:46:42.000000Z\n",
            "      handler_name    : ISO Media file produced by Google Inc. Created on: 10/21/2018.\n",
            "    Stream #0:1(und): Audio: aac (LC) (mp4a / 0x6134706D), 44100 Hz, stereo, fltp, 125 kb/s (default)\n",
            "    Metadata:\n",
            "      creation_time   : 2018-10-21T18:46:42.000000Z\n",
            "      handler_name    : ISO Media file produced by Google Inc. Created on: 10/21/2018.\n",
            "Stream mapping:\n",
            "  Stream #0:0 -> #0:0 (h264 (native) -> h264 (libx264))\n",
            "  Stream #0:1 -> #0:1 (copy)\n",
            "Press [q] to stop, [?] for help\n",
            "\u001b[1;36m[libx264 @ 0x560e272b4800] \u001b[0musing SAR=1/1\n",
            "\u001b[1;36m[libx264 @ 0x560e272b4800] \u001b[0musing cpu capabilities: MMX2 SSE2Fast SSSE3 SSE4.2 AVX FMA3 BMI2 AVX2\n",
            "\u001b[1;36m[libx264 @ 0x560e272b4800] \u001b[0mprofile High, level 3.1\n",
            "\u001b[1;36m[libx264 @ 0x560e272b4800] \u001b[0m264 - core 152 r2854 e9a5903 - H.264/MPEG-4 AVC codec - Copyleft 2003-2017 - http://www.videolan.org/x264.html - options: cabac=1 ref=1 deblock=1:0:0 analyse=0x3:0x113 me=hex subme=2 psy=1 psy_rd=1.00:0.00 mixed_ref=0 me_range=16 chroma_me=1 trellis=0 8x8dct=1 cqm=0 deadzone=21,11 fast_pskip=1 chroma_qp_offset=0 threads=3 lookahead_threads=1 sliced_threads=0 nr=0 decimate=1 interlaced=0 bluray_compat=0 constrained_intra=0 bframes=3 b_pyramid=2 b_adapt=1 b_bias=0 direct=1 weightb=1 open_gop=0 weightp=1 keyint=250 keyint_min=25 scenecut=40 intra_refresh=0 rc_lookahead=10 rc=crf mbtree=1 crf=22.0 qcomp=0.60 qpmin=0 qpmax=69 qpstep=4 ip_ratio=1.40 aq=1:1.00\n",
            "Output #0, mp4, to '/content/gdrive/My Drive/adplace/scene_videos/adplace_329-Scene-001.mp4':\n",
            "  Metadata:\n",
            "    major_brand     : mp42\n",
            "    minor_version   : 0\n",
            "    compatible_brands: isommp42\n",
            "    encoder         : Lavf57.83.100\n",
            "    Stream #0:0(und): Video: h264 (libx264) (avc1 / 0x31637661), yuv420p, 1280x720 [SAR 1:1 DAR 16:9], q=-1--1, 29.97 fps, 30k tbn, 29.97 tbc (default)\n",
            "    Metadata:\n",
            "      creation_time   : 2018-10-21T18:46:42.000000Z\n",
            "      handler_name    : ISO Media file produced by Google Inc. Created on: 10/21/2018.\n",
            "      encoder         : Lavc57.107.100 libx264\n",
            "    Side data:\n",
            "      cpb: bitrate max/min/avg: 0/0/0 buffer size: 0 vbv_delay: -1\n",
            "    Stream #0:1(und): Audio: aac (LC) (mp4a / 0x6134706D), 44100 Hz, stereo, fltp, 125 kb/s (default)\n",
            "    Metadata:\n",
            "      creation_time   : 2018-10-21T18:46:42.000000Z\n",
            "      handler_name    : ISO Media file produced by Google Inc. Created on: 10/21/2018.\n",
            "frame=   31 fps=0.0 q=-1.0 Lsize=      20kB time=00:00:01.02 bitrate= 164.2kbits/s speed=3.33x    \n",
            "video:2kB audio:16kB subtitle:0kB other streams:0kB global headers:0kB muxing overhead: 13.392470%\n",
            "\u001b[1;36m[libx264 @ 0x560e272b4800] \u001b[0mframe I:1     Avg QP: 9.00  size:   219\n",
            "\u001b[1;36m[libx264 @ 0x560e272b4800] \u001b[0mframe P:8     Avg QP:10.50  size:    44\n",
            "\u001b[1;36m[libx264 @ 0x560e272b4800] \u001b[0mframe B:22    Avg QP:12.68  size:    38\n",
            "\u001b[1;36m[libx264 @ 0x560e272b4800] \u001b[0mconsecutive B-frames:  3.2%  6.5%  0.0% 90.3%\n",
            "\u001b[1;36m[libx264 @ 0x560e272b4800] \u001b[0mmb I  I16..4: 100.0%  0.0%  0.0%\n",
            "\u001b[1;36m[libx264 @ 0x560e272b4800] \u001b[0mmb P  I16..4:  0.0%  0.0%  0.0%  P16..4:  0.0%  0.0%  0.0%  0.0%  0.0%    skip:100.0%\n",
            "\u001b[1;36m[libx264 @ 0x560e272b4800] \u001b[0mmb B  I16..4:  0.0%  0.0%  0.0%  B16..8:  0.0%  0.0%  0.0%  direct: 0.0%  skip:100.0%\n",
            "\u001b[1;36m[libx264 @ 0x560e272b4800] \u001b[0m8x8 transform intra:0.0%\n",
            "\u001b[1;36m[libx264 @ 0x560e272b4800] \u001b[0mcoded y,uvDC,uvAC intra: 0.0% 0.2% 0.0% inter: 0.0% 0.0% 0.0%\n",
            "\u001b[1;36m[libx264 @ 0x560e272b4800] \u001b[0mi16 v,h,dc,p: 98%  0%  2%  0%\n",
            "\u001b[1;36m[libx264 @ 0x560e272b4800] \u001b[0mi4 v,h,dc,ddl,ddr,vr,hd,vl,hu:  0%  0% 100%  0%  0%  0%  0%  0%  0%\n",
            "\u001b[1;36m[libx264 @ 0x560e272b4800] \u001b[0mi8c dc,h,v,p: 100%  0%  0%  0%\n",
            "\u001b[1;36m[libx264 @ 0x560e272b4800] \u001b[0mWeighted P-Frames: Y:0.0% UV:0.0%\n",
            "\u001b[1;36m[libx264 @ 0x560e272b4800] \u001b[0mkb/s:10.80\n",
            "[PySceneDetect] Output from ffmpeg for Scene 1 shown above, splitting remaining scenes...\n",
            "100% 6324/6324 [02:45<00:00, 30.92frame/s]\n",
            "[PySceneDetect] Average processing speed 38.10 frames/sec.\n",
            "[PySceneDetect] Video splitting completed, individual scenes written to disk.\n",
            "[PySceneDetect] Output directory set:\n",
            "  /content/gdrive/My Drive/adplace/scene_videos\n",
            "[PySceneDetect] Loaded 1 video, framerate: 30.00 FPS, resolution: 1280 x 720\n",
            "[PySceneDetect] Downscale factor set to 5, effective resolution: 256 x 144\n",
            "[PySceneDetect] Scene list CSV file name format:\n",
            "  $VIDEO_NAME-Scenes.csv\n",
            "[PySceneDetect] FFmpeg codec args set: -c:v libx264 -preset veryfast -crf 22 -c:a copy\n",
            "[PySceneDetect] Video output file name format: $VIDEO_NAME-Scene-$SCENE_NUMBER\n",
            "[PySceneDetect] Detecting scenes...\n",
            "100% 1905/1905 [00:12<00:00, 149.40frames/s]\n",
            "[PySceneDetect] Processed 1905 frames in 12.8 seconds (average 149.38 FPS).\n",
            "[PySceneDetect] Detected 31 scenes, average shot length 2.0 seconds.\n",
            "[PySceneDetect] Writing scene list to CSV file:\n",
            "  /content/gdrive/My Drive/adplace/scene_videos/adplace_330-Scenes.csv\n",
            "[PySceneDetect] Scene List:\n",
            "-----------------------------------------------------------------------\n",
            " | Scene # | Start Frame |  Start Time  |  End Frame  |   End Time   |\n",
            "-----------------------------------------------------------------------\n",
            " |      1  |           0 | 00:00:00.000 |          82 | 00:00:02.733 |\n",
            " |      2  |          82 | 00:00:02.733 |         119 | 00:00:03.967 |\n",
            " |      3  |         119 | 00:00:03.967 |         286 | 00:00:09.533 |\n",
            " |      4  |         286 | 00:00:09.533 |         496 | 00:00:16.533 |\n",
            " |      5  |         496 | 00:00:16.533 |         542 | 00:00:18.067 |\n",
            " |      6  |         542 | 00:00:18.067 |         570 | 00:00:19.000 |\n",
            " |      7  |         570 | 00:00:19.000 |         598 | 00:00:19.933 |\n",
            " |      8  |         598 | 00:00:19.933 |         624 | 00:00:20.800 |\n",
            " |      9  |         624 | 00:00:20.800 |         671 | 00:00:22.367 |\n",
            " |     10  |         671 | 00:00:22.367 |         714 | 00:00:23.800 |\n",
            " |     11  |         714 | 00:00:23.800 |         786 | 00:00:26.200 |\n",
            " |     12  |         786 | 00:00:26.200 |         831 | 00:00:27.700 |\n",
            " |     13  |         831 | 00:00:27.700 |         887 | 00:00:29.567 |\n",
            " |     14  |         887 | 00:00:29.567 |         918 | 00:00:30.600 |\n",
            " |     15  |         918 | 00:00:30.600 |        1011 | 00:00:33.700 |\n",
            " |     16  |        1011 | 00:00:33.700 |        1079 | 00:00:35.967 |\n",
            " |     17  |        1079 | 00:00:35.967 |        1123 | 00:00:37.433 |\n",
            " |     18  |        1123 | 00:00:37.433 |        1166 | 00:00:38.867 |\n",
            " |     19  |        1166 | 00:00:38.867 |        1193 | 00:00:39.767 |\n",
            " |     20  |        1193 | 00:00:39.767 |        1232 | 00:00:41.067 |\n",
            " |     21  |        1232 | 00:00:41.067 |        1264 | 00:00:42.133 |\n",
            " |     22  |        1264 | 00:00:42.133 |        1298 | 00:00:43.267 |\n",
            " |     23  |        1298 | 00:00:43.267 |        1338 | 00:00:44.600 |\n",
            " |     24  |        1338 | 00:00:44.600 |        1401 | 00:00:46.700 |\n",
            " |     25  |        1401 | 00:00:46.700 |        1450 | 00:00:48.333 |\n",
            " |     26  |        1450 | 00:00:48.333 |        1534 | 00:00:51.133 |\n",
            " |     27  |        1534 | 00:00:51.133 |        1589 | 00:00:52.967 |\n",
            " |     28  |        1589 | 00:00:52.967 |        1724 | 00:00:57.467 |\n",
            " |     29  |        1724 | 00:00:57.467 |        1782 | 00:00:59.400 |\n",
            " |     30  |        1782 | 00:00:59.400 |        1813 | 00:01:00.433 |\n",
            " |     31  |        1813 | 00:01:00.433 |        1905 | 00:01:03.500 |\n",
            "-----------------------------------------------------------------------\n",
            "\n",
            "[PySceneDetect] Comma-separated timecode list:\n",
            "  00:00:02.733,00:00:03.967,00:00:09.533,00:00:16.533,00:00:18.067,00:00:19.000,00:00:19.933,00:00:20.800,00:00:22.367,00:00:23.800,00:00:26.200,00:00:27.700,00:00:29.567,00:00:30.600,00:00:33.700,00:00:35.967,00:00:37.433,00:00:38.867,00:00:39.767,00:00:41.067,00:00:42.133,00:00:43.267,00:00:44.600,00:00:46.700,00:00:48.333,00:00:51.133,00:00:52.967,00:00:57.467,00:00:59.400,00:01:00.433\n",
            "[PySceneDetect] Splitting input video using ffmpeg, output path template:\n",
            "  /content/gdrive/My Drive/adplace/scene_videos/$VIDEO_NAME-Scene-$SCENE_NUMBER.mp4\n",
            "  0% 0/1905 [00:00<?, ?frame/s]ffmpeg version 3.4.6-0ubuntu0.18.04.1 Copyright (c) 2000-2019 the FFmpeg developers\n",
            "  built with gcc 7 (Ubuntu 7.3.0-16ubuntu3)\n",
            "  configuration: --prefix=/usr --extra-version=0ubuntu0.18.04.1 --toolchain=hardened --libdir=/usr/lib/x86_64-linux-gnu --incdir=/usr/include/x86_64-linux-gnu --enable-gpl --disable-stripping --enable-avresample --enable-avisynth --enable-gnutls --enable-ladspa --enable-libass --enable-libbluray --enable-libbs2b --enable-libcaca --enable-libcdio --enable-libflite --enable-libfontconfig --enable-libfreetype --enable-libfribidi --enable-libgme --enable-libgsm --enable-libmp3lame --enable-libmysofa --enable-libopenjpeg --enable-libopenmpt --enable-libopus --enable-libpulse --enable-librubberband --enable-librsvg --enable-libshine --enable-libsnappy --enable-libsoxr --enable-libspeex --enable-libssh --enable-libtheora --enable-libtwolame --enable-libvorbis --enable-libvpx --enable-libwavpack --enable-libwebp --enable-libx265 --enable-libxml2 --enable-libxvid --enable-libzmq --enable-libzvbi --enable-omx --enable-openal --enable-opengl --enable-sdl2 --enable-libdc1394 --enable-libdrm --enable-libiec61883 --enable-chromaprint --enable-frei0r --enable-libopencv --enable-libx264 --enable-shared\n",
            "  libavutil      55. 78.100 / 55. 78.100\n",
            "  libavcodec     57.107.100 / 57.107.100\n",
            "  libavformat    57. 83.100 / 57. 83.100\n",
            "  libavdevice    57. 10.100 / 57. 10.100\n",
            "  libavfilter     6.107.100 /  6.107.100\n",
            "  libavresample   3.  7.  0 /  3.  7.  0\n",
            "  libswscale      4.  8.100 /  4.  8.100\n",
            "  libswresample   2.  9.100 /  2.  9.100\n",
            "  libpostproc    54.  7.100 / 54.  7.100\n",
            "Input #0, mov,mp4,m4a,3gp,3g2,mj2, from '/content/gdrive/My Drive/adplace/full_videos/adplace_330.mp4':\n",
            "  Metadata:\n",
            "    major_brand     : mp42\n",
            "    minor_version   : 0\n",
            "    compatible_brands: isommp42\n",
            "    creation_time   : 2018-09-29T05:07:43.000000Z\n",
            "  Duration: 00:01:03.51, start: 0.000000, bitrate: 1586 kb/s\n",
            "    Stream #0:0(und): Video: h264 (Main) (avc1 / 0x31637661), yuv420p(tv, bt709), 1280x720 [SAR 1:1 DAR 16:9], 1456 kb/s, 30 fps, 30 tbr, 90k tbn, 60 tbc (default)\n",
            "    Metadata:\n",
            "      creation_time   : 2018-09-29T05:07:43.000000Z\n",
            "      handler_name    : ISO Media file produced by Google Inc. Created on: 09/28/2018.\n",
            "    Stream #0:1(und): Audio: aac (LC) (mp4a / 0x6134706D), 44100 Hz, stereo, fltp, 125 kb/s (default)\n",
            "    Metadata:\n",
            "      creation_time   : 2018-09-29T05:07:43.000000Z\n",
            "      handler_name    : ISO Media file produced by Google Inc. Created on: 09/28/2018.\n",
            "Stream mapping:\n",
            "  Stream #0:0 -> #0:0 (h264 (native) -> h264 (libx264))\n",
            "  Stream #0:1 -> #0:1 (copy)\n",
            "Press [q] to stop, [?] for help\n",
            "\u001b[1;36m[libx264 @ 0x558aceb98800] \u001b[0musing SAR=1/1\n",
            "\u001b[1;36m[libx264 @ 0x558aceb98800] \u001b[0musing cpu capabilities: MMX2 SSE2Fast SSSE3 SSE4.2 AVX FMA3 BMI2 AVX2\n",
            "\u001b[1;36m[libx264 @ 0x558aceb98800] \u001b[0mprofile High, level 3.1\n",
            "\u001b[1;36m[libx264 @ 0x558aceb98800] \u001b[0m264 - core 152 r2854 e9a5903 - H.264/MPEG-4 AVC codec - Copyleft 2003-2017 - http://www.videolan.org/x264.html - options: cabac=1 ref=1 deblock=1:0:0 analyse=0x3:0x113 me=hex subme=2 psy=1 psy_rd=1.00:0.00 mixed_ref=0 me_range=16 chroma_me=1 trellis=0 8x8dct=1 cqm=0 deadzone=21,11 fast_pskip=1 chroma_qp_offset=0 threads=3 lookahead_threads=1 sliced_threads=0 nr=0 decimate=1 interlaced=0 bluray_compat=0 constrained_intra=0 bframes=3 b_pyramid=2 b_adapt=1 b_bias=0 direct=1 weightb=1 open_gop=0 weightp=1 keyint=250 keyint_min=25 scenecut=40 intra_refresh=0 rc_lookahead=10 rc=crf mbtree=1 crf=22.0 qcomp=0.60 qpmin=0 qpmax=69 qpstep=4 ip_ratio=1.40 aq=1:1.00\n",
            "Output #0, mp4, to '/content/gdrive/My Drive/adplace/scene_videos/adplace_330-Scene-001.mp4':\n",
            "  Metadata:\n",
            "    major_brand     : mp42\n",
            "    minor_version   : 0\n",
            "    compatible_brands: isommp42\n",
            "    encoder         : Lavf57.83.100\n",
            "    Stream #0:0(und): Video: h264 (libx264) (avc1 / 0x31637661), yuv420p, 1280x720 [SAR 1:1 DAR 16:9], q=-1--1, 30 fps, 15360 tbn, 30 tbc (default)\n",
            "    Metadata:\n",
            "      creation_time   : 2018-09-29T05:07:43.000000Z\n",
            "      handler_name    : ISO Media file produced by Google Inc. Created on: 09/28/2018.\n",
            "      encoder         : Lavc57.107.100 libx264\n",
            "    Side data:\n",
            "      cpb: bitrate max/min/avg: 0/0/0 buffer size: 0 vbv_delay: -1\n",
            "    Stream #0:1(und): Audio: aac (LC) (mp4a / 0x6134706D), 44100 Hz, stereo, fltp, 125 kb/s (default)\n",
            "    Metadata:\n",
            "      creation_time   : 2018-09-29T05:07:43.000000Z\n",
            "      handler_name    : ISO Media file produced by Google Inc. Created on: 09/28/2018.\n",
            "frame=   82 fps= 58 q=-1.0 Lsize=     530kB time=00:00:02.71 bitrate=1598.0kbits/s speed=1.91x    \n",
            "video:484kB audio:42kB subtitle:0kB other streams:0kB global headers:0kB muxing overhead: 0.799828%\n",
            "\u001b[1;36m[libx264 @ 0x558aceb98800] \u001b[0mframe I:2     Avg QP:10.65  size:  7271\n",
            "\u001b[1;36m[libx264 @ 0x558aceb98800] \u001b[0mframe P:25    Avg QP:19.90  size: 14716\n",
            "\u001b[1;36m[libx264 @ 0x558aceb98800] \u001b[0mframe B:55    Avg QP:21.87  size:  2037\n",
            "\u001b[1;36m[libx264 @ 0x558aceb98800] \u001b[0mconsecutive B-frames:  7.3%  9.8%  0.0% 82.9%\n",
            "\u001b[1;36m[libx264 @ 0x558aceb98800] \u001b[0mmb I  I16..4: 78.6% 14.1%  7.3%\n",
            "\u001b[1;36m[libx264 @ 0x558aceb98800] \u001b[0mmb P  I16..4:  5.1%  3.7%  0.9%  P16..4: 22.2% 12.2%  7.6%  0.0%  0.0%    skip:48.3%\n",
            "\u001b[1;36m[libx264 @ 0x558aceb98800] \u001b[0mmb B  I16..4:  0.2%  0.0%  0.0%  B16..8:  7.4%  3.3%  0.6%  direct: 1.7%  skip:86.7%  L0:33.3% L1:42.0% BI:24.6%\n",
            "\u001b[1;36m[libx264 @ 0x558aceb98800] \u001b[0m8x8 transform intra:26.8% inter:24.7%\n",
            "\u001b[1;36m[libx264 @ 0x558aceb98800] \u001b[0mcoded y,uvDC,uvAC intra: 25.3% 20.5% 4.2% inter: 6.6% 5.8% 0.3%\n",
            "\u001b[1;36m[libx264 @ 0x558aceb98800] \u001b[0mi16 v,h,dc,p: 54% 37%  7%  2%\n",
            "\u001b[1;36m[libx264 @ 0x558aceb98800] \u001b[0mi8 v,h,dc,ddl,ddr,vr,hd,vl,hu: 21% 50% 22%  1%  1%  1%  1%  1%  2%\n",
            "\u001b[1;36m[libx264 @ 0x558aceb98800] \u001b[0mi4 v,h,dc,ddl,ddr,vr,hd,vl,hu: 28% 39% 17%  2%  2%  3%  2%  4%  2%\n",
            "\u001b[1;36m[libx264 @ 0x558aceb98800] \u001b[0mi8c dc,h,v,p: 66% 24%  9%  1%\n",
            "\u001b[1;36m[libx264 @ 0x558aceb98800] \u001b[0mWeighted P-Frames: Y:28.0% UV:24.0%\n",
            "\u001b[1;36m[libx264 @ 0x558aceb98800] \u001b[0mkb/s:1447.19\n",
            "[PySceneDetect] Output from ffmpeg for Scene 1 shown above, splitting remaining scenes...\n",
            "100% 1905/1905 [01:04<00:00, 30.46frame/s]\n",
            "[PySceneDetect] Average processing speed 29.46 frames/sec.\n",
            "[PySceneDetect] Video splitting completed, individual scenes written to disk.\n",
            "[PySceneDetect] Output directory set:\n",
            "  /content/gdrive/My Drive/adplace/scene_videos\n",
            "[PySceneDetect] Loaded 1 video, framerate: 30.00 FPS, resolution: 1280 x 720\n",
            "[PySceneDetect] Downscale factor set to 5, effective resolution: 256 x 144\n",
            "[PySceneDetect] Scene list CSV file name format:\n",
            "  $VIDEO_NAME-Scenes.csv\n",
            "[PySceneDetect] FFmpeg codec args set: -c:v libx264 -preset veryfast -crf 22 -c:a copy\n",
            "[PySceneDetect] Video output file name format: $VIDEO_NAME-Scene-$SCENE_NUMBER\n",
            "[PySceneDetect] Detecting scenes...\n",
            "100% 4614/4614 [00:31<00:00, 145.20frames/s]\n",
            "[PySceneDetect] Processed 4614 frames in 31.8 seconds (average 145.19 FPS).\n",
            "[PySceneDetect] Detected 33 scenes, average shot length 4.7 seconds.\n",
            "[PySceneDetect] Writing scene list to CSV file:\n",
            "  /content/gdrive/My Drive/adplace/scene_videos/adplace_331-Scenes.csv\n",
            "[PySceneDetect] Scene List:\n",
            "-----------------------------------------------------------------------\n",
            " | Scene # | Start Frame |  Start Time  |  End Frame  |   End Time   |\n",
            "-----------------------------------------------------------------------\n",
            " |      1  |           0 | 00:00:00.000 |          31 | 00:00:01.033 |\n",
            " |      2  |          31 | 00:00:01.033 |         155 | 00:00:05.167 |\n",
            " |      3  |         155 | 00:00:05.167 |         216 | 00:00:07.200 |\n",
            " |      4  |         216 | 00:00:07.200 |         280 | 00:00:09.333 |\n",
            " |      5  |         280 | 00:00:09.333 |         336 | 00:00:11.200 |\n",
            " |      6  |         336 | 00:00:11.200 |         423 | 00:00:14.100 |\n",
            " |      7  |         423 | 00:00:14.100 |         520 | 00:00:17.333 |\n",
            " |      8  |         520 | 00:00:17.333 |         541 | 00:00:18.033 |\n",
            " |      9  |         541 | 00:00:18.033 |         809 | 00:00:26.967 |\n",
            " |     10  |         809 | 00:00:26.967 |         862 | 00:00:28.733 |\n",
            " |     11  |         862 | 00:00:28.733 |        1006 | 00:00:33.533 |\n",
            " |     12  |        1006 | 00:00:33.533 |        1066 | 00:00:35.533 |\n",
            " |     13  |        1066 | 00:00:35.533 |        1251 | 00:00:41.700 |\n",
            " |     14  |        1251 | 00:00:41.700 |        1294 | 00:00:43.133 |\n",
            " |     15  |        1294 | 00:00:43.133 |        1315 | 00:00:43.833 |\n",
            " |     16  |        1315 | 00:00:43.833 |        1559 | 00:00:51.967 |\n",
            " |     17  |        1559 | 00:00:51.967 |        1609 | 00:00:53.633 |\n",
            " |     18  |        1609 | 00:00:53.633 |        1677 | 00:00:55.900 |\n",
            " |     19  |        1677 | 00:00:55.900 |        1775 | 00:00:59.167 |\n",
            " |     20  |        1775 | 00:00:59.167 |        1827 | 00:01:00.900 |\n",
            " |     21  |        1827 | 00:01:00.900 |        2245 | 00:01:14.833 |\n",
            " |     22  |        2245 | 00:01:14.833 |        2311 | 00:01:17.033 |\n",
            " |     23  |        2311 | 00:01:17.033 |        2489 | 00:01:22.967 |\n",
            " |     24  |        2489 | 00:01:22.967 |        2596 | 00:01:26.533 |\n",
            " |     25  |        2596 | 00:01:26.533 |        2815 | 00:01:33.833 |\n",
            " |     26  |        2815 | 00:01:33.833 |        3772 | 00:02:05.733 |\n",
            " |     27  |        3772 | 00:02:05.733 |        3853 | 00:02:08.433 |\n",
            " |     28  |        3853 | 00:02:08.433 |        4197 | 00:02:19.900 |\n",
            " |     29  |        4197 | 00:02:19.900 |        4236 | 00:02:21.200 |\n",
            " |     30  |        4236 | 00:02:21.200 |        4389 | 00:02:26.300 |\n",
            " |     31  |        4389 | 00:02:26.300 |        4507 | 00:02:30.233 |\n",
            " |     32  |        4507 | 00:02:30.233 |        4583 | 00:02:32.767 |\n",
            " |     33  |        4583 | 00:02:32.767 |        4614 | 00:02:33.800 |\n",
            "-----------------------------------------------------------------------\n",
            "\n",
            "[PySceneDetect] Comma-separated timecode list:\n",
            "  00:00:01.033,00:00:05.167,00:00:07.200,00:00:09.333,00:00:11.200,00:00:14.100,00:00:17.333,00:00:18.033,00:00:26.967,00:00:28.733,00:00:33.533,00:00:35.533,00:00:41.700,00:00:43.133,00:00:43.833,00:00:51.967,00:00:53.633,00:00:55.900,00:00:59.167,00:01:00.900,00:01:14.833,00:01:17.033,00:01:22.967,00:01:26.533,00:01:33.833,00:02:05.733,00:02:08.433,00:02:19.900,00:02:21.200,00:02:26.300,00:02:30.233,00:02:32.767\n",
            "[PySceneDetect] Splitting input video using ffmpeg, output path template:\n",
            "  /content/gdrive/My Drive/adplace/scene_videos/$VIDEO_NAME-Scene-$SCENE_NUMBER.mp4\n",
            "  0% 0/4614 [00:00<?, ?frame/s]ffmpeg version 3.4.6-0ubuntu0.18.04.1 Copyright (c) 2000-2019 the FFmpeg developers\n",
            "  built with gcc 7 (Ubuntu 7.3.0-16ubuntu3)\n",
            "  configuration: --prefix=/usr --extra-version=0ubuntu0.18.04.1 --toolchain=hardened --libdir=/usr/lib/x86_64-linux-gnu --incdir=/usr/include/x86_64-linux-gnu --enable-gpl --disable-stripping --enable-avresample --enable-avisynth --enable-gnutls --enable-ladspa --enable-libass --enable-libbluray --enable-libbs2b --enable-libcaca --enable-libcdio --enable-libflite --enable-libfontconfig --enable-libfreetype --enable-libfribidi --enable-libgme --enable-libgsm --enable-libmp3lame --enable-libmysofa --enable-libopenjpeg --enable-libopenmpt --enable-libopus --enable-libpulse --enable-librubberband --enable-librsvg --enable-libshine --enable-libsnappy --enable-libsoxr --enable-libspeex --enable-libssh --enable-libtheora --enable-libtwolame --enable-libvorbis --enable-libvpx --enable-libwavpack --enable-libwebp --enable-libx265 --enable-libxml2 --enable-libxvid --enable-libzmq --enable-libzvbi --enable-omx --enable-openal --enable-opengl --enable-sdl2 --enable-libdc1394 --enable-libdrm --enable-libiec61883 --enable-chromaprint --enable-frei0r --enable-libopencv --enable-libx264 --enable-shared\n",
            "  libavutil      55. 78.100 / 55. 78.100\n",
            "  libavcodec     57.107.100 / 57.107.100\n",
            "  libavformat    57. 83.100 / 57. 83.100\n",
            "  libavdevice    57. 10.100 / 57. 10.100\n",
            "  libavfilter     6.107.100 /  6.107.100\n",
            "  libavresample   3.  7.  0 /  3.  7.  0\n",
            "  libswscale      4.  8.100 /  4.  8.100\n",
            "  libswresample   2.  9.100 /  2.  9.100\n",
            "  libpostproc    54.  7.100 / 54.  7.100\n",
            "Input #0, mov,mp4,m4a,3gp,3g2,mj2, from '/content/gdrive/My Drive/adplace/full_videos/adplace_331.mp4':\n",
            "  Metadata:\n",
            "    major_brand     : mp42\n",
            "    minor_version   : 0\n",
            "    compatible_brands: isommp42\n",
            "    creation_time   : 2017-10-11T22:30:13.000000Z\n",
            "  Duration: 00:02:33.81, start: 0.000000, bitrate: 1974 kb/s\n",
            "    Stream #0:0(und): Video: h264 (Main) (avc1 / 0x31637661), yuv420p(tv, bt709), 1280x720 [SAR 1:1 DAR 16:9], 1844 kb/s, 30 fps, 30 tbr, 90k tbn, 60 tbc (default)\n",
            "    Metadata:\n",
            "      creation_time   : 2017-10-11T22:30:13.000000Z\n",
            "      handler_name    : ISO Media file produced by Google Inc. Created on: 10/11/2017.\n",
            "    Stream #0:1(und): Audio: aac (LC) (mp4a / 0x6134706D), 44100 Hz, stereo, fltp, 125 kb/s (default)\n",
            "    Metadata:\n",
            "      creation_time   : 2017-10-11T22:30:13.000000Z\n",
            "      handler_name    : ISO Media file produced by Google Inc. Created on: 10/11/2017.\n",
            "Stream mapping:\n",
            "  Stream #0:0 -> #0:0 (h264 (native) -> h264 (libx264))\n",
            "  Stream #0:1 -> #0:1 (copy)\n",
            "Press [q] to stop, [?] for help\n",
            "\u001b[1;36m[libx264 @ 0x5597a1b68800] \u001b[0musing SAR=1/1\n",
            "\u001b[1;36m[libx264 @ 0x5597a1b68800] \u001b[0musing cpu capabilities: MMX2 SSE2Fast SSSE3 SSE4.2 AVX FMA3 BMI2 AVX2\n",
            "\u001b[1;36m[libx264 @ 0x5597a1b68800] \u001b[0mprofile High, level 3.1\n",
            "\u001b[1;36m[libx264 @ 0x5597a1b68800] \u001b[0m264 - core 152 r2854 e9a5903 - H.264/MPEG-4 AVC codec - Copyleft 2003-2017 - http://www.videolan.org/x264.html - options: cabac=1 ref=1 deblock=1:0:0 analyse=0x3:0x113 me=hex subme=2 psy=1 psy_rd=1.00:0.00 mixed_ref=0 me_range=16 chroma_me=1 trellis=0 8x8dct=1 cqm=0 deadzone=21,11 fast_pskip=1 chroma_qp_offset=0 threads=3 lookahead_threads=1 sliced_threads=0 nr=0 decimate=1 interlaced=0 bluray_compat=0 constrained_intra=0 bframes=3 b_pyramid=2 b_adapt=1 b_bias=0 direct=1 weightb=1 open_gop=0 weightp=1 keyint=250 keyint_min=25 scenecut=40 intra_refresh=0 rc_lookahead=10 rc=crf mbtree=1 crf=22.0 qcomp=0.60 qpmin=0 qpmax=69 qpstep=4 ip_ratio=1.40 aq=1:1.00\n",
            "Output #0, mp4, to '/content/gdrive/My Drive/adplace/scene_videos/adplace_331-Scene-001.mp4':\n",
            "  Metadata:\n",
            "    major_brand     : mp42\n",
            "    minor_version   : 0\n",
            "    compatible_brands: isommp42\n",
            "    encoder         : Lavf57.83.100\n",
            "    Stream #0:0(und): Video: h264 (libx264) (avc1 / 0x31637661), yuv420p, 1280x720 [SAR 1:1 DAR 16:9], q=-1--1, 30 fps, 15360 tbn, 30 tbc (default)\n",
            "    Metadata:\n",
            "      creation_time   : 2017-10-11T22:30:13.000000Z\n",
            "      handler_name    : ISO Media file produced by Google Inc. Created on: 10/11/2017.\n",
            "      encoder         : Lavc57.107.100 libx264\n",
            "    Side data:\n",
            "      cpb: bitrate max/min/avg: 0/0/0 buffer size: 0 vbv_delay: -1\n",
            "    Stream #0:1(und): Audio: aac (LC) (mp4a / 0x6134706D), 44100 Hz, stereo, fltp, 125 kb/s (default)\n",
            "    Metadata:\n",
            "      creation_time   : 2017-10-11T22:30:13.000000Z\n",
            "      handler_name    : ISO Media file produced by Google Inc. Created on: 10/11/2017.\n",
            "frame=   31 fps=0.0 q=-1.0 Lsize=      20kB time=00:00:01.02 bitrate= 164.0kbits/s speed=2.86x    \n",
            "video:2kB audio:16kB subtitle:0kB other streams:0kB global headers:0kB muxing overhead: 13.414898%\n",
            "\u001b[1;36m[libx264 @ 0x5597a1b68800] \u001b[0mframe I:1     Avg QP: 9.00  size:   219\n",
            "\u001b[1;36m[libx264 @ 0x5597a1b68800] \u001b[0mframe P:8     Avg QP:10.50  size:    41\n",
            "\u001b[1;36m[libx264 @ 0x5597a1b68800] \u001b[0mframe B:22    Avg QP:12.68  size:    38\n",
            "\u001b[1;36m[libx264 @ 0x5597a1b68800] \u001b[0mconsecutive B-frames:  3.2%  6.5%  0.0% 90.3%\n",
            "\u001b[1;36m[libx264 @ 0x5597a1b68800] \u001b[0mmb I  I16..4: 100.0%  0.0%  0.0%\n",
            "\u001b[1;36m[libx264 @ 0x5597a1b68800] \u001b[0mmb P  I16..4:  0.0%  0.0%  0.0%  P16..4:  0.0%  0.0%  0.0%  0.0%  0.0%    skip:100.0%\n",
            "\u001b[1;36m[libx264 @ 0x5597a1b68800] \u001b[0mmb B  I16..4:  0.0%  0.0%  0.0%  B16..8:  0.0%  0.0%  0.0%  direct: 0.0%  skip:100.0%  L0:100.0% L1: 0.0% BI: 0.0%\n",
            "\u001b[1;36m[libx264 @ 0x5597a1b68800] \u001b[0m8x8 transform intra:0.0%\n",
            "\u001b[1;36m[libx264 @ 0x5597a1b68800] \u001b[0mcoded y,uvDC,uvAC intra: 0.0% 0.0% 0.0% inter: 0.0% 0.0% 0.0%\n",
            "\u001b[1;36m[libx264 @ 0x5597a1b68800] \u001b[0mi16 v,h,dc,p: 98%  0%  2%  0%\n",
            "\u001b[1;36m[libx264 @ 0x5597a1b68800] \u001b[0mi4 v,h,dc,ddl,ddr,vr,hd,vl,hu:  0%  0% 100%  0%  0%  0%  0%  0%  0%\n",
            "\u001b[1;36m[libx264 @ 0x5597a1b68800] \u001b[0mi8c dc,h,v,p: 100%  0%  0%  0%\n",
            "\u001b[1;36m[libx264 @ 0x5597a1b68800] \u001b[0mWeighted P-Frames: Y:12.5% UV:0.0%\n",
            "\u001b[1;36m[libx264 @ 0x5597a1b68800] \u001b[0mkb/s:10.67\n",
            "[PySceneDetect] Output from ffmpeg for Scene 1 shown above, splitting remaining scenes...\n",
            "100% 4614/4614 [02:14<00:00, 36.68frame/s]\n",
            "[PySceneDetect] Average processing speed 34.19 frames/sec.\n",
            "[PySceneDetect] Video splitting completed, individual scenes written to disk.\n",
            "[PySceneDetect] Output directory set:\n",
            "  /content/gdrive/My Drive/adplace/scene_videos\n",
            "[PySceneDetect] Loaded 1 video, framerate: 30.00 FPS, resolution: 1280 x 720\n",
            "[PySceneDetect] Downscale factor set to 5, effective resolution: 256 x 144\n",
            "[PySceneDetect] Scene list CSV file name format:\n",
            "  $VIDEO_NAME-Scenes.csv\n",
            "[PySceneDetect] FFmpeg codec args set: -c:v libx264 -preset veryfast -crf 22 -c:a copy\n",
            "[PySceneDetect] Video output file name format: $VIDEO_NAME-Scene-$SCENE_NUMBER\n",
            "[PySceneDetect] Detecting scenes...\n",
            "100% 484/484 [00:03<00:00, 161.06frames/s]\n",
            "[PySceneDetect] Processed 484 frames in 3.3 seconds (average 145.35 FPS).\n",
            "[PySceneDetect] Detected 3 scenes, average shot length 5.4 seconds.\n",
            "[PySceneDetect] Writing scene list to CSV file:\n",
            "  /content/gdrive/My Drive/adplace/scene_videos/adplace_332-Scenes.csv\n",
            "[PySceneDetect] Scene List:\n",
            "-----------------------------------------------------------------------\n",
            " | Scene # | Start Frame |  Start Time  |  End Frame  |   End Time   |\n",
            "-----------------------------------------------------------------------\n",
            " |      1  |           0 | 00:00:00.000 |          16 | 00:00:00.533 |\n",
            " |      2  |          16 | 00:00:00.533 |         268 | 00:00:08.933 |\n",
            " |      3  |         268 | 00:00:08.933 |         484 | 00:00:16.133 |\n",
            "-----------------------------------------------------------------------\n",
            "\n",
            "[PySceneDetect] Comma-separated timecode list:\n",
            "  00:00:00.533,00:00:08.933\n",
            "[PySceneDetect] Splitting input video using ffmpeg, output path template:\n",
            "  /content/gdrive/My Drive/adplace/scene_videos/$VIDEO_NAME-Scene-$SCENE_NUMBER.mp4\n",
            "  0% 0/484 [00:00<?, ?frame/s]ffmpeg version 3.4.6-0ubuntu0.18.04.1 Copyright (c) 2000-2019 the FFmpeg developers\n",
            "  built with gcc 7 (Ubuntu 7.3.0-16ubuntu3)\n",
            "  configuration: --prefix=/usr --extra-version=0ubuntu0.18.04.1 --toolchain=hardened --libdir=/usr/lib/x86_64-linux-gnu --incdir=/usr/include/x86_64-linux-gnu --enable-gpl --disable-stripping --enable-avresample --enable-avisynth --enable-gnutls --enable-ladspa --enable-libass --enable-libbluray --enable-libbs2b --enable-libcaca --enable-libcdio --enable-libflite --enable-libfontconfig --enable-libfreetype --enable-libfribidi --enable-libgme --enable-libgsm --enable-libmp3lame --enable-libmysofa --enable-libopenjpeg --enable-libopenmpt --enable-libopus --enable-libpulse --enable-librubberband --enable-librsvg --enable-libshine --enable-libsnappy --enable-libsoxr --enable-libspeex --enable-libssh --enable-libtheora --enable-libtwolame --enable-libvorbis --enable-libvpx --enable-libwavpack --enable-libwebp --enable-libx265 --enable-libxml2 --enable-libxvid --enable-libzmq --enable-libzvbi --enable-omx --enable-openal --enable-opengl --enable-sdl2 --enable-libdc1394 --enable-libdrm --enable-libiec61883 --enable-chromaprint --enable-frei0r --enable-libopencv --enable-libx264 --enable-shared\n",
            "  libavutil      55. 78.100 / 55. 78.100\n",
            "  libavcodec     57.107.100 / 57.107.100\n",
            "  libavformat    57. 83.100 / 57. 83.100\n",
            "  libavdevice    57. 10.100 / 57. 10.100\n",
            "  libavfilter     6.107.100 /  6.107.100\n",
            "  libavresample   3.  7.  0 /  3.  7.  0\n",
            "  libswscale      4.  8.100 /  4.  8.100\n",
            "  libswresample   2.  9.100 /  2.  9.100\n",
            "  libpostproc    54.  7.100 / 54.  7.100\n",
            "Input #0, mov,mp4,m4a,3gp,3g2,mj2, from '/content/gdrive/My Drive/adplace/full_videos/adplace_332.mp4':\n",
            "  Metadata:\n",
            "    major_brand     : mp42\n",
            "    minor_version   : 0\n",
            "    compatible_brands: isommp42\n",
            "    creation_time   : 2017-12-10T14:42:03.000000Z\n",
            "  Duration: 00:00:16.14, start: 0.000000, bitrate: 2332 kb/s\n",
            "    Stream #0:0(und): Video: h264 (Main) (avc1 / 0x31637661), yuv420p(tv, bt709), 1280x720 [SAR 1:1 DAR 16:9], 2202 kb/s, 30 fps, 30 tbr, 90k tbn, 60 tbc (default)\n",
            "    Metadata:\n",
            "      creation_time   : 2017-12-10T14:42:03.000000Z\n",
            "      handler_name    : ISO Media file produced by Google Inc. Created on: 12/10/2017.\n",
            "    Stream #0:1(und): Audio: aac (LC) (mp4a / 0x6134706D), 44100 Hz, stereo, fltp, 125 kb/s (default)\n",
            "    Metadata:\n",
            "      creation_time   : 2017-12-10T14:42:03.000000Z\n",
            "      handler_name    : ISO Media file produced by Google Inc. Created on: 12/10/2017.\n",
            "Stream mapping:\n",
            "  Stream #0:0 -> #0:0 (h264 (native) -> h264 (libx264))\n",
            "  Stream #0:1 -> #0:1 (copy)\n",
            "Press [q] to stop, [?] for help\n",
            "\u001b[1;36m[libx264 @ 0x55e478080800] \u001b[0musing SAR=1/1\n",
            "\u001b[1;36m[libx264 @ 0x55e478080800] \u001b[0musing cpu capabilities: MMX2 SSE2Fast SSSE3 SSE4.2 AVX FMA3 BMI2 AVX2\n",
            "\u001b[1;36m[libx264 @ 0x55e478080800] \u001b[0mprofile High, level 3.1\n",
            "\u001b[1;36m[libx264 @ 0x55e478080800] \u001b[0m264 - core 152 r2854 e9a5903 - H.264/MPEG-4 AVC codec - Copyleft 2003-2017 - http://www.videolan.org/x264.html - options: cabac=1 ref=1 deblock=1:0:0 analyse=0x3:0x113 me=hex subme=2 psy=1 psy_rd=1.00:0.00 mixed_ref=0 me_range=16 chroma_me=1 trellis=0 8x8dct=1 cqm=0 deadzone=21,11 fast_pskip=1 chroma_qp_offset=0 threads=3 lookahead_threads=1 sliced_threads=0 nr=0 decimate=1 interlaced=0 bluray_compat=0 constrained_intra=0 bframes=3 b_pyramid=2 b_adapt=1 b_bias=0 direct=1 weightb=1 open_gop=0 weightp=1 keyint=250 keyint_min=25 scenecut=40 intra_refresh=0 rc_lookahead=10 rc=crf mbtree=1 crf=22.0 qcomp=0.60 qpmin=0 qpmax=69 qpstep=4 ip_ratio=1.40 aq=1:1.00\n",
            "Output #0, mp4, to '/content/gdrive/My Drive/adplace/scene_videos/adplace_332-Scene-001.mp4':\n",
            "  Metadata:\n",
            "    major_brand     : mp42\n",
            "    minor_version   : 0\n",
            "    compatible_brands: isommp42\n",
            "    encoder         : Lavf57.83.100\n",
            "    Stream #0:0(und): Video: h264 (libx264) (avc1 / 0x31637661), yuv420p, 1280x720 [SAR 1:1 DAR 16:9], q=-1--1, 30 fps, 15360 tbn, 30 tbc (default)\n",
            "    Metadata:\n",
            "      creation_time   : 2017-12-10T14:42:03.000000Z\n",
            "      handler_name    : ISO Media file produced by Google Inc. Created on: 12/10/2017.\n",
            "      encoder         : Lavc57.107.100 libx264\n",
            "    Side data:\n",
            "      cpb: bitrate max/min/avg: 0/0/0 buffer size: 0 vbv_delay: -1\n",
            "    Stream #0:1(und): Audio: aac (LC) (mp4a / 0x6134706D), 44100 Hz, stereo, fltp, 125 kb/s (default)\n",
            "    Metadata:\n",
            "      creation_time   : 2017-12-10T14:42:03.000000Z\n",
            "      handler_name    : ISO Media file produced by Google Inc. Created on: 12/10/2017.\n",
            "frame=   16 fps=0.0 q=-1.0 Lsize=     110kB time=00:00:00.51 bitrate=1771.7kbits/s speed=1.06x    \n",
            "video:100kB audio:8kB subtitle:0kB other streams:0kB global headers:0kB muxing overhead: 1.731936%\n",
            "\u001b[1;36m[libx264 @ 0x55e478080800] \u001b[0mframe I:1     Avg QP: 5.61  size:   239\n",
            "\u001b[1;36m[libx264 @ 0x55e478080800] \u001b[0mframe P:5     Avg QP:19.91  size: 12763\n",
            "\u001b[1;36m[libx264 @ 0x55e478080800] \u001b[0mframe B:10    Avg QP:18.85  size:  3781\n",
            "\u001b[1;36m[libx264 @ 0x55e478080800] \u001b[0mconsecutive B-frames:  6.2% 25.0% 18.8% 50.0%\n",
            "\u001b[1;36m[libx264 @ 0x55e478080800] \u001b[0mmb I  I16..4: 99.8%  0.1%  0.0%\n",
            "\u001b[1;36m[libx264 @ 0x55e478080800] \u001b[0mmb P  I16..4: 28.4% 21.6%  0.5%  P16..4: 25.8% 10.7%  3.2%  0.0%  0.0%    skip: 9.9%\n",
            "\u001b[1;36m[libx264 @ 0x55e478080800] \u001b[0mmb B  I16..4:  5.9%  1.7%  0.0%  B16..8: 16.8%  1.9%  0.3%  direct:15.8%  skip:57.7%  L0:65.1% L1:19.6% BI:15.3%\n",
            "\u001b[1;36m[libx264 @ 0x55e478080800] \u001b[0m8x8 transform intra:29.2% inter:42.4%\n",
            "\u001b[1;36m[libx264 @ 0x55e478080800] \u001b[0mcoded y,uvDC,uvAC intra: 12.6% 35.5% 3.5% inter: 5.4% 28.8% 0.2%\n",
            "\u001b[1;36m[libx264 @ 0x55e478080800] \u001b[0mi16 v,h,dc,p: 66% 20% 11%  3%\n",
            "\u001b[1;36m[libx264 @ 0x55e478080800] \u001b[0mi8 v,h,dc,ddl,ddr,vr,hd,vl,hu: 28% 33% 32%  1%  1%  1%  1%  1%  2%\n",
            "\u001b[1;36m[libx264 @ 0x55e478080800] \u001b[0mi4 v,h,dc,ddl,ddr,vr,hd,vl,hu: 36% 29% 19%  3%  3%  2%  3%  3%  2%\n",
            "\u001b[1;36m[libx264 @ 0x55e478080800] \u001b[0mi8c dc,h,v,p: 61% 20% 16%  3%\n",
            "\u001b[1;36m[libx264 @ 0x55e478080800] \u001b[0mWeighted P-Frames: Y:80.0% UV:80.0%\n",
            "\u001b[1;36m[libx264 @ 0x55e478080800] \u001b[0mkb/s:1527.99\n",
            "[PySceneDetect] Output from ffmpeg for Scene 1 shown above, splitting remaining scenes...\n",
            "100% 484/484 [00:14<00:00, 31.26frame/s]\n",
            "[PySceneDetect] Average processing speed 34.42 frames/sec.\n",
            "[PySceneDetect] Video splitting completed, individual scenes written to disk.\n",
            "[PySceneDetect] Output directory set:\n",
            "  /content/gdrive/My Drive/adplace/scene_videos\n",
            "[PySceneDetect] Loaded 1 video, framerate: 23.98 FPS, resolution: 1280 x 532\n",
            "[PySceneDetect] Downscale factor set to 5, effective resolution: 256 x 106\n",
            "[PySceneDetect] Scene list CSV file name format:\n",
            "  $VIDEO_NAME-Scenes.csv\n",
            "[PySceneDetect] FFmpeg codec args set: -c:v libx264 -preset veryfast -crf 22 -c:a copy\n",
            "[PySceneDetect] Video output file name format: $VIDEO_NAME-Scene-$SCENE_NUMBER\n",
            "[PySceneDetect] Detecting scenes...\n",
            "100% 3393/3393 [00:15<00:00, 213.61frames/s]\n",
            "[PySceneDetect] Processed 3393 frames in 15.9 seconds (average 213.58 FPS).\n",
            "[PySceneDetect] Detected 42 scenes, average shot length 3.4 seconds.\n",
            "[PySceneDetect] Writing scene list to CSV file:\n",
            "  /content/gdrive/My Drive/adplace/scene_videos/adplace_333-Scenes.csv\n",
            "[PySceneDetect] Scene List:\n",
            "-----------------------------------------------------------------------\n",
            " | Scene # | Start Frame |  Start Time  |  End Frame  |   End Time   |\n",
            "-----------------------------------------------------------------------\n",
            " |      1  |           0 | 00:00:00.000 |          55 | 00:00:02.294 |\n",
            " |      2  |          55 | 00:00:02.294 |         125 | 00:00:05.214 |\n",
            " |      3  |         125 | 00:00:05.214 |         204 | 00:00:08.508 |\n",
            " |      4  |         204 | 00:00:08.508 |         276 | 00:00:11.511 |\n",
            " |      5  |         276 | 00:00:11.511 |         345 | 00:00:14.389 |\n",
            " |      6  |         345 | 00:00:14.389 |         370 | 00:00:15.432 |\n",
            " |      7  |         370 | 00:00:15.432 |         415 | 00:00:17.309 |\n",
            " |      8  |         415 | 00:00:17.309 |         662 | 00:00:27.611 |\n",
            " |      9  |         662 | 00:00:27.611 |         698 | 00:00:29.112 |\n",
            " |     10  |         698 | 00:00:29.112 |         775 | 00:00:32.324 |\n",
            " |     11  |         775 | 00:00:32.324 |         829 | 00:00:34.576 |\n",
            " |     12  |         829 | 00:00:34.576 |        1061 | 00:00:44.253 |\n",
            " |     13  |        1061 | 00:00:44.253 |        1202 | 00:00:50.133 |\n",
            " |     14  |        1202 | 00:00:50.133 |        1264 | 00:00:52.719 |\n",
            " |     15  |        1264 | 00:00:52.719 |        1323 | 00:00:55.180 |\n",
            " |     16  |        1323 | 00:00:55.180 |        1344 | 00:00:56.056 |\n",
            " |     17  |        1344 | 00:00:56.056 |        1681 | 00:01:10.112 |\n",
            " |     18  |        1681 | 00:01:10.112 |        1723 | 00:01:11.863 |\n",
            " |     19  |        1723 | 00:01:11.863 |        1744 | 00:01:12.739 |\n",
            " |     20  |        1744 | 00:01:12.739 |        1785 | 00:01:14.449 |\n",
            " |     21  |        1785 | 00:01:14.449 |        1855 | 00:01:17.369 |\n",
            " |     22  |        1855 | 00:01:17.369 |        1906 | 00:01:19.496 |\n",
            " |     23  |        1906 | 00:01:19.496 |        1947 | 00:01:21.206 |\n",
            " |     24  |        1947 | 00:01:21.206 |        1992 | 00:01:23.083 |\n",
            " |     25  |        1992 | 00:01:23.083 |        2016 | 00:01:24.084 |\n",
            " |     26  |        2016 | 00:01:24.084 |        2041 | 00:01:25.127 |\n",
            " |     27  |        2041 | 00:01:25.127 |        2085 | 00:01:26.962 |\n",
            " |     28  |        2085 | 00:01:26.962 |        2130 | 00:01:28.839 |\n",
            " |     29  |        2130 | 00:01:28.839 |        2148 | 00:01:29.589 |\n",
            " |     30  |        2148 | 00:01:29.589 |        2202 | 00:01:31.842 |\n",
            " |     31  |        2202 | 00:01:31.842 |        2236 | 00:01:33.260 |\n",
            " |     32  |        2236 | 00:01:33.260 |        2312 | 00:01:36.430 |\n",
            " |     33  |        2312 | 00:01:36.430 |        2345 | 00:01:37.806 |\n",
            " |     34  |        2345 | 00:01:37.806 |        2360 | 00:01:38.432 |\n",
            " |     35  |        2360 | 00:01:38.432 |        2387 | 00:01:39.558 |\n",
            " |     36  |        2387 | 00:01:39.558 |        2534 | 00:01:45.689 |\n",
            " |     37  |        2534 | 00:01:45.689 |        2627 | 00:01:49.568 |\n",
            " |     38  |        2627 | 00:01:49.568 |        2782 | 00:01:56.033 |\n",
            " |     39  |        2782 | 00:01:56.033 |        3114 | 00:02:09.880 |\n",
            " |     40  |        3114 | 00:02:09.880 |        3211 | 00:02:13.925 |\n",
            " |     41  |        3211 | 00:02:13.925 |        3309 | 00:02:18.013 |\n",
            " |     42  |        3309 | 00:02:18.013 |        3393 | 00:02:21.516 |\n",
            "-----------------------------------------------------------------------\n",
            "\n",
            "[PySceneDetect] Comma-separated timecode list:\n",
            "  00:00:02.294,00:00:05.214,00:00:08.508,00:00:11.511,00:00:14.389,00:00:15.432,00:00:17.309,00:00:27.611,00:00:29.112,00:00:32.324,00:00:34.576,00:00:44.253,00:00:50.133,00:00:52.719,00:00:55.180,00:00:56.056,00:01:10.112,00:01:11.863,00:01:12.739,00:01:14.449,00:01:17.369,00:01:19.496,00:01:21.206,00:01:23.083,00:01:24.084,00:01:25.127,00:01:26.962,00:01:28.839,00:01:29.589,00:01:31.842,00:01:33.260,00:01:36.430,00:01:37.806,00:01:38.432,00:01:39.558,00:01:45.689,00:01:49.568,00:01:56.033,00:02:09.880,00:02:13.925,00:02:18.013\n",
            "[PySceneDetect] Splitting input video using ffmpeg, output path template:\n",
            "  /content/gdrive/My Drive/adplace/scene_videos/$VIDEO_NAME-Scene-$SCENE_NUMBER.mp4\n",
            "  0% 0/3393 [00:00<?, ?frame/s]ffmpeg version 3.4.6-0ubuntu0.18.04.1 Copyright (c) 2000-2019 the FFmpeg developers\n",
            "  built with gcc 7 (Ubuntu 7.3.0-16ubuntu3)\n",
            "  configuration: --prefix=/usr --extra-version=0ubuntu0.18.04.1 --toolchain=hardened --libdir=/usr/lib/x86_64-linux-gnu --incdir=/usr/include/x86_64-linux-gnu --enable-gpl --disable-stripping --enable-avresample --enable-avisynth --enable-gnutls --enable-ladspa --enable-libass --enable-libbluray --enable-libbs2b --enable-libcaca --enable-libcdio --enable-libflite --enable-libfontconfig --enable-libfreetype --enable-libfribidi --enable-libgme --enable-libgsm --enable-libmp3lame --enable-libmysofa --enable-libopenjpeg --enable-libopenmpt --enable-libopus --enable-libpulse --enable-librubberband --enable-librsvg --enable-libshine --enable-libsnappy --enable-libsoxr --enable-libspeex --enable-libssh --enable-libtheora --enable-libtwolame --enable-libvorbis --enable-libvpx --enable-libwavpack --enable-libwebp --enable-libx265 --enable-libxml2 --enable-libxvid --enable-libzmq --enable-libzvbi --enable-omx --enable-openal --enable-opengl --enable-sdl2 --enable-libdc1394 --enable-libdrm --enable-libiec61883 --enable-chromaprint --enable-frei0r --enable-libopencv --enable-libx264 --enable-shared\n",
            "  libavutil      55. 78.100 / 55. 78.100\n",
            "  libavcodec     57.107.100 / 57.107.100\n",
            "  libavformat    57. 83.100 / 57. 83.100\n",
            "  libavdevice    57. 10.100 / 57. 10.100\n",
            "  libavfilter     6.107.100 /  6.107.100\n",
            "  libavresample   3.  7.  0 /  3.  7.  0\n",
            "  libswscale      4.  8.100 /  4.  8.100\n",
            "  libswresample   2.  9.100 /  2.  9.100\n",
            "  libpostproc    54.  7.100 / 54.  7.100\n",
            "Input #0, mov,mp4,m4a,3gp,3g2,mj2, from '/content/gdrive/My Drive/adplace/full_videos/adplace_333.mp4':\n",
            "  Metadata:\n",
            "    major_brand     : mp42\n",
            "    minor_version   : 0\n",
            "    compatible_brands: isommp42\n",
            "    creation_time   : 2018-07-28T00:23:04.000000Z\n",
            "  Duration: 00:02:21.53, start: 0.000000, bitrate: 973 kb/s\n",
            "    Stream #0:0(und): Video: h264 (Main) (avc1 / 0x31637661), yuv420p(tv, bt709), 1280x532 [SAR 1:1 DAR 320:133], 844 kb/s, 23.98 fps, 23.98 tbr, 90k tbn, 47.95 tbc (default)\n",
            "    Metadata:\n",
            "      creation_time   : 2018-07-28T00:23:04.000000Z\n",
            "      handler_name    : ISO Media file produced by Google Inc. Created on: 07/27/2018.\n",
            "    Stream #0:1(eng): Audio: aac (LC) (mp4a / 0x6134706D), 44100 Hz, stereo, fltp, 125 kb/s (default)\n",
            "    Metadata:\n",
            "      creation_time   : 2018-07-28T00:23:04.000000Z\n",
            "      handler_name    : ISO Media file produced by Google Inc. Created on: 07/27/2018.\n",
            "Stream mapping:\n",
            "  Stream #0:0 -> #0:0 (h264 (native) -> h264 (libx264))\n",
            "  Stream #0:1 -> #0:1 (copy)\n",
            "Press [q] to stop, [?] for help\n",
            "\u001b[1;36m[libx264 @ 0x5590f184e800] \u001b[0musing SAR=1/1\n",
            "\u001b[1;36m[libx264 @ 0x5590f184e800] \u001b[0musing cpu capabilities: MMX2 SSE2Fast SSSE3 SSE4.2 AVX FMA3 BMI2 AVX2\n",
            "\u001b[1;36m[libx264 @ 0x5590f184e800] \u001b[0mprofile High, level 3.1\n",
            "\u001b[1;36m[libx264 @ 0x5590f184e800] \u001b[0m264 - core 152 r2854 e9a5903 - H.264/MPEG-4 AVC codec - Copyleft 2003-2017 - http://www.videolan.org/x264.html - options: cabac=1 ref=1 deblock=1:0:0 analyse=0x3:0x113 me=hex subme=2 psy=1 psy_rd=1.00:0.00 mixed_ref=0 me_range=16 chroma_me=1 trellis=0 8x8dct=1 cqm=0 deadzone=21,11 fast_pskip=1 chroma_qp_offset=0 threads=3 lookahead_threads=1 sliced_threads=0 nr=0 decimate=1 interlaced=0 bluray_compat=0 constrained_intra=0 bframes=3 b_pyramid=2 b_adapt=1 b_bias=0 direct=1 weightb=1 open_gop=0 weightp=1 keyint=250 keyint_min=23 scenecut=40 intra_refresh=0 rc_lookahead=10 rc=crf mbtree=1 crf=22.0 qcomp=0.60 qpmin=0 qpmax=69 qpstep=4 ip_ratio=1.40 aq=1:1.00\n",
            "Output #0, mp4, to '/content/gdrive/My Drive/adplace/scene_videos/adplace_333-Scene-001.mp4':\n",
            "  Metadata:\n",
            "    major_brand     : mp42\n",
            "    minor_version   : 0\n",
            "    compatible_brands: isommp42\n",
            "    encoder         : Lavf57.83.100\n",
            "    Stream #0:0(und): Video: h264 (libx264) (avc1 / 0x31637661), yuv420p, 1280x532 [SAR 1:1 DAR 320:133], q=-1--1, 23.98 fps, 24k tbn, 23.98 tbc (default)\n",
            "    Metadata:\n",
            "      creation_time   : 2018-07-28T00:23:04.000000Z\n",
            "      handler_name    : ISO Media file produced by Google Inc. Created on: 07/27/2018.\n",
            "      encoder         : Lavc57.107.100 libx264\n",
            "    Side data:\n",
            "      cpb: bitrate max/min/avg: 0/0/0 buffer size: 0 vbv_delay: -1\n",
            "    Stream #0:1(eng): Audio: aac (LC) (mp4a / 0x6134706D), 44100 Hz, stereo, fltp, 125 kb/s (default)\n",
            "    Metadata:\n",
            "      creation_time   : 2018-07-28T00:23:04.000000Z\n",
            "      handler_name    : ISO Media file produced by Google Inc. Created on: 07/27/2018.\n",
            "frame=   56 fps=0.0 q=-1.0 Lsize=     283kB time=00:00:02.27 bitrate=1018.1kbits/s speed=2.54x    \n",
            "video:244kB audio:36kB subtitle:0kB other streams:0kB global headers:0kB muxing overhead: 1.097961%\n",
            "\u001b[1;36m[libx264 @ 0x5590f184e800] \u001b[0mframe I:1     Avg QP:18.83  size: 44516\n",
            "\u001b[1;36m[libx264 @ 0x5590f184e800] \u001b[0mframe P:15    Avg QP:20.63  size:  9113\n",
            "\u001b[1;36m[libx264 @ 0x5590f184e800] \u001b[0mframe B:40    Avg QP:23.74  size:  1702\n",
            "\u001b[1;36m[libx264 @ 0x5590f184e800] \u001b[0mconsecutive B-frames:  3.6%  3.6%  0.0% 92.9%\n",
            "\u001b[1;36m[libx264 @ 0x5590f184e800] \u001b[0mmb I  I16..4: 23.2% 27.6% 49.2%\n",
            "\u001b[1;36m[libx264 @ 0x5590f184e800] \u001b[0mmb P  I16..4:  5.6%  5.6%  1.0%  P16..4: 34.3% 14.3%  6.5%  0.0%  0.0%    skip:32.8%\n",
            "\u001b[1;36m[libx264 @ 0x5590f184e800] \u001b[0mmb B  I16..4:  0.3%  0.1%  0.0%  B16..8: 13.7%  3.4%  0.3%  direct: 2.4%  skip:79.8%  L0:39.4% L1:40.8% BI:19.8%\n",
            "\u001b[1;36m[libx264 @ 0x5590f184e800] \u001b[0m8x8 transform intra:38.4% inter:15.0%\n",
            "\u001b[1;36m[libx264 @ 0x5590f184e800] \u001b[0mcoded y,uvDC,uvAC intra: 43.2% 34.7% 10.2% inter: 4.1% 2.7% 0.2%\n",
            "\u001b[1;36m[libx264 @ 0x5590f184e800] \u001b[0mi16 v,h,dc,p: 37% 35% 19%  9%\n",
            "\u001b[1;36m[libx264 @ 0x5590f184e800] \u001b[0mi8 v,h,dc,ddl,ddr,vr,hd,vl,hu: 31% 28% 21%  2%  4%  4%  4%  2%  4%\n",
            "\u001b[1;36m[libx264 @ 0x5590f184e800] \u001b[0mi4 v,h,dc,ddl,ddr,vr,hd,vl,hu: 27% 34% 10%  4%  5%  4%  7%  3%  7%\n",
            "\u001b[1;36m[libx264 @ 0x5590f184e800] \u001b[0mi8c dc,h,v,p: 55% 25% 17%  3%\n",
            "\u001b[1;36m[libx264 @ 0x5590f184e800] \u001b[0mWeighted P-Frames: Y:0.0% UV:0.0%\n",
            "\u001b[1;36m[libx264 @ 0x5590f184e800] \u001b[0mkb/s:853.91\n",
            "[PySceneDetect] Output from ffmpeg for Scene 1 shown above, splitting remaining scenes...\n",
            "100% 3393/3393 [01:12<00:00, 56.81frame/s]\n",
            "[PySceneDetect] Average processing speed 46.73 frames/sec.\n",
            "[PySceneDetect] Video splitting completed, individual scenes written to disk.\n",
            "[PySceneDetect] Output directory set:\n",
            "  /content/gdrive/My Drive/adplace/scene_videos\n",
            "[PySceneDetect] Loaded 1 video, framerate: 23.98 FPS, resolution: 1280 x 720\n",
            "[PySceneDetect] Downscale factor set to 5, effective resolution: 256 x 144\n",
            "[PySceneDetect] Scene list CSV file name format:\n",
            "  $VIDEO_NAME-Scenes.csv\n",
            "[PySceneDetect] FFmpeg codec args set: -c:v libx264 -preset veryfast -crf 22 -c:a copy\n",
            "[PySceneDetect] Video output file name format: $VIDEO_NAME-Scene-$SCENE_NUMBER\n",
            "[PySceneDetect] Detecting scenes...\n",
            "100% 3708/3708 [00:20<00:00, 177.47frames/s]\n",
            "[PySceneDetect] Processed 3708 frames in 20.9 seconds (average 177.45 FPS).\n",
            "[PySceneDetect] Detected 11 scenes, average shot length 14.1 seconds.\n",
            "[PySceneDetect] Writing scene list to CSV file:\n",
            "  /content/gdrive/My Drive/adplace/scene_videos/adplace_334-Scenes.csv\n",
            "[PySceneDetect] Scene List:\n",
            "-----------------------------------------------------------------------\n",
            " | Scene # | Start Frame |  Start Time  |  End Frame  |   End Time   |\n",
            "-----------------------------------------------------------------------\n",
            " |      1  |           0 | 00:00:00.000 |         653 | 00:00:27.236 |\n",
            " |      2  |         653 | 00:00:27.236 |         954 | 00:00:39.790 |\n",
            " |      3  |         954 | 00:00:39.790 |        1047 | 00:00:43.669 |\n",
            " |      4  |        1047 | 00:00:43.669 |        1162 | 00:00:48.465 |\n",
            " |      5  |        1162 | 00:00:48.465 |        1203 | 00:00:50.175 |\n",
            " |      6  |        1203 | 00:00:50.175 |        1318 | 00:00:54.972 |\n",
            " |      7  |        1318 | 00:00:54.972 |        1363 | 00:00:56.848 |\n",
            " |      8  |        1363 | 00:00:56.848 |        1562 | 00:01:05.148 |\n",
            " |      9  |        1562 | 00:01:05.148 |        2347 | 00:01:37.889 |\n",
            " |     10  |        2347 | 00:01:37.889 |        2836 | 00:01:58.285 |\n",
            " |     11  |        2836 | 00:01:58.285 |        3708 | 00:02:34.654 |\n",
            "-----------------------------------------------------------------------\n",
            "\n",
            "[PySceneDetect] Comma-separated timecode list:\n",
            "  00:00:27.236,00:00:39.790,00:00:43.669,00:00:48.465,00:00:50.175,00:00:54.972,00:00:56.848,00:01:05.148,00:01:37.889,00:01:58.285\n",
            "[PySceneDetect] Splitting input video using ffmpeg, output path template:\n",
            "  /content/gdrive/My Drive/adplace/scene_videos/$VIDEO_NAME-Scene-$SCENE_NUMBER.mp4\n",
            "  0% 0/3708 [00:00<?, ?frame/s]ffmpeg version 3.4.6-0ubuntu0.18.04.1 Copyright (c) 2000-2019 the FFmpeg developers\n",
            "  built with gcc 7 (Ubuntu 7.3.0-16ubuntu3)\n",
            "  configuration: --prefix=/usr --extra-version=0ubuntu0.18.04.1 --toolchain=hardened --libdir=/usr/lib/x86_64-linux-gnu --incdir=/usr/include/x86_64-linux-gnu --enable-gpl --disable-stripping --enable-avresample --enable-avisynth --enable-gnutls --enable-ladspa --enable-libass --enable-libbluray --enable-libbs2b --enable-libcaca --enable-libcdio --enable-libflite --enable-libfontconfig --enable-libfreetype --enable-libfribidi --enable-libgme --enable-libgsm --enable-libmp3lame --enable-libmysofa --enable-libopenjpeg --enable-libopenmpt --enable-libopus --enable-libpulse --enable-librubberband --enable-librsvg --enable-libshine --enable-libsnappy --enable-libsoxr --enable-libspeex --enable-libssh --enable-libtheora --enable-libtwolame --enable-libvorbis --enable-libvpx --enable-libwavpack --enable-libwebp --enable-libx265 --enable-libxml2 --enable-libxvid --enable-libzmq --enable-libzvbi --enable-omx --enable-openal --enable-opengl --enable-sdl2 --enable-libdc1394 --enable-libdrm --enable-libiec61883 --enable-chromaprint --enable-frei0r --enable-libopencv --enable-libx264 --enable-shared\n",
            "  libavutil      55. 78.100 / 55. 78.100\n",
            "  libavcodec     57.107.100 / 57.107.100\n",
            "  libavformat    57. 83.100 / 57. 83.100\n",
            "  libavdevice    57. 10.100 / 57. 10.100\n",
            "  libavfilter     6.107.100 /  6.107.100\n",
            "  libavresample   3.  7.  0 /  3.  7.  0\n",
            "  libswscale      4.  8.100 /  4.  8.100\n",
            "  libswresample   2.  9.100 /  2.  9.100\n",
            "  libpostproc    54.  7.100 / 54.  7.100\n",
            "Input #0, mov,mp4,m4a,3gp,3g2,mj2, from '/content/gdrive/My Drive/adplace/full_videos/adplace_334.mp4':\n",
            "  Metadata:\n",
            "    major_brand     : mp42\n",
            "    minor_version   : 0\n",
            "    compatible_brands: isommp42\n",
            "    creation_time   : 2018-10-20T17:35:02.000000Z\n",
            "  Duration: 00:02:34.67, start: 0.000000, bitrate: 1016 kb/s\n",
            "    Stream #0:0(und): Video: h264 (Main) (avc1 / 0x31637661), yuv420p(tv, bt709), 1280x720 [SAR 1:1 DAR 16:9], 886 kb/s, 23.98 fps, 23.98 tbr, 90k tbn, 47.95 tbc (default)\n",
            "    Metadata:\n",
            "      creation_time   : 2018-10-20T17:35:02.000000Z\n",
            "      handler_name    : ISO Media file produced by Google Inc. Created on: 10/20/2018.\n",
            "    Stream #0:1(eng): Audio: aac (LC) (mp4a / 0x6134706D), 44100 Hz, stereo, fltp, 125 kb/s (default)\n",
            "    Metadata:\n",
            "      creation_time   : 2018-10-20T17:35:02.000000Z\n",
            "      handler_name    : ISO Media file produced by Google Inc. Created on: 10/20/2018.\n",
            "Stream mapping:\n",
            "  Stream #0:0 -> #0:0 (h264 (native) -> h264 (libx264))\n",
            "  Stream #0:1 -> #0:1 (copy)\n",
            "Press [q] to stop, [?] for help\n",
            "\u001b[1;36m[libx264 @ 0x55912775a800] \u001b[0musing SAR=1/1\n",
            "\u001b[1;36m[libx264 @ 0x55912775a800] \u001b[0musing cpu capabilities: MMX2 SSE2Fast SSSE3 SSE4.2 AVX FMA3 BMI2 AVX2\n",
            "\u001b[1;36m[libx264 @ 0x55912775a800] \u001b[0mprofile High, level 3.1\n",
            "\u001b[1;36m[libx264 @ 0x55912775a800] \u001b[0m264 - core 152 r2854 e9a5903 - H.264/MPEG-4 AVC codec - Copyleft 2003-2017 - http://www.videolan.org/x264.html - options: cabac=1 ref=1 deblock=1:0:0 analyse=0x3:0x113 me=hex subme=2 psy=1 psy_rd=1.00:0.00 mixed_ref=0 me_range=16 chroma_me=1 trellis=0 8x8dct=1 cqm=0 deadzone=21,11 fast_pskip=1 chroma_qp_offset=0 threads=3 lookahead_threads=1 sliced_threads=0 nr=0 decimate=1 interlaced=0 bluray_compat=0 constrained_intra=0 bframes=3 b_pyramid=2 b_adapt=1 b_bias=0 direct=1 weightb=1 open_gop=0 weightp=1 keyint=250 keyint_min=23 scenecut=40 intra_refresh=0 rc_lookahead=10 rc=crf mbtree=1 crf=22.0 qcomp=0.60 qpmin=0 qpmax=69 qpstep=4 ip_ratio=1.40 aq=1:1.00\n",
            "Output #0, mp4, to '/content/gdrive/My Drive/adplace/scene_videos/adplace_334-Scene-001.mp4':\n",
            "  Metadata:\n",
            "    major_brand     : mp42\n",
            "    minor_version   : 0\n",
            "    compatible_brands: isommp42\n",
            "    encoder         : Lavf57.83.100\n",
            "    Stream #0:0(und): Video: h264 (libx264) (avc1 / 0x31637661), yuv420p, 1280x720 [SAR 1:1 DAR 16:9], q=-1--1, 23.98 fps, 24k tbn, 23.98 tbc (default)\n",
            "    Metadata:\n",
            "      creation_time   : 2018-10-20T17:35:02.000000Z\n",
            "      handler_name    : ISO Media file produced by Google Inc. Created on: 10/20/2018.\n",
            "      encoder         : Lavc57.107.100 libx264\n",
            "    Side data:\n",
            "      cpb: bitrate max/min/avg: 0/0/0 buffer size: 0 vbv_delay: -1\n",
            "    Stream #0:1(eng): Audio: aac (LC) (mp4a / 0x6134706D), 44100 Hz, stereo, fltp, 125 kb/s (default)\n",
            "    Metadata:\n",
            "      creation_time   : 2018-10-20T17:35:02.000000Z\n",
            "      handler_name    : ISO Media file produced by Google Inc. Created on: 10/20/2018.\n",
            "frame=  654 fps= 61 q=-1.0 Lsize=    2149kB time=00:00:27.21 bitrate= 646.9kbits/s speed=2.55x    \n",
            "video:1710kB audio:418kB subtitle:0kB other streams:0kB global headers:0kB muxing overhead: 0.975496%\n",
            "\u001b[1;36m[libx264 @ 0x55912775a800] \u001b[0mframe I:4     Avg QP:13.15  size: 13444\n",
            "\u001b[1;36m[libx264 @ 0x55912775a800] \u001b[0mframe P:241   Avg QP:15.86  size:  4913\n",
            "\u001b[1;36m[libx264 @ 0x55912775a800] \u001b[0mframe B:409   Avg QP:17.06  size:  1253\n",
            "\u001b[1;36m[libx264 @ 0x55912775a800] \u001b[0mconsecutive B-frames:  1.8% 24.2% 60.6% 13.5%\n",
            "\u001b[1;36m[libx264 @ 0x55912775a800] \u001b[0mmb I  I16..4: 56.9% 36.1%  7.0%\n",
            "\u001b[1;36m[libx264 @ 0x55912775a800] \u001b[0mmb P  I16..4: 12.2%  6.5%  0.2%  P16..4: 16.5%  5.6%  1.8%  0.0%  0.0%    skip:57.1%\n",
            "\u001b[1;36m[libx264 @ 0x55912775a800] \u001b[0mmb B  I16..4:  1.2%  0.6%  0.0%  B16..8:  8.7%  1.2%  0.0%  direct: 2.7%  skip:85.6%  L0:39.1% L1:58.9% BI: 2.0%\n",
            "\u001b[1;36m[libx264 @ 0x55912775a800] \u001b[0m8x8 transform intra:34.4% inter:39.5%\n",
            "\u001b[1;36m[libx264 @ 0x55912775a800] \u001b[0mcoded y,uvDC,uvAC intra: 19.4% 28.4% 1.7% inter: 1.2% 4.7% 0.0%\n",
            "\u001b[1;36m[libx264 @ 0x55912775a800] \u001b[0mi16 v,h,dc,p: 59% 24% 13%  4%\n",
            "\u001b[1;36m[libx264 @ 0x55912775a800] \u001b[0mi8 v,h,dc,ddl,ddr,vr,hd,vl,hu: 28% 29% 30%  2%  2%  2%  2%  2%  2%\n",
            "\u001b[1;36m[libx264 @ 0x55912775a800] \u001b[0mi4 v,h,dc,ddl,ddr,vr,hd,vl,hu: 29% 25% 22%  4%  5%  4%  5%  3%  3%\n",
            "\u001b[1;36m[libx264 @ 0x55912775a800] \u001b[0mi8c dc,h,v,p: 58% 24% 16%  2%\n",
            "\u001b[1;36m[libx264 @ 0x55912775a800] \u001b[0mWeighted P-Frames: Y:0.4% UV:0.4%\n",
            "\u001b[1;36m[libx264 @ 0x55912775a800] \u001b[0mkb/s:513.34\n",
            "[PySceneDetect] Output from ffmpeg for Scene 1 shown above, splitting remaining scenes...\n",
            "100% 3708/3708 [01:27<00:00, 40.19frame/s]\n",
            "[PySceneDetect] Average processing speed 42.50 frames/sec.\n",
            "[PySceneDetect] Video splitting completed, individual scenes written to disk.\n"
          ],
          "name": "stdout"
        }
      ]
    },
    {
      "cell_type": "code",
      "metadata": {
        "id": "6z7wEWUt8IQM",
        "colab_type": "code",
        "colab": {}
      },
      "source": [
        "#  function to get videos and save audios \n",
        "\n",
        "exception_clips = []\n",
        "def getAudio(scene):\n",
        "  try:\n",
        "    video = VideoFileClip(scene)\n",
        "    audio = video.audio\n",
        "    aud_path = \"audio-\" + scene[46:-4] + \".wav\"\n",
        "    audio.write_audiofile(SCENE_AUDIOS_FOLDER+aud_path)\n",
        "  except:\n",
        "    print('Exception in scene' + scene)\n",
        "    exception_clips.append(scene)"
      ],
      "execution_count": 0,
      "outputs": []
    },
    {
      "cell_type": "code",
      "metadata": {
        "id": "1X8sR0NayxnM",
        "colab_type": "code",
        "colab": {}
      },
      "source": [
        "SCENES_LIST = sorted(glob.glob(SCENE_VIDEOS_FOLDER + \"adplace_*\")) # list of string with file names\n",
        "\n",
        "for scene in SCENES_LIST:\n",
        "  getAudio(scene)"
      ],
      "execution_count": 0,
      "outputs": []
    },
    {
      "cell_type": "code",
      "metadata": {
        "id": "COsac7OTyp-x",
        "colab_type": "code",
        "outputId": "1ff6bb56-f72a-4ca7-bb29-9aa9e230cbfe",
        "colab": {
          "base_uri": "https://localhost:8080/",
          "height": 15252
        }
      },
      "source": [
        ""
      ],
      "execution_count": 0,
      "outputs": [
        {
          "output_type": "stream",
          "text": [
            "[MoviePy] Writing audio in /content/gdrive/My Drive/adplace/scene_audios/audio-adplace_323-Scene-001.wav\n"
          ],
          "name": "stdout"
        },
        {
          "output_type": "stream",
          "text": [
            "100%|██████████| 38/38 [00:10<00:00,  3.69it/s]"
          ],
          "name": "stderr"
        },
        {
          "output_type": "stream",
          "text": [
            "[MoviePy] Done.\n"
          ],
          "name": "stdout"
        },
        {
          "output_type": "stream",
          "text": [
            "\n"
          ],
          "name": "stderr"
        },
        {
          "output_type": "stream",
          "text": [
            "[MoviePy] Writing audio in /content/gdrive/My Drive/adplace/scene_audios/audio-adplace_323-Scene-002.wav\n"
          ],
          "name": "stdout"
        },
        {
          "output_type": "stream",
          "text": [
            "100%|██████████| 597/597 [00:00<00:00, 2068.59it/s]"
          ],
          "name": "stderr"
        },
        {
          "output_type": "stream",
          "text": [
            "[MoviePy] Done.\n"
          ],
          "name": "stdout"
        },
        {
          "output_type": "stream",
          "text": [
            "\n"
          ],
          "name": "stderr"
        },
        {
          "output_type": "stream",
          "text": [
            "[MoviePy] Writing audio in /content/gdrive/My Drive/adplace/scene_audios/audio-adplace_323-Scene-003.wav\n"
          ],
          "name": "stdout"
        },
        {
          "output_type": "stream",
          "text": [
            "100%|██████████| 555/555 [00:00<00:00, 2027.70it/s]"
          ],
          "name": "stderr"
        },
        {
          "output_type": "stream",
          "text": [
            "[MoviePy] Done.\n"
          ],
          "name": "stdout"
        },
        {
          "output_type": "stream",
          "text": [
            "\n"
          ],
          "name": "stderr"
        },
        {
          "output_type": "stream",
          "text": [
            "[MoviePy] Writing audio in /content/gdrive/My Drive/adplace/scene_audios/audio-adplace_323-Scene-004.wav\n"
          ],
          "name": "stdout"
        },
        {
          "output_type": "stream",
          "text": [
            "100%|██████████| 357/357 [00:00<00:00, 2345.07it/s]"
          ],
          "name": "stderr"
        },
        {
          "output_type": "stream",
          "text": [
            "[MoviePy] Done.\n"
          ],
          "name": "stdout"
        },
        {
          "output_type": "stream",
          "text": [
            "\n"
          ],
          "name": "stderr"
        },
        {
          "output_type": "stream",
          "text": [
            "[MoviePy] Writing audio in /content/gdrive/My Drive/adplace/scene_audios/audio-adplace_323-Scene-005.wav\n"
          ],
          "name": "stdout"
        },
        {
          "output_type": "stream",
          "text": [
            "100%|██████████| 476/476 [00:00<00:00, 2299.92it/s]"
          ],
          "name": "stderr"
        },
        {
          "output_type": "stream",
          "text": [
            "[MoviePy] Done.\n"
          ],
          "name": "stdout"
        },
        {
          "output_type": "stream",
          "text": [
            "\n"
          ],
          "name": "stderr"
        },
        {
          "output_type": "stream",
          "text": [
            "[MoviePy] Writing audio in /content/gdrive/My Drive/adplace/scene_audios/audio-adplace_323-Scene-006.wav\n"
          ],
          "name": "stdout"
        },
        {
          "output_type": "stream",
          "text": [
            "100%|██████████| 81/81 [00:00<00:00, 166.40it/s]"
          ],
          "name": "stderr"
        },
        {
          "output_type": "stream",
          "text": [
            "[MoviePy] Done.\n"
          ],
          "name": "stdout"
        },
        {
          "output_type": "stream",
          "text": [
            "\n"
          ],
          "name": "stderr"
        },
        {
          "output_type": "stream",
          "text": [
            "[MoviePy] Writing audio in /content/gdrive/My Drive/adplace/scene_audios/audio-adplace_323-Scene-007.wav\n"
          ],
          "name": "stdout"
        },
        {
          "output_type": "stream",
          "text": [
            "100%|██████████| 140/140 [00:00<00:00, 2056.72it/s]"
          ],
          "name": "stderr"
        },
        {
          "output_type": "stream",
          "text": [
            "[MoviePy] Done.\n"
          ],
          "name": "stdout"
        },
        {
          "output_type": "stream",
          "text": [
            "\n"
          ],
          "name": "stderr"
        },
        {
          "output_type": "stream",
          "text": [
            "[MoviePy] Writing audio in /content/gdrive/My Drive/adplace/scene_audios/audio-adplace_323-Scene-008.wav\n"
          ],
          "name": "stdout"
        },
        {
          "output_type": "stream",
          "text": [
            "100%|██████████| 496/496 [00:00<00:00, 1712.34it/s]"
          ],
          "name": "stderr"
        },
        {
          "output_type": "stream",
          "text": [
            "[MoviePy] Done.\n"
          ],
          "name": "stdout"
        },
        {
          "output_type": "stream",
          "text": [
            "\n"
          ],
          "name": "stderr"
        },
        {
          "output_type": "stream",
          "text": [
            "[MoviePy] Writing audio in /content/gdrive/My Drive/adplace/scene_audios/audio-adplace_323-Scene-009.wav\n"
          ],
          "name": "stdout"
        },
        {
          "output_type": "stream",
          "text": [
            "100%|██████████| 74/74 [00:00<00:00, 142.01it/s]"
          ],
          "name": "stderr"
        },
        {
          "output_type": "stream",
          "text": [
            "[MoviePy] Done.\n"
          ],
          "name": "stdout"
        },
        {
          "output_type": "stream",
          "text": [
            "\n"
          ],
          "name": "stderr"
        },
        {
          "output_type": "stream",
          "text": [
            "[MoviePy] Writing audio in /content/gdrive/My Drive/adplace/scene_audios/audio-adplace_323-Scene-010.wav\n"
          ],
          "name": "stdout"
        },
        {
          "output_type": "stream",
          "text": [
            "100%|██████████| 1067/1067 [00:00<00:00, 1747.17it/s]"
          ],
          "name": "stderr"
        },
        {
          "output_type": "stream",
          "text": [
            "[MoviePy] Done.\n"
          ],
          "name": "stdout"
        },
        {
          "output_type": "stream",
          "text": [
            "\n"
          ],
          "name": "stderr"
        },
        {
          "output_type": "stream",
          "text": [
            "[MoviePy] Writing audio in /content/gdrive/My Drive/adplace/scene_audios/audio-adplace_323-Scene-011.wav\n"
          ],
          "name": "stdout"
        },
        {
          "output_type": "stream",
          "text": [
            "100%|██████████| 164/164 [00:00<00:00, 2050.69it/s]"
          ],
          "name": "stderr"
        },
        {
          "output_type": "stream",
          "text": [
            "[MoviePy] Done.\n"
          ],
          "name": "stdout"
        },
        {
          "output_type": "stream",
          "text": [
            "\n"
          ],
          "name": "stderr"
        },
        {
          "output_type": "stream",
          "text": [
            "[MoviePy] Writing audio in /content/gdrive/My Drive/adplace/scene_audios/audio-adplace_323-Scene-012.wav\n"
          ],
          "name": "stdout"
        },
        {
          "output_type": "stream",
          "text": [
            "100%|██████████| 918/918 [00:00<00:00, 1721.69it/s]"
          ],
          "name": "stderr"
        },
        {
          "output_type": "stream",
          "text": [
            "[MoviePy] Done.\n"
          ],
          "name": "stdout"
        },
        {
          "output_type": "stream",
          "text": [
            "\n"
          ],
          "name": "stderr"
        },
        {
          "output_type": "stream",
          "text": [
            "Exception in scene/content/gdrive/My Drive/adplace/scene_videos/adplace_323-Scenes.csv\n",
            "[MoviePy] Writing audio in /content/gdrive/My Drive/adplace/scene_audios/audio-adplace_324-Scene-001.wav\n"
          ],
          "name": "stdout"
        },
        {
          "output_type": "stream",
          "text": [
            "100%|██████████| 1579/1579 [00:01<00:00, 1389.75it/s]"
          ],
          "name": "stderr"
        },
        {
          "output_type": "stream",
          "text": [
            "[MoviePy] Done.\n"
          ],
          "name": "stdout"
        },
        {
          "output_type": "stream",
          "text": [
            "\n"
          ],
          "name": "stderr"
        },
        {
          "output_type": "stream",
          "text": [
            "[MoviePy] Writing audio in /content/gdrive/My Drive/adplace/scene_audios/audio-adplace_324-Scene-002.wav\n"
          ],
          "name": "stdout"
        },
        {
          "output_type": "stream",
          "text": [
            "100%|██████████| 81/81 [00:00<00:00, 1693.98it/s]"
          ],
          "name": "stderr"
        },
        {
          "output_type": "stream",
          "text": [
            "[MoviePy] Done.\n"
          ],
          "name": "stdout"
        },
        {
          "output_type": "stream",
          "text": [
            "\n"
          ],
          "name": "stderr"
        },
        {
          "output_type": "stream",
          "text": [
            "Exception in scene/content/gdrive/My Drive/adplace/scene_videos/adplace_324-Scenes.csv\n",
            "[MoviePy] Writing audio in /content/gdrive/My Drive/adplace/scene_audios/audio-adplace_325-Scene-001.wav\n"
          ],
          "name": "stdout"
        },
        {
          "output_type": "stream",
          "text": [
            "100%|██████████| 2/2 [00:00<00:00, 489.65it/s]"
          ],
          "name": "stderr"
        },
        {
          "output_type": "stream",
          "text": [
            "[MoviePy] Done.\n"
          ],
          "name": "stdout"
        },
        {
          "output_type": "stream",
          "text": [
            "\n"
          ],
          "name": "stderr"
        },
        {
          "output_type": "stream",
          "text": [
            "[MoviePy] Writing audio in /content/gdrive/My Drive/adplace/scene_audios/audio-adplace_325-Scene-002.wav\n"
          ],
          "name": "stdout"
        },
        {
          "output_type": "stream",
          "text": [
            "100%|██████████| 121/121 [00:00<00:00, 1725.65it/s]"
          ],
          "name": "stderr"
        },
        {
          "output_type": "stream",
          "text": [
            "[MoviePy] Done.\n"
          ],
          "name": "stdout"
        },
        {
          "output_type": "stream",
          "text": [
            "\n"
          ],
          "name": "stderr"
        },
        {
          "output_type": "stream",
          "text": [
            "[MoviePy] Writing audio in /content/gdrive/My Drive/adplace/scene_audios/audio-adplace_325-Scene-003.wav\n"
          ],
          "name": "stdout"
        },
        {
          "output_type": "stream",
          "text": [
            "100%|██████████| 141/141 [00:00<00:00, 1929.88it/s]"
          ],
          "name": "stderr"
        },
        {
          "output_type": "stream",
          "text": [
            "[MoviePy] Done.\n"
          ],
          "name": "stdout"
        },
        {
          "output_type": "stream",
          "text": [
            "\n"
          ],
          "name": "stderr"
        },
        {
          "output_type": "stream",
          "text": [
            "[MoviePy] Writing audio in /content/gdrive/My Drive/adplace/scene_audios/audio-adplace_325-Scene-004.wav\n"
          ],
          "name": "stdout"
        },
        {
          "output_type": "stream",
          "text": [
            "100%|██████████| 565/565 [00:00<00:00, 1818.40it/s]"
          ],
          "name": "stderr"
        },
        {
          "output_type": "stream",
          "text": [
            "[MoviePy] Done.\n"
          ],
          "name": "stdout"
        },
        {
          "output_type": "stream",
          "text": [
            "\n"
          ],
          "name": "stderr"
        },
        {
          "output_type": "stream",
          "text": [
            "[MoviePy] Writing audio in /content/gdrive/My Drive/adplace/scene_audios/audio-adplace_325-Scene-005.wav\n"
          ],
          "name": "stdout"
        },
        {
          "output_type": "stream",
          "text": [
            "100%|██████████| 1391/1391 [00:00<00:00, 1808.51it/s]"
          ],
          "name": "stderr"
        },
        {
          "output_type": "stream",
          "text": [
            "[MoviePy] Done.\n"
          ],
          "name": "stdout"
        },
        {
          "output_type": "stream",
          "text": [
            "\n"
          ],
          "name": "stderr"
        },
        {
          "output_type": "stream",
          "text": [
            "[MoviePy] Writing audio in /content/gdrive/My Drive/adplace/scene_audios/audio-adplace_325-Scene-006.wav\n"
          ],
          "name": "stdout"
        },
        {
          "output_type": "stream",
          "text": [
            "100%|██████████| 848/848 [00:00<00:00, 1677.68it/s]\n"
          ],
          "name": "stderr"
        },
        {
          "output_type": "stream",
          "text": [
            "[MoviePy] Done.\n",
            "[MoviePy] Writing audio in /content/gdrive/My Drive/adplace/scene_audios/audio-adplace_325-Scene-007.wav\n"
          ],
          "name": "stdout"
        },
        {
          "output_type": "stream",
          "text": [
            "100%|██████████| 266/266 [00:00<00:00, 1929.12it/s]"
          ],
          "name": "stderr"
        },
        {
          "output_type": "stream",
          "text": [
            "[MoviePy] Done.\n"
          ],
          "name": "stdout"
        },
        {
          "output_type": "stream",
          "text": [
            "\n"
          ],
          "name": "stderr"
        },
        {
          "output_type": "stream",
          "text": [
            "Exception in scene/content/gdrive/My Drive/adplace/scene_videos/adplace_325-Scenes.csv\n",
            "[MoviePy] Writing audio in /content/gdrive/My Drive/adplace/scene_audios/audio-adplace_326-Scene-001.wav\n"
          ],
          "name": "stdout"
        },
        {
          "output_type": "stream",
          "text": [
            "100%|██████████| 45/45 [00:00<00:00, 1440.65it/s]"
          ],
          "name": "stderr"
        },
        {
          "output_type": "stream",
          "text": [
            "[MoviePy] Done.\n"
          ],
          "name": "stdout"
        },
        {
          "output_type": "stream",
          "text": [
            "\n"
          ],
          "name": "stderr"
        },
        {
          "output_type": "stream",
          "text": [
            "[MoviePy] Writing audio in /content/gdrive/My Drive/adplace/scene_audios/audio-adplace_326-Scene-002.wav\n"
          ],
          "name": "stdout"
        },
        {
          "output_type": "stream",
          "text": [
            "100%|██████████| 68/68 [00:00<00:00, 152.50it/s]"
          ],
          "name": "stderr"
        },
        {
          "output_type": "stream",
          "text": [
            "[MoviePy] Done.\n"
          ],
          "name": "stdout"
        },
        {
          "output_type": "stream",
          "text": [
            "\n"
          ],
          "name": "stderr"
        },
        {
          "output_type": "stream",
          "text": [
            "[MoviePy] Writing audio in /content/gdrive/My Drive/adplace/scene_audios/audio-adplace_326-Scene-003.wav\n"
          ],
          "name": "stdout"
        },
        {
          "output_type": "stream",
          "text": [
            "100%|██████████| 111/111 [00:00<00:00, 253.19it/s]"
          ],
          "name": "stderr"
        },
        {
          "output_type": "stream",
          "text": [
            "[MoviePy] Done.\n"
          ],
          "name": "stdout"
        },
        {
          "output_type": "stream",
          "text": [
            "\n"
          ],
          "name": "stderr"
        },
        {
          "output_type": "stream",
          "text": [
            "[MoviePy] Writing audio in /content/gdrive/My Drive/adplace/scene_audios/audio-adplace_326-Scene-004.wav\n"
          ],
          "name": "stdout"
        },
        {
          "output_type": "stream",
          "text": [
            "100%|██████████| 139/139 [00:00<00:00, 141.04it/s]"
          ],
          "name": "stderr"
        },
        {
          "output_type": "stream",
          "text": [
            "[MoviePy] Done.\n"
          ],
          "name": "stdout"
        },
        {
          "output_type": "stream",
          "text": [
            "\n"
          ],
          "name": "stderr"
        },
        {
          "output_type": "stream",
          "text": [
            "[MoviePy] Writing audio in /content/gdrive/My Drive/adplace/scene_audios/audio-adplace_326-Scene-005.wav\n"
          ],
          "name": "stdout"
        },
        {
          "output_type": "stream",
          "text": [
            "100%|██████████| 69/69 [00:00<00:00, 1631.62it/s]"
          ],
          "name": "stderr"
        },
        {
          "output_type": "stream",
          "text": [
            "[MoviePy] Done.\n"
          ],
          "name": "stdout"
        },
        {
          "output_type": "stream",
          "text": [
            "\n"
          ],
          "name": "stderr"
        },
        {
          "output_type": "stream",
          "text": [
            "[MoviePy] Writing audio in /content/gdrive/My Drive/adplace/scene_audios/audio-adplace_326-Scene-006.wav\n"
          ],
          "name": "stdout"
        },
        {
          "output_type": "stream",
          "text": [
            "\r  0%|          | 0/91 [00:00<?, ?it/s]"
          ],
          "name": "stderr"
        },
        {
          "output_type": "stream",
          "text": [
            "Exception in scene/content/gdrive/My Drive/adplace/scene_videos/adplace_326-Scene-006.mp4\n"
          ],
          "name": "stdout"
        },
        {
          "output_type": "stream",
          "text": [
            "\n"
          ],
          "name": "stderr"
        },
        {
          "output_type": "stream",
          "text": [
            "[MoviePy] Writing audio in /content/gdrive/My Drive/adplace/scene_audios/audio-adplace_326-Scene-007.wav\n"
          ],
          "name": "stdout"
        },
        {
          "output_type": "stream",
          "text": [
            "\r  0%|          | 0/113 [00:00<?, ?it/s]"
          ],
          "name": "stderr"
        },
        {
          "output_type": "stream",
          "text": [
            "Exception in scene/content/gdrive/My Drive/adplace/scene_videos/adplace_326-Scene-007.mp4\n"
          ],
          "name": "stdout"
        },
        {
          "output_type": "stream",
          "text": [
            "\n"
          ],
          "name": "stderr"
        },
        {
          "output_type": "stream",
          "text": [
            "[MoviePy] Writing audio in /content/gdrive/My Drive/adplace/scene_audios/audio-adplace_326-Scene-008.wav\n"
          ],
          "name": "stdout"
        },
        {
          "output_type": "stream",
          "text": [
            "100%|██████████| 124/124 [00:00<00:00, 1753.30it/s]"
          ],
          "name": "stderr"
        },
        {
          "output_type": "stream",
          "text": [
            "[MoviePy] Done.\n"
          ],
          "name": "stdout"
        },
        {
          "output_type": "stream",
          "text": [
            "\n"
          ],
          "name": "stderr"
        },
        {
          "output_type": "stream",
          "text": [
            "[MoviePy] Writing audio in /content/gdrive/My Drive/adplace/scene_audios/audio-adplace_326-Scene-009.wav\n"
          ],
          "name": "stdout"
        },
        {
          "output_type": "stream",
          "text": [
            "\r  0%|          | 0/144 [00:00<?, ?it/s]"
          ],
          "name": "stderr"
        },
        {
          "output_type": "stream",
          "text": [
            "Exception in scene/content/gdrive/My Drive/adplace/scene_videos/adplace_326-Scene-009.mp4\n"
          ],
          "name": "stdout"
        },
        {
          "output_type": "stream",
          "text": [
            "\n"
          ],
          "name": "stderr"
        },
        {
          "output_type": "stream",
          "text": [
            "[MoviePy] Writing audio in /content/gdrive/My Drive/adplace/scene_audios/audio-adplace_326-Scene-010.wav\n"
          ],
          "name": "stdout"
        },
        {
          "output_type": "stream",
          "text": [
            "100%|██████████| 102/102 [00:00<00:00, 1826.01it/s]"
          ],
          "name": "stderr"
        },
        {
          "output_type": "stream",
          "text": [
            "[MoviePy] Done.\n"
          ],
          "name": "stdout"
        },
        {
          "output_type": "stream",
          "text": [
            "\n"
          ],
          "name": "stderr"
        },
        {
          "output_type": "stream",
          "text": [
            "[MoviePy] Writing audio in /content/gdrive/My Drive/adplace/scene_audios/audio-adplace_326-Scene-011.wav\n"
          ],
          "name": "stdout"
        },
        {
          "output_type": "stream",
          "text": [
            "\r  0%|          | 0/120 [00:00<?, ?it/s]"
          ],
          "name": "stderr"
        },
        {
          "output_type": "stream",
          "text": [
            "Exception in scene/content/gdrive/My Drive/adplace/scene_videos/adplace_326-Scene-011.mp4\n"
          ],
          "name": "stdout"
        },
        {
          "output_type": "stream",
          "text": [
            "\n"
          ],
          "name": "stderr"
        },
        {
          "output_type": "stream",
          "text": [
            "[MoviePy] Writing audio in /content/gdrive/My Drive/adplace/scene_audios/audio-adplace_326-Scene-012.wav\n"
          ],
          "name": "stdout"
        },
        {
          "output_type": "stream",
          "text": [
            "100%|██████████| 195/195 [00:00<00:00, 1946.80it/s]"
          ],
          "name": "stderr"
        },
        {
          "output_type": "stream",
          "text": [
            "[MoviePy] Done.\n"
          ],
          "name": "stdout"
        },
        {
          "output_type": "stream",
          "text": [
            "\n"
          ],
          "name": "stderr"
        },
        {
          "output_type": "stream",
          "text": [
            "[MoviePy] Writing audio in /content/gdrive/My Drive/adplace/scene_audios/audio-adplace_326-Scene-013.wav\n"
          ],
          "name": "stdout"
        },
        {
          "output_type": "stream",
          "text": [
            "100%|██████████| 139/139 [00:00<00:00, 1875.90it/s]"
          ],
          "name": "stderr"
        },
        {
          "output_type": "stream",
          "text": [
            "[MoviePy] Done.\n"
          ],
          "name": "stdout"
        },
        {
          "output_type": "stream",
          "text": [
            "\n"
          ],
          "name": "stderr"
        },
        {
          "output_type": "stream",
          "text": [
            "[MoviePy] Writing audio in /content/gdrive/My Drive/adplace/scene_audios/audio-adplace_326-Scene-014.wav\n"
          ],
          "name": "stdout"
        },
        {
          "output_type": "stream",
          "text": [
            "100%|██████████| 86/86 [00:00<00:00, 1648.14it/s]"
          ],
          "name": "stderr"
        },
        {
          "output_type": "stream",
          "text": [
            "[MoviePy] Done.\n"
          ],
          "name": "stdout"
        },
        {
          "output_type": "stream",
          "text": [
            "\n"
          ],
          "name": "stderr"
        },
        {
          "output_type": "stream",
          "text": [
            "[MoviePy] Writing audio in /content/gdrive/My Drive/adplace/scene_audios/audio-adplace_326-Scene-015.wav\n"
          ],
          "name": "stdout"
        },
        {
          "output_type": "stream",
          "text": [
            "100%|██████████| 718/718 [00:00<00:00, 1153.41it/s]"
          ],
          "name": "stderr"
        },
        {
          "output_type": "stream",
          "text": [
            "[MoviePy] Done.\n"
          ],
          "name": "stdout"
        },
        {
          "output_type": "stream",
          "text": [
            "\n"
          ],
          "name": "stderr"
        },
        {
          "output_type": "stream",
          "text": [
            "[MoviePy] Writing audio in /content/gdrive/My Drive/adplace/scene_audios/audio-adplace_326-Scene-016.wav\n"
          ],
          "name": "stdout"
        },
        {
          "output_type": "stream",
          "text": [
            "100%|██████████| 538/538 [00:00<00:00, 1776.85it/s]"
          ],
          "name": "stderr"
        },
        {
          "output_type": "stream",
          "text": [
            "[MoviePy] Done.\n"
          ],
          "name": "stdout"
        },
        {
          "output_type": "stream",
          "text": [
            "\n"
          ],
          "name": "stderr"
        },
        {
          "output_type": "stream",
          "text": [
            "Exception in scene/content/gdrive/My Drive/adplace/scene_videos/adplace_326-Scenes.csv\n",
            "[MoviePy] Writing audio in /content/gdrive/My Drive/adplace/scene_audios/audio-adplace_327-Scene-001.wav\n"
          ],
          "name": "stdout"
        },
        {
          "output_type": "stream",
          "text": [
            "100%|██████████| 1120/1120 [00:00<00:00, 1323.19it/s]"
          ],
          "name": "stderr"
        },
        {
          "output_type": "stream",
          "text": [
            "[MoviePy] Done.\n"
          ],
          "name": "stdout"
        },
        {
          "output_type": "stream",
          "text": [
            "\n"
          ],
          "name": "stderr"
        },
        {
          "output_type": "stream",
          "text": [
            "[MoviePy] Writing audio in /content/gdrive/My Drive/adplace/scene_audios/audio-adplace_327-Scene-002.wav\n"
          ],
          "name": "stdout"
        },
        {
          "output_type": "stream",
          "text": [
            "100%|██████████| 514/514 [00:00<00:00, 1837.58it/s]"
          ],
          "name": "stderr"
        },
        {
          "output_type": "stream",
          "text": [
            "[MoviePy] Done.\n"
          ],
          "name": "stdout"
        },
        {
          "output_type": "stream",
          "text": [
            "\n"
          ],
          "name": "stderr"
        },
        {
          "output_type": "stream",
          "text": [
            "Exception in scene/content/gdrive/My Drive/adplace/scene_videos/adplace_327-Scenes.csv\n",
            "[MoviePy] Writing audio in /content/gdrive/My Drive/adplace/scene_audios/audio-adplace_328-Scene-001.wav\n"
          ],
          "name": "stdout"
        },
        {
          "output_type": "stream",
          "text": [
            "100%|██████████| 305/305 [00:00<00:00, 1808.09it/s]"
          ],
          "name": "stderr"
        },
        {
          "output_type": "stream",
          "text": [
            "[MoviePy] Done.\n"
          ],
          "name": "stdout"
        },
        {
          "output_type": "stream",
          "text": [
            "\n"
          ],
          "name": "stderr"
        },
        {
          "output_type": "stream",
          "text": [
            "[MoviePy] Writing audio in /content/gdrive/My Drive/adplace/scene_audios/audio-adplace_328-Scene-002.wav\n"
          ],
          "name": "stdout"
        },
        {
          "output_type": "stream",
          "text": [
            "100%|██████████| 172/172 [00:00<00:00, 1788.61it/s]"
          ],
          "name": "stderr"
        },
        {
          "output_type": "stream",
          "text": [
            "[MoviePy] Done.\n"
          ],
          "name": "stdout"
        },
        {
          "output_type": "stream",
          "text": [
            "\n"
          ],
          "name": "stderr"
        },
        {
          "output_type": "stream",
          "text": [
            "[MoviePy] Writing audio in /content/gdrive/My Drive/adplace/scene_audios/audio-adplace_328-Scene-003.wav\n"
          ],
          "name": "stdout"
        },
        {
          "output_type": "stream",
          "text": [
            "100%|██████████| 100/100 [00:00<00:00, 281.86it/s]"
          ],
          "name": "stderr"
        },
        {
          "output_type": "stream",
          "text": [
            "[MoviePy] Done.\n"
          ],
          "name": "stdout"
        },
        {
          "output_type": "stream",
          "text": [
            "\n"
          ],
          "name": "stderr"
        },
        {
          "output_type": "stream",
          "text": [
            "[MoviePy] Writing audio in /content/gdrive/My Drive/adplace/scene_audios/audio-adplace_328-Scene-004.wav\n"
          ],
          "name": "stdout"
        },
        {
          "output_type": "stream",
          "text": [
            "100%|██████████| 133/133 [00:00<00:00, 161.88it/s]"
          ],
          "name": "stderr"
        },
        {
          "output_type": "stream",
          "text": [
            "[MoviePy] Done.\n"
          ],
          "name": "stdout"
        },
        {
          "output_type": "stream",
          "text": [
            "\n"
          ],
          "name": "stderr"
        },
        {
          "output_type": "stream",
          "text": [
            "[MoviePy] Writing audio in /content/gdrive/My Drive/adplace/scene_audios/audio-adplace_328-Scene-005.wav\n"
          ],
          "name": "stdout"
        },
        {
          "output_type": "stream",
          "text": [
            "100%|██████████| 48/48 [00:00<00:00, 1490.07it/s]"
          ],
          "name": "stderr"
        },
        {
          "output_type": "stream",
          "text": [
            "[MoviePy] Done.\n"
          ],
          "name": "stdout"
        },
        {
          "output_type": "stream",
          "text": [
            "\n"
          ],
          "name": "stderr"
        },
        {
          "output_type": "stream",
          "text": [
            "[MoviePy] Writing audio in /content/gdrive/My Drive/adplace/scene_audios/audio-adplace_328-Scene-006.wav\n"
          ],
          "name": "stdout"
        },
        {
          "output_type": "stream",
          "text": [
            "100%|██████████| 85/85 [00:00<00:00, 262.86it/s]"
          ],
          "name": "stderr"
        },
        {
          "output_type": "stream",
          "text": [
            "[MoviePy] Done.\n"
          ],
          "name": "stdout"
        },
        {
          "output_type": "stream",
          "text": [
            "\n"
          ],
          "name": "stderr"
        },
        {
          "output_type": "stream",
          "text": [
            "[MoviePy] Writing audio in /content/gdrive/My Drive/adplace/scene_audios/audio-adplace_328-Scene-007.wav\n"
          ],
          "name": "stdout"
        },
        {
          "output_type": "stream",
          "text": [
            "\r  0%|          | 0/101 [00:00<?, ?it/s]"
          ],
          "name": "stderr"
        },
        {
          "output_type": "stream",
          "text": [
            "Exception in scene/content/gdrive/My Drive/adplace/scene_videos/adplace_328-Scene-007.mp4\n"
          ],
          "name": "stdout"
        },
        {
          "output_type": "stream",
          "text": [
            "\n"
          ],
          "name": "stderr"
        },
        {
          "output_type": "stream",
          "text": [
            "[MoviePy] Writing audio in /content/gdrive/My Drive/adplace/scene_audios/audio-adplace_328-Scene-008.wav\n"
          ],
          "name": "stdout"
        },
        {
          "output_type": "stream",
          "text": [
            "100%|██████████| 204/204 [00:00<00:00, 1864.28it/s]"
          ],
          "name": "stderr"
        },
        {
          "output_type": "stream",
          "text": [
            "[MoviePy] Done.\n"
          ],
          "name": "stdout"
        },
        {
          "output_type": "stream",
          "text": [
            "\n"
          ],
          "name": "stderr"
        },
        {
          "output_type": "stream",
          "text": [
            "[MoviePy] Writing audio in /content/gdrive/My Drive/adplace/scene_audios/audio-adplace_328-Scene-009.wav\n"
          ],
          "name": "stdout"
        },
        {
          "output_type": "stream",
          "text": [
            "100%|██████████| 152/152 [00:00<00:00, 1986.09it/s]"
          ],
          "name": "stderr"
        },
        {
          "output_type": "stream",
          "text": [
            "[MoviePy] Done.\n"
          ],
          "name": "stdout"
        },
        {
          "output_type": "stream",
          "text": [
            "\n"
          ],
          "name": "stderr"
        },
        {
          "output_type": "stream",
          "text": [
            "[MoviePy] Writing audio in /content/gdrive/My Drive/adplace/scene_audios/audio-adplace_328-Scene-010.wav\n"
          ],
          "name": "stdout"
        },
        {
          "output_type": "stream",
          "text": [
            "100%|██████████| 56/56 [00:00<00:00, 180.48it/s]\n"
          ],
          "name": "stderr"
        },
        {
          "output_type": "stream",
          "text": [
            "[MoviePy] Done.\n",
            "[MoviePy] Writing audio in /content/gdrive/My Drive/adplace/scene_audios/audio-adplace_328-Scene-011.wav\n"
          ],
          "name": "stdout"
        },
        {
          "output_type": "stream",
          "text": [
            "100%|██████████| 88/88 [00:00<00:00, 148.49it/s]"
          ],
          "name": "stderr"
        },
        {
          "output_type": "stream",
          "text": [
            "[MoviePy] Done.\n"
          ],
          "name": "stdout"
        },
        {
          "output_type": "stream",
          "text": [
            "\n"
          ],
          "name": "stderr"
        },
        {
          "output_type": "stream",
          "text": [
            "[MoviePy] Writing audio in /content/gdrive/My Drive/adplace/scene_audios/audio-adplace_328-Scene-012.wav\n"
          ],
          "name": "stdout"
        },
        {
          "output_type": "stream",
          "text": [
            "\r  0%|          | 0/104 [00:00<?, ?it/s]"
          ],
          "name": "stderr"
        },
        {
          "output_type": "stream",
          "text": [
            "Exception in scene/content/gdrive/My Drive/adplace/scene_videos/adplace_328-Scene-012.mp4\n"
          ],
          "name": "stdout"
        },
        {
          "output_type": "stream",
          "text": [
            "\n"
          ],
          "name": "stderr"
        },
        {
          "output_type": "stream",
          "text": [
            "[MoviePy] Writing audio in /content/gdrive/My Drive/adplace/scene_audios/audio-adplace_328-Scene-013.wav\n"
          ],
          "name": "stdout"
        },
        {
          "output_type": "stream",
          "text": [
            "100%|██████████| 268/268 [00:00<00:00, 932.85it/s]"
          ],
          "name": "stderr"
        },
        {
          "output_type": "stream",
          "text": [
            "[MoviePy] Done.\n"
          ],
          "name": "stdout"
        },
        {
          "output_type": "stream",
          "text": [
            "\n"
          ],
          "name": "stderr"
        },
        {
          "output_type": "stream",
          "text": [
            "[MoviePy] Writing audio in /content/gdrive/My Drive/adplace/scene_audios/audio-adplace_328-Scene-014.wav\n"
          ],
          "name": "stdout"
        },
        {
          "output_type": "stream",
          "text": [
            "100%|██████████| 315/315 [00:00<00:00, 1008.48it/s]"
          ],
          "name": "stderr"
        },
        {
          "output_type": "stream",
          "text": [
            "[MoviePy] Done.\n"
          ],
          "name": "stdout"
        },
        {
          "output_type": "stream",
          "text": [
            "\n"
          ],
          "name": "stderr"
        },
        {
          "output_type": "stream",
          "text": [
            "[MoviePy] Writing audio in /content/gdrive/My Drive/adplace/scene_audios/audio-adplace_328-Scene-015.wav\n"
          ],
          "name": "stdout"
        },
        {
          "output_type": "stream",
          "text": [
            "100%|██████████| 109/109 [00:01<00:00, 108.63it/s]"
          ],
          "name": "stderr"
        },
        {
          "output_type": "stream",
          "text": [
            "[MoviePy] Done.\n"
          ],
          "name": "stdout"
        },
        {
          "output_type": "stream",
          "text": [
            "\n"
          ],
          "name": "stderr"
        },
        {
          "output_type": "stream",
          "text": [
            "[MoviePy] Writing audio in /content/gdrive/My Drive/adplace/scene_audios/audio-adplace_328-Scene-016.wav\n"
          ],
          "name": "stdout"
        },
        {
          "output_type": "stream",
          "text": [
            "\r  0%|          | 0/128 [00:00<?, ?it/s]"
          ],
          "name": "stderr"
        },
        {
          "output_type": "stream",
          "text": [
            "Exception in scene/content/gdrive/My Drive/adplace/scene_videos/adplace_328-Scene-016.mp4\n"
          ],
          "name": "stdout"
        },
        {
          "output_type": "stream",
          "text": [
            "\n"
          ],
          "name": "stderr"
        },
        {
          "output_type": "stream",
          "text": [
            "[MoviePy] Writing audio in /content/gdrive/My Drive/adplace/scene_audios/audio-adplace_328-Scene-017.wav\n"
          ],
          "name": "stdout"
        },
        {
          "output_type": "stream",
          "text": [
            "100%|██████████| 25/25 [00:00<00:00, 1611.11it/s]"
          ],
          "name": "stderr"
        },
        {
          "output_type": "stream",
          "text": [
            "[MoviePy] Done.\n"
          ],
          "name": "stdout"
        },
        {
          "output_type": "stream",
          "text": [
            "\n"
          ],
          "name": "stderr"
        },
        {
          "output_type": "stream",
          "text": [
            "[MoviePy] Writing audio in /content/gdrive/My Drive/adplace/scene_audios/audio-adplace_328-Scene-018.wav\n"
          ],
          "name": "stdout"
        },
        {
          "output_type": "stream",
          "text": [
            "100%|██████████| 40/40 [00:00<00:00, 139.62it/s]"
          ],
          "name": "stderr"
        },
        {
          "output_type": "stream",
          "text": [
            "[MoviePy] Done.\n"
          ],
          "name": "stdout"
        },
        {
          "output_type": "stream",
          "text": [
            "\n"
          ],
          "name": "stderr"
        },
        {
          "output_type": "stream",
          "text": [
            "[MoviePy] Writing audio in /content/gdrive/My Drive/adplace/scene_audios/audio-adplace_328-Scene-019.wav\n"
          ],
          "name": "stdout"
        },
        {
          "output_type": "stream",
          "text": [
            "100%|██████████| 59/59 [00:00<00:00, 137.49it/s]"
          ],
          "name": "stderr"
        },
        {
          "output_type": "stream",
          "text": [
            "[MoviePy] Done.\n"
          ],
          "name": "stdout"
        },
        {
          "output_type": "stream",
          "text": [
            "\n"
          ],
          "name": "stderr"
        },
        {
          "output_type": "stream",
          "text": [
            "[MoviePy] Writing audio in /content/gdrive/My Drive/adplace/scene_audios/audio-adplace_328-Scene-020.wav\n"
          ],
          "name": "stdout"
        },
        {
          "output_type": "stream",
          "text": [
            "\r  0%|          | 0/73 [00:00<?, ?it/s]"
          ],
          "name": "stderr"
        },
        {
          "output_type": "stream",
          "text": [
            "Exception in scene/content/gdrive/My Drive/adplace/scene_videos/adplace_328-Scene-020.mp4\n"
          ],
          "name": "stdout"
        },
        {
          "output_type": "stream",
          "text": [
            "\n"
          ],
          "name": "stderr"
        },
        {
          "output_type": "stream",
          "text": [
            "[MoviePy] Writing audio in /content/gdrive/My Drive/adplace/scene_audios/audio-adplace_328-Scene-021.wav\n"
          ],
          "name": "stdout"
        },
        {
          "output_type": "stream",
          "text": [
            "\r  0%|          | 0/88 [00:00<?, ?it/s]"
          ],
          "name": "stderr"
        },
        {
          "output_type": "stream",
          "text": [
            "Exception in scene/content/gdrive/My Drive/adplace/scene_videos/adplace_328-Scene-021.mp4\n"
          ],
          "name": "stdout"
        },
        {
          "output_type": "stream",
          "text": [
            "\n"
          ],
          "name": "stderr"
        },
        {
          "output_type": "stream",
          "text": [
            "[MoviePy] Writing audio in /content/gdrive/My Drive/adplace/scene_audios/audio-adplace_328-Scene-022.wav\n"
          ],
          "name": "stdout"
        },
        {
          "output_type": "stream",
          "text": [
            "\r  0%|          | 0/103 [00:00<?, ?it/s]"
          ],
          "name": "stderr"
        },
        {
          "output_type": "stream",
          "text": [
            "Exception in scene/content/gdrive/My Drive/adplace/scene_videos/adplace_328-Scene-022.mp4\n"
          ],
          "name": "stdout"
        },
        {
          "output_type": "stream",
          "text": [
            "\n"
          ],
          "name": "stderr"
        },
        {
          "output_type": "stream",
          "text": [
            "[MoviePy] Writing audio in /content/gdrive/My Drive/adplace/scene_audios/audio-adplace_328-Scene-023.wav\n"
          ],
          "name": "stdout"
        },
        {
          "output_type": "stream",
          "text": [
            "\r  0%|          | 0/117 [00:00<?, ?it/s]"
          ],
          "name": "stderr"
        },
        {
          "output_type": "stream",
          "text": [
            "Exception in scene/content/gdrive/My Drive/adplace/scene_videos/adplace_328-Scene-023.mp4\n"
          ],
          "name": "stdout"
        },
        {
          "output_type": "stream",
          "text": [
            "\n"
          ],
          "name": "stderr"
        },
        {
          "output_type": "stream",
          "text": [
            "[MoviePy] Writing audio in /content/gdrive/My Drive/adplace/scene_audios/audio-adplace_328-Scene-024.wav\n"
          ],
          "name": "stdout"
        },
        {
          "output_type": "stream",
          "text": [
            "100%|██████████| 191/191 [00:00<00:00, 2052.91it/s]"
          ],
          "name": "stderr"
        },
        {
          "output_type": "stream",
          "text": [
            "[MoviePy] Done.\n"
          ],
          "name": "stdout"
        },
        {
          "output_type": "stream",
          "text": [
            "\n"
          ],
          "name": "stderr"
        },
        {
          "output_type": "stream",
          "text": [
            "[MoviePy] Writing audio in /content/gdrive/My Drive/adplace/scene_audios/audio-adplace_328-Scene-025.wav\n"
          ],
          "name": "stdout"
        },
        {
          "output_type": "stream",
          "text": [
            "100%|██████████| 98/98 [00:01<00:00, 91.04it/s]"
          ],
          "name": "stderr"
        },
        {
          "output_type": "stream",
          "text": [
            "[MoviePy] Done.\n"
          ],
          "name": "stdout"
        },
        {
          "output_type": "stream",
          "text": [
            "\n"
          ],
          "name": "stderr"
        },
        {
          "output_type": "stream",
          "text": [
            "[MoviePy] Writing audio in /content/gdrive/My Drive/adplace/scene_audios/audio-adplace_328-Scene-026.wav\n"
          ],
          "name": "stdout"
        },
        {
          "output_type": "stream",
          "text": [
            "100%|██████████| 200/200 [00:00<00:00, 1899.91it/s]"
          ],
          "name": "stderr"
        },
        {
          "output_type": "stream",
          "text": [
            "[MoviePy] Done.\n"
          ],
          "name": "stdout"
        },
        {
          "output_type": "stream",
          "text": [
            "\n"
          ],
          "name": "stderr"
        },
        {
          "output_type": "stream",
          "text": [
            "[MoviePy] Writing audio in /content/gdrive/My Drive/adplace/scene_audios/audio-adplace_328-Scene-027.wav\n"
          ],
          "name": "stdout"
        },
        {
          "output_type": "stream",
          "text": [
            "\r  0%|          | 0/96 [00:00<?, ?it/s]"
          ],
          "name": "stderr"
        },
        {
          "output_type": "stream",
          "text": [
            "Exception in scene/content/gdrive/My Drive/adplace/scene_videos/adplace_328-Scene-027.mp4\n"
          ],
          "name": "stdout"
        },
        {
          "output_type": "stream",
          "text": [
            "\n"
          ],
          "name": "stderr"
        },
        {
          "output_type": "stream",
          "text": [
            "[MoviePy] Writing audio in /content/gdrive/My Drive/adplace/scene_audios/audio-adplace_328-Scene-028.wav\n"
          ],
          "name": "stdout"
        },
        {
          "output_type": "stream",
          "text": [
            "\r  0%|          | 0/119 [00:00<?, ?it/s]"
          ],
          "name": "stderr"
        },
        {
          "output_type": "stream",
          "text": [
            "Exception in scene/content/gdrive/My Drive/adplace/scene_videos/adplace_328-Scene-028.mp4\n"
          ],
          "name": "stdout"
        },
        {
          "output_type": "stream",
          "text": [
            "\n"
          ],
          "name": "stderr"
        },
        {
          "output_type": "stream",
          "text": [
            "[MoviePy] Writing audio in /content/gdrive/My Drive/adplace/scene_audios/audio-adplace_328-Scene-029.wav\n"
          ],
          "name": "stdout"
        },
        {
          "output_type": "stream",
          "text": [
            "\r  0%|          | 0/137 [00:00<?, ?it/s]"
          ],
          "name": "stderr"
        },
        {
          "output_type": "stream",
          "text": [
            "Exception in scene/content/gdrive/My Drive/adplace/scene_videos/adplace_328-Scene-029.mp4\n"
          ],
          "name": "stdout"
        },
        {
          "output_type": "stream",
          "text": [
            "\n"
          ],
          "name": "stderr"
        },
        {
          "output_type": "stream",
          "text": [
            "[MoviePy] Writing audio in /content/gdrive/My Drive/adplace/scene_audios/audio-adplace_328-Scene-030.wav\n"
          ],
          "name": "stdout"
        },
        {
          "output_type": "stream",
          "text": [
            "100%|██████████| 97/97 [00:00<00:00, 1808.72it/s]"
          ],
          "name": "stderr"
        },
        {
          "output_type": "stream",
          "text": [
            "[MoviePy] Done.\n"
          ],
          "name": "stdout"
        },
        {
          "output_type": "stream",
          "text": [
            "\n"
          ],
          "name": "stderr"
        },
        {
          "output_type": "stream",
          "text": [
            "[MoviePy] Writing audio in /content/gdrive/My Drive/adplace/scene_audios/audio-adplace_328-Scene-031.wav\n"
          ],
          "name": "stdout"
        },
        {
          "output_type": "stream",
          "text": [
            "100%|██████████| 172/172 [00:00<00:00, 1936.36it/s]"
          ],
          "name": "stderr"
        },
        {
          "output_type": "stream",
          "text": [
            "[MoviePy] Done.\n"
          ],
          "name": "stdout"
        },
        {
          "output_type": "stream",
          "text": [
            "\n"
          ],
          "name": "stderr"
        },
        {
          "output_type": "stream",
          "text": [
            "[MoviePy] Writing audio in /content/gdrive/My Drive/adplace/scene_audios/audio-adplace_328-Scene-032.wav\n"
          ],
          "name": "stdout"
        },
        {
          "output_type": "stream",
          "text": [
            "100%|██████████| 221/221 [00:00<00:00, 1155.55it/s]"
          ],
          "name": "stderr"
        },
        {
          "output_type": "stream",
          "text": [
            "[MoviePy] Done.\n"
          ],
          "name": "stdout"
        },
        {
          "output_type": "stream",
          "text": [
            "\n"
          ],
          "name": "stderr"
        },
        {
          "output_type": "stream",
          "text": [
            "[MoviePy] Writing audio in /content/gdrive/My Drive/adplace/scene_audios/audio-adplace_328-Scene-033.wav\n"
          ],
          "name": "stdout"
        },
        {
          "output_type": "stream",
          "text": [
            "100%|██████████| 150/150 [00:00<00:00, 1284.06it/s]"
          ],
          "name": "stderr"
        },
        {
          "output_type": "stream",
          "text": [
            "[MoviePy] Done.\n"
          ],
          "name": "stdout"
        },
        {
          "output_type": "stream",
          "text": [
            "\n"
          ],
          "name": "stderr"
        },
        {
          "output_type": "stream",
          "text": [
            "[MoviePy] Writing audio in /content/gdrive/My Drive/adplace/scene_audios/audio-adplace_328-Scene-034.wav\n"
          ],
          "name": "stdout"
        },
        {
          "output_type": "stream",
          "text": [
            "100%|██████████| 271/271 [00:00<00:00, 1014.58it/s]"
          ],
          "name": "stderr"
        },
        {
          "output_type": "stream",
          "text": [
            "[MoviePy] Done.\n"
          ],
          "name": "stdout"
        },
        {
          "output_type": "stream",
          "text": [
            "\n"
          ],
          "name": "stderr"
        },
        {
          "output_type": "stream",
          "text": [
            "[MoviePy] Writing audio in /content/gdrive/My Drive/adplace/scene_audios/audio-adplace_328-Scene-035.wav\n"
          ],
          "name": "stdout"
        },
        {
          "output_type": "stream",
          "text": [
            "100%|██████████| 154/154 [00:00<00:00, 1888.30it/s]"
          ],
          "name": "stderr"
        },
        {
          "output_type": "stream",
          "text": [
            "[MoviePy] Done.\n"
          ],
          "name": "stdout"
        },
        {
          "output_type": "stream",
          "text": [
            "\n"
          ],
          "name": "stderr"
        },
        {
          "output_type": "stream",
          "text": [
            "[MoviePy] Writing audio in /content/gdrive/My Drive/adplace/scene_audios/audio-adplace_328-Scene-036.wav\n"
          ],
          "name": "stdout"
        },
        {
          "output_type": "stream",
          "text": [
            "100%|██████████| 88/88 [00:00<00:00, 1723.34it/s]"
          ],
          "name": "stderr"
        },
        {
          "output_type": "stream",
          "text": [
            "[MoviePy] Done.\n"
          ],
          "name": "stdout"
        },
        {
          "output_type": "stream",
          "text": [
            "\n"
          ],
          "name": "stderr"
        },
        {
          "output_type": "stream",
          "text": [
            "[MoviePy] Writing audio in /content/gdrive/My Drive/adplace/scene_audios/audio-adplace_328-Scene-037.wav\n"
          ],
          "name": "stdout"
        },
        {
          "output_type": "stream",
          "text": [
            "100%|██████████| 122/122 [00:00<00:00, 150.01it/s]"
          ],
          "name": "stderr"
        },
        {
          "output_type": "stream",
          "text": [
            "[MoviePy] Done.\n"
          ],
          "name": "stdout"
        },
        {
          "output_type": "stream",
          "text": [
            "\n"
          ],
          "name": "stderr"
        },
        {
          "output_type": "stream",
          "text": [
            "[MoviePy] Writing audio in /content/gdrive/My Drive/adplace/scene_audios/audio-adplace_328-Scene-038.wav\n"
          ],
          "name": "stdout"
        },
        {
          "output_type": "stream",
          "text": [
            "100%|██████████| 174/174 [00:00<00:00, 1811.54it/s]"
          ],
          "name": "stderr"
        },
        {
          "output_type": "stream",
          "text": [
            "[MoviePy] Done.\n"
          ],
          "name": "stdout"
        },
        {
          "output_type": "stream",
          "text": [
            "\n"
          ],
          "name": "stderr"
        },
        {
          "output_type": "stream",
          "text": [
            "[MoviePy] Writing audio in /content/gdrive/My Drive/adplace/scene_audios/audio-adplace_328-Scene-039.wav\n"
          ],
          "name": "stdout"
        },
        {
          "output_type": "stream",
          "text": [
            "100%|██████████| 204/204 [00:00<00:00, 1592.16it/s]"
          ],
          "name": "stderr"
        },
        {
          "output_type": "stream",
          "text": [
            "[MoviePy] Done.\n"
          ],
          "name": "stdout"
        },
        {
          "output_type": "stream",
          "text": [
            "\n"
          ],
          "name": "stderr"
        },
        {
          "output_type": "stream",
          "text": [
            "[MoviePy] Writing audio in /content/gdrive/My Drive/adplace/scene_audios/audio-adplace_328-Scene-040.wav\n"
          ],
          "name": "stdout"
        },
        {
          "output_type": "stream",
          "text": [
            "\r  0%|          | 0/100 [00:00<?, ?it/s]"
          ],
          "name": "stderr"
        },
        {
          "output_type": "stream",
          "text": [
            "Exception in scene/content/gdrive/My Drive/adplace/scene_videos/adplace_328-Scene-040.mp4\n"
          ],
          "name": "stdout"
        },
        {
          "output_type": "stream",
          "text": [
            "\n"
          ],
          "name": "stderr"
        },
        {
          "output_type": "stream",
          "text": [
            "[MoviePy] Writing audio in /content/gdrive/My Drive/adplace/scene_audios/audio-adplace_328-Scene-041.wav\n"
          ],
          "name": "stdout"
        },
        {
          "output_type": "stream",
          "text": [
            "100%|██████████| 183/183 [00:00<00:00, 2080.66it/s]"
          ],
          "name": "stderr"
        },
        {
          "output_type": "stream",
          "text": [
            "[MoviePy] Done.\n"
          ],
          "name": "stdout"
        },
        {
          "output_type": "stream",
          "text": [
            "\n"
          ],
          "name": "stderr"
        },
        {
          "output_type": "stream",
          "text": [
            "[MoviePy] Writing audio in /content/gdrive/My Drive/adplace/scene_audios/audio-adplace_328-Scene-042.wav\n"
          ],
          "name": "stdout"
        },
        {
          "output_type": "stream",
          "text": [
            "100%|██████████| 121/121 [00:00<00:00, 1805.86it/s]"
          ],
          "name": "stderr"
        },
        {
          "output_type": "stream",
          "text": [
            "[MoviePy] Done.\n"
          ],
          "name": "stdout"
        },
        {
          "output_type": "stream",
          "text": [
            "\n"
          ],
          "name": "stderr"
        },
        {
          "output_type": "stream",
          "text": [
            "[MoviePy] Writing audio in /content/gdrive/My Drive/adplace/scene_audios/audio-adplace_328-Scene-043.wav\n"
          ],
          "name": "stdout"
        },
        {
          "output_type": "stream",
          "text": [
            "100%|██████████| 204/204 [00:00<00:00, 2042.12it/s]"
          ],
          "name": "stderr"
        },
        {
          "output_type": "stream",
          "text": [
            "[MoviePy] Done.\n"
          ],
          "name": "stdout"
        },
        {
          "output_type": "stream",
          "text": [
            "\n"
          ],
          "name": "stderr"
        },
        {
          "output_type": "stream",
          "text": [
            "[MoviePy] Writing audio in /content/gdrive/My Drive/adplace/scene_audios/audio-adplace_328-Scene-044.wav\n"
          ],
          "name": "stdout"
        },
        {
          "output_type": "stream",
          "text": [
            "100%|██████████| 160/160 [00:00<00:00, 1870.79it/s]"
          ],
          "name": "stderr"
        },
        {
          "output_type": "stream",
          "text": [
            "[MoviePy] Done.\n"
          ],
          "name": "stdout"
        },
        {
          "output_type": "stream",
          "text": [
            "\n"
          ],
          "name": "stderr"
        },
        {
          "output_type": "stream",
          "text": [
            "[MoviePy] Writing audio in /content/gdrive/My Drive/adplace/scene_audios/audio-adplace_328-Scene-045.wav\n"
          ],
          "name": "stdout"
        },
        {
          "output_type": "stream",
          "text": [
            "100%|██████████| 61/61 [00:00<00:00, 108.66it/s]"
          ],
          "name": "stderr"
        },
        {
          "output_type": "stream",
          "text": [
            "[MoviePy] Done.\n"
          ],
          "name": "stdout"
        },
        {
          "output_type": "stream",
          "text": [
            "\n"
          ],
          "name": "stderr"
        },
        {
          "output_type": "stream",
          "text": [
            "[MoviePy] Writing audio in /content/gdrive/My Drive/adplace/scene_audios/audio-adplace_328-Scene-046.wav\n"
          ],
          "name": "stdout"
        },
        {
          "output_type": "stream",
          "text": [
            "\r  0%|          | 0/76 [00:00<?, ?it/s]"
          ],
          "name": "stderr"
        },
        {
          "output_type": "stream",
          "text": [
            "Exception in scene/content/gdrive/My Drive/adplace/scene_videos/adplace_328-Scene-046.mp4\n"
          ],
          "name": "stdout"
        },
        {
          "output_type": "stream",
          "text": [
            "\n"
          ],
          "name": "stderr"
        },
        {
          "output_type": "stream",
          "text": [
            "[MoviePy] Writing audio in /content/gdrive/My Drive/adplace/scene_audios/audio-adplace_328-Scene-047.wav\n"
          ],
          "name": "stdout"
        },
        {
          "output_type": "stream",
          "text": [
            "100%|██████████| 134/134 [00:00<00:00, 1891.42it/s]"
          ],
          "name": "stderr"
        },
        {
          "output_type": "stream",
          "text": [
            "[MoviePy] Done.\n"
          ],
          "name": "stdout"
        },
        {
          "output_type": "stream",
          "text": [
            "\n"
          ],
          "name": "stderr"
        },
        {
          "output_type": "stream",
          "text": [
            "[MoviePy] Writing audio in /content/gdrive/My Drive/adplace/scene_audios/audio-adplace_328-Scene-048.wav\n"
          ],
          "name": "stdout"
        },
        {
          "output_type": "stream",
          "text": [
            "100%|██████████| 74/74 [00:00<00:00, 1603.19it/s]"
          ],
          "name": "stderr"
        },
        {
          "output_type": "stream",
          "text": [
            "[MoviePy] Done.\n"
          ],
          "name": "stdout"
        },
        {
          "output_type": "stream",
          "text": [
            "\n"
          ],
          "name": "stderr"
        },
        {
          "output_type": "stream",
          "text": [
            "[MoviePy] Writing audio in /content/gdrive/My Drive/adplace/scene_audios/audio-adplace_328-Scene-049.wav\n"
          ],
          "name": "stdout"
        },
        {
          "output_type": "stream",
          "text": [
            "\r  0%|          | 0/92 [00:00<?, ?it/s]"
          ],
          "name": "stderr"
        },
        {
          "output_type": "stream",
          "text": [
            "Exception in scene/content/gdrive/My Drive/adplace/scene_videos/adplace_328-Scene-049.mp4\n"
          ],
          "name": "stdout"
        },
        {
          "output_type": "stream",
          "text": [
            "\n"
          ],
          "name": "stderr"
        },
        {
          "output_type": "stream",
          "text": [
            "[MoviePy] Writing audio in /content/gdrive/My Drive/adplace/scene_audios/audio-adplace_328-Scene-050.wav\n"
          ],
          "name": "stdout"
        },
        {
          "output_type": "stream",
          "text": [
            "\r  0%|          | 0/106 [00:00<?, ?it/s]"
          ],
          "name": "stderr"
        },
        {
          "output_type": "stream",
          "text": [
            "Exception in scene/content/gdrive/My Drive/adplace/scene_videos/adplace_328-Scene-050.mp4\n"
          ],
          "name": "stdout"
        },
        {
          "output_type": "stream",
          "text": [
            "\n"
          ],
          "name": "stderr"
        },
        {
          "output_type": "stream",
          "text": [
            "[MoviePy] Writing audio in /content/gdrive/My Drive/adplace/scene_audios/audio-adplace_328-Scene-051.wav\n"
          ],
          "name": "stdout"
        },
        {
          "output_type": "stream",
          "text": [
            "100%|██████████| 149/149 [00:00<00:00, 295.66it/s]"
          ],
          "name": "stderr"
        },
        {
          "output_type": "stream",
          "text": [
            "[MoviePy] Done.\n"
          ],
          "name": "stdout"
        },
        {
          "output_type": "stream",
          "text": [
            "\n"
          ],
          "name": "stderr"
        },
        {
          "output_type": "stream",
          "text": [
            "[MoviePy] Writing audio in /content/gdrive/My Drive/adplace/scene_audios/audio-adplace_328-Scene-052.wav\n"
          ],
          "name": "stdout"
        },
        {
          "output_type": "stream",
          "text": [
            "100%|██████████| 46/46 [00:00<00:00, 102.20it/s]"
          ],
          "name": "stderr"
        },
        {
          "output_type": "stream",
          "text": [
            "[MoviePy] Done.\n"
          ],
          "name": "stdout"
        },
        {
          "output_type": "stream",
          "text": [
            "\n"
          ],
          "name": "stderr"
        },
        {
          "output_type": "stream",
          "text": [
            "[MoviePy] Writing audio in /content/gdrive/My Drive/adplace/scene_audios/audio-adplace_328-Scene-053.wav\n"
          ],
          "name": "stdout"
        },
        {
          "output_type": "stream",
          "text": [
            "100%|██████████| 78/78 [00:00<00:00, 182.99it/s]"
          ],
          "name": "stderr"
        },
        {
          "output_type": "stream",
          "text": [
            "[MoviePy] Done.\n"
          ],
          "name": "stdout"
        },
        {
          "output_type": "stream",
          "text": [
            "\n"
          ],
          "name": "stderr"
        },
        {
          "output_type": "stream",
          "text": [
            "[MoviePy] Writing audio in /content/gdrive/My Drive/adplace/scene_audios/audio-adplace_328-Scene-054.wav\n"
          ],
          "name": "stdout"
        },
        {
          "output_type": "stream",
          "text": [
            "100%|██████████| 126/126 [00:00<00:00, 477.46it/s]"
          ],
          "name": "stderr"
        },
        {
          "output_type": "stream",
          "text": [
            "[MoviePy] Done.\n"
          ],
          "name": "stdout"
        },
        {
          "output_type": "stream",
          "text": [
            "\n"
          ],
          "name": "stderr"
        },
        {
          "output_type": "stream",
          "text": [
            "[MoviePy] Writing audio in /content/gdrive/My Drive/adplace/scene_audios/audio-adplace_328-Scene-055.wav\n"
          ],
          "name": "stdout"
        },
        {
          "output_type": "stream",
          "text": [
            "100%|██████████| 32/32 [00:00<00:00, 1641.99it/s]"
          ],
          "name": "stderr"
        },
        {
          "output_type": "stream",
          "text": [
            "[MoviePy] Done.\n"
          ],
          "name": "stdout"
        },
        {
          "output_type": "stream",
          "text": [
            "\n"
          ],
          "name": "stderr"
        },
        {
          "output_type": "stream",
          "text": [
            "[MoviePy] Writing audio in /content/gdrive/My Drive/adplace/scene_audios/audio-adplace_328-Scene-056.wav\n"
          ],
          "name": "stdout"
        },
        {
          "output_type": "stream",
          "text": [
            "100%|██████████| 92/92 [00:00<00:00, 1504.32it/s]"
          ],
          "name": "stderr"
        },
        {
          "output_type": "stream",
          "text": [
            "[MoviePy] Done.\n"
          ],
          "name": "stdout"
        },
        {
          "output_type": "stream",
          "text": [
            "\n"
          ],
          "name": "stderr"
        },
        {
          "output_type": "stream",
          "text": [
            "[MoviePy] Writing audio in /content/gdrive/My Drive/adplace/scene_audios/audio-adplace_328-Scene-057.wav\n"
          ],
          "name": "stdout"
        },
        {
          "output_type": "stream",
          "text": [
            "100%|██████████| 202/202 [00:00<00:00, 1354.38it/s]"
          ],
          "name": "stderr"
        },
        {
          "output_type": "stream",
          "text": [
            "[MoviePy] Done.\n"
          ],
          "name": "stdout"
        },
        {
          "output_type": "stream",
          "text": [
            "\n"
          ],
          "name": "stderr"
        },
        {
          "output_type": "stream",
          "text": [
            "[MoviePy] Writing audio in /content/gdrive/My Drive/adplace/scene_audios/audio-adplace_328-Scene-058.wav\n"
          ],
          "name": "stdout"
        },
        {
          "output_type": "stream",
          "text": [
            "\r  0%|          | 0/104 [00:00<?, ?it/s]"
          ],
          "name": "stderr"
        },
        {
          "output_type": "stream",
          "text": [
            "Exception in scene/content/gdrive/My Drive/adplace/scene_videos/adplace_328-Scene-058.mp4\n"
          ],
          "name": "stdout"
        },
        {
          "output_type": "stream",
          "text": [
            "\n"
          ],
          "name": "stderr"
        },
        {
          "output_type": "stream",
          "text": [
            "[MoviePy] Writing audio in /content/gdrive/My Drive/adplace/scene_audios/audio-adplace_328-Scene-059.wav\n"
          ],
          "name": "stdout"
        },
        {
          "output_type": "stream",
          "text": [
            "100%|██████████| 129/129 [00:01<00:00, 98.83it/s]"
          ],
          "name": "stderr"
        },
        {
          "output_type": "stream",
          "text": [
            "[MoviePy] Done.\n"
          ],
          "name": "stdout"
        },
        {
          "output_type": "stream",
          "text": [
            "\n"
          ],
          "name": "stderr"
        },
        {
          "output_type": "stream",
          "text": [
            "[MoviePy] Writing audio in /content/gdrive/My Drive/adplace/scene_audios/audio-adplace_328-Scene-060.wav\n"
          ],
          "name": "stdout"
        },
        {
          "output_type": "stream",
          "text": [
            "100%|██████████| 78/78 [00:00<00:00, 1707.89it/s]"
          ],
          "name": "stderr"
        },
        {
          "output_type": "stream",
          "text": [
            "[MoviePy] Done.\n"
          ],
          "name": "stdout"
        },
        {
          "output_type": "stream",
          "text": [
            "\n"
          ],
          "name": "stderr"
        },
        {
          "output_type": "stream",
          "text": [
            "[MoviePy] Writing audio in /content/gdrive/My Drive/adplace/scene_audios/audio-adplace_328-Scene-061.wav\n"
          ],
          "name": "stdout"
        },
        {
          "output_type": "stream",
          "text": [
            "100%|██████████| 142/142 [00:00<00:00, 1975.36it/s]"
          ],
          "name": "stderr"
        },
        {
          "output_type": "stream",
          "text": [
            "[MoviePy] Done.\n"
          ],
          "name": "stdout"
        },
        {
          "output_type": "stream",
          "text": [
            "\n"
          ],
          "name": "stderr"
        },
        {
          "output_type": "stream",
          "text": [
            "[MoviePy] Writing audio in /content/gdrive/My Drive/adplace/scene_audios/audio-adplace_328-Scene-062.wav\n"
          ],
          "name": "stdout"
        },
        {
          "output_type": "stream",
          "text": [
            "100%|██████████| 81/81 [00:00<00:00, 1703.98it/s]"
          ],
          "name": "stderr"
        },
        {
          "output_type": "stream",
          "text": [
            "[MoviePy] Done.\n"
          ],
          "name": "stdout"
        },
        {
          "output_type": "stream",
          "text": [
            "\n"
          ],
          "name": "stderr"
        },
        {
          "output_type": "stream",
          "text": [
            "[MoviePy] Writing audio in /content/gdrive/My Drive/adplace/scene_audios/audio-adplace_328-Scene-063.wav\n"
          ],
          "name": "stdout"
        },
        {
          "output_type": "stream",
          "text": [
            "\r  0%|          | 0/99 [00:00<?, ?it/s]"
          ],
          "name": "stderr"
        },
        {
          "output_type": "stream",
          "text": [
            "Exception in scene/content/gdrive/My Drive/adplace/scene_videos/adplace_328-Scene-063.mp4\n"
          ],
          "name": "stdout"
        },
        {
          "output_type": "stream",
          "text": [
            "\n"
          ],
          "name": "stderr"
        },
        {
          "output_type": "stream",
          "text": [
            "[MoviePy] Writing audio in /content/gdrive/My Drive/adplace/scene_audios/audio-adplace_328-Scene-064.wav\n"
          ],
          "name": "stdout"
        },
        {
          "output_type": "stream",
          "text": [
            "100%|██████████| 133/133 [00:00<00:00, 143.62it/s]"
          ],
          "name": "stderr"
        },
        {
          "output_type": "stream",
          "text": [
            "[MoviePy] Done.\n"
          ],
          "name": "stdout"
        },
        {
          "output_type": "stream",
          "text": [
            "\n"
          ],
          "name": "stderr"
        },
        {
          "output_type": "stream",
          "text": [
            "[MoviePy] Writing audio in /content/gdrive/My Drive/adplace/scene_audios/audio-adplace_328-Scene-065.wav\n"
          ],
          "name": "stdout"
        },
        {
          "output_type": "stream",
          "text": [
            "100%|██████████| 33/33 [00:00<00:00, 1892.74it/s]"
          ],
          "name": "stderr"
        },
        {
          "output_type": "stream",
          "text": [
            "[MoviePy] Done.\n"
          ],
          "name": "stdout"
        },
        {
          "output_type": "stream",
          "text": [
            "\n"
          ],
          "name": "stderr"
        },
        {
          "output_type": "stream",
          "text": [
            "[MoviePy] Writing audio in /content/gdrive/My Drive/adplace/scene_audios/audio-adplace_328-Scene-066.wav\n"
          ],
          "name": "stdout"
        },
        {
          "output_type": "stream",
          "text": [
            "100%|██████████| 64/64 [00:00<00:00, 434.12it/s]"
          ],
          "name": "stderr"
        },
        {
          "output_type": "stream",
          "text": [
            "[MoviePy] Done.\n"
          ],
          "name": "stdout"
        },
        {
          "output_type": "stream",
          "text": [
            "\n"
          ],
          "name": "stderr"
        },
        {
          "output_type": "stream",
          "text": [
            "[MoviePy] Writing audio in /content/gdrive/My Drive/adplace/scene_audios/audio-adplace_328-Scene-067.wav\n"
          ],
          "name": "stdout"
        },
        {
          "output_type": "stream",
          "text": [
            "100%|██████████| 86/86 [00:01<00:00, 74.30it/s]"
          ],
          "name": "stderr"
        },
        {
          "output_type": "stream",
          "text": [
            "[MoviePy] Done.\n"
          ],
          "name": "stdout"
        },
        {
          "output_type": "stream",
          "text": [
            "\n"
          ],
          "name": "stderr"
        },
        {
          "output_type": "stream",
          "text": [
            "[MoviePy] Writing audio in /content/gdrive/My Drive/adplace/scene_audios/audio-adplace_328-Scene-068.wav\n"
          ],
          "name": "stdout"
        },
        {
          "output_type": "stream",
          "text": [
            "\r  0%|          | 0/101 [00:00<?, ?it/s]"
          ],
          "name": "stderr"
        },
        {
          "output_type": "stream",
          "text": [
            "Exception in scene/content/gdrive/My Drive/adplace/scene_videos/adplace_328-Scene-068.mp4\n"
          ],
          "name": "stdout"
        },
        {
          "output_type": "stream",
          "text": [
            "\n"
          ],
          "name": "stderr"
        },
        {
          "output_type": "stream",
          "text": [
            "[MoviePy] Writing audio in /content/gdrive/My Drive/adplace/scene_audios/audio-adplace_328-Scene-069.wav\n"
          ],
          "name": "stdout"
        },
        {
          "output_type": "stream",
          "text": [
            "100%|██████████| 155/155 [00:00<00:00, 1836.03it/s]"
          ],
          "name": "stderr"
        },
        {
          "output_type": "stream",
          "text": [
            "[MoviePy] Done.\n"
          ],
          "name": "stdout"
        },
        {
          "output_type": "stream",
          "text": [
            "\n"
          ],
          "name": "stderr"
        },
        {
          "output_type": "stream",
          "text": [
            "[MoviePy] Writing audio in /content/gdrive/My Drive/adplace/scene_audios/audio-adplace_328-Scene-070.wav\n"
          ],
          "name": "stdout"
        },
        {
          "output_type": "stream",
          "text": [
            "100%|██████████| 161/161 [00:00<00:00, 1800.34it/s]"
          ],
          "name": "stderr"
        },
        {
          "output_type": "stream",
          "text": [
            "[MoviePy] Done.\n"
          ],
          "name": "stdout"
        },
        {
          "output_type": "stream",
          "text": [
            "\n"
          ],
          "name": "stderr"
        },
        {
          "output_type": "stream",
          "text": [
            "[MoviePy] Writing audio in /content/gdrive/My Drive/adplace/scene_audios/audio-adplace_328-Scene-071.wav\n"
          ],
          "name": "stdout"
        },
        {
          "output_type": "stream",
          "text": [
            "100%|██████████| 131/131 [00:00<00:00, 1867.22it/s]"
          ],
          "name": "stderr"
        },
        {
          "output_type": "stream",
          "text": [
            "[MoviePy] Done.\n"
          ],
          "name": "stdout"
        },
        {
          "output_type": "stream",
          "text": [
            "\n"
          ],
          "name": "stderr"
        },
        {
          "output_type": "stream",
          "text": [
            "[MoviePy] Writing audio in /content/gdrive/My Drive/adplace/scene_audios/audio-adplace_328-Scene-072.wav\n"
          ],
          "name": "stdout"
        },
        {
          "output_type": "stream",
          "text": [
            "100%|██████████| 46/46 [00:00<00:00, 1543.11it/s]"
          ],
          "name": "stderr"
        },
        {
          "output_type": "stream",
          "text": [
            "[MoviePy] Done.\n"
          ],
          "name": "stdout"
        },
        {
          "output_type": "stream",
          "text": [
            "\n"
          ],
          "name": "stderr"
        },
        {
          "output_type": "stream",
          "text": [
            "[MoviePy] Writing audio in /content/gdrive/My Drive/adplace/scene_audios/audio-adplace_328-Scene-073.wav\n"
          ],
          "name": "stdout"
        },
        {
          "output_type": "stream",
          "text": [
            "100%|██████████| 105/105 [00:00<00:00, 1751.31it/s]"
          ],
          "name": "stderr"
        },
        {
          "output_type": "stream",
          "text": [
            "[MoviePy] Done.\n"
          ],
          "name": "stdout"
        },
        {
          "output_type": "stream",
          "text": [
            "\n"
          ],
          "name": "stderr"
        },
        {
          "output_type": "stream",
          "text": [
            "[MoviePy] Writing audio in /content/gdrive/My Drive/adplace/scene_audios/audio-adplace_328-Scene-074.wav\n"
          ],
          "name": "stdout"
        },
        {
          "output_type": "stream",
          "text": [
            "\r  0%|          | 0/129 [00:00<?, ?it/s]"
          ],
          "name": "stderr"
        },
        {
          "output_type": "stream",
          "text": [
            "Exception in scene/content/gdrive/My Drive/adplace/scene_videos/adplace_328-Scene-074.mp4\n"
          ],
          "name": "stdout"
        },
        {
          "output_type": "stream",
          "text": [
            "\n"
          ],
          "name": "stderr"
        },
        {
          "output_type": "stream",
          "text": [
            "[MoviePy] Writing audio in /content/gdrive/My Drive/adplace/scene_audios/audio-adplace_328-Scene-075.wav\n"
          ],
          "name": "stdout"
        },
        {
          "output_type": "stream",
          "text": [
            "100%|██████████| 43/43 [00:00<00:00, 1447.38it/s]"
          ],
          "name": "stderr"
        },
        {
          "output_type": "stream",
          "text": [
            "[MoviePy] Done.\n"
          ],
          "name": "stdout"
        },
        {
          "output_type": "stream",
          "text": [
            "\n"
          ],
          "name": "stderr"
        },
        {
          "output_type": "stream",
          "text": [
            "[MoviePy] Writing audio in /content/gdrive/My Drive/adplace/scene_audios/audio-adplace_328-Scene-076.wav\n"
          ],
          "name": "stdout"
        },
        {
          "output_type": "stream",
          "text": [
            "100%|██████████| 56/56 [00:00<00:00, 71.45it/s]"
          ],
          "name": "stderr"
        },
        {
          "output_type": "stream",
          "text": [
            "[MoviePy] Done.\n"
          ],
          "name": "stdout"
        },
        {
          "output_type": "stream",
          "text": [
            "\n"
          ],
          "name": "stderr"
        },
        {
          "output_type": "stream",
          "text": [
            "[MoviePy] Writing audio in /content/gdrive/My Drive/adplace/scene_audios/audio-adplace_328-Scene-077.wav\n"
          ],
          "name": "stdout"
        },
        {
          "output_type": "stream",
          "text": [
            "\r  0%|          | 0/72 [00:00<?, ?it/s]"
          ],
          "name": "stderr"
        },
        {
          "output_type": "stream",
          "text": [
            "Exception in scene/content/gdrive/My Drive/adplace/scene_videos/adplace_328-Scene-077.mp4\n"
          ],
          "name": "stdout"
        },
        {
          "output_type": "stream",
          "text": [
            "\n"
          ],
          "name": "stderr"
        },
        {
          "output_type": "stream",
          "text": [
            "[MoviePy] Writing audio in /content/gdrive/My Drive/adplace/scene_audios/audio-adplace_328-Scene-078.wav\n"
          ],
          "name": "stdout"
        },
        {
          "output_type": "stream",
          "text": [
            "100%|██████████| 115/115 [00:00<00:00, 246.97it/s]"
          ],
          "name": "stderr"
        },
        {
          "output_type": "stream",
          "text": [
            "[MoviePy] Done.\n"
          ],
          "name": "stdout"
        },
        {
          "output_type": "stream",
          "text": [
            "\n"
          ],
          "name": "stderr"
        },
        {
          "output_type": "stream",
          "text": [
            "[MoviePy] Writing audio in /content/gdrive/My Drive/adplace/scene_audios/audio-adplace_328-Scene-079.wav\n"
          ],
          "name": "stdout"
        },
        {
          "output_type": "stream",
          "text": [
            "100%|██████████| 187/187 [00:00<00:00, 2035.10it/s]"
          ],
          "name": "stderr"
        },
        {
          "output_type": "stream",
          "text": [
            "[MoviePy] Done.\n"
          ],
          "name": "stdout"
        },
        {
          "output_type": "stream",
          "text": [
            "\n"
          ],
          "name": "stderr"
        },
        {
          "output_type": "stream",
          "text": [
            "[MoviePy] Writing audio in /content/gdrive/My Drive/adplace/scene_audios/audio-adplace_328-Scene-080.wav\n"
          ],
          "name": "stdout"
        },
        {
          "output_type": "stream",
          "text": [
            "100%|██████████| 97/97 [00:01<00:00, 87.65it/s]"
          ],
          "name": "stderr"
        },
        {
          "output_type": "stream",
          "text": [
            "[MoviePy] Done.\n"
          ],
          "name": "stdout"
        },
        {
          "output_type": "stream",
          "text": [
            "\n"
          ],
          "name": "stderr"
        },
        {
          "output_type": "stream",
          "text": [
            "[MoviePy] Writing audio in /content/gdrive/My Drive/adplace/scene_audios/audio-adplace_328-Scene-081.wav\n"
          ],
          "name": "stdout"
        },
        {
          "output_type": "stream",
          "text": [
            "100%|██████████| 139/139 [00:00<00:00, 226.75it/s]"
          ],
          "name": "stderr"
        },
        {
          "output_type": "stream",
          "text": [
            "[MoviePy] Done.\n"
          ],
          "name": "stdout"
        },
        {
          "output_type": "stream",
          "text": [
            "\n"
          ],
          "name": "stderr"
        },
        {
          "output_type": "stream",
          "text": [
            "[MoviePy] Writing audio in /content/gdrive/My Drive/adplace/scene_audios/audio-adplace_328-Scene-082.wav\n"
          ],
          "name": "stdout"
        },
        {
          "output_type": "stream",
          "text": [
            "100%|██████████| 72/72 [00:00<00:00, 1608.25it/s]"
          ],
          "name": "stderr"
        },
        {
          "output_type": "stream",
          "text": [
            "[MoviePy] Done.\n"
          ],
          "name": "stdout"
        },
        {
          "output_type": "stream",
          "text": [
            "\n"
          ],
          "name": "stderr"
        },
        {
          "output_type": "stream",
          "text": [
            "[MoviePy] Writing audio in /content/gdrive/My Drive/adplace/scene_audios/audio-adplace_328-Scene-083.wav\n"
          ],
          "name": "stdout"
        },
        {
          "output_type": "stream",
          "text": [
            "\r  0%|          | 0/86 [00:00<?, ?it/s]"
          ],
          "name": "stderr"
        },
        {
          "output_type": "stream",
          "text": [
            "Exception in scene/content/gdrive/My Drive/adplace/scene_videos/adplace_328-Scene-083.mp4\n"
          ],
          "name": "stdout"
        },
        {
          "output_type": "stream",
          "text": [
            "\n"
          ],
          "name": "stderr"
        },
        {
          "output_type": "stream",
          "text": [
            "[MoviePy] Writing audio in /content/gdrive/My Drive/adplace/scene_audios/audio-adplace_328-Scene-084.wav\n"
          ],
          "name": "stdout"
        },
        {
          "output_type": "stream",
          "text": [
            "100%|██████████| 113/113 [00:01<00:00, 85.78it/s]"
          ],
          "name": "stderr"
        },
        {
          "output_type": "stream",
          "text": [
            "[MoviePy] Done.\n"
          ],
          "name": "stdout"
        },
        {
          "output_type": "stream",
          "text": [
            "\n"
          ],
          "name": "stderr"
        },
        {
          "output_type": "stream",
          "text": [
            "[MoviePy] Writing audio in /content/gdrive/My Drive/adplace/scene_audios/audio-adplace_328-Scene-085.wav\n"
          ],
          "name": "stdout"
        },
        {
          "output_type": "stream",
          "text": [
            "\r  0%|          | 0/129 [00:00<?, ?it/s]"
          ],
          "name": "stderr"
        },
        {
          "output_type": "stream",
          "text": [
            "Exception in scene/content/gdrive/My Drive/adplace/scene_videos/adplace_328-Scene-085.mp4\n"
          ],
          "name": "stdout"
        },
        {
          "output_type": "stream",
          "text": [
            "\n"
          ],
          "name": "stderr"
        },
        {
          "output_type": "stream",
          "text": [
            "[MoviePy] Writing audio in /content/gdrive/My Drive/adplace/scene_audios/audio-adplace_328-Scene-086.wav\n"
          ],
          "name": "stdout"
        },
        {
          "output_type": "stream",
          "text": [
            "100%|██████████| 78/78 [00:00<00:00, 1506.73it/s]"
          ],
          "name": "stderr"
        },
        {
          "output_type": "stream",
          "text": [
            "[MoviePy] Done.\n"
          ],
          "name": "stdout"
        },
        {
          "output_type": "stream",
          "text": [
            "\n"
          ],
          "name": "stderr"
        },
        {
          "output_type": "stream",
          "text": [
            "[MoviePy] Writing audio in /content/gdrive/My Drive/adplace/scene_audios/audio-adplace_328-Scene-087.wav\n"
          ],
          "name": "stdout"
        },
        {
          "output_type": "stream",
          "text": [
            "100%|██████████| 593/593 [00:00<00:00, 955.99it/s]\n"
          ],
          "name": "stderr"
        },
        {
          "output_type": "stream",
          "text": [
            "[MoviePy] Done.\n",
            "Exception in scene/content/gdrive/My Drive/adplace/scene_videos/adplace_328-Scenes.csv\n",
            "[MoviePy] Writing audio in /content/gdrive/My Drive/adplace/scene_audios/audio-adplace_329-Scene-001.wav\n"
          ],
          "name": "stdout"
        },
        {
          "output_type": "stream",
          "text": [
            "100%|██████████| 24/24 [00:00<00:00, 2339.05it/s]"
          ],
          "name": "stderr"
        },
        {
          "output_type": "stream",
          "text": [
            "[MoviePy] Done.\n"
          ],
          "name": "stdout"
        },
        {
          "output_type": "stream",
          "text": [
            "\n"
          ],
          "name": "stderr"
        },
        {
          "output_type": "stream",
          "text": [
            "[MoviePy] Writing audio in /content/gdrive/My Drive/adplace/scene_audios/audio-adplace_329-Scene-002.wav\n"
          ],
          "name": "stdout"
        },
        {
          "output_type": "stream",
          "text": [
            "100%|██████████| 158/158 [00:00<00:00, 1798.27it/s]"
          ],
          "name": "stderr"
        },
        {
          "output_type": "stream",
          "text": [
            "[MoviePy] Done.\n"
          ],
          "name": "stdout"
        },
        {
          "output_type": "stream",
          "text": [
            "\n"
          ],
          "name": "stderr"
        },
        {
          "output_type": "stream",
          "text": [
            "[MoviePy] Writing audio in /content/gdrive/My Drive/adplace/scene_audios/audio-adplace_329-Scene-003.wav\n"
          ],
          "name": "stdout"
        },
        {
          "output_type": "stream",
          "text": [
            "100%|██████████| 153/153 [00:00<00:00, 1939.31it/s]"
          ],
          "name": "stderr"
        },
        {
          "output_type": "stream",
          "text": [
            "[MoviePy] Done.\n"
          ],
          "name": "stdout"
        },
        {
          "output_type": "stream",
          "text": [
            "\n"
          ],
          "name": "stderr"
        },
        {
          "output_type": "stream",
          "text": [
            "[MoviePy] Writing audio in /content/gdrive/My Drive/adplace/scene_audios/audio-adplace_329-Scene-004.wav\n"
          ],
          "name": "stdout"
        },
        {
          "output_type": "stream",
          "text": [
            "100%|██████████| 158/158 [00:00<00:00, 1765.09it/s]"
          ],
          "name": "stderr"
        },
        {
          "output_type": "stream",
          "text": [
            "[MoviePy] Done.\n"
          ],
          "name": "stdout"
        },
        {
          "output_type": "stream",
          "text": [
            "\n"
          ],
          "name": "stderr"
        },
        {
          "output_type": "stream",
          "text": [
            "[MoviePy] Writing audio in /content/gdrive/My Drive/adplace/scene_audios/audio-adplace_329-Scene-005.wav\n"
          ],
          "name": "stdout"
        },
        {
          "output_type": "stream",
          "text": [
            "100%|██████████| 451/451 [00:00<00:00, 854.11it/s]"
          ],
          "name": "stderr"
        },
        {
          "output_type": "stream",
          "text": [
            "[MoviePy] Done.\n"
          ],
          "name": "stdout"
        },
        {
          "output_type": "stream",
          "text": [
            "\n"
          ],
          "name": "stderr"
        },
        {
          "output_type": "stream",
          "text": [
            "[MoviePy] Writing audio in /content/gdrive/My Drive/adplace/scene_audios/audio-adplace_329-Scene-006.wav\n"
          ],
          "name": "stdout"
        },
        {
          "output_type": "stream",
          "text": [
            "100%|██████████| 137/137 [00:01<00:00, 115.24it/s]"
          ],
          "name": "stderr"
        },
        {
          "output_type": "stream",
          "text": [
            "[MoviePy] Done.\n"
          ],
          "name": "stdout"
        },
        {
          "output_type": "stream",
          "text": [
            "\n"
          ],
          "name": "stderr"
        },
        {
          "output_type": "stream",
          "text": [
            "[MoviePy] Writing audio in /content/gdrive/My Drive/adplace/scene_audios/audio-adplace_329-Scene-007.wav\n"
          ],
          "name": "stdout"
        },
        {
          "output_type": "stream",
          "text": [
            "100%|██████████| 324/324 [00:00<00:00, 1014.84it/s]"
          ],
          "name": "stderr"
        },
        {
          "output_type": "stream",
          "text": [
            "[MoviePy] Done.\n"
          ],
          "name": "stdout"
        },
        {
          "output_type": "stream",
          "text": [
            "\n"
          ],
          "name": "stderr"
        },
        {
          "output_type": "stream",
          "text": [
            "[MoviePy] Writing audio in /content/gdrive/My Drive/adplace/scene_audios/audio-adplace_329-Scene-008.wav\n"
          ],
          "name": "stdout"
        },
        {
          "output_type": "stream",
          "text": [
            "100%|██████████| 188/188 [00:00<00:00, 1957.57it/s]"
          ],
          "name": "stderr"
        },
        {
          "output_type": "stream",
          "text": [
            "[MoviePy] Done.\n"
          ],
          "name": "stdout"
        },
        {
          "output_type": "stream",
          "text": [
            "\n"
          ],
          "name": "stderr"
        },
        {
          "output_type": "stream",
          "text": [
            "[MoviePy] Writing audio in /content/gdrive/My Drive/adplace/scene_audios/audio-adplace_329-Scene-009.wav\n"
          ],
          "name": "stdout"
        },
        {
          "output_type": "stream",
          "text": [
            "100%|██████████| 299/299 [00:00<00:00, 1804.13it/s]"
          ],
          "name": "stderr"
        },
        {
          "output_type": "stream",
          "text": [
            "[MoviePy] Done.\n"
          ],
          "name": "stdout"
        },
        {
          "output_type": "stream",
          "text": [
            "\n"
          ],
          "name": "stderr"
        },
        {
          "output_type": "stream",
          "text": [
            "[MoviePy] Writing audio in /content/gdrive/My Drive/adplace/scene_audios/audio-adplace_329-Scene-010.wav\n"
          ],
          "name": "stdout"
        },
        {
          "output_type": "stream",
          "text": [
            "100%|██████████| 314/314 [00:00<00:00, 1003.54it/s]"
          ],
          "name": "stderr"
        },
        {
          "output_type": "stream",
          "text": [
            "[MoviePy] Done.\n"
          ],
          "name": "stdout"
        },
        {
          "output_type": "stream",
          "text": [
            "\n"
          ],
          "name": "stderr"
        },
        {
          "output_type": "stream",
          "text": [
            "[MoviePy] Writing audio in /content/gdrive/My Drive/adplace/scene_audios/audio-adplace_329-Scene-011.wav\n"
          ],
          "name": "stdout"
        },
        {
          "output_type": "stream",
          "text": [
            "100%|██████████| 159/159 [00:00<00:00, 1953.52it/s]"
          ],
          "name": "stderr"
        },
        {
          "output_type": "stream",
          "text": [
            "[MoviePy] Done.\n"
          ],
          "name": "stdout"
        },
        {
          "output_type": "stream",
          "text": [
            "\n"
          ],
          "name": "stderr"
        },
        {
          "output_type": "stream",
          "text": [
            "[MoviePy] Writing audio in /content/gdrive/My Drive/adplace/scene_audios/audio-adplace_329-Scene-012.wav\n"
          ],
          "name": "stdout"
        },
        {
          "output_type": "stream",
          "text": [
            "100%|██████████| 142/142 [00:00<00:00, 1757.63it/s]"
          ],
          "name": "stderr"
        },
        {
          "output_type": "stream",
          "text": [
            "[MoviePy] Done.\n"
          ],
          "name": "stdout"
        },
        {
          "output_type": "stream",
          "text": [
            "\n"
          ],
          "name": "stderr"
        },
        {
          "output_type": "stream",
          "text": [
            "[MoviePy] Writing audio in /content/gdrive/My Drive/adplace/scene_audios/audio-adplace_329-Scene-013.wav\n"
          ],
          "name": "stdout"
        },
        {
          "output_type": "stream",
          "text": [
            "100%|██████████| 124/124 [00:00<00:00, 2079.37it/s]"
          ],
          "name": "stderr"
        },
        {
          "output_type": "stream",
          "text": [
            "[MoviePy] Done.\n"
          ],
          "name": "stdout"
        },
        {
          "output_type": "stream",
          "text": [
            "\n"
          ],
          "name": "stderr"
        },
        {
          "output_type": "stream",
          "text": [
            "[MoviePy] Writing audio in /content/gdrive/My Drive/adplace/scene_audios/audio-adplace_329-Scene-014.wav\n"
          ],
          "name": "stdout"
        },
        {
          "output_type": "stream",
          "text": [
            "100%|██████████| 38/38 [00:00<00:00, 1255.69it/s]"
          ],
          "name": "stderr"
        },
        {
          "output_type": "stream",
          "text": [
            "[MoviePy] Done.\n"
          ],
          "name": "stdout"
        },
        {
          "output_type": "stream",
          "text": [
            "\n"
          ],
          "name": "stderr"
        },
        {
          "output_type": "stream",
          "text": [
            "[MoviePy] Writing audio in /content/gdrive/My Drive/adplace/scene_audios/audio-adplace_329-Scene-015.wav\n"
          ],
          "name": "stdout"
        },
        {
          "output_type": "stream",
          "text": [
            "100%|██████████| 67/67 [00:00<00:00, 189.57it/s]"
          ],
          "name": "stderr"
        },
        {
          "output_type": "stream",
          "text": [
            "[MoviePy] Done.\n"
          ],
          "name": "stdout"
        },
        {
          "output_type": "stream",
          "text": [
            "\n"
          ],
          "name": "stderr"
        },
        {
          "output_type": "stream",
          "text": [
            "[MoviePy] Writing audio in /content/gdrive/My Drive/adplace/scene_audios/audio-adplace_329-Scene-016.wav\n"
          ],
          "name": "stdout"
        },
        {
          "output_type": "stream",
          "text": [
            "100%|██████████| 185/185 [00:00<00:00, 1718.33it/s]"
          ],
          "name": "stderr"
        },
        {
          "output_type": "stream",
          "text": [
            "[MoviePy] Done.\n"
          ],
          "name": "stdout"
        },
        {
          "output_type": "stream",
          "text": [
            "\n"
          ],
          "name": "stderr"
        },
        {
          "output_type": "stream",
          "text": [
            "[MoviePy] Writing audio in /content/gdrive/My Drive/adplace/scene_audios/audio-adplace_329-Scene-017.wav\n"
          ],
          "name": "stdout"
        },
        {
          "output_type": "stream",
          "text": [
            "100%|██████████| 140/140 [00:00<00:00, 336.53it/s]"
          ],
          "name": "stderr"
        },
        {
          "output_type": "stream",
          "text": [
            "[MoviePy] Done.\n"
          ],
          "name": "stdout"
        },
        {
          "output_type": "stream",
          "text": [
            "\n"
          ],
          "name": "stderr"
        },
        {
          "output_type": "stream",
          "text": [
            "[MoviePy] Writing audio in /content/gdrive/My Drive/adplace/scene_audios/audio-adplace_329-Scene-018.wav\n"
          ],
          "name": "stdout"
        },
        {
          "output_type": "stream",
          "text": [
            "100%|██████████| 215/215 [00:00<00:00, 1357.65it/s]"
          ],
          "name": "stderr"
        },
        {
          "output_type": "stream",
          "text": [
            "[MoviePy] Done.\n"
          ],
          "name": "stdout"
        },
        {
          "output_type": "stream",
          "text": [
            "\n"
          ],
          "name": "stderr"
        },
        {
          "output_type": "stream",
          "text": [
            "[MoviePy] Writing audio in /content/gdrive/My Drive/adplace/scene_audios/audio-adplace_329-Scene-019.wav\n"
          ],
          "name": "stdout"
        },
        {
          "output_type": "stream",
          "text": [
            "\r  0%|          | 0/108 [00:00<?, ?it/s]"
          ],
          "name": "stderr"
        },
        {
          "output_type": "stream",
          "text": [
            "Exception in scene/content/gdrive/My Drive/adplace/scene_videos/adplace_329-Scene-019.mp4\n"
          ],
          "name": "stdout"
        },
        {
          "output_type": "stream",
          "text": [
            "\n"
          ],
          "name": "stderr"
        },
        {
          "output_type": "stream",
          "text": [
            "[MoviePy] Writing audio in /content/gdrive/My Drive/adplace/scene_audios/audio-adplace_329-Scene-020.wav\n"
          ],
          "name": "stdout"
        },
        {
          "output_type": "stream",
          "text": [
            "100%|██████████| 244/244 [00:00<00:00, 1721.24it/s]"
          ],
          "name": "stderr"
        },
        {
          "output_type": "stream",
          "text": [
            "[MoviePy] Done.\n"
          ],
          "name": "stdout"
        },
        {
          "output_type": "stream",
          "text": [
            "\n"
          ],
          "name": "stderr"
        },
        {
          "output_type": "stream",
          "text": [
            "[MoviePy] Writing audio in /content/gdrive/My Drive/adplace/scene_audios/audio-adplace_329-Scene-021.wav\n"
          ],
          "name": "stdout"
        },
        {
          "output_type": "stream",
          "text": [
            "100%|██████████| 149/149 [00:00<00:00, 1840.78it/s]"
          ],
          "name": "stderr"
        },
        {
          "output_type": "stream",
          "text": [
            "[MoviePy] Done.\n"
          ],
          "name": "stdout"
        },
        {
          "output_type": "stream",
          "text": [
            "\n"
          ],
          "name": "stderr"
        },
        {
          "output_type": "stream",
          "text": [
            "[MoviePy] Writing audio in /content/gdrive/My Drive/adplace/scene_audios/audio-adplace_329-Scene-022.wav\n"
          ],
          "name": "stdout"
        },
        {
          "output_type": "stream",
          "text": [
            "100%|██████████| 496/496 [00:00<00:00, 998.57it/s]"
          ],
          "name": "stderr"
        },
        {
          "output_type": "stream",
          "text": [
            "[MoviePy] Done.\n"
          ],
          "name": "stdout"
        },
        {
          "output_type": "stream",
          "text": [
            "\n"
          ],
          "name": "stderr"
        },
        {
          "output_type": "stream",
          "text": [
            "[MoviePy] Writing audio in /content/gdrive/My Drive/adplace/scene_audios/audio-adplace_329-Scene-023.wav\n"
          ],
          "name": "stdout"
        },
        {
          "output_type": "stream",
          "text": [
            "100%|██████████| 318/318 [00:00<00:00, 935.18it/s]"
          ],
          "name": "stderr"
        },
        {
          "output_type": "stream",
          "text": [
            "[MoviePy] Done.\n"
          ],
          "name": "stdout"
        },
        {
          "output_type": "stream",
          "text": [
            "\n"
          ],
          "name": "stderr"
        },
        {
          "output_type": "stream",
          "text": [
            "[MoviePy] Writing audio in /content/gdrive/My Drive/adplace/scene_audios/audio-adplace_329-Scene-024.wav\n"
          ],
          "name": "stdout"
        },
        {
          "output_type": "stream",
          "text": [
            "100%|██████████| 142/142 [00:00<00:00, 366.83it/s]"
          ],
          "name": "stderr"
        },
        {
          "output_type": "stream",
          "text": [
            "[MoviePy] Done.\n"
          ],
          "name": "stdout"
        },
        {
          "output_type": "stream",
          "text": [
            "\n"
          ],
          "name": "stderr"
        },
        {
          "output_type": "stream",
          "text": [
            "[MoviePy] Writing audio in /content/gdrive/My Drive/adplace/scene_audios/audio-adplace_329-Scene-025.wav\n"
          ],
          "name": "stdout"
        },
        {
          "output_type": "stream",
          "text": [
            "100%|██████████| 139/139 [00:00<00:00, 1800.18it/s]"
          ],
          "name": "stderr"
        },
        {
          "output_type": "stream",
          "text": [
            "[MoviePy] Done.\n"
          ],
          "name": "stdout"
        },
        {
          "output_type": "stream",
          "text": [
            "\n"
          ],
          "name": "stderr"
        },
        {
          "output_type": "stream",
          "text": [
            "[MoviePy] Writing audio in /content/gdrive/My Drive/adplace/scene_audios/audio-adplace_329-Scene-026.wav\n"
          ],
          "name": "stdout"
        },
        {
          "output_type": "stream",
          "text": [
            "100%|██████████| 75/75 [00:00<00:00, 1704.99it/s]"
          ],
          "name": "stderr"
        },
        {
          "output_type": "stream",
          "text": [
            "[MoviePy] Done.\n"
          ],
          "name": "stdout"
        },
        {
          "output_type": "stream",
          "text": [
            "\n"
          ],
          "name": "stderr"
        },
        {
          "output_type": "stream",
          "text": [
            "[MoviePy] Writing audio in /content/gdrive/My Drive/adplace/scene_audios/audio-adplace_329-Scene-027.wav\n"
          ],
          "name": "stdout"
        },
        {
          "output_type": "stream",
          "text": [
            "100%|██████████| 105/105 [00:01<00:00, 75.53it/s]"
          ],
          "name": "stderr"
        },
        {
          "output_type": "stream",
          "text": [
            "[MoviePy] Done.\n"
          ],
          "name": "stdout"
        },
        {
          "output_type": "stream",
          "text": [
            "\n"
          ],
          "name": "stderr"
        },
        {
          "output_type": "stream",
          "text": [
            "[MoviePy] Writing audio in /content/gdrive/My Drive/adplace/scene_audios/audio-adplace_329-Scene-028.wav\n"
          ],
          "name": "stdout"
        },
        {
          "output_type": "stream",
          "text": [
            "100%|██████████| 136/136 [00:01<00:00, 104.78it/s]"
          ],
          "name": "stderr"
        },
        {
          "output_type": "stream",
          "text": [
            "[MoviePy] Done.\n"
          ],
          "name": "stdout"
        },
        {
          "output_type": "stream",
          "text": [
            "\n"
          ],
          "name": "stderr"
        },
        {
          "output_type": "stream",
          "text": [
            "[MoviePy] Writing audio in /content/gdrive/My Drive/adplace/scene_audios/audio-adplace_329-Scene-029.wav\n"
          ],
          "name": "stdout"
        },
        {
          "output_type": "stream",
          "text": [
            "100%|██████████| 82/82 [00:00<00:00, 1911.55it/s]"
          ],
          "name": "stderr"
        },
        {
          "output_type": "stream",
          "text": [
            "[MoviePy] Done.\n"
          ],
          "name": "stdout"
        },
        {
          "output_type": "stream",
          "text": [
            "\n"
          ],
          "name": "stderr"
        },
        {
          "output_type": "stream",
          "text": [
            "[MoviePy] Writing audio in /content/gdrive/My Drive/adplace/scene_audios/audio-adplace_329-Scene-030.wav\n"
          ],
          "name": "stdout"
        },
        {
          "output_type": "stream",
          "text": [
            "100%|██████████| 224/224 [00:00<00:00, 1668.72it/s]"
          ],
          "name": "stderr"
        },
        {
          "output_type": "stream",
          "text": [
            "[MoviePy] Done.\n"
          ],
          "name": "stdout"
        },
        {
          "output_type": "stream",
          "text": [
            "\n"
          ],
          "name": "stderr"
        },
        {
          "output_type": "stream",
          "text": [
            "[MoviePy] Writing audio in /content/gdrive/My Drive/adplace/scene_audios/audio-adplace_329-Scene-031.wav\n"
          ],
          "name": "stdout"
        },
        {
          "output_type": "stream",
          "text": [
            "100%|██████████| 288/288 [00:00<00:00, 1751.72it/s]"
          ],
          "name": "stderr"
        },
        {
          "output_type": "stream",
          "text": [
            "[MoviePy] Done.\n"
          ],
          "name": "stdout"
        },
        {
          "output_type": "stream",
          "text": [
            "\n"
          ],
          "name": "stderr"
        },
        {
          "output_type": "stream",
          "text": [
            "[MoviePy] Writing audio in /content/gdrive/My Drive/adplace/scene_audios/audio-adplace_329-Scene-032.wav\n"
          ],
          "name": "stdout"
        },
        {
          "output_type": "stream",
          "text": [
            "100%|██████████| 149/149 [00:00<00:00, 1921.50it/s]"
          ],
          "name": "stderr"
        },
        {
          "output_type": "stream",
          "text": [
            "[MoviePy] Done.\n"
          ],
          "name": "stdout"
        },
        {
          "output_type": "stream",
          "text": [
            "\n"
          ],
          "name": "stderr"
        },
        {
          "output_type": "stream",
          "text": [
            "[MoviePy] Writing audio in /content/gdrive/My Drive/adplace/scene_audios/audio-adplace_329-Scene-033.wav\n"
          ],
          "name": "stdout"
        },
        {
          "output_type": "stream",
          "text": [
            "100%|██████████| 103/103 [00:00<00:00, 1693.78it/s]"
          ],
          "name": "stderr"
        },
        {
          "output_type": "stream",
          "text": [
            "[MoviePy] Done.\n"
          ],
          "name": "stdout"
        },
        {
          "output_type": "stream",
          "text": [
            "\n"
          ],
          "name": "stderr"
        },
        {
          "output_type": "stream",
          "text": [
            "[MoviePy] Writing audio in /content/gdrive/My Drive/adplace/scene_audios/audio-adplace_329-Scene-034.wav\n"
          ],
          "name": "stdout"
        },
        {
          "output_type": "stream",
          "text": [
            "\r  0%|          | 0/120 [00:00<?, ?it/s]"
          ],
          "name": "stderr"
        },
        {
          "output_type": "stream",
          "text": [
            "Exception in scene/content/gdrive/My Drive/adplace/scene_videos/adplace_329-Scene-034.mp4\n"
          ],
          "name": "stdout"
        },
        {
          "output_type": "stream",
          "text": [
            "\n"
          ],
          "name": "stderr"
        },
        {
          "output_type": "stream",
          "text": [
            "[MoviePy] Writing audio in /content/gdrive/My Drive/adplace/scene_audios/audio-adplace_329-Scene-035.wav\n"
          ],
          "name": "stdout"
        },
        {
          "output_type": "stream",
          "text": [
            "100%|██████████| 151/151 [00:01<00:00, 116.24it/s]"
          ],
          "name": "stderr"
        },
        {
          "output_type": "stream",
          "text": [
            "[MoviePy] Done.\n"
          ],
          "name": "stdout"
        },
        {
          "output_type": "stream",
          "text": [
            "\n"
          ],
          "name": "stderr"
        },
        {
          "output_type": "stream",
          "text": [
            "[MoviePy] Writing audio in /content/gdrive/My Drive/adplace/scene_audios/audio-adplace_329-Scene-036.wav\n"
          ],
          "name": "stdout"
        },
        {
          "output_type": "stream",
          "text": [
            "100%|██████████| 121/121 [00:00<00:00, 1780.65it/s]"
          ],
          "name": "stderr"
        },
        {
          "output_type": "stream",
          "text": [
            "[MoviePy] Done.\n"
          ],
          "name": "stdout"
        },
        {
          "output_type": "stream",
          "text": [
            "\n"
          ],
          "name": "stderr"
        },
        {
          "output_type": "stream",
          "text": [
            "[MoviePy] Writing audio in /content/gdrive/My Drive/adplace/scene_audios/audio-adplace_329-Scene-037.wav\n"
          ],
          "name": "stdout"
        },
        {
          "output_type": "stream",
          "text": [
            "\r  0%|          | 0/141 [00:00<?, ?it/s]"
          ],
          "name": "stderr"
        },
        {
          "output_type": "stream",
          "text": [
            "Exception in scene/content/gdrive/My Drive/adplace/scene_videos/adplace_329-Scene-037.mp4\n"
          ],
          "name": "stdout"
        },
        {
          "output_type": "stream",
          "text": [
            "\n"
          ],
          "name": "stderr"
        },
        {
          "output_type": "stream",
          "text": [
            "[MoviePy] Writing audio in /content/gdrive/My Drive/adplace/scene_audios/audio-adplace_329-Scene-038.wav\n"
          ],
          "name": "stdout"
        },
        {
          "output_type": "stream",
          "text": [
            "100%|██████████| 76/76 [00:00<00:00, 1526.18it/s]"
          ],
          "name": "stderr"
        },
        {
          "output_type": "stream",
          "text": [
            "[MoviePy] Done.\n"
          ],
          "name": "stdout"
        },
        {
          "output_type": "stream",
          "text": [
            "\n"
          ],
          "name": "stderr"
        },
        {
          "output_type": "stream",
          "text": [
            "[MoviePy] Writing audio in /content/gdrive/My Drive/adplace/scene_audios/audio-adplace_329-Scene-039.wav\n"
          ],
          "name": "stdout"
        },
        {
          "output_type": "stream",
          "text": [
            "100%|██████████| 217/217 [00:00<00:00, 1643.42it/s]"
          ],
          "name": "stderr"
        },
        {
          "output_type": "stream",
          "text": [
            "[MoviePy] Done.\n"
          ],
          "name": "stdout"
        },
        {
          "output_type": "stream",
          "text": [
            "\n"
          ],
          "name": "stderr"
        },
        {
          "output_type": "stream",
          "text": [
            "[MoviePy] Writing audio in /content/gdrive/My Drive/adplace/scene_audios/audio-adplace_329-Scene-040.wav\n"
          ],
          "name": "stdout"
        },
        {
          "output_type": "stream",
          "text": [
            "100%|██████████| 102/102 [00:00<00:00, 1561.01it/s]"
          ],
          "name": "stderr"
        },
        {
          "output_type": "stream",
          "text": [
            "[MoviePy] Done.\n"
          ],
          "name": "stdout"
        },
        {
          "output_type": "stream",
          "text": [
            "\n"
          ],
          "name": "stderr"
        },
        {
          "output_type": "stream",
          "text": [
            "[MoviePy] Writing audio in /content/gdrive/My Drive/adplace/scene_audios/audio-adplace_329-Scene-041.wav\n"
          ],
          "name": "stdout"
        },
        {
          "output_type": "stream",
          "text": [
            "\r  0%|          | 0/113 [00:00<?, ?it/s]"
          ],
          "name": "stderr"
        },
        {
          "output_type": "stream",
          "text": [
            "Exception in scene/content/gdrive/My Drive/adplace/scene_videos/adplace_329-Scene-041.mp4\n"
          ],
          "name": "stdout"
        },
        {
          "output_type": "stream",
          "text": [
            "\n"
          ],
          "name": "stderr"
        },
        {
          "output_type": "stream",
          "text": [
            "[MoviePy] Writing audio in /content/gdrive/My Drive/adplace/scene_audios/audio-adplace_329-Scene-042.wav\n"
          ],
          "name": "stdout"
        },
        {
          "output_type": "stream",
          "text": [
            "100%|██████████| 141/141 [00:01<00:00, 91.97it/s]"
          ],
          "name": "stderr"
        },
        {
          "output_type": "stream",
          "text": [
            "[MoviePy] Done.\n"
          ],
          "name": "stdout"
        },
        {
          "output_type": "stream",
          "text": [
            "\n"
          ],
          "name": "stderr"
        },
        {
          "output_type": "stream",
          "text": [
            "[MoviePy] Writing audio in /content/gdrive/My Drive/adplace/scene_audios/audio-adplace_329-Scene-043.wav\n"
          ],
          "name": "stdout"
        },
        {
          "output_type": "stream",
          "text": [
            "100%|██████████| 71/71 [00:00<00:00, 1508.59it/s]"
          ],
          "name": "stderr"
        },
        {
          "output_type": "stream",
          "text": [
            "[MoviePy] Done.\n"
          ],
          "name": "stdout"
        },
        {
          "output_type": "stream",
          "text": [
            "\n"
          ],
          "name": "stderr"
        },
        {
          "output_type": "stream",
          "text": [
            "[MoviePy] Writing audio in /content/gdrive/My Drive/adplace/scene_audios/audio-adplace_329-Scene-044.wav\n"
          ],
          "name": "stdout"
        },
        {
          "output_type": "stream",
          "text": [
            "100%|██████████| 127/127 [00:00<00:00, 1759.69it/s]"
          ],
          "name": "stderr"
        },
        {
          "output_type": "stream",
          "text": [
            "[MoviePy] Done.\n"
          ],
          "name": "stdout"
        },
        {
          "output_type": "stream",
          "text": [
            "\n"
          ],
          "name": "stderr"
        },
        {
          "output_type": "stream",
          "text": [
            "Exception in scene/content/gdrive/My Drive/adplace/scene_videos/adplace_329-Scenes.csv\n",
            "[MoviePy] Writing audio in /content/gdrive/My Drive/adplace/scene_audios/audio-adplace_330-Scene-001.wav\n"
          ],
          "name": "stdout"
        },
        {
          "output_type": "stream",
          "text": [
            "100%|██████████| 61/61 [00:00<00:00, 1412.88it/s]"
          ],
          "name": "stderr"
        },
        {
          "output_type": "stream",
          "text": [
            "[MoviePy] Done.\n"
          ],
          "name": "stdout"
        },
        {
          "output_type": "stream",
          "text": [
            "\n"
          ],
          "name": "stderr"
        },
        {
          "output_type": "stream",
          "text": [
            "[MoviePy] Writing audio in /content/gdrive/My Drive/adplace/scene_audios/audio-adplace_330-Scene-002.wav\n"
          ],
          "name": "stdout"
        },
        {
          "output_type": "stream",
          "text": [
            "100%|██████████| 88/88 [00:01<00:00, 66.95it/s]"
          ],
          "name": "stderr"
        },
        {
          "output_type": "stream",
          "text": [
            "[MoviePy] Done.\n"
          ],
          "name": "stdout"
        },
        {
          "output_type": "stream",
          "text": [
            "\n"
          ],
          "name": "stderr"
        },
        {
          "output_type": "stream",
          "text": [
            "[MoviePy] Writing audio in /content/gdrive/My Drive/adplace/scene_audios/audio-adplace_330-Scene-003.wav\n"
          ],
          "name": "stdout"
        },
        {
          "output_type": "stream",
          "text": [
            "100%|██████████| 210/210 [00:00<00:00, 1488.81it/s]"
          ],
          "name": "stderr"
        },
        {
          "output_type": "stream",
          "text": [
            "[MoviePy] Done.\n"
          ],
          "name": "stdout"
        },
        {
          "output_type": "stream",
          "text": [
            "\n"
          ],
          "name": "stderr"
        },
        {
          "output_type": "stream",
          "text": [
            "[MoviePy] Writing audio in /content/gdrive/My Drive/adplace/scene_audios/audio-adplace_330-Scene-004.wav\n"
          ],
          "name": "stdout"
        },
        {
          "output_type": "stream",
          "text": [
            "100%|██████████| 248/248 [00:00<00:00, 1764.84it/s]"
          ],
          "name": "stderr"
        },
        {
          "output_type": "stream",
          "text": [
            "[MoviePy] Done.\n"
          ],
          "name": "stdout"
        },
        {
          "output_type": "stream",
          "text": [
            "\n"
          ],
          "name": "stderr"
        },
        {
          "output_type": "stream",
          "text": [
            "[MoviePy] Writing audio in /content/gdrive/My Drive/adplace/scene_audios/audio-adplace_330-Scene-005.wav\n"
          ],
          "name": "stdout"
        },
        {
          "output_type": "stream",
          "text": [
            "100%|██████████| 88/88 [00:00<00:00, 111.89it/s]"
          ],
          "name": "stderr"
        },
        {
          "output_type": "stream",
          "text": [
            "[MoviePy] Done.\n"
          ],
          "name": "stdout"
        },
        {
          "output_type": "stream",
          "text": [
            "\n"
          ],
          "name": "stderr"
        },
        {
          "output_type": "stream",
          "text": [
            "[MoviePy] Writing audio in /content/gdrive/My Drive/adplace/scene_audios/audio-adplace_330-Scene-006.wav\n"
          ],
          "name": "stdout"
        },
        {
          "output_type": "stream",
          "text": [
            "\r  0%|          | 0/109 [00:00<?, ?it/s]"
          ],
          "name": "stderr"
        },
        {
          "output_type": "stream",
          "text": [
            "Exception in scene/content/gdrive/My Drive/adplace/scene_videos/adplace_330-Scene-006.mp4\n"
          ],
          "name": "stdout"
        },
        {
          "output_type": "stream",
          "text": [
            "\n"
          ],
          "name": "stderr"
        },
        {
          "output_type": "stream",
          "text": [
            "[MoviePy] Writing audio in /content/gdrive/My Drive/adplace/scene_audios/audio-adplace_330-Scene-007.wav\n"
          ],
          "name": "stdout"
        },
        {
          "output_type": "stream",
          "text": [
            "\r  0%|          | 0/130 [00:00<?, ?it/s]"
          ],
          "name": "stderr"
        },
        {
          "output_type": "stream",
          "text": [
            "Exception in scene/content/gdrive/My Drive/adplace/scene_videos/adplace_330-Scene-007.mp4\n"
          ],
          "name": "stdout"
        },
        {
          "output_type": "stream",
          "text": [
            "\n"
          ],
          "name": "stderr"
        },
        {
          "output_type": "stream",
          "text": [
            "[MoviePy] Writing audio in /content/gdrive/My Drive/adplace/scene_audios/audio-adplace_330-Scene-008.wav\n"
          ],
          "name": "stdout"
        },
        {
          "output_type": "stream",
          "text": [
            "100%|██████████| 38/38 [00:00<00:00, 1165.21it/s]"
          ],
          "name": "stderr"
        },
        {
          "output_type": "stream",
          "text": [
            "[MoviePy] Done.\n"
          ],
          "name": "stdout"
        },
        {
          "output_type": "stream",
          "text": [
            "\n"
          ],
          "name": "stderr"
        },
        {
          "output_type": "stream",
          "text": [
            "[MoviePy] Writing audio in /content/gdrive/My Drive/adplace/scene_audios/audio-adplace_330-Scene-009.wav\n"
          ],
          "name": "stdout"
        },
        {
          "output_type": "stream",
          "text": [
            "100%|██████████| 73/73 [00:00<00:00, 378.41it/s]\n"
          ],
          "name": "stderr"
        },
        {
          "output_type": "stream",
          "text": [
            "[MoviePy] Done.\n",
            "[MoviePy] Writing audio in /content/gdrive/My Drive/adplace/scene_audios/audio-adplace_330-Scene-010.wav\n"
          ],
          "name": "stdout"
        },
        {
          "output_type": "stream",
          "text": [
            "100%|██████████| 104/104 [00:01<00:00, 77.39it/s]"
          ],
          "name": "stderr"
        },
        {
          "output_type": "stream",
          "text": [
            "[MoviePy] Done.\n"
          ],
          "name": "stdout"
        },
        {
          "output_type": "stream",
          "text": [
            "\n"
          ],
          "name": "stderr"
        },
        {
          "output_type": "stream",
          "text": [
            "[MoviePy] Writing audio in /content/gdrive/My Drive/adplace/scene_audios/audio-adplace_330-Scene-011.wav\n"
          ],
          "name": "stdout"
        },
        {
          "output_type": "stream",
          "text": [
            "100%|██████████| 157/157 [00:00<00:00, 1837.27it/s]"
          ],
          "name": "stderr"
        },
        {
          "output_type": "stream",
          "text": [
            "[MoviePy] Done.\n"
          ],
          "name": "stdout"
        },
        {
          "output_type": "stream",
          "text": [
            "\n"
          ],
          "name": "stderr"
        },
        {
          "output_type": "stream",
          "text": [
            "[MoviePy] Writing audio in /content/gdrive/My Drive/adplace/scene_audios/audio-adplace_330-Scene-012.wav\n"
          ],
          "name": "stdout"
        },
        {
          "output_type": "stream",
          "text": [
            "100%|██████████| 87/87 [00:00<00:00, 103.81it/s]"
          ],
          "name": "stderr"
        },
        {
          "output_type": "stream",
          "text": [
            "[MoviePy] Done.\n"
          ],
          "name": "stdout"
        },
        {
          "output_type": "stream",
          "text": [
            "\n"
          ],
          "name": "stderr"
        },
        {
          "output_type": "stream",
          "text": [
            "[MoviePy] Writing audio in /content/gdrive/My Drive/adplace/scene_audios/audio-adplace_330-Scene-013.wav\n"
          ],
          "name": "stdout"
        },
        {
          "output_type": "stream",
          "text": [
            "100%|██████████| 128/128 [00:00<00:00, 164.42it/s]"
          ],
          "name": "stderr"
        },
        {
          "output_type": "stream",
          "text": [
            "[MoviePy] Done.\n"
          ],
          "name": "stdout"
        },
        {
          "output_type": "stream",
          "text": [
            "\n"
          ],
          "name": "stderr"
        },
        {
          "output_type": "stream",
          "text": [
            "[MoviePy] Writing audio in /content/gdrive/My Drive/adplace/scene_audios/audio-adplace_330-Scene-014.wav\n"
          ],
          "name": "stdout"
        },
        {
          "output_type": "stream",
          "text": [
            "100%|██████████| 41/41 [00:00<00:00, 1337.42it/s]"
          ],
          "name": "stderr"
        },
        {
          "output_type": "stream",
          "text": [
            "[MoviePy] Done.\n"
          ],
          "name": "stdout"
        },
        {
          "output_type": "stream",
          "text": [
            "\n"
          ],
          "name": "stderr"
        },
        {
          "output_type": "stream",
          "text": [
            "[MoviePy] Writing audio in /content/gdrive/My Drive/adplace/scene_audios/audio-adplace_330-Scene-015.wav\n"
          ],
          "name": "stdout"
        },
        {
          "output_type": "stream",
          "text": [
            "100%|██████████| 109/109 [00:00<00:00, 1839.68it/s]"
          ],
          "name": "stderr"
        },
        {
          "output_type": "stream",
          "text": [
            "[MoviePy] Done.\n"
          ],
          "name": "stdout"
        },
        {
          "output_type": "stream",
          "text": [
            "\n"
          ],
          "name": "stderr"
        },
        {
          "output_type": "stream",
          "text": [
            "[MoviePy] Writing audio in /content/gdrive/My Drive/adplace/scene_audios/audio-adplace_330-Scene-016.wav\n"
          ],
          "name": "stdout"
        },
        {
          "output_type": "stream",
          "text": [
            "100%|██████████| 159/159 [00:00<00:00, 1356.11it/s]"
          ],
          "name": "stderr"
        },
        {
          "output_type": "stream",
          "text": [
            "[MoviePy] Done.\n"
          ],
          "name": "stdout"
        },
        {
          "output_type": "stream",
          "text": [
            "\n"
          ],
          "name": "stderr"
        },
        {
          "output_type": "stream",
          "text": [
            "[MoviePy] Writing audio in /content/gdrive/My Drive/adplace/scene_audios/audio-adplace_330-Scene-017.wav\n"
          ],
          "name": "stdout"
        },
        {
          "output_type": "stream",
          "text": [
            "100%|██████████| 83/83 [00:00<00:00, 109.05it/s]"
          ],
          "name": "stderr"
        },
        {
          "output_type": "stream",
          "text": [
            "[MoviePy] Done.\n"
          ],
          "name": "stdout"
        },
        {
          "output_type": "stream",
          "text": [
            "\n"
          ],
          "name": "stderr"
        },
        {
          "output_type": "stream",
          "text": [
            "[MoviePy] Writing audio in /content/gdrive/My Drive/adplace/scene_audios/audio-adplace_330-Scene-018.wav\n"
          ],
          "name": "stdout"
        },
        {
          "output_type": "stream",
          "text": [
            "100%|██████████| 115/115 [00:01<00:00, 80.66it/s]"
          ],
          "name": "stderr"
        },
        {
          "output_type": "stream",
          "text": [
            "[MoviePy] Done.\n"
          ],
          "name": "stdout"
        },
        {
          "output_type": "stream",
          "text": [
            "\n"
          ],
          "name": "stderr"
        },
        {
          "output_type": "stream",
          "text": [
            "[MoviePy] Writing audio in /content/gdrive/My Drive/adplace/scene_audios/audio-adplace_330-Scene-019.wav\n"
          ],
          "name": "stdout"
        },
        {
          "output_type": "stream",
          "text": [
            "\r  0%|          | 0/135 [00:00<?, ?it/s]"
          ],
          "name": "stderr"
        },
        {
          "output_type": "stream",
          "text": [
            "Exception in scene/content/gdrive/My Drive/adplace/scene_videos/adplace_330-Scene-019.mp4\n"
          ],
          "name": "stdout"
        },
        {
          "output_type": "stream",
          "text": [
            "\n"
          ],
          "name": "stderr"
        },
        {
          "output_type": "stream",
          "text": [
            "[MoviePy] Writing audio in /content/gdrive/My Drive/adplace/scene_audios/audio-adplace_330-Scene-020.wav\n"
          ],
          "name": "stdout"
        },
        {
          "output_type": "stream",
          "text": [
            "100%|██████████| 50/50 [00:00<00:00, 1417.12it/s]"
          ],
          "name": "stderr"
        },
        {
          "output_type": "stream",
          "text": [
            "[MoviePy] Done.\n"
          ],
          "name": "stdout"
        },
        {
          "output_type": "stream",
          "text": [
            "\n"
          ],
          "name": "stderr"
        },
        {
          "output_type": "stream",
          "text": [
            "[MoviePy] Writing audio in /content/gdrive/My Drive/adplace/scene_audios/audio-adplace_330-Scene-021.wav\n"
          ],
          "name": "stdout"
        },
        {
          "output_type": "stream",
          "text": [
            "100%|██████████| 73/73 [00:00<00:00, 78.44it/s]"
          ],
          "name": "stderr"
        },
        {
          "output_type": "stream",
          "text": [
            "[MoviePy] Done.\n"
          ],
          "name": "stdout"
        },
        {
          "output_type": "stream",
          "text": [
            "\n"
          ],
          "name": "stderr"
        },
        {
          "output_type": "stream",
          "text": [
            "[MoviePy] Writing audio in /content/gdrive/My Drive/adplace/scene_audios/audio-adplace_330-Scene-022.wav\n"
          ],
          "name": "stdout"
        },
        {
          "output_type": "stream",
          "text": [
            "100%|██████████| 98/98 [00:01<00:00, 53.96it/s]"
          ],
          "name": "stderr"
        },
        {
          "output_type": "stream",
          "text": [
            "[MoviePy] Done.\n"
          ],
          "name": "stdout"
        },
        {
          "output_type": "stream",
          "text": [
            "\n"
          ],
          "name": "stderr"
        },
        {
          "output_type": "stream",
          "text": [
            "[MoviePy] Writing audio in /content/gdrive/My Drive/adplace/scene_audios/audio-adplace_330-Scene-023.wav\n"
          ],
          "name": "stdout"
        },
        {
          "output_type": "stream",
          "text": [
            "100%|██████████| 128/128 [00:01<00:00, 83.03it/s]"
          ],
          "name": "stderr"
        },
        {
          "output_type": "stream",
          "text": [
            "[MoviePy] Done.\n"
          ],
          "name": "stdout"
        },
        {
          "output_type": "stream",
          "text": [
            "\n"
          ],
          "name": "stderr"
        },
        {
          "output_type": "stream",
          "text": [
            "[MoviePy] Writing audio in /content/gdrive/My Drive/adplace/scene_audios/audio-adplace_330-Scene-024.wav\n"
          ],
          "name": "stdout"
        },
        {
          "output_type": "stream",
          "text": [
            "100%|██████████| 77/77 [00:00<00:00, 1695.11it/s]"
          ],
          "name": "stderr"
        },
        {
          "output_type": "stream",
          "text": [
            "[MoviePy] Done.\n"
          ],
          "name": "stdout"
        },
        {
          "output_type": "stream",
          "text": [
            "\n"
          ],
          "name": "stderr"
        },
        {
          "output_type": "stream",
          "text": [
            "[MoviePy] Writing audio in /content/gdrive/My Drive/adplace/scene_audios/audio-adplace_330-Scene-025.wav\n"
          ],
          "name": "stdout"
        },
        {
          "output_type": "stream",
          "text": [
            "100%|██████████| 113/113 [00:01<00:00, 96.38it/s]"
          ],
          "name": "stderr"
        },
        {
          "output_type": "stream",
          "text": [
            "[MoviePy] Done.\n"
          ],
          "name": "stdout"
        },
        {
          "output_type": "stream",
          "text": [
            "\n"
          ],
          "name": "stderr"
        },
        {
          "output_type": "stream",
          "text": [
            "[MoviePy] Writing audio in /content/gdrive/My Drive/adplace/scene_audios/audio-adplace_330-Scene-026.wav\n"
          ],
          "name": "stdout"
        },
        {
          "output_type": "stream",
          "text": [
            "100%|██████████| 175/175 [00:00<00:00, 2005.49it/s]"
          ],
          "name": "stderr"
        },
        {
          "output_type": "stream",
          "text": [
            "[MoviePy] Done.\n"
          ],
          "name": "stdout"
        },
        {
          "output_type": "stream",
          "text": [
            "\n"
          ],
          "name": "stderr"
        },
        {
          "output_type": "stream",
          "text": [
            "[MoviePy] Writing audio in /content/gdrive/My Drive/adplace/scene_audios/audio-adplace_330-Scene-027.wav\n"
          ],
          "name": "stdout"
        },
        {
          "output_type": "stream",
          "text": [
            "100%|██████████| 94/94 [00:00<00:00, 159.50it/s]"
          ],
          "name": "stderr"
        },
        {
          "output_type": "stream",
          "text": [
            "[MoviePy] Done.\n"
          ],
          "name": "stdout"
        },
        {
          "output_type": "stream",
          "text": [
            "\n"
          ],
          "name": "stderr"
        },
        {
          "output_type": "stream",
          "text": [
            "[MoviePy] Writing audio in /content/gdrive/My Drive/adplace/scene_audios/audio-adplace_330-Scene-028.wav\n"
          ],
          "name": "stdout"
        },
        {
          "output_type": "stream",
          "text": [
            "100%|██████████| 193/193 [00:00<00:00, 1585.25it/s]"
          ],
          "name": "stderr"
        },
        {
          "output_type": "stream",
          "text": [
            "[MoviePy] Done.\n"
          ],
          "name": "stdout"
        },
        {
          "output_type": "stream",
          "text": [
            "\n"
          ],
          "name": "stderr"
        },
        {
          "output_type": "stream",
          "text": [
            "[MoviePy] Writing audio in /content/gdrive/My Drive/adplace/scene_audios/audio-adplace_330-Scene-029.wav\n"
          ],
          "name": "stdout"
        },
        {
          "output_type": "stream",
          "text": [
            "100%|██████████| 143/143 [00:00<00:00, 197.63it/s]"
          ],
          "name": "stderr"
        },
        {
          "output_type": "stream",
          "text": [
            "[MoviePy] Done.\n"
          ],
          "name": "stdout"
        },
        {
          "output_type": "stream",
          "text": [
            "\n"
          ],
          "name": "stderr"
        },
        {
          "output_type": "stream",
          "text": [
            "[MoviePy] Writing audio in /content/gdrive/My Drive/adplace/scene_audios/audio-adplace_330-Scene-030.wav\n"
          ],
          "name": "stdout"
        },
        {
          "output_type": "stream",
          "text": [
            "100%|██████████| 67/67 [00:00<00:00, 76.98it/s]"
          ],
          "name": "stderr"
        },
        {
          "output_type": "stream",
          "text": [
            "[MoviePy] Done.\n"
          ],
          "name": "stdout"
        },
        {
          "output_type": "stream",
          "text": [
            "\n"
          ],
          "name": "stderr"
        },
        {
          "output_type": "stream",
          "text": [
            "[MoviePy] Writing audio in /content/gdrive/My Drive/adplace/scene_audios/audio-adplace_330-Scene-031.wav\n"
          ],
          "name": "stdout"
        },
        {
          "output_type": "stream",
          "text": [
            "100%|██████████| 134/134 [00:00<00:00, 1900.65it/s]"
          ],
          "name": "stderr"
        },
        {
          "output_type": "stream",
          "text": [
            "[MoviePy] Done.\n"
          ],
          "name": "stdout"
        },
        {
          "output_type": "stream",
          "text": [
            "\n"
          ],
          "name": "stderr"
        },
        {
          "output_type": "stream",
          "text": [
            "Exception in scene/content/gdrive/My Drive/adplace/scene_videos/adplace_330-Scenes.csv\n",
            "[MoviePy] Writing audio in /content/gdrive/My Drive/adplace/scene_audios/audio-adplace_331-Scene-001.wav\n"
          ],
          "name": "stdout"
        },
        {
          "output_type": "stream",
          "text": [
            "100%|██████████| 24/24 [00:00<00:00, 1547.10it/s]"
          ],
          "name": "stderr"
        },
        {
          "output_type": "stream",
          "text": [
            "[MoviePy] Done.\n"
          ],
          "name": "stdout"
        },
        {
          "output_type": "stream",
          "text": [
            "\n"
          ],
          "name": "stderr"
        },
        {
          "output_type": "stream",
          "text": [
            "[MoviePy] Writing audio in /content/gdrive/My Drive/adplace/scene_audios/audio-adplace_331-Scene-002.wav\n"
          ],
          "name": "stdout"
        },
        {
          "output_type": "stream",
          "text": [
            "100%|██████████| 114/114 [00:00<00:00, 2036.89it/s]"
          ],
          "name": "stderr"
        },
        {
          "output_type": "stream",
          "text": [
            "[MoviePy] Done.\n"
          ],
          "name": "stdout"
        },
        {
          "output_type": "stream",
          "text": [
            "\n"
          ],
          "name": "stderr"
        },
        {
          "output_type": "stream",
          "text": [
            "[MoviePy] Writing audio in /content/gdrive/My Drive/adplace/scene_audios/audio-adplace_331-Scene-003.wav\n"
          ],
          "name": "stdout"
        },
        {
          "output_type": "stream",
          "text": [
            "100%|██████████| 159/159 [00:00<00:00, 284.87it/s]"
          ],
          "name": "stderr"
        },
        {
          "output_type": "stream",
          "text": [
            "[MoviePy] Done.\n"
          ],
          "name": "stdout"
        },
        {
          "output_type": "stream",
          "text": [
            "\n"
          ],
          "name": "stderr"
        },
        {
          "output_type": "stream",
          "text": [
            "[MoviePy] Writing audio in /content/gdrive/My Drive/adplace/scene_audios/audio-adplace_331-Scene-004.wav\n"
          ],
          "name": "stdout"
        },
        {
          "output_type": "stream",
          "text": [
            "100%|██████████| 93/93 [00:00<00:00, 1593.42it/s]"
          ],
          "name": "stderr"
        },
        {
          "output_type": "stream",
          "text": [
            "[MoviePy] Done.\n"
          ],
          "name": "stdout"
        },
        {
          "output_type": "stream",
          "text": [
            "\n"
          ],
          "name": "stderr"
        },
        {
          "output_type": "stream",
          "text": [
            "[MoviePy] Writing audio in /content/gdrive/My Drive/adplace/scene_audios/audio-adplace_331-Scene-005.wav\n"
          ],
          "name": "stdout"
        },
        {
          "output_type": "stream",
          "text": [
            "100%|██████████| 134/134 [00:00<00:00, 160.84it/s]"
          ],
          "name": "stderr"
        },
        {
          "output_type": "stream",
          "text": [
            "[MoviePy] Done.\n"
          ],
          "name": "stdout"
        },
        {
          "output_type": "stream",
          "text": [
            "\n"
          ],
          "name": "stderr"
        },
        {
          "output_type": "stream",
          "text": [
            "[MoviePy] Writing audio in /content/gdrive/My Drive/adplace/scene_audios/audio-adplace_331-Scene-006.wav\n"
          ],
          "name": "stdout"
        },
        {
          "output_type": "stream",
          "text": [
            "100%|██████████| 106/106 [00:00<00:00, 1834.16it/s]"
          ],
          "name": "stderr"
        },
        {
          "output_type": "stream",
          "text": [
            "[MoviePy] Done.\n"
          ],
          "name": "stdout"
        },
        {
          "output_type": "stream",
          "text": [
            "\n"
          ],
          "name": "stderr"
        },
        {
          "output_type": "stream",
          "text": [
            "[MoviePy] Writing audio in /content/gdrive/My Drive/adplace/scene_audios/audio-adplace_331-Scene-007.wav\n"
          ],
          "name": "stdout"
        },
        {
          "output_type": "stream",
          "text": [
            "100%|██████████| 178/178 [00:00<00:00, 2035.40it/s]"
          ],
          "name": "stderr"
        },
        {
          "output_type": "stream",
          "text": [
            "[MoviePy] Done.\n"
          ],
          "name": "stdout"
        },
        {
          "output_type": "stream",
          "text": [
            "\n"
          ],
          "name": "stderr"
        },
        {
          "output_type": "stream",
          "text": [
            "[MoviePy] Writing audio in /content/gdrive/My Drive/adplace/scene_audios/audio-adplace_331-Scene-008.wav\n"
          ],
          "name": "stdout"
        },
        {
          "output_type": "stream",
          "text": [
            "\r  0%|          | 0/88 [00:00<?, ?it/s]"
          ],
          "name": "stderr"
        },
        {
          "output_type": "stream",
          "text": [
            "Exception in scene/content/gdrive/My Drive/adplace/scene_videos/adplace_331-Scene-008.mp4\n"
          ],
          "name": "stdout"
        },
        {
          "output_type": "stream",
          "text": [
            "\n"
          ],
          "name": "stderr"
        },
        {
          "output_type": "stream",
          "text": [
            "[MoviePy] Writing audio in /content/gdrive/My Drive/adplace/scene_audios/audio-adplace_331-Scene-009.wav\n"
          ],
          "name": "stdout"
        },
        {
          "output_type": "stream",
          "text": [
            "100%|██████████| 285/285 [00:00<00:00, 1558.65it/s]"
          ],
          "name": "stderr"
        },
        {
          "output_type": "stream",
          "text": [
            "[MoviePy] Done.\n"
          ],
          "name": "stdout"
        },
        {
          "output_type": "stream",
          "text": [
            "\n"
          ],
          "name": "stderr"
        },
        {
          "output_type": "stream",
          "text": [
            "[MoviePy] Writing audio in /content/gdrive/My Drive/adplace/scene_audios/audio-adplace_331-Scene-010.wav\n"
          ],
          "name": "stdout"
        },
        {
          "output_type": "stream",
          "text": [
            "100%|██████████| 94/94 [00:00<00:00, 141.13it/s]"
          ],
          "name": "stderr"
        },
        {
          "output_type": "stream",
          "text": [
            "[MoviePy] Done.\n"
          ],
          "name": "stdout"
        },
        {
          "output_type": "stream",
          "text": [
            "\n"
          ],
          "name": "stderr"
        },
        {
          "output_type": "stream",
          "text": [
            "[MoviePy] Writing audio in /content/gdrive/My Drive/adplace/scene_audios/audio-adplace_331-Scene-011.wav\n"
          ],
          "name": "stdout"
        },
        {
          "output_type": "stream",
          "text": [
            "100%|██████████| 199/199 [00:00<00:00, 2026.54it/s]"
          ],
          "name": "stderr"
        },
        {
          "output_type": "stream",
          "text": [
            "[MoviePy] Done.\n"
          ],
          "name": "stdout"
        },
        {
          "output_type": "stream",
          "text": [
            "\n"
          ],
          "name": "stderr"
        },
        {
          "output_type": "stream",
          "text": [
            "[MoviePy] Writing audio in /content/gdrive/My Drive/adplace/scene_audios/audio-adplace_331-Scene-012.wav\n"
          ],
          "name": "stdout"
        },
        {
          "output_type": "stream",
          "text": [
            "100%|██████████| 150/150 [00:00<00:00, 226.41it/s]"
          ],
          "name": "stderr"
        },
        {
          "output_type": "stream",
          "text": [
            "[MoviePy] Done.\n"
          ],
          "name": "stdout"
        },
        {
          "output_type": "stream",
          "text": [
            "\n"
          ],
          "name": "stderr"
        },
        {
          "output_type": "stream",
          "text": [
            "[MoviePy] Writing audio in /content/gdrive/My Drive/adplace/scene_audios/audio-adplace_331-Scene-013.wav\n"
          ],
          "name": "stdout"
        },
        {
          "output_type": "stream",
          "text": [
            "100%|██████████| 181/181 [00:00<00:00, 1587.02it/s]"
          ],
          "name": "stderr"
        },
        {
          "output_type": "stream",
          "text": [
            "[MoviePy] Done.\n"
          ],
          "name": "stdout"
        },
        {
          "output_type": "stream",
          "text": [
            "\n"
          ],
          "name": "stderr"
        },
        {
          "output_type": "stream",
          "text": [
            "[MoviePy] Writing audio in /content/gdrive/My Drive/adplace/scene_audios/audio-adplace_331-Scene-014.wav\n"
          ],
          "name": "stdout"
        },
        {
          "output_type": "stream",
          "text": [
            "100%|██████████| 94/94 [00:01<00:00, 68.90it/s]"
          ],
          "name": "stderr"
        },
        {
          "output_type": "stream",
          "text": [
            "[MoviePy] Done.\n"
          ],
          "name": "stdout"
        },
        {
          "output_type": "stream",
          "text": [
            "\n"
          ],
          "name": "stderr"
        },
        {
          "output_type": "stream",
          "text": [
            "[MoviePy] Writing audio in /content/gdrive/My Drive/adplace/scene_audios/audio-adplace_331-Scene-015.wav\n"
          ],
          "name": "stdout"
        },
        {
          "output_type": "stream",
          "text": [
            "\r  0%|          | 0/109 [00:00<?, ?it/s]"
          ],
          "name": "stderr"
        },
        {
          "output_type": "stream",
          "text": [
            "Exception in scene/content/gdrive/My Drive/adplace/scene_videos/adplace_331-Scene-015.mp4\n"
          ],
          "name": "stdout"
        },
        {
          "output_type": "stream",
          "text": [
            "\n"
          ],
          "name": "stderr"
        },
        {
          "output_type": "stream",
          "text": [
            "[MoviePy] Writing audio in /content/gdrive/My Drive/adplace/scene_audios/audio-adplace_331-Scene-016.wav\n"
          ],
          "name": "stdout"
        },
        {
          "output_type": "stream",
          "text": [
            "100%|██████████| 288/288 [00:00<00:00, 482.49it/s]"
          ],
          "name": "stderr"
        },
        {
          "output_type": "stream",
          "text": [
            "[MoviePy] Done.\n"
          ],
          "name": "stdout"
        },
        {
          "output_type": "stream",
          "text": [
            "\n"
          ],
          "name": "stderr"
        },
        {
          "output_type": "stream",
          "text": [
            "[MoviePy] Writing audio in /content/gdrive/My Drive/adplace/scene_audios/audio-adplace_331-Scene-017.wav\n"
          ],
          "name": "stdout"
        },
        {
          "output_type": "stream",
          "text": [
            "100%|██████████| 102/102 [00:01<00:00, 93.23it/s]"
          ],
          "name": "stderr"
        },
        {
          "output_type": "stream",
          "text": [
            "[MoviePy] Done.\n"
          ],
          "name": "stdout"
        },
        {
          "output_type": "stream",
          "text": [
            "\n"
          ],
          "name": "stderr"
        },
        {
          "output_type": "stream",
          "text": [
            "[MoviePy] Writing audio in /content/gdrive/My Drive/adplace/scene_audios/audio-adplace_331-Scene-018.wav\n"
          ],
          "name": "stdout"
        },
        {
          "output_type": "stream",
          "text": [
            "100%|██████████| 152/152 [00:00<00:00, 1276.21it/s]"
          ],
          "name": "stderr"
        },
        {
          "output_type": "stream",
          "text": [
            "[MoviePy] Done.\n"
          ],
          "name": "stdout"
        },
        {
          "output_type": "stream",
          "text": [
            "\n"
          ],
          "name": "stderr"
        },
        {
          "output_type": "stream",
          "text": [
            "[MoviePy] Writing audio in /content/gdrive/My Drive/adplace/scene_audios/audio-adplace_331-Scene-019.wav\n"
          ],
          "name": "stdout"
        },
        {
          "output_type": "stream",
          "text": [
            "100%|██████████| 123/123 [00:00<00:00, 1917.79it/s]"
          ],
          "name": "stderr"
        },
        {
          "output_type": "stream",
          "text": [
            "[MoviePy] Done.\n"
          ],
          "name": "stdout"
        },
        {
          "output_type": "stream",
          "text": [
            "\n"
          ],
          "name": "stderr"
        },
        {
          "output_type": "stream",
          "text": [
            "[MoviePy] Writing audio in /content/gdrive/My Drive/adplace/scene_audios/audio-adplace_331-Scene-020.wav\n"
          ],
          "name": "stdout"
        },
        {
          "output_type": "stream",
          "text": [
            "100%|██████████| 50/50 [00:00<00:00, 1409.22it/s]"
          ],
          "name": "stderr"
        },
        {
          "output_type": "stream",
          "text": [
            "[MoviePy] Done.\n"
          ],
          "name": "stdout"
        },
        {
          "output_type": "stream",
          "text": [
            "\n"
          ],
          "name": "stderr"
        },
        {
          "output_type": "stream",
          "text": [
            "[MoviePy] Writing audio in /content/gdrive/My Drive/adplace/scene_audios/audio-adplace_331-Scene-021.wav\n"
          ],
          "name": "stdout"
        },
        {
          "output_type": "stream",
          "text": [
            "100%|██████████| 357/357 [00:00<00:00, 1048.38it/s]"
          ],
          "name": "stderr"
        },
        {
          "output_type": "stream",
          "text": [
            "[MoviePy] Done.\n"
          ],
          "name": "stdout"
        },
        {
          "output_type": "stream",
          "text": [
            "\n"
          ],
          "name": "stderr"
        },
        {
          "output_type": "stream",
          "text": [
            "[MoviePy] Writing audio in /content/gdrive/My Drive/adplace/scene_audios/audio-adplace_331-Scene-022.wav\n"
          ],
          "name": "stdout"
        },
        {
          "output_type": "stream",
          "text": [
            "100%|██████████| 53/53 [00:00<00:00, 1529.06it/s]"
          ],
          "name": "stderr"
        },
        {
          "output_type": "stream",
          "text": [
            "[MoviePy] Done.\n"
          ],
          "name": "stdout"
        },
        {
          "output_type": "stream",
          "text": [
            "\n"
          ],
          "name": "stderr"
        },
        {
          "output_type": "stream",
          "text": [
            "[MoviePy] Writing audio in /content/gdrive/My Drive/adplace/scene_audios/audio-adplace_331-Scene-023.wav\n"
          ],
          "name": "stdout"
        },
        {
          "output_type": "stream",
          "text": [
            "100%|██████████| 184/184 [00:00<00:00, 1888.71it/s]"
          ],
          "name": "stderr"
        },
        {
          "output_type": "stream",
          "text": [
            "[MoviePy] Done.\n"
          ],
          "name": "stdout"
        },
        {
          "output_type": "stream",
          "text": [
            "\n"
          ],
          "name": "stderr"
        },
        {
          "output_type": "stream",
          "text": [
            "[MoviePy] Writing audio in /content/gdrive/My Drive/adplace/scene_audios/audio-adplace_331-Scene-024.wav\n"
          ],
          "name": "stdout"
        },
        {
          "output_type": "stream",
          "text": [
            "100%|██████████| 145/145 [00:00<00:00, 1916.54it/s]"
          ],
          "name": "stderr"
        },
        {
          "output_type": "stream",
          "text": [
            "[MoviePy] Done.\n"
          ],
          "name": "stdout"
        },
        {
          "output_type": "stream",
          "text": [
            "\n"
          ],
          "name": "stderr"
        },
        {
          "output_type": "stream",
          "text": [
            "[MoviePy] Writing audio in /content/gdrive/My Drive/adplace/scene_audios/audio-adplace_331-Scene-025.wav\n"
          ],
          "name": "stdout"
        },
        {
          "output_type": "stream",
          "text": [
            "100%|██████████| 188/188 [00:00<00:00, 1687.52it/s]"
          ],
          "name": "stderr"
        },
        {
          "output_type": "stream",
          "text": [
            "[MoviePy] Done.\n"
          ],
          "name": "stdout"
        },
        {
          "output_type": "stream",
          "text": [
            "\n"
          ],
          "name": "stderr"
        },
        {
          "output_type": "stream",
          "text": [
            "[MoviePy] Writing audio in /content/gdrive/My Drive/adplace/scene_audios/audio-adplace_331-Scene-026.wav\n"
          ],
          "name": "stdout"
        },
        {
          "output_type": "stream",
          "text": [
            "100%|██████████| 774/774 [00:00<00:00, 1769.95it/s]"
          ],
          "name": "stderr"
        },
        {
          "output_type": "stream",
          "text": [
            "[MoviePy] Done.\n"
          ],
          "name": "stdout"
        },
        {
          "output_type": "stream",
          "text": [
            "\n"
          ],
          "name": "stderr"
        },
        {
          "output_type": "stream",
          "text": [
            "[MoviePy] Writing audio in /content/gdrive/My Drive/adplace/scene_audios/audio-adplace_331-Scene-027.wav\n"
          ],
          "name": "stdout"
        },
        {
          "output_type": "stream",
          "text": [
            "100%|██████████| 152/152 [00:00<00:00, 1917.86it/s]"
          ],
          "name": "stderr"
        },
        {
          "output_type": "stream",
          "text": [
            "[MoviePy] Done.\n"
          ],
          "name": "stdout"
        },
        {
          "output_type": "stream",
          "text": [
            "\n"
          ],
          "name": "stderr"
        },
        {
          "output_type": "stream",
          "text": [
            "[MoviePy] Writing audio in /content/gdrive/My Drive/adplace/scene_audios/audio-adplace_331-Scene-028.wav\n"
          ],
          "name": "stdout"
        },
        {
          "output_type": "stream",
          "text": [
            "100%|██████████| 313/313 [00:00<00:00, 696.20it/s]"
          ],
          "name": "stderr"
        },
        {
          "output_type": "stream",
          "text": [
            "[MoviePy] Done.\n"
          ],
          "name": "stdout"
        },
        {
          "output_type": "stream",
          "text": [
            "\n"
          ],
          "name": "stderr"
        },
        {
          "output_type": "stream",
          "text": [
            "[MoviePy] Writing audio in /content/gdrive/My Drive/adplace/scene_audios/audio-adplace_331-Scene-029.wav\n"
          ],
          "name": "stdout"
        },
        {
          "output_type": "stream",
          "text": [
            "100%|██████████| 104/104 [00:01<00:00, 53.94it/s]"
          ],
          "name": "stderr"
        },
        {
          "output_type": "stream",
          "text": [
            "[MoviePy] Done.\n"
          ],
          "name": "stdout"
        },
        {
          "output_type": "stream",
          "text": [
            "\n"
          ],
          "name": "stderr"
        },
        {
          "output_type": "stream",
          "text": [
            "[MoviePy] Writing audio in /content/gdrive/My Drive/adplace/scene_audios/audio-adplace_331-Scene-030.wav\n"
          ],
          "name": "stdout"
        },
        {
          "output_type": "stream",
          "text": [
            "100%|██████████| 217/217 [00:00<00:00, 1679.81it/s]"
          ],
          "name": "stderr"
        },
        {
          "output_type": "stream",
          "text": [
            "[MoviePy] Done.\n"
          ],
          "name": "stdout"
        },
        {
          "output_type": "stream",
          "text": [
            "\n"
          ],
          "name": "stderr"
        },
        {
          "output_type": "stream",
          "text": [
            "[MoviePy] Writing audio in /content/gdrive/My Drive/adplace/scene_audios/audio-adplace_331-Scene-031.wav\n"
          ],
          "name": "stdout"
        },
        {
          "output_type": "stream",
          "text": [
            "100%|██████████| 194/194 [00:00<00:00, 2046.26it/s]"
          ],
          "name": "stderr"
        },
        {
          "output_type": "stream",
          "text": [
            "[MoviePy] Done.\n"
          ],
          "name": "stdout"
        },
        {
          "output_type": "stream",
          "text": [
            "\n"
          ],
          "name": "stderr"
        },
        {
          "output_type": "stream",
          "text": [
            "[MoviePy] Writing audio in /content/gdrive/My Drive/adplace/scene_audios/audio-adplace_331-Scene-032.wav\n"
          ],
          "name": "stdout"
        },
        {
          "output_type": "stream",
          "text": [
            "100%|██████████| 143/143 [00:00<00:00, 2121.07it/s]"
          ],
          "name": "stderr"
        },
        {
          "output_type": "stream",
          "text": [
            "[MoviePy] Done.\n"
          ],
          "name": "stdout"
        },
        {
          "output_type": "stream",
          "text": [
            "\n"
          ],
          "name": "stderr"
        },
        {
          "output_type": "stream",
          "text": [
            "[MoviePy] Writing audio in /content/gdrive/My Drive/adplace/scene_audios/audio-adplace_331-Scene-033.wav\n"
          ],
          "name": "stdout"
        },
        {
          "output_type": "stream",
          "text": [
            "100%|██████████| 53/53 [00:00<00:00, 160.42it/s]"
          ],
          "name": "stderr"
        },
        {
          "output_type": "stream",
          "text": [
            "[MoviePy] Done.\n"
          ],
          "name": "stdout"
        },
        {
          "output_type": "stream",
          "text": [
            "\n"
          ],
          "name": "stderr"
        },
        {
          "output_type": "stream",
          "text": [
            "Exception in scene/content/gdrive/My Drive/adplace/scene_videos/adplace_331-Scenes.csv\n",
            "[MoviePy] Writing audio in /content/gdrive/My Drive/adplace/scene_audios/audio-adplace_332-Scene-001.wav\n"
          ],
          "name": "stdout"
        },
        {
          "output_type": "stream",
          "text": [
            "100%|██████████| 12/12 [00:00<00:00, 1078.83it/s]"
          ],
          "name": "stderr"
        },
        {
          "output_type": "stream",
          "text": [
            "[MoviePy] Done.\n"
          ],
          "name": "stdout"
        },
        {
          "output_type": "stream",
          "text": [
            "\n"
          ],
          "name": "stderr"
        },
        {
          "output_type": "stream",
          "text": [
            "[MoviePy] Writing audio in /content/gdrive/My Drive/adplace/scene_audios/audio-adplace_332-Scene-002.wav\n"
          ],
          "name": "stdout"
        },
        {
          "output_type": "stream",
          "text": [
            "100%|██████████| 197/197 [00:00<00:00, 753.50it/s]"
          ],
          "name": "stderr"
        },
        {
          "output_type": "stream",
          "text": [
            "[MoviePy] Done.\n"
          ],
          "name": "stdout"
        },
        {
          "output_type": "stream",
          "text": [
            "\n"
          ],
          "name": "stderr"
        },
        {
          "output_type": "stream",
          "text": [
            "[MoviePy] Writing audio in /content/gdrive/My Drive/adplace/scene_audios/audio-adplace_332-Scene-003.wav\n"
          ],
          "name": "stdout"
        },
        {
          "output_type": "stream",
          "text": [
            "100%|██████████| 239/239 [00:00<00:00, 849.37it/s]"
          ],
          "name": "stderr"
        },
        {
          "output_type": "stream",
          "text": [
            "[MoviePy] Done.\n"
          ],
          "name": "stdout"
        },
        {
          "output_type": "stream",
          "text": [
            "\n"
          ],
          "name": "stderr"
        },
        {
          "output_type": "stream",
          "text": [
            "Exception in scene/content/gdrive/My Drive/adplace/scene_videos/adplace_332-Scenes.csv\n",
            "[MoviePy] Writing audio in /content/gdrive/My Drive/adplace/scene_audios/audio-adplace_333-Scene-001.wav\n"
          ],
          "name": "stdout"
        },
        {
          "output_type": "stream",
          "text": [
            "100%|██████████| 52/52 [00:00<00:00, 1384.53it/s]"
          ],
          "name": "stderr"
        },
        {
          "output_type": "stream",
          "text": [
            "[MoviePy] Done.\n"
          ],
          "name": "stdout"
        },
        {
          "output_type": "stream",
          "text": [
            "\n"
          ],
          "name": "stderr"
        },
        {
          "output_type": "stream",
          "text": [
            "[MoviePy] Writing audio in /content/gdrive/My Drive/adplace/scene_audios/audio-adplace_333-Scene-002.wav\n"
          ],
          "name": "stdout"
        },
        {
          "output_type": "stream",
          "text": [
            "100%|██████████| 115/115 [00:00<00:00, 1830.37it/s]"
          ],
          "name": "stderr"
        },
        {
          "output_type": "stream",
          "text": [
            "[MoviePy] Done.\n"
          ],
          "name": "stdout"
        },
        {
          "output_type": "stream",
          "text": [
            "\n"
          ],
          "name": "stderr"
        },
        {
          "output_type": "stream",
          "text": [
            "[MoviePy] Writing audio in /content/gdrive/My Drive/adplace/scene_audios/audio-adplace_333-Scene-003.wav\n"
          ],
          "name": "stdout"
        },
        {
          "output_type": "stream",
          "text": [
            "100%|██████████| 187/187 [00:00<00:00, 2060.84it/s]"
          ],
          "name": "stderr"
        },
        {
          "output_type": "stream",
          "text": [
            "[MoviePy] Done.\n"
          ],
          "name": "stdout"
        },
        {
          "output_type": "stream",
          "text": [
            "\n"
          ],
          "name": "stderr"
        },
        {
          "output_type": "stream",
          "text": [
            "[MoviePy] Writing audio in /content/gdrive/My Drive/adplace/scene_audios/audio-adplace_333-Scene-004.wav\n"
          ],
          "name": "stdout"
        },
        {
          "output_type": "stream",
          "text": [
            "100%|██████████| 137/137 [00:00<00:00, 1884.31it/s]"
          ],
          "name": "stderr"
        },
        {
          "output_type": "stream",
          "text": [
            "[MoviePy] Done.\n"
          ],
          "name": "stdout"
        },
        {
          "output_type": "stream",
          "text": [
            "\n"
          ],
          "name": "stderr"
        },
        {
          "output_type": "stream",
          "text": [
            "[MoviePy] Writing audio in /content/gdrive/My Drive/adplace/scene_audios/audio-adplace_333-Scene-005.wav\n"
          ],
          "name": "stdout"
        },
        {
          "output_type": "stream",
          "text": [
            "100%|██████████| 83/83 [00:00<00:00, 1781.64it/s]"
          ],
          "name": "stderr"
        },
        {
          "output_type": "stream",
          "text": [
            "[MoviePy] Done.\n"
          ],
          "name": "stdout"
        },
        {
          "output_type": "stream",
          "text": [
            "\n"
          ],
          "name": "stderr"
        },
        {
          "output_type": "stream",
          "text": [
            "[MoviePy] Writing audio in /content/gdrive/My Drive/adplace/scene_audios/audio-adplace_333-Scene-006.wav\n"
          ],
          "name": "stdout"
        },
        {
          "output_type": "stream",
          "text": [
            "\r  0%|          | 0/105 [00:00<?, ?it/s]"
          ],
          "name": "stderr"
        },
        {
          "output_type": "stream",
          "text": [
            "Exception in scene/content/gdrive/My Drive/adplace/scene_videos/adplace_333-Scene-006.mp4\n"
          ],
          "name": "stdout"
        },
        {
          "output_type": "stream",
          "text": [
            "\n"
          ],
          "name": "stderr"
        },
        {
          "output_type": "stream",
          "text": [
            "[MoviePy] Writing audio in /content/gdrive/My Drive/adplace/scene_audios/audio-adplace_333-Scene-007.wav\n"
          ],
          "name": "stdout"
        },
        {
          "output_type": "stream",
          "text": [
            "100%|██████████| 147/147 [00:00<00:00, 177.71it/s]"
          ],
          "name": "stderr"
        },
        {
          "output_type": "stream",
          "text": [
            "[MoviePy] Done.\n"
          ],
          "name": "stdout"
        },
        {
          "output_type": "stream",
          "text": [
            "\n"
          ],
          "name": "stderr"
        },
        {
          "output_type": "stream",
          "text": [
            "[MoviePy] Writing audio in /content/gdrive/My Drive/adplace/scene_audios/audio-adplace_333-Scene-008.wav\n"
          ],
          "name": "stdout"
        },
        {
          "output_type": "stream",
          "text": [
            "100%|██████████| 257/257 [00:00<00:00, 1731.10it/s]"
          ],
          "name": "stderr"
        },
        {
          "output_type": "stream",
          "text": [
            "[MoviePy] Done.\n"
          ],
          "name": "stdout"
        },
        {
          "output_type": "stream",
          "text": [
            "\n"
          ],
          "name": "stderr"
        },
        {
          "output_type": "stream",
          "text": [
            "[MoviePy] Writing audio in /content/gdrive/My Drive/adplace/scene_audios/audio-adplace_333-Scene-009.wav\n"
          ],
          "name": "stdout"
        },
        {
          "output_type": "stream",
          "text": [
            "100%|██████████| 54/54 [00:00<00:00, 1437.02it/s]"
          ],
          "name": "stderr"
        },
        {
          "output_type": "stream",
          "text": [
            "[MoviePy] Done.\n"
          ],
          "name": "stdout"
        },
        {
          "output_type": "stream",
          "text": [
            "\n"
          ],
          "name": "stderr"
        },
        {
          "output_type": "stream",
          "text": [
            "[MoviePy] Writing audio in /content/gdrive/My Drive/adplace/scene_audios/audio-adplace_333-Scene-010.wav\n"
          ],
          "name": "stdout"
        },
        {
          "output_type": "stream",
          "text": [
            "100%|██████████| 126/126 [00:00<00:00, 1830.77it/s]"
          ],
          "name": "stderr"
        },
        {
          "output_type": "stream",
          "text": [
            "[MoviePy] Done.\n"
          ],
          "name": "stdout"
        },
        {
          "output_type": "stream",
          "text": [
            "\n"
          ],
          "name": "stderr"
        },
        {
          "output_type": "stream",
          "text": [
            "[MoviePy] Writing audio in /content/gdrive/My Drive/adplace/scene_audios/audio-adplace_333-Scene-011.wav\n"
          ],
          "name": "stdout"
        },
        {
          "output_type": "stream",
          "text": [
            "100%|██████████| 57/57 [00:00<00:00, 1552.28it/s]"
          ],
          "name": "stderr"
        },
        {
          "output_type": "stream",
          "text": [
            "[MoviePy] Done.\n"
          ],
          "name": "stdout"
        },
        {
          "output_type": "stream",
          "text": [
            "\n"
          ],
          "name": "stderr"
        },
        {
          "output_type": "stream",
          "text": [
            "[MoviePy] Writing audio in /content/gdrive/My Drive/adplace/scene_audios/audio-adplace_333-Scene-012.wav\n"
          ],
          "name": "stdout"
        },
        {
          "output_type": "stream",
          "text": [
            "100%|██████████| 270/270 [00:00<00:00, 823.99it/s]"
          ],
          "name": "stderr"
        },
        {
          "output_type": "stream",
          "text": [
            "[MoviePy] Done.\n"
          ],
          "name": "stdout"
        },
        {
          "output_type": "stream",
          "text": [
            "\n"
          ],
          "name": "stderr"
        },
        {
          "output_type": "stream",
          "text": [
            "[MoviePy] Writing audio in /content/gdrive/My Drive/adplace/scene_audios/audio-adplace_333-Scene-013.wav\n"
          ],
          "name": "stdout"
        },
        {
          "output_type": "stream",
          "text": [
            "100%|██████████| 165/165 [00:00<00:00, 1964.60it/s]"
          ],
          "name": "stderr"
        },
        {
          "output_type": "stream",
          "text": [
            "[MoviePy] Done.\n"
          ],
          "name": "stdout"
        },
        {
          "output_type": "stream",
          "text": [
            "\n"
          ],
          "name": "stderr"
        },
        {
          "output_type": "stream",
          "text": [
            "[MoviePy] Writing audio in /content/gdrive/My Drive/adplace/scene_audios/audio-adplace_333-Scene-014.wav\n"
          ],
          "name": "stdout"
        },
        {
          "output_type": "stream",
          "text": [
            "100%|██████████| 104/104 [00:00<00:00, 1882.18it/s]"
          ],
          "name": "stderr"
        },
        {
          "output_type": "stream",
          "text": [
            "[MoviePy] Done.\n"
          ],
          "name": "stdout"
        },
        {
          "output_type": "stream",
          "text": [
            "\n"
          ],
          "name": "stderr"
        },
        {
          "output_type": "stream",
          "text": [
            "[MoviePy] Writing audio in /content/gdrive/My Drive/adplace/scene_audios/audio-adplace_333-Scene-015.wav\n"
          ],
          "name": "stdout"
        },
        {
          "output_type": "stream",
          "text": [
            "100%|██████████| 158/158 [00:00<00:00, 1910.92it/s]"
          ],
          "name": "stderr"
        },
        {
          "output_type": "stream",
          "text": [
            "[MoviePy] Done.\n"
          ],
          "name": "stdout"
        },
        {
          "output_type": "stream",
          "text": [
            "\n"
          ],
          "name": "stderr"
        },
        {
          "output_type": "stream",
          "text": [
            "[MoviePy] Writing audio in /content/gdrive/My Drive/adplace/scene_audios/audio-adplace_333-Scene-016.wav\n"
          ],
          "name": "stdout"
        },
        {
          "output_type": "stream",
          "text": [
            "100%|██████████| 60/60 [00:00<00:00, 67.69it/s]"
          ],
          "name": "stderr"
        },
        {
          "output_type": "stream",
          "text": [
            "[MoviePy] Done.\n"
          ],
          "name": "stdout"
        },
        {
          "output_type": "stream",
          "text": [
            "\n"
          ],
          "name": "stderr"
        },
        {
          "output_type": "stream",
          "text": [
            "[MoviePy] Writing audio in /content/gdrive/My Drive/adplace/scene_audios/audio-adplace_333-Scene-017.wav\n"
          ],
          "name": "stdout"
        },
        {
          "output_type": "stream",
          "text": [
            "100%|██████████| 370/370 [00:00<00:00, 1860.16it/s]"
          ],
          "name": "stderr"
        },
        {
          "output_type": "stream",
          "text": [
            "[MoviePy] Done.\n"
          ],
          "name": "stdout"
        },
        {
          "output_type": "stream",
          "text": [
            "\n"
          ],
          "name": "stderr"
        },
        {
          "output_type": "stream",
          "text": [
            "[MoviePy] Writing audio in /content/gdrive/My Drive/adplace/scene_audios/audio-adplace_333-Scene-018.wav\n"
          ],
          "name": "stdout"
        },
        {
          "output_type": "stream",
          "text": [
            "100%|██████████| 55/55 [00:00<00:00, 1493.53it/s]"
          ],
          "name": "stderr"
        },
        {
          "output_type": "stream",
          "text": [
            "[MoviePy] Done.\n"
          ],
          "name": "stdout"
        },
        {
          "output_type": "stream",
          "text": [
            "\n"
          ],
          "name": "stderr"
        },
        {
          "output_type": "stream",
          "text": [
            "[MoviePy] Writing audio in /content/gdrive/My Drive/adplace/scene_audios/audio-adplace_333-Scene-019.wav\n"
          ],
          "name": "stdout"
        },
        {
          "output_type": "stream",
          "text": [
            "100%|██████████| 74/74 [00:01<00:00, 49.37it/s]"
          ],
          "name": "stderr"
        },
        {
          "output_type": "stream",
          "text": [
            "[MoviePy] Done.\n"
          ],
          "name": "stdout"
        },
        {
          "output_type": "stream",
          "text": [
            "\n"
          ],
          "name": "stderr"
        },
        {
          "output_type": "stream",
          "text": [
            "[MoviePy] Writing audio in /content/gdrive/My Drive/adplace/scene_audios/audio-adplace_333-Scene-020.wav\n"
          ],
          "name": "stdout"
        },
        {
          "output_type": "stream",
          "text": [
            "100%|██████████| 112/112 [00:01<00:00, 107.53it/s]"
          ],
          "name": "stderr"
        },
        {
          "output_type": "stream",
          "text": [
            "[MoviePy] Done.\n"
          ],
          "name": "stdout"
        },
        {
          "output_type": "stream",
          "text": [
            "\n"
          ],
          "name": "stderr"
        },
        {
          "output_type": "stream",
          "text": [
            "[MoviePy] Writing audio in /content/gdrive/My Drive/adplace/scene_audios/audio-adplace_333-Scene-021.wav\n"
          ],
          "name": "stdout"
        },
        {
          "output_type": "stream",
          "text": [
            "100%|██████████| 177/177 [00:00<00:00, 2087.96it/s]"
          ],
          "name": "stderr"
        },
        {
          "output_type": "stream",
          "text": [
            "[MoviePy] Done.\n"
          ],
          "name": "stdout"
        },
        {
          "output_type": "stream",
          "text": [
            "\n"
          ],
          "name": "stderr"
        },
        {
          "output_type": "stream",
          "text": [
            "[MoviePy] Writing audio in /content/gdrive/My Drive/adplace/scene_audios/audio-adplace_333-Scene-022.wav\n"
          ],
          "name": "stdout"
        },
        {
          "output_type": "stream",
          "text": [
            "100%|██████████| 105/105 [00:00<00:00, 255.22it/s]"
          ],
          "name": "stderr"
        },
        {
          "output_type": "stream",
          "text": [
            "[MoviePy] Done.\n"
          ],
          "name": "stdout"
        },
        {
          "output_type": "stream",
          "text": [
            "\n"
          ],
          "name": "stderr"
        },
        {
          "output_type": "stream",
          "text": [
            "[MoviePy] Writing audio in /content/gdrive/My Drive/adplace/scene_audios/audio-adplace_333-Scene-023.wav\n"
          ],
          "name": "stdout"
        },
        {
          "output_type": "stream",
          "text": [
            "100%|██████████| 143/143 [00:01<00:00, 125.41it/s]"
          ],
          "name": "stderr"
        },
        {
          "output_type": "stream",
          "text": [
            "[MoviePy] Done.\n"
          ],
          "name": "stdout"
        },
        {
          "output_type": "stream",
          "text": [
            "\n"
          ],
          "name": "stderr"
        },
        {
          "output_type": "stream",
          "text": [
            "[MoviePy] Writing audio in /content/gdrive/My Drive/adplace/scene_audios/audio-adplace_333-Scene-024.wav\n"
          ],
          "name": "stdout"
        },
        {
          "output_type": "stream",
          "text": [
            "100%|██████████| 68/68 [00:00<00:00, 1642.32it/s]"
          ],
          "name": "stderr"
        },
        {
          "output_type": "stream",
          "text": [
            "[MoviePy] Done.\n"
          ],
          "name": "stdout"
        },
        {
          "output_type": "stream",
          "text": [
            "\n"
          ],
          "name": "stderr"
        },
        {
          "output_type": "stream",
          "text": [
            "[MoviePy] Writing audio in /content/gdrive/My Drive/adplace/scene_audios/audio-adplace_333-Scene-025.wav\n"
          ],
          "name": "stdout"
        },
        {
          "output_type": "stream",
          "text": [
            "100%|██████████| 90/90 [00:01<00:00, 46.20it/s]"
          ],
          "name": "stderr"
        },
        {
          "output_type": "stream",
          "text": [
            "[MoviePy] Done.\n"
          ],
          "name": "stdout"
        },
        {
          "output_type": "stream",
          "text": [
            "\n"
          ],
          "name": "stderr"
        },
        {
          "output_type": "stream",
          "text": [
            "[MoviePy] Writing audio in /content/gdrive/My Drive/adplace/scene_audios/audio-adplace_333-Scene-026.wav\n"
          ],
          "name": "stdout"
        },
        {
          "output_type": "stream",
          "text": [
            "\r  0%|          | 0/113 [00:00<?, ?it/s]"
          ],
          "name": "stderr"
        },
        {
          "output_type": "stream",
          "text": [
            "Exception in scene/content/gdrive/My Drive/adplace/scene_videos/adplace_333-Scene-026.mp4\n"
          ],
          "name": "stdout"
        },
        {
          "output_type": "stream",
          "text": [
            "\n"
          ],
          "name": "stderr"
        },
        {
          "output_type": "stream",
          "text": [
            "[MoviePy] Writing audio in /content/gdrive/My Drive/adplace/scene_audios/audio-adplace_333-Scene-027.wav\n"
          ],
          "name": "stdout"
        },
        {
          "output_type": "stream",
          "text": [
            "100%|██████████| 153/153 [00:00<00:00, 166.25it/s]"
          ],
          "name": "stderr"
        },
        {
          "output_type": "stream",
          "text": [
            "[MoviePy] Done.\n"
          ],
          "name": "stdout"
        },
        {
          "output_type": "stream",
          "text": [
            "\n"
          ],
          "name": "stderr"
        },
        {
          "output_type": "stream",
          "text": [
            "[MoviePy] Writing audio in /content/gdrive/My Drive/adplace/scene_audios/audio-adplace_333-Scene-028.wav\n"
          ],
          "name": "stdout"
        },
        {
          "output_type": "stream",
          "text": [
            "100%|██████████| 77/77 [00:00<00:00, 1703.18it/s]"
          ],
          "name": "stderr"
        },
        {
          "output_type": "stream",
          "text": [
            "[MoviePy] Done.\n"
          ],
          "name": "stdout"
        },
        {
          "output_type": "stream",
          "text": [
            "\n"
          ],
          "name": "stderr"
        },
        {
          "output_type": "stream",
          "text": [
            "[MoviePy] Writing audio in /content/gdrive/My Drive/adplace/scene_audios/audio-adplace_333-Scene-029.wav\n"
          ],
          "name": "stdout"
        },
        {
          "output_type": "stream",
          "text": [
            "\r  0%|          | 0/93 [00:00<?, ?it/s]"
          ],
          "name": "stderr"
        },
        {
          "output_type": "stream",
          "text": [
            "Exception in scene/content/gdrive/My Drive/adplace/scene_videos/adplace_333-Scene-029.mp4\n"
          ],
          "name": "stdout"
        },
        {
          "output_type": "stream",
          "text": [
            "\n"
          ],
          "name": "stderr"
        },
        {
          "output_type": "stream",
          "text": [
            "[MoviePy] Writing audio in /content/gdrive/My Drive/adplace/scene_audios/audio-adplace_333-Scene-030.wav\n"
          ],
          "name": "stdout"
        },
        {
          "output_type": "stream",
          "text": [
            "100%|██████████| 143/143 [00:00<00:00, 1427.44it/s]"
          ],
          "name": "stderr"
        },
        {
          "output_type": "stream",
          "text": [
            "[MoviePy] Done.\n"
          ],
          "name": "stdout"
        },
        {
          "output_type": "stream",
          "text": [
            "\n"
          ],
          "name": "stderr"
        },
        {
          "output_type": "stream",
          "text": [
            "[MoviePy] Writing audio in /content/gdrive/My Drive/adplace/scene_audios/audio-adplace_333-Scene-031.wav\n"
          ],
          "name": "stdout"
        },
        {
          "output_type": "stream",
          "text": [
            "100%|██████████| 56/56 [00:00<00:00, 1515.01it/s]"
          ],
          "name": "stderr"
        },
        {
          "output_type": "stream",
          "text": [
            "[MoviePy] Done.\n"
          ],
          "name": "stdout"
        },
        {
          "output_type": "stream",
          "text": [
            "\n"
          ],
          "name": "stderr"
        },
        {
          "output_type": "stream",
          "text": [
            "[MoviePy] Writing audio in /content/gdrive/My Drive/adplace/scene_audios/audio-adplace_333-Scene-032.wav\n"
          ],
          "name": "stdout"
        },
        {
          "output_type": "stream",
          "text": [
            "100%|██████████| 126/126 [00:00<00:00, 2150.23it/s]"
          ],
          "name": "stderr"
        },
        {
          "output_type": "stream",
          "text": [
            "[MoviePy] Done.\n"
          ],
          "name": "stdout"
        },
        {
          "output_type": "stream",
          "text": [
            "\n"
          ],
          "name": "stderr"
        },
        {
          "output_type": "stream",
          "text": [
            "[MoviePy] Writing audio in /content/gdrive/My Drive/adplace/scene_audios/audio-adplace_333-Scene-033.wav\n"
          ],
          "name": "stdout"
        },
        {
          "output_type": "stream",
          "text": [
            "100%|██████████| 39/39 [00:00<00:00, 1447.00it/s]"
          ],
          "name": "stderr"
        },
        {
          "output_type": "stream",
          "text": [
            "[MoviePy] Done.\n"
          ],
          "name": "stdout"
        },
        {
          "output_type": "stream",
          "text": [
            "\n"
          ],
          "name": "stderr"
        },
        {
          "output_type": "stream",
          "text": [
            "[MoviePy] Writing audio in /content/gdrive/My Drive/adplace/scene_audios/audio-adplace_333-Scene-034.wav\n"
          ],
          "name": "stdout"
        },
        {
          "output_type": "stream",
          "text": [
            "100%|██████████| 53/53 [00:01<00:00, 51.76it/s]"
          ],
          "name": "stderr"
        },
        {
          "output_type": "stream",
          "text": [
            "[MoviePy] Done.\n"
          ],
          "name": "stdout"
        },
        {
          "output_type": "stream",
          "text": [
            "\n"
          ],
          "name": "stderr"
        },
        {
          "output_type": "stream",
          "text": [
            "[MoviePy] Writing audio in /content/gdrive/My Drive/adplace/scene_audios/audio-adplace_333-Scene-035.wav\n"
          ],
          "name": "stdout"
        },
        {
          "output_type": "stream",
          "text": [
            "100%|██████████| 77/77 [00:01<00:00, 63.43it/s]"
          ],
          "name": "stderr"
        },
        {
          "output_type": "stream",
          "text": [
            "[MoviePy] Done.\n"
          ],
          "name": "stdout"
        },
        {
          "output_type": "stream",
          "text": [
            "\n"
          ],
          "name": "stderr"
        },
        {
          "output_type": "stream",
          "text": [
            "[MoviePy] Writing audio in /content/gdrive/My Drive/adplace/scene_audios/audio-adplace_333-Scene-036.wav\n"
          ],
          "name": "stdout"
        },
        {
          "output_type": "stream",
          "text": [
            "100%|██████████| 212/212 [00:00<00:00, 1061.92it/s]"
          ],
          "name": "stderr"
        },
        {
          "output_type": "stream",
          "text": [
            "[MoviePy] Done.\n"
          ],
          "name": "stdout"
        },
        {
          "output_type": "stream",
          "text": [
            "\n"
          ],
          "name": "stderr"
        },
        {
          "output_type": "stream",
          "text": [
            "[MoviePy] Writing audio in /content/gdrive/My Drive/adplace/scene_audios/audio-adplace_333-Scene-037.wav\n"
          ],
          "name": "stdout"
        },
        {
          "output_type": "stream",
          "text": [
            "100%|██████████| 180/180 [00:00<00:00, 2074.81it/s]"
          ],
          "name": "stderr"
        },
        {
          "output_type": "stream",
          "text": [
            "[MoviePy] Done.\n"
          ],
          "name": "stdout"
        },
        {
          "output_type": "stream",
          "text": [
            "\n"
          ],
          "name": "stderr"
        },
        {
          "output_type": "stream",
          "text": [
            "[MoviePy] Writing audio in /content/gdrive/My Drive/adplace/scene_audios/audio-adplace_333-Scene-038.wav\n"
          ],
          "name": "stdout"
        },
        {
          "output_type": "stream",
          "text": [
            "100%|██████████| 205/205 [00:00<00:00, 1625.19it/s]"
          ],
          "name": "stderr"
        },
        {
          "output_type": "stream",
          "text": [
            "[MoviePy] Done.\n"
          ],
          "name": "stdout"
        },
        {
          "output_type": "stream",
          "text": [
            "\n"
          ],
          "name": "stderr"
        },
        {
          "output_type": "stream",
          "text": [
            "[MoviePy] Writing audio in /content/gdrive/My Drive/adplace/scene_audios/audio-adplace_333-Scene-039.wav\n"
          ],
          "name": "stdout"
        },
        {
          "output_type": "stream",
          "text": [
            "100%|██████████| 393/393 [00:00<00:00, 1207.58it/s]"
          ],
          "name": "stderr"
        },
        {
          "output_type": "stream",
          "text": [
            "[MoviePy] Done.\n"
          ],
          "name": "stdout"
        },
        {
          "output_type": "stream",
          "text": [
            "\n"
          ],
          "name": "stderr"
        },
        {
          "output_type": "stream",
          "text": [
            "[MoviePy] Writing audio in /content/gdrive/My Drive/adplace/scene_audios/audio-adplace_333-Scene-040.wav\n"
          ],
          "name": "stdout"
        },
        {
          "output_type": "stream",
          "text": [
            "100%|██████████| 129/129 [00:00<00:00, 2019.74it/s]"
          ],
          "name": "stderr"
        },
        {
          "output_type": "stream",
          "text": [
            "[MoviePy] Done.\n"
          ],
          "name": "stdout"
        },
        {
          "output_type": "stream",
          "text": [
            "\n"
          ],
          "name": "stderr"
        },
        {
          "output_type": "stream",
          "text": [
            "[MoviePy] Writing audio in /content/gdrive/My Drive/adplace/scene_audios/audio-adplace_333-Scene-041.wav\n"
          ],
          "name": "stdout"
        },
        {
          "output_type": "stream",
          "text": [
            "100%|██████████| 101/101 [00:00<00:00, 1804.10it/s]"
          ],
          "name": "stderr"
        },
        {
          "output_type": "stream",
          "text": [
            "[MoviePy] Done.\n"
          ],
          "name": "stdout"
        },
        {
          "output_type": "stream",
          "text": [
            "\n"
          ],
          "name": "stderr"
        },
        {
          "output_type": "stream",
          "text": [
            "[MoviePy] Writing audio in /content/gdrive/My Drive/adplace/scene_audios/audio-adplace_333-Scene-042.wav\n"
          ],
          "name": "stdout"
        },
        {
          "output_type": "stream",
          "text": [
            "100%|██████████| 178/178 [00:00<00:00, 1940.73it/s]"
          ],
          "name": "stderr"
        },
        {
          "output_type": "stream",
          "text": [
            "[MoviePy] Done.\n"
          ],
          "name": "stdout"
        },
        {
          "output_type": "stream",
          "text": [
            "\n"
          ],
          "name": "stderr"
        },
        {
          "output_type": "stream",
          "text": [
            "Exception in scene/content/gdrive/My Drive/adplace/scene_videos/adplace_333-Scenes.csv\n",
            "[MoviePy] Writing audio in /content/gdrive/My Drive/adplace/scene_audios/audio-adplace_334-Scene-001.wav\n"
          ],
          "name": "stdout"
        },
        {
          "output_type": "stream",
          "text": [
            "100%|██████████| 602/602 [00:00<00:00, 1246.21it/s]\n"
          ],
          "name": "stderr"
        },
        {
          "output_type": "stream",
          "text": [
            "[MoviePy] Done.\n",
            "[MoviePy] Writing audio in /content/gdrive/My Drive/adplace/scene_audios/audio-adplace_334-Scene-002.wav\n"
          ],
          "name": "stdout"
        },
        {
          "output_type": "stream",
          "text": [
            "100%|██████████| 290/290 [00:00<00:00, 906.29it/s]"
          ],
          "name": "stderr"
        },
        {
          "output_type": "stream",
          "text": [
            "[MoviePy] Done.\n"
          ],
          "name": "stdout"
        },
        {
          "output_type": "stream",
          "text": [
            "\n"
          ],
          "name": "stderr"
        },
        {
          "output_type": "stream",
          "text": [
            "[MoviePy] Writing audio in /content/gdrive/My Drive/adplace/scene_audios/audio-adplace_334-Scene-003.wav\n"
          ],
          "name": "stdout"
        },
        {
          "output_type": "stream",
          "text": [
            "100%|██████████| 140/140 [00:00<00:00, 1813.45it/s]"
          ],
          "name": "stderr"
        },
        {
          "output_type": "stream",
          "text": [
            "[MoviePy] Done.\n"
          ],
          "name": "stdout"
        },
        {
          "output_type": "stream",
          "text": [
            "\n"
          ],
          "name": "stderr"
        },
        {
          "output_type": "stream",
          "text": [
            "[MoviePy] Writing audio in /content/gdrive/My Drive/adplace/scene_audios/audio-adplace_334-Scene-004.wav\n"
          ],
          "name": "stdout"
        },
        {
          "output_type": "stream",
          "text": [
            "100%|██████████| 128/128 [00:00<00:00, 2014.62it/s]"
          ],
          "name": "stderr"
        },
        {
          "output_type": "stream",
          "text": [
            "[MoviePy] Done.\n"
          ],
          "name": "stdout"
        },
        {
          "output_type": "stream",
          "text": [
            "\n"
          ],
          "name": "stderr"
        },
        {
          "output_type": "stream",
          "text": [
            "[MoviePy] Writing audio in /content/gdrive/My Drive/adplace/scene_audios/audio-adplace_334-Scene-005.wav\n"
          ],
          "name": "stdout"
        },
        {
          "output_type": "stream",
          "text": [
            "100%|██████████| 48/48 [00:00<00:00, 1711.64it/s]"
          ],
          "name": "stderr"
        },
        {
          "output_type": "stream",
          "text": [
            "[MoviePy] Done.\n"
          ],
          "name": "stdout"
        },
        {
          "output_type": "stream",
          "text": [
            "\n"
          ],
          "name": "stderr"
        },
        {
          "output_type": "stream",
          "text": [
            "[MoviePy] Writing audio in /content/gdrive/My Drive/adplace/scene_audios/audio-adplace_334-Scene-006.wav\n"
          ],
          "name": "stdout"
        },
        {
          "output_type": "stream",
          "text": [
            "100%|██████████| 154/154 [00:00<00:00, 1976.21it/s]"
          ],
          "name": "stderr"
        },
        {
          "output_type": "stream",
          "text": [
            "[MoviePy] Done.\n"
          ],
          "name": "stdout"
        },
        {
          "output_type": "stream",
          "text": [
            "\n"
          ],
          "name": "stderr"
        },
        {
          "output_type": "stream",
          "text": [
            "[MoviePy] Writing audio in /content/gdrive/My Drive/adplace/scene_audios/audio-adplace_334-Scene-007.wav\n"
          ],
          "name": "stdout"
        },
        {
          "output_type": "stream",
          "text": [
            "100%|██████████| 77/77 [00:00<00:00, 1639.92it/s]"
          ],
          "name": "stderr"
        },
        {
          "output_type": "stream",
          "text": [
            "[MoviePy] Done.\n"
          ],
          "name": "stdout"
        },
        {
          "output_type": "stream",
          "text": [
            "\n"
          ],
          "name": "stderr"
        },
        {
          "output_type": "stream",
          "text": [
            "[MoviePy] Writing audio in /content/gdrive/My Drive/adplace/scene_audios/audio-adplace_334-Scene-008.wav\n"
          ],
          "name": "stdout"
        },
        {
          "output_type": "stream",
          "text": [
            "100%|██████████| 260/260 [00:00<00:00, 279.30it/s]"
          ],
          "name": "stderr"
        },
        {
          "output_type": "stream",
          "text": [
            "[MoviePy] Done.\n"
          ],
          "name": "stdout"
        },
        {
          "output_type": "stream",
          "text": [
            "\n"
          ],
          "name": "stderr"
        },
        {
          "output_type": "stream",
          "text": [
            "[MoviePy] Writing audio in /content/gdrive/My Drive/adplace/scene_audios/audio-adplace_334-Scene-009.wav\n"
          ],
          "name": "stdout"
        },
        {
          "output_type": "stream",
          "text": [
            "100%|██████████| 764/764 [00:00<00:00, 1124.44it/s]"
          ],
          "name": "stderr"
        },
        {
          "output_type": "stream",
          "text": [
            "[MoviePy] Done.\n"
          ],
          "name": "stdout"
        },
        {
          "output_type": "stream",
          "text": [
            "\n"
          ],
          "name": "stderr"
        },
        {
          "output_type": "stream",
          "text": [
            "[MoviePy] Writing audio in /content/gdrive/My Drive/adplace/scene_audios/audio-adplace_334-Scene-010.wav\n"
          ],
          "name": "stdout"
        },
        {
          "output_type": "stream",
          "text": [
            "100%|██████████| 520/520 [00:00<00:00, 1077.16it/s]"
          ],
          "name": "stderr"
        },
        {
          "output_type": "stream",
          "text": [
            "[MoviePy] Done.\n"
          ],
          "name": "stdout"
        },
        {
          "output_type": "stream",
          "text": [
            "\n"
          ],
          "name": "stderr"
        },
        {
          "output_type": "stream",
          "text": [
            "[MoviePy] Writing audio in /content/gdrive/My Drive/adplace/scene_audios/audio-adplace_334-Scene-011.wav\n"
          ],
          "name": "stdout"
        },
        {
          "output_type": "stream",
          "text": [
            "100%|██████████| 863/863 [00:00<00:00, 1418.19it/s]"
          ],
          "name": "stderr"
        },
        {
          "output_type": "stream",
          "text": [
            "[MoviePy] Done.\n"
          ],
          "name": "stdout"
        },
        {
          "output_type": "stream",
          "text": [
            "\n"
          ],
          "name": "stderr"
        },
        {
          "output_type": "stream",
          "text": [
            "Exception in scene/content/gdrive/My Drive/adplace/scene_videos/adplace_334-Scenes.csv\n"
          ],
          "name": "stdout"
        }
      ]
    },
    {
      "cell_type": "code",
      "metadata": {
        "id": "Igw7SJxCapeN",
        "colab_type": "code",
        "colab": {}
      },
      "source": [
        ""
      ],
      "execution_count": 0,
      "outputs": []
    }
  ]
}