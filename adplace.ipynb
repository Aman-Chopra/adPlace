{
  "nbformat": 4,
  "nbformat_minor": 0,
  "metadata": {
    "colab": {
      "name": "adplace.ipynb",
      "version": "0.3.2",
      "provenance": []
    },
    "kernelspec": {
      "name": "python3",
      "display_name": "Python 3"
    }
  },
  "cells": [
    {
      "cell_type": "code",
      "metadata": {
        "id": "8goOAQ56vIT9",
        "colab_type": "code",
        "colab": {}
      },
      "source": [
        "### Access and mount drive files ###\n",
        "\n",
        "from google.colab import drive\n",
        "drive.mount('/content/gdrive')"
      ],
      "execution_count": 0,
      "outputs": []
    },
    {
      "cell_type": "code",
      "metadata": {
        "id": "7OE_i19WOtCZ",
        "colab_type": "code",
        "colab": {}
      },
      "source": [
        "# Imports\n",
        "!pip install scenedetect\n",
        "!pip install tqdm==v4.19.9\n",
        "import pandas as pd\n",
        "from moviepy.editor import *\n",
        "import glob\n",
        "import os\n",
        "\n",
        "# Constants\n",
        "FULL_VIDEOS_FOLDER = \"/content/gdrive/My Drive/adplace/full_videos/\"\n",
        "SCENE_VIDEOS_FOLDER = \"/content/gdrive/My Drive/adplace/scene_videos/\"\n",
        "SCENE_AUDIOS_FOLDER = \"/content/gdrive/My Drive/adplace/scene_audios/\""
      ],
      "execution_count": 0,
      "outputs": []
    },
    {
      "cell_type": "code",
      "metadata": {
        "id": "XSbFwFOvPBfW",
        "colab_type": "code",
        "colab": {}
      },
      "source": [
        "!scenedetect -i /content/gdrive/'My Drive'/adplace/full_videos/adplace_001.mp4 -o /content/gdrive/'My Drive'/adplace/scene_videos/ detect-content --threshold 53 list-scenes split-video\n",
        "!scenedetect -i /content/gdrive/'My Drive'/adplace/full_videos/adplace_002.mp4 -o /content/gdrive/'My Drive'/adplace/scene_videos/ detect-content --threshold 53 list-scenes split-video\n",
        "!scenedetect -i /content/gdrive/'My Drive'/adplace/full_videos/adplace_003.mp4 -o /content/gdrive/'My Drive'/adplace/scene_videos/ detect-content --threshold 53 list-scenes split-video \n",
        "## For all videos in dataset"
      ],
      "execution_count": 0,
      "outputs": []
    },
    {
      "cell_type": "code",
      "metadata": {
        "id": "6z7wEWUt8IQM",
        "colab_type": "code",
        "colab": {}
      },
      "source": [
        "#  function to get videos and save audios \n",
        "\n",
        "exception_clips = []\n",
        "def getAudio(scene):\n",
        "  try:\n",
        "    video = VideoFileClip(scene)\n",
        "    audio = video.audio\n",
        "    aud_path = \"audio-\" + scene[46:-4] + \".wav\"\n",
        "    audio.write_audiofile(SCENE_AUDIOS_FOLDER+aud_path)\n",
        "  except:\n",
        "    print('Exception in scene' + scene)\n",
        "    exception_clips.append(scene)"
      ],
      "execution_count": 0,
      "outputs": []
    },
    {
      "cell_type": "code",
      "metadata": {
        "id": "1X8sR0NayxnM",
        "colab_type": "code",
        "colab": {}
      },
      "source": [
        "SCENES_LIST = sorted(glob.glob(SCENE_VIDEOS_FOLDER + \"adplace_*\")) # list of string with file names\n",
        "\n",
        "for scene in SCENES_LIST:\n",
        "  getAudio(scene)"
      ],
      "execution_count": 0,
      "outputs": []
    }
  ]
}